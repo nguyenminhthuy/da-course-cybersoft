{
 "cells": [
  {
   "cell_type": "markdown",
   "id": "66d0d69a",
   "metadata": {},
   "source": [
    "Thực hiện lại phần demo trên dữ liệu InstaCart:\n",
    "* 1. Sử dụng hàm 'interactive' thay cho hàm 'interact'\n",
    "* 2. Bổ sung thêm Button sao cho sau khi chọn các options xong, phải click lên\n",
    "Button mới thực hiện vẽ lại figure\n",
    "\n",
    "Luyện tập: áp dụng interactive widgets cho phân tích EDA dữ liệu chuyến bay"
   ]
  },
  {
   "cell_type": "code",
   "execution_count": 1,
   "id": "77427b12",
   "metadata": {},
   "outputs": [],
   "source": [
    "import pandas as pd\n",
    "import numpy as np\n",
    "import seaborn as sns\n",
    "from matplotlib import pyplot as plt\n",
    "import ipywidgets as widgets\n",
    "from ipywidgets import interact, interactive, fixed, interact_manual"
   ]
  },
  {
   "cell_type": "code",
   "execution_count": 2,
   "id": "9cb75b92",
   "metadata": {},
   "outputs": [
    {
     "data": {
      "application/vnd.jupyter.widget-view+json": {
       "model_id": "b638173da05a4b93b265f184c107f045",
       "version_major": 2,
       "version_minor": 0
      },
      "text/plain": [
       "Button(description='Click Me!', style=ButtonStyle())"
      ]
     },
     "metadata": {},
     "output_type": "display_data"
    },
    {
     "data": {
      "application/vnd.jupyter.widget-view+json": {
       "model_id": "18ed15d37c82462686fee1aa7e504c99",
       "version_major": 2,
       "version_minor": 0
      },
      "text/plain": [
       "Output()"
      ]
     },
     "metadata": {},
     "output_type": "display_data"
    }
   ],
   "source": [
    "from IPython.display import display\n",
    "button = widgets.Button(description=\"Click Me!\")\n",
    "output = widgets.Output()\n",
    "\n",
    "display(button, output)\n",
    "\n",
    "def on_button_clicked(b):\n",
    "    with output:\n",
    "        print(\"Button clicked.\")\n",
    "\n",
    "button.on_click(on_button_clicked)"
   ]
  },
  {
   "cell_type": "code",
   "execution_count": 3,
   "id": "4cad0a3d",
   "metadata": {},
   "outputs": [
    {
     "data": {
      "text/html": [
       "<div>\n",
       "<style scoped>\n",
       "    .dataframe tbody tr th:only-of-type {\n",
       "        vertical-align: middle;\n",
       "    }\n",
       "\n",
       "    .dataframe tbody tr th {\n",
       "        vertical-align: top;\n",
       "    }\n",
       "\n",
       "    .dataframe thead th {\n",
       "        text-align: right;\n",
       "    }\n",
       "</style>\n",
       "<table border=\"1\" class=\"dataframe\">\n",
       "  <thead>\n",
       "    <tr style=\"text-align: right;\">\n",
       "      <th></th>\n",
       "      <th>aisle_id</th>\n",
       "      <th>counts</th>\n",
       "      <th>aisle</th>\n",
       "      <th>department_id</th>\n",
       "      <th>department</th>\n",
       "    </tr>\n",
       "  </thead>\n",
       "  <tbody>\n",
       "    <tr>\n",
       "      <th>0</th>\n",
       "      <td>1</td>\n",
       "      <td>15632</td>\n",
       "      <td>prepared soups salads</td>\n",
       "      <td>20</td>\n",
       "      <td>deli</td>\n",
       "    </tr>\n",
       "    <tr>\n",
       "      <th>1</th>\n",
       "      <td>13</td>\n",
       "      <td>21357</td>\n",
       "      <td>prepared meals</td>\n",
       "      <td>20</td>\n",
       "      <td>deli</td>\n",
       "    </tr>\n",
       "    <tr>\n",
       "      <th>2</th>\n",
       "      <td>14</td>\n",
       "      <td>28085</td>\n",
       "      <td>tofu meat alternatives</td>\n",
       "      <td>20</td>\n",
       "      <td>deli</td>\n",
       "    </tr>\n",
       "    <tr>\n",
       "      <th>3</th>\n",
       "      <td>67</td>\n",
       "      <td>76837</td>\n",
       "      <td>fresh dips tapenades</td>\n",
       "      <td>20</td>\n",
       "      <td>deli</td>\n",
       "    </tr>\n",
       "    <tr>\n",
       "      <th>4</th>\n",
       "      <td>96</td>\n",
       "      <td>85093</td>\n",
       "      <td>lunch meat</td>\n",
       "      <td>20</td>\n",
       "      <td>deli</td>\n",
       "    </tr>\n",
       "    <tr>\n",
       "      <th>...</th>\n",
       "      <td>...</td>\n",
       "      <td>...</td>\n",
       "      <td>...</td>\n",
       "      <td>...</td>\n",
       "      <td>...</td>\n",
       "    </tr>\n",
       "    <tr>\n",
       "      <th>129</th>\n",
       "      <td>69</td>\n",
       "      <td>74567</td>\n",
       "      <td>soup broth bouillon</td>\n",
       "      <td>15</td>\n",
       "      <td>canned goods</td>\n",
       "    </tr>\n",
       "    <tr>\n",
       "      <th>130</th>\n",
       "      <td>81</td>\n",
       "      <td>64252</td>\n",
       "      <td>canned jarred vegetables</td>\n",
       "      <td>15</td>\n",
       "      <td>canned goods</td>\n",
       "    </tr>\n",
       "    <tr>\n",
       "      <th>131</th>\n",
       "      <td>95</td>\n",
       "      <td>14455</td>\n",
       "      <td>canned meat seafood</td>\n",
       "      <td>15</td>\n",
       "      <td>canned goods</td>\n",
       "    </tr>\n",
       "    <tr>\n",
       "      <th>132</th>\n",
       "      <td>99</td>\n",
       "      <td>18274</td>\n",
       "      <td>canned fruit applesauce</td>\n",
       "      <td>15</td>\n",
       "      <td>canned goods</td>\n",
       "    </tr>\n",
       "    <tr>\n",
       "      <th>133</th>\n",
       "      <td>100</td>\n",
       "      <td>14748</td>\n",
       "      <td>missing</td>\n",
       "      <td>21</td>\n",
       "      <td>missing</td>\n",
       "    </tr>\n",
       "  </tbody>\n",
       "</table>\n",
       "<p>134 rows × 5 columns</p>\n",
       "</div>"
      ],
      "text/plain": [
       "     aisle_id  counts                     aisle  department_id    department\n",
       "0           1   15632     prepared soups salads             20          deli\n",
       "1          13   21357            prepared meals             20          deli\n",
       "2          14   28085    tofu meat alternatives             20          deli\n",
       "3          67   76837      fresh dips tapenades             20          deli\n",
       "4          96   85093                lunch meat             20          deli\n",
       "..        ...     ...                       ...            ...           ...\n",
       "129        69   74567       soup broth bouillon             15  canned goods\n",
       "130        81   64252  canned jarred vegetables             15  canned goods\n",
       "131        95   14455       canned meat seafood             15  canned goods\n",
       "132        99   18274   canned fruit applesauce             15  canned goods\n",
       "133       100   14748                   missing             21       missing\n",
       "\n",
       "[134 rows x 5 columns]"
      ]
     },
     "execution_count": 3,
     "metadata": {},
     "output_type": "execute_result"
    }
   ],
   "source": [
    "df = pd.read_csv('data/aisle_deparment_counts.csv')\n",
    "df"
   ]
  },
  {
   "cell_type": "code",
   "execution_count": 4,
   "id": "5d8645ce",
   "metadata": {},
   "outputs": [
    {
     "data": {
      "text/html": [
       "<div>\n",
       "<style scoped>\n",
       "    .dataframe tbody tr th:only-of-type {\n",
       "        vertical-align: middle;\n",
       "    }\n",
       "\n",
       "    .dataframe tbody tr th {\n",
       "        vertical-align: top;\n",
       "    }\n",
       "\n",
       "    .dataframe thead th {\n",
       "        text-align: right;\n",
       "    }\n",
       "</style>\n",
       "<table border=\"1\" class=\"dataframe\">\n",
       "  <thead>\n",
       "    <tr style=\"text-align: right;\">\n",
       "      <th></th>\n",
       "      <th>aisle_id</th>\n",
       "      <th>counts</th>\n",
       "      <th>aisle</th>\n",
       "      <th>department_id</th>\n",
       "      <th>department</th>\n",
       "    </tr>\n",
       "  </thead>\n",
       "  <tbody>\n",
       "    <tr>\n",
       "      <th>0</th>\n",
       "      <td>24</td>\n",
       "      <td>786888</td>\n",
       "      <td>fresh fruits</td>\n",
       "      <td>4</td>\n",
       "      <td>produce</td>\n",
       "    </tr>\n",
       "    <tr>\n",
       "      <th>1</th>\n",
       "      <td>83</td>\n",
       "      <td>737374</td>\n",
       "      <td>fresh vegetables</td>\n",
       "      <td>4</td>\n",
       "      <td>produce</td>\n",
       "    </tr>\n",
       "    <tr>\n",
       "      <th>2</th>\n",
       "      <td>123</td>\n",
       "      <td>381575</td>\n",
       "      <td>packaged vegetables fruits</td>\n",
       "      <td>4</td>\n",
       "      <td>produce</td>\n",
       "    </tr>\n",
       "    <tr>\n",
       "      <th>3</th>\n",
       "      <td>120</td>\n",
       "      <td>313279</td>\n",
       "      <td>yogurt</td>\n",
       "      <td>16</td>\n",
       "      <td>dairy eggs</td>\n",
       "    </tr>\n",
       "    <tr>\n",
       "      <th>4</th>\n",
       "      <td>21</td>\n",
       "      <td>211480</td>\n",
       "      <td>packaged cheese</td>\n",
       "      <td>16</td>\n",
       "      <td>dairy eggs</td>\n",
       "    </tr>\n",
       "    <tr>\n",
       "      <th>...</th>\n",
       "      <td>...</td>\n",
       "      <td>...</td>\n",
       "      <td>...</td>\n",
       "      <td>...</td>\n",
       "      <td>...</td>\n",
       "    </tr>\n",
       "    <tr>\n",
       "      <th>129</th>\n",
       "      <td>44</td>\n",
       "      <td>1911</td>\n",
       "      <td>eye ear care</td>\n",
       "      <td>11</td>\n",
       "      <td>personal care</td>\n",
       "    </tr>\n",
       "    <tr>\n",
       "      <th>130</th>\n",
       "      <td>102</td>\n",
       "      <td>1792</td>\n",
       "      <td>baby bath body care</td>\n",
       "      <td>18</td>\n",
       "      <td>babies</td>\n",
       "    </tr>\n",
       "    <tr>\n",
       "      <th>131</th>\n",
       "      <td>82</td>\n",
       "      <td>1735</td>\n",
       "      <td>baby accessories</td>\n",
       "      <td>18</td>\n",
       "      <td>babies</td>\n",
       "    </tr>\n",
       "    <tr>\n",
       "      <th>132</th>\n",
       "      <td>132</td>\n",
       "      <td>1308</td>\n",
       "      <td>beauty</td>\n",
       "      <td>11</td>\n",
       "      <td>personal care</td>\n",
       "    </tr>\n",
       "    <tr>\n",
       "      <th>133</th>\n",
       "      <td>113</td>\n",
       "      <td>980</td>\n",
       "      <td>frozen juice</td>\n",
       "      <td>1</td>\n",
       "      <td>frozen</td>\n",
       "    </tr>\n",
       "  </tbody>\n",
       "</table>\n",
       "<p>134 rows × 5 columns</p>\n",
       "</div>"
      ],
      "text/plain": [
       "     aisle_id  counts                       aisle  department_id  \\\n",
       "0          24  786888                fresh fruits              4   \n",
       "1          83  737374            fresh vegetables              4   \n",
       "2         123  381575  packaged vegetables fruits              4   \n",
       "3         120  313279                      yogurt             16   \n",
       "4          21  211480             packaged cheese             16   \n",
       "..        ...     ...                         ...            ...   \n",
       "129        44    1911                eye ear care             11   \n",
       "130       102    1792         baby bath body care             18   \n",
       "131        82    1735            baby accessories             18   \n",
       "132       132    1308                      beauty             11   \n",
       "133       113     980                frozen juice              1   \n",
       "\n",
       "        department  \n",
       "0          produce  \n",
       "1          produce  \n",
       "2          produce  \n",
       "3       dairy eggs  \n",
       "4       dairy eggs  \n",
       "..             ...  \n",
       "129  personal care  \n",
       "130         babies  \n",
       "131         babies  \n",
       "132  personal care  \n",
       "133         frozen  \n",
       "\n",
       "[134 rows x 5 columns]"
      ]
     },
     "execution_count": 4,
     "metadata": {},
     "output_type": "execute_result"
    }
   ],
   "source": [
    "df = df.sort_values('counts', ascending=False)\n",
    "df.reset_index(drop=True, inplace=True)\n",
    "df"
   ]
  },
  {
   "cell_type": "code",
   "execution_count": 5,
   "id": "03112c93",
   "metadata": {},
   "outputs": [],
   "source": [
    "import squarify"
   ]
  },
  {
   "cell_type": "code",
   "execution_count": 6,
   "id": "3f8aa786",
   "metadata": {
    "scrolled": false
   },
   "outputs": [
    {
     "data": {
      "application/vnd.jupyter.widget-view+json": {
       "model_id": "efbab331c50f47a7822e37825d71a3b4",
       "version_major": 2,
       "version_minor": 0
      },
      "text/plain": [
       "interactive(children=(IntSlider(value=20, description='N', max=30, min=10, step=2), Output()), _dom_classes=('…"
      ]
     },
     "metadata": {},
     "output_type": "display_data"
    }
   ],
   "source": [
    "@widgets.interact(N = (10,30,2)) # 10-30, step =2\n",
    "def VeTreemap1(N = 20):\n",
    "    df2 = df[['counts', 'aisle']][0:N]\n",
    "    other = pd.DataFrame({'counts': [df['counts'][N:].sum()], 'aisle': ['others']})\n",
    "    df2 = df2.append(other, ignore_index=True)\n",
    "\n",
    "    fig,ax=plt.subplots(figsize=(15,7))\n",
    "    squarify.plot(sizes=df2['counts'], label=df2['aisle'])\n",
    "    plt.axis('off')\n",
    "    plt.show()\n",
    "    plt.close('all')"
   ]
  },
  {
   "cell_type": "code",
   "execution_count": 7,
   "id": "7ffc4795",
   "metadata": {},
   "outputs": [],
   "source": [
    "def VeTreemap1_interactive(N):\n",
    "    df2 = df[['counts', 'aisle']][0:N]\n",
    "    other = pd.DataFrame({'counts': [df['counts'][N:].sum()], 'aisle': ['others']})\n",
    "    df2 = df2.append(other, ignore_index=True)\n",
    "\n",
    "    fig,ax=plt.subplots(figsize=(15,7))\n",
    "    squarify.plot(sizes=df2['counts'], label=df2['aisle'])\n",
    "    plt.axis('off')\n",
    "    plt.show()\n",
    "    plt.close('all')"
   ]
  },
  {
   "cell_type": "code",
   "execution_count": 8,
   "id": "b01b2ec4",
   "metadata": {},
   "outputs": [
    {
     "data": {
      "application/vnd.jupyter.widget-view+json": {
       "model_id": "cce0fb0889ac4cbabb2127135b1d251c",
       "version_major": 2,
       "version_minor": 0
      },
      "text/plain": [
       "interactive(children=(IntSlider(value=20, description='N', max=60, min=-20), Output()), _dom_classes=('widget-…"
      ]
     },
     "metadata": {},
     "output_type": "display_data"
    }
   ],
   "source": [
    "w1 = interactive(VeTreemap1_interactive, N=20)\n",
    "display(w1)"
   ]
  },
  {
   "cell_type": "code",
   "execution_count": 9,
   "id": "9cce2c16",
   "metadata": {},
   "outputs": [
    {
     "data": {
      "application/vnd.jupyter.widget-view+json": {
       "model_id": "ad511782a2b342b0905939fec6590124",
       "version_major": 2,
       "version_minor": 0
      },
      "text/plain": [
       "interactive(children=(IntSlider(value=20, description='N', max=30, min=10, step=2), Button(description='Run In…"
      ]
     },
     "metadata": {},
     "output_type": "display_data"
    }
   ],
   "source": [
    "@widgets.interact_manual(N = (10,30,2)) # 10-30, step =2\n",
    "def VeTreemap1_BTN(N = 20):\n",
    "    df2 = df[['counts', 'aisle']][0:N]\n",
    "    other = pd.DataFrame({'counts': [df['counts'][N:].sum()], 'aisle': ['others']})\n",
    "    df2 = df2.append(other, ignore_index=True)\n",
    "\n",
    "    fig,ax=plt.subplots(figsize=(15,7))\n",
    "    squarify.plot(sizes=df2['counts'], label=df2['aisle'])\n",
    "    plt.axis('off')\n",
    "    plt.show()\n",
    "    plt.close('all')"
   ]
  },
  {
   "cell_type": "code",
   "execution_count": 10,
   "id": "3f4d3bae",
   "metadata": {},
   "outputs": [
    {
     "data": {
      "text/html": [
       "<div>\n",
       "<style scoped>\n",
       "    .dataframe tbody tr th:only-of-type {\n",
       "        vertical-align: middle;\n",
       "    }\n",
       "\n",
       "    .dataframe tbody tr th {\n",
       "        vertical-align: top;\n",
       "    }\n",
       "\n",
       "    .dataframe thead th {\n",
       "        text-align: right;\n",
       "    }\n",
       "</style>\n",
       "<table border=\"1\" class=\"dataframe\">\n",
       "  <thead>\n",
       "    <tr style=\"text-align: right;\">\n",
       "      <th></th>\n",
       "      <th>department</th>\n",
       "      <th>counts</th>\n",
       "    </tr>\n",
       "  </thead>\n",
       "  <tbody>\n",
       "    <tr>\n",
       "      <th>0</th>\n",
       "      <td>produce</td>\n",
       "      <td>2046990</td>\n",
       "    </tr>\n",
       "    <tr>\n",
       "      <th>1</th>\n",
       "      <td>dairy eggs</td>\n",
       "      <td>1168475</td>\n",
       "    </tr>\n",
       "    <tr>\n",
       "      <th>2</th>\n",
       "      <td>snacks</td>\n",
       "      <td>623318</td>\n",
       "    </tr>\n",
       "    <tr>\n",
       "      <th>3</th>\n",
       "      <td>beverages</td>\n",
       "      <td>579862</td>\n",
       "    </tr>\n",
       "    <tr>\n",
       "      <th>4</th>\n",
       "      <td>frozen</td>\n",
       "      <td>482633</td>\n",
       "    </tr>\n",
       "    <tr>\n",
       "      <th>5</th>\n",
       "      <td>pantry</td>\n",
       "      <td>404730</td>\n",
       "    </tr>\n",
       "    <tr>\n",
       "      <th>6</th>\n",
       "      <td>bakery</td>\n",
       "      <td>253775</td>\n",
       "    </tr>\n",
       "    <tr>\n",
       "      <th>7</th>\n",
       "      <td>canned goods</td>\n",
       "      <td>230207</td>\n",
       "    </tr>\n",
       "    <tr>\n",
       "      <th>8</th>\n",
       "      <td>deli</td>\n",
       "      <td>227004</td>\n",
       "    </tr>\n",
       "    <tr>\n",
       "      <th>9</th>\n",
       "      <td>dry goods pasta</td>\n",
       "      <td>186861</td>\n",
       "    </tr>\n",
       "    <tr>\n",
       "      <th>10</th>\n",
       "      <td>household</td>\n",
       "      <td>159027</td>\n",
       "    </tr>\n",
       "    <tr>\n",
       "      <th>11</th>\n",
       "      <td>breakfast</td>\n",
       "      <td>153218</td>\n",
       "    </tr>\n",
       "    <tr>\n",
       "      <th>12</th>\n",
       "      <td>meat seafood</td>\n",
       "      <td>152797</td>\n",
       "    </tr>\n",
       "    <tr>\n",
       "      <th>13</th>\n",
       "      <td>personal care</td>\n",
       "      <td>96370</td>\n",
       "    </tr>\n",
       "    <tr>\n",
       "      <th>14</th>\n",
       "      <td>babies</td>\n",
       "      <td>92045</td>\n",
       "    </tr>\n",
       "    <tr>\n",
       "      <th>15</th>\n",
       "      <td>international</td>\n",
       "      <td>58249</td>\n",
       "    </tr>\n",
       "    <tr>\n",
       "      <th>16</th>\n",
       "      <td>alcohol</td>\n",
       "      <td>33418</td>\n",
       "    </tr>\n",
       "    <tr>\n",
       "      <th>17</th>\n",
       "      <td>pets</td>\n",
       "      <td>21220</td>\n",
       "    </tr>\n",
       "    <tr>\n",
       "      <th>18</th>\n",
       "      <td>missing</td>\n",
       "      <td>14748</td>\n",
       "    </tr>\n",
       "    <tr>\n",
       "      <th>19</th>\n",
       "      <td>other</td>\n",
       "      <td>7639</td>\n",
       "    </tr>\n",
       "    <tr>\n",
       "      <th>20</th>\n",
       "      <td>bulk</td>\n",
       "      <td>7414</td>\n",
       "    </tr>\n",
       "  </tbody>\n",
       "</table>\n",
       "</div>"
      ],
      "text/plain": [
       "         department   counts\n",
       "0           produce  2046990\n",
       "1        dairy eggs  1168475\n",
       "2            snacks   623318\n",
       "3         beverages   579862\n",
       "4            frozen   482633\n",
       "5            pantry   404730\n",
       "6            bakery   253775\n",
       "7      canned goods   230207\n",
       "8              deli   227004\n",
       "9   dry goods pasta   186861\n",
       "10        household   159027\n",
       "11        breakfast   153218\n",
       "12     meat seafood   152797\n",
       "13    personal care    96370\n",
       "14           babies    92045\n",
       "15    international    58249\n",
       "16          alcohol    33418\n",
       "17             pets    21220\n",
       "18          missing    14748\n",
       "19            other     7639\n",
       "20             bulk     7414"
      ]
     },
     "execution_count": 10,
     "metadata": {},
     "output_type": "execute_result"
    }
   ],
   "source": [
    "df_d = df[['department','counts']].groupby('department').sum()\n",
    "df_d = df_d.sort_values('counts', ascending=False)\n",
    "df_d.reset_index(inplace=True)\n",
    "df_d"
   ]
  },
  {
   "cell_type": "code",
   "execution_count": 11,
   "id": "a5ffbd4f",
   "metadata": {},
   "outputs": [
    {
     "data": {
      "application/vnd.jupyter.widget-view+json": {
       "model_id": "36b64ebcbbe6453f922c6c0c8ff23f4f",
       "version_major": 2,
       "version_minor": 0
      },
      "text/plain": [
       "interactive(children=(IntSlider(value=10, description='N', max=20, min=10), Output()), _dom_classes=('widget-i…"
      ]
     },
     "metadata": {},
     "output_type": "display_data"
    }
   ],
   "source": [
    "@widgets.interact(N = (10,20,1))\n",
    "def VeTreemap2(N = 10):\n",
    "    df2 = df_d[['counts', 'department']][0:N]\n",
    "    \n",
    "    other_count = df_d['counts'][N:].sum()\n",
    "    other = pd.DataFrame({'counts': [other_count], 'department': ['others']})\n",
    "    df2 = df2.append(other, ignore_index=True)\n",
    "    \n",
    "    fig,ax=plt.subplots(figsize=(12,5))\n",
    "    squarify.plot(sizes=df2['counts'], label=df2['department'])\n",
    "    plt.axis('off')\n",
    "    plt.show()\n",
    "    plt.close('all')"
   ]
  },
  {
   "cell_type": "code",
   "execution_count": 12,
   "id": "39f6d9d1",
   "metadata": {},
   "outputs": [],
   "source": [
    "def VeTreemap2_interactive(N):\n",
    "    df2 = df_d[['counts', 'department']][0:N]\n",
    "    \n",
    "    other_count = df_d['counts'][N:].sum()\n",
    "    other = pd.DataFrame({'counts': [other_count], 'department': ['others']})\n",
    "    df2 = df2.append(other, ignore_index=True)\n",
    "    \n",
    "    fig,ax=plt.subplots(figsize=(12,5))\n",
    "    squarify.plot(sizes=df2['counts'], label=df2['department'])\n",
    "    plt.axis('off')\n",
    "    plt.show()\n",
    "    plt.close('all')"
   ]
  },
  {
   "cell_type": "code",
   "execution_count": 13,
   "id": "45081aeb",
   "metadata": {},
   "outputs": [
    {
     "data": {
      "application/vnd.jupyter.widget-view+json": {
       "model_id": "87e1f1561df34b00852e76f51d06a469",
       "version_major": 2,
       "version_minor": 0
      },
      "text/plain": [
       "interactive(children=(IntSlider(value=10, description='N', max=30, min=-10), Output()), _dom_classes=('widget-…"
      ]
     },
     "metadata": {},
     "output_type": "display_data"
    }
   ],
   "source": [
    "w2 = interactive(VeTreemap2_interactive, N=10)\n",
    "display(w2)"
   ]
  },
  {
   "cell_type": "code",
   "execution_count": 14,
   "id": "5a5065d3",
   "metadata": {},
   "outputs": [
    {
     "data": {
      "application/vnd.jupyter.widget-view+json": {
       "model_id": "012c1494d78c4e08a2ccae601490c531",
       "version_major": 2,
       "version_minor": 0
      },
      "text/plain": [
       "interactive(children=(IntSlider(value=10, description='N', max=20, min=10), Button(description='Run Interact',…"
      ]
     },
     "metadata": {},
     "output_type": "display_data"
    }
   ],
   "source": [
    "@widgets.interact_manual(N = (10,20,1))\n",
    "def VeTreemap2_BTN(N = 10):\n",
    "    df2 = df_d[['counts', 'department']][0:N]\n",
    "    \n",
    "    other_count = df_d['counts'][N:].sum()\n",
    "    other = pd.DataFrame({'counts': [other_count], 'department': ['others']})\n",
    "    df2 = df2.append(other, ignore_index=True)\n",
    "    \n",
    "    fig,ax=plt.subplots(figsize=(12,5))\n",
    "    squarify.plot(sizes=df2['counts'], label=df2['department'])\n",
    "    plt.axis('off')\n",
    "    plt.show()\n",
    "    plt.close('all')"
   ]
  },
  {
   "cell_type": "code",
   "execution_count": 15,
   "id": "5ab7369c",
   "metadata": {},
   "outputs": [
    {
     "data": {
      "application/vnd.jupyter.widget-view+json": {
       "model_id": "f5511617ec0b4b78bbbe52061e0e9614",
       "version_major": 2,
       "version_minor": 0
      },
      "text/plain": [
       "interactive(children=(IntSlider(value=10, description='N', max=20, min=10), Dropdown(description='ColorMap', o…"
      ]
     },
     "metadata": {},
     "output_type": "display_data"
    }
   ],
   "source": [
    "# Thêm widget để chọn bảng màu\n",
    "cmaps = ['tab20', 'tab20b', 'viridis', 'YlOrRd', 'prism']\n",
    "\n",
    "@widgets.interact(N = (10,20,1), ColorMap=cmaps)\n",
    "def VeTreemap3(N = 10, ColorMap=None):\n",
    "    df2 = df_d[['counts', 'department']][0:N]\n",
    "    \n",
    "    other_count = df_d['counts'][N:].sum()\n",
    "    other = pd.DataFrame({'counts': [other_count], 'department': ['others']})\n",
    "    df2 = df2.append(other, ignore_index=True)\n",
    "    \n",
    "    if ColorMap:\n",
    "        cmap=plt.get_cmap(ColorMap)\n",
    "        colors = [cmap(v) for v in np.linspace(0,1,N)][::-1]\n",
    "    else: colors = None\n",
    "\n",
    "    fig,ax=plt.subplots(figsize=(12,5))\n",
    "    squarify.plot(sizes=df2['counts'], label=df2['department'], color=colors)\n",
    "    plt.axis('off')\n",
    "    plt.show()\n",
    "    plt.close('all')"
   ]
  },
  {
   "cell_type": "code",
   "execution_count": 16,
   "id": "57eb663e",
   "metadata": {},
   "outputs": [],
   "source": [
    "def VeTreemap3_interactive(N, ColorMap):\n",
    "    df2 = df_d[['counts', 'department']][0:N]\n",
    "    \n",
    "    other_count = df_d['counts'][N:].sum()\n",
    "    other = pd.DataFrame({'counts': [other_count], 'department': ['others']})\n",
    "    df2 = df2.append(other, ignore_index=True)\n",
    "    \n",
    "    if ColorMap:\n",
    "        cmap=plt.get_cmap(ColorMap)\n",
    "        colors = [cmap(v) for v in np.linspace(0,1,N)][::-1]\n",
    "    else: colors = None\n",
    "\n",
    "    fig,ax=plt.subplots(figsize=(12,5))\n",
    "    squarify.plot(sizes=df2['counts'], label=df2['department'], color=colors)\n",
    "    plt.axis('off')\n",
    "    plt.show()\n",
    "    plt.close('all')"
   ]
  },
  {
   "cell_type": "code",
   "execution_count": 17,
   "id": "b1805f3c",
   "metadata": {},
   "outputs": [
    {
     "data": {
      "application/vnd.jupyter.widget-view+json": {
       "model_id": "362d0b94102d4abaac5970850ecfcbb8",
       "version_major": 2,
       "version_minor": 0
      },
      "text/plain": [
       "interactive(children=(IntSlider(value=15, description='N', max=20, min=10), Dropdown(description='ColorMap', o…"
      ]
     },
     "metadata": {},
     "output_type": "display_data"
    }
   ],
   "source": [
    "# Thêm widget để chọn bảng màu\n",
    "cmaps = ['tab20', 'tab20b', 'viridis', 'YlOrRd', 'prism']\n",
    "w3 = interactive(VeTreemap3_interactive, N = (10,20,1), \n",
    "                 ColorMap = cmaps)\n",
    "display(w3)"
   ]
  },
  {
   "cell_type": "code",
   "execution_count": 18,
   "id": "e9b03ea9",
   "metadata": {},
   "outputs": [
    {
     "data": {
      "application/vnd.jupyter.widget-view+json": {
       "model_id": "d186250490914f49b502a9394dd2f698",
       "version_major": 2,
       "version_minor": 0
      },
      "text/plain": [
       "interactive(children=(IntSlider(value=10, description='N', max=20, min=10), Dropdown(description='ColorMap', o…"
      ]
     },
     "metadata": {},
     "output_type": "display_data"
    }
   ],
   "source": [
    "# Thêm widget để chọn bảng màu\n",
    "cmaps = ['tab20', 'tab20b', 'viridis', 'YlOrRd', 'prism']\n",
    "\n",
    "@widgets.interact_manual(N = (10,20,1), ColorMap=cmaps)\n",
    "def VeTreemap3_BTN(N = 10, ColorMap=None):\n",
    "    df2 = df_d[['counts', 'department']][0:N]\n",
    "    \n",
    "    other_count = df_d['counts'][N:].sum()\n",
    "    other = pd.DataFrame({'counts': [other_count], 'department': ['others']})\n",
    "    df2 = df2.append(other, ignore_index=True)\n",
    "    \n",
    "    if ColorMap:\n",
    "        cmap=plt.get_cmap(ColorMap)\n",
    "        colors = [cmap(v) for v in np.linspace(0,1,N)][::-1]\n",
    "    else: colors = None\n",
    "\n",
    "    fig,ax=plt.subplots(figsize=(12,5))\n",
    "    squarify.plot(sizes=df2['counts'], label=df2['department'], color=colors)\n",
    "    plt.axis('off')\n",
    "    plt.show()\n",
    "    plt.close('all')"
   ]
  },
  {
   "cell_type": "code",
   "execution_count": 19,
   "id": "720921a4",
   "metadata": {},
   "outputs": [
    {
     "data": {
      "text/html": [
       "<div>\n",
       "<style scoped>\n",
       "    .dataframe tbody tr th:only-of-type {\n",
       "        vertical-align: middle;\n",
       "    }\n",
       "\n",
       "    .dataframe tbody tr th {\n",
       "        vertical-align: top;\n",
       "    }\n",
       "\n",
       "    .dataframe thead th {\n",
       "        text-align: right;\n",
       "    }\n",
       "</style>\n",
       "<table border=\"1\" class=\"dataframe\">\n",
       "  <thead>\n",
       "    <tr style=\"text-align: right;\">\n",
       "      <th></th>\n",
       "      <th></th>\n",
       "      <th>counts</th>\n",
       "    </tr>\n",
       "    <tr>\n",
       "      <th>department</th>\n",
       "      <th>aisle</th>\n",
       "      <th></th>\n",
       "    </tr>\n",
       "  </thead>\n",
       "  <tbody>\n",
       "    <tr>\n",
       "      <th rowspan=\"5\" valign=\"top\">alcohol</th>\n",
       "      <th>beers coolers</th>\n",
       "      <td>10609</td>\n",
       "    </tr>\n",
       "    <tr>\n",
       "      <th>red wines</th>\n",
       "      <td>7823</td>\n",
       "    </tr>\n",
       "    <tr>\n",
       "      <th>specialty wines champagnes</th>\n",
       "      <td>2413</td>\n",
       "    </tr>\n",
       "    <tr>\n",
       "      <th>spirits</th>\n",
       "      <td>5939</td>\n",
       "    </tr>\n",
       "    <tr>\n",
       "      <th>white wines</th>\n",
       "      <td>6634</td>\n",
       "    </tr>\n",
       "    <tr>\n",
       "      <th>...</th>\n",
       "      <th>...</th>\n",
       "      <td>...</td>\n",
       "    </tr>\n",
       "    <tr>\n",
       "      <th rowspan=\"5\" valign=\"top\">snacks</th>\n",
       "      <th>ice cream toppings</th>\n",
       "      <td>2372</td>\n",
       "    </tr>\n",
       "    <tr>\n",
       "      <th>mint gum</th>\n",
       "      <td>4840</td>\n",
       "    </tr>\n",
       "    <tr>\n",
       "      <th>nuts seeds dried fruit</th>\n",
       "      <td>65980</td>\n",
       "    </tr>\n",
       "    <tr>\n",
       "      <th>popcorn jerky</th>\n",
       "      <td>35179</td>\n",
       "    </tr>\n",
       "    <tr>\n",
       "      <th>trail mix snack mix</th>\n",
       "      <td>7686</td>\n",
       "    </tr>\n",
       "  </tbody>\n",
       "</table>\n",
       "<p>134 rows × 1 columns</p>\n",
       "</div>"
      ],
      "text/plain": [
       "                                       counts\n",
       "department aisle                             \n",
       "alcohol    beers coolers                10609\n",
       "           red wines                     7823\n",
       "           specialty wines champagnes    2413\n",
       "           spirits                       5939\n",
       "           white wines                   6634\n",
       "...                                       ...\n",
       "snacks     ice cream toppings            2372\n",
       "           mint gum                      4840\n",
       "           nuts seeds dried fruit       65980\n",
       "           popcorn jerky                35179\n",
       "           trail mix snack mix           7686\n",
       "\n",
       "[134 rows x 1 columns]"
      ]
     },
     "execution_count": 19,
     "metadata": {},
     "output_type": "execute_result"
    }
   ],
   "source": [
    "# Tính ra số lượng sản phẩm đã bán được theo từng aisle của từng department\n",
    "df3 = df[['department', 'aisle', 'counts']].groupby(['department', 'aisle']).sum()\n",
    "df3"
   ]
  },
  {
   "cell_type": "code",
   "execution_count": 20,
   "id": "ffd9f38c",
   "metadata": {},
   "outputs": [
    {
     "data": {
      "application/vnd.jupyter.widget-view+json": {
       "model_id": "4d60424f0e3041b2a1aa1f67121d2c3c",
       "version_major": 2,
       "version_minor": 0
      },
      "text/plain": [
       "interactive(children=(Dropdown(description='dep_name', options=('produce', 'dairy eggs', 'snacks', 'beverages'…"
      ]
     },
     "metadata": {},
     "output_type": "display_data"
    }
   ],
   "source": [
    "# Chỉ chọn 10 department bán được nhiều sản phẩm nhất\n",
    "dep_list = list(df_d['department'].iloc[0:10].values)\n",
    "\n",
    "@widgets.interact(dep_name=dep_list)\n",
    "def Ve_BD_Theo_Dep(dep_name):\n",
    "    new_df = df3.loc[dep_name].reset_index()\n",
    "    \n",
    "    fig = plt.figure(figsize=(8,5))\n",
    "    ax = sns.barplot(data=new_df, x=new_df.index, y='counts', \n",
    "                palette='bright',\n",
    "               )\n",
    "    ax.set_xticklabels(new_df['aisle'], rotation=-60, ha='left')\n",
    "    plt.title(dep_name)\n",
    "    plt.show()\n",
    "    plt.close('all')\n",
    "#Ve_BD_Theo_Dep('alcohol')"
   ]
  },
  {
   "cell_type": "code",
   "execution_count": 21,
   "id": "0fef73d3",
   "metadata": {},
   "outputs": [],
   "source": [
    "def Ve_BD_Theo_Dep_interactive(dep_name):\n",
    "    new_df = df3.loc[dep_name].reset_index()\n",
    "    \n",
    "    fig = plt.figure(figsize=(8,5))\n",
    "    ax = sns.barplot(data=new_df, x=new_df.index, y='counts', \n",
    "                palette='bright',\n",
    "               )\n",
    "    ax.set_xticklabels(new_df['aisle'], rotation=-60, ha='left')\n",
    "    plt.title(dep_name)\n",
    "    plt.show()\n",
    "    plt.close('all')"
   ]
  },
  {
   "cell_type": "code",
   "execution_count": 22,
   "id": "e510ab60",
   "metadata": {},
   "outputs": [
    {
     "data": {
      "application/vnd.jupyter.widget-view+json": {
       "model_id": "3ea01201be094155a15dfcc1037c449f",
       "version_major": 2,
       "version_minor": 0
      },
      "text/plain": [
       "interactive(children=(Dropdown(description='dep_name', options=('produce', 'dairy eggs', 'snacks', 'beverages'…"
      ]
     },
     "metadata": {},
     "output_type": "display_data"
    }
   ],
   "source": [
    "dep_list = list(df_d['department'].iloc[0:10].values)\n",
    "\n",
    "w4 = interactive(Ve_BD_Theo_Dep_interactive, dep_name=dep_list)\n",
    "display(w4)"
   ]
  },
  {
   "cell_type": "code",
   "execution_count": 23,
   "id": "358f6c60",
   "metadata": {},
   "outputs": [
    {
     "data": {
      "application/vnd.jupyter.widget-view+json": {
       "model_id": "ceb335afe8894ef3989b8eb13365cba9",
       "version_major": 2,
       "version_minor": 0
      },
      "text/plain": [
       "interactive(children=(Dropdown(description='dep_name', options=('produce', 'dairy eggs', 'snacks', 'beverages'…"
      ]
     },
     "metadata": {},
     "output_type": "display_data"
    }
   ],
   "source": [
    "# Chỉ chọn 10 department bán được nhiều sản phẩm nhất\n",
    "dep_list = list(df_d['department'].iloc[0:10].values)\n",
    "\n",
    "@widgets.interact_manual(dep_name=dep_list)\n",
    "def Ve_BD_Theo_Dep_BTN(dep_name):\n",
    "    new_df = df3.loc[dep_name].reset_index()\n",
    "    \n",
    "    fig = plt.figure(figsize=(8,5))\n",
    "    ax = sns.barplot(data=new_df, x=new_df.index, y='counts', \n",
    "                palette='bright',\n",
    "               )\n",
    "    ax.set_xticklabels(new_df['aisle'], rotation=-60, ha='left')\n",
    "    plt.title(dep_name)\n",
    "    plt.show()\n",
    "    plt.close('all')\n",
    "#Ve_BD_Theo_Dep('alcohol')"
   ]
  },
  {
   "cell_type": "code",
   "execution_count": null,
   "id": "37b64899",
   "metadata": {},
   "outputs": [],
   "source": []
  }
 ],
 "metadata": {
  "kernelspec": {
   "display_name": "Python 3 (ipykernel)",
   "language": "python",
   "name": "python3"
  },
  "language_info": {
   "codemirror_mode": {
    "name": "ipython",
    "version": 3
   },
   "file_extension": ".py",
   "mimetype": "text/x-python",
   "name": "python",
   "nbconvert_exporter": "python",
   "pygments_lexer": "ipython3",
   "version": "3.10.9"
  }
 },
 "nbformat": 4,
 "nbformat_minor": 5
}
