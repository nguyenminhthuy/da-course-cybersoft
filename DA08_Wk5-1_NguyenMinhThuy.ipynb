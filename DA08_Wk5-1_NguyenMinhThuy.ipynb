{
 "cells": [
  {
   "cell_type": "markdown",
   "id": "d39815c1",
   "metadata": {},
   "source": [
    "Thực hiện các yêu cầu sau với dữ liệu ‘vn_housing_dataset.csv’:\n",
    "1. Lấy ra thông tin từ các cột Diện tích, Chiều dài, chiều rộng, Giá nhà\n",
    "2. Kiểm tra các thông tin bất thường\n",
    "⇒ Loại bỏ nếu thấy bất hợp lý\n",
    "3. Chuẩn hóa thông tin (ví dụ: giá nhà với đơn vị “tỷ” thì đổi hết sang đơn vị\n",
    "“triệu”, nếu có)\n",
    "4. Lấy thêm thông tin từ cột Ngày tháng, format lại thành “Ngày_Tháng_Năm”\n",
    "5. Lưu lại dữ liệu đã làm sạch, chuẩn hóa, loại bỏ bất thường… vào file csv\n",
    "khác"
   ]
  },
  {
   "cell_type": "code",
   "execution_count": 27,
   "id": "cf3801ae",
   "metadata": {},
   "outputs": [],
   "source": [
    "import matplotlib\n",
    "import matplotlib.pyplot as plt\n",
    "import csv\n",
    "import datetime as dt\n",
    "from math import sqrt, pow\n",
    "import numpy as np"
   ]
  },
  {
   "cell_type": "code",
   "execution_count": 28,
   "id": "1e4ae0e0",
   "metadata": {},
   "outputs": [],
   "source": [
    "ds_dientich_csv=[]\n",
    "ds_chieudai_csv=[]\n",
    "ds_chieurong_csv=[]\n",
    "ds_gianha_csv=[]\n",
    "ds_ngay_csv=[]\n",
    "\n",
    "with open(\"data/vn_housing_dataset.csv\", mode='r', encoding='utf-8') as f:\n",
    "    reader = csv.reader(f)\n",
    "    next(reader)\n",
    "    \n",
    "    for row in reader:\n",
    "        ds_gianha_csv.append(row[-1])\n",
    "        ds_chieurong_csv.append(row[-2])\n",
    "        ds_chieudai_csv.append(row[-3])\n",
    "        ds_dientich_csv.append(row[-4])\n",
    "        ds_ngay_csv.append(row[1])"
   ]
  },
  {
   "cell_type": "code",
   "execution_count": 29,
   "id": "70bf24c9",
   "metadata": {},
   "outputs": [],
   "source": [
    "# format date to dd-mm-yyyy\n",
    "lst_date_format = [dt.datetime.strptime(item, '%Y-%m-%d').strftime(\"%d-%m-%Y\") for item in ds_ngay_csv]"
   ]
  },
  {
   "cell_type": "code",
   "execution_count": 30,
   "id": "fee67039",
   "metadata": {},
   "outputs": [],
   "source": [
    "# Lấy vị trí NaN từ cột chieudai va xoa tuong ung voi các cột còn lại\n",
    "\n",
    "nan_index_lstcd = [i for i, e in enumerate(ds_chieudai_csv) if e =='NaN']\n",
    "\n",
    "lst_new_cd = [ds_chieudai_csv[i] for i, e in enumerate(ds_chieudai_csv) if i not in nan_index_lstcd]\n",
    "lst_new_cr = [ds_chieurong_csv[i] for i, e in enumerate(ds_chieurong_csv) if i not in nan_index_lstcd]\n",
    "lst_new_dt = [ds_dientich_csv[i] for i, e in enumerate(ds_dientich_csv) if i not in nan_index_lstcd]\n",
    "lst_new_gn = [ds_gianha_csv[i] for i, e in enumerate(ds_gianha_csv) if i not in nan_index_lstcd]\n",
    "lst_new_date = [lst_date_format[i] for i, e in enumerate(lst_date_format) if i not in nan_index_lstcd]"
   ]
  },
  {
   "cell_type": "code",
   "execution_count": 31,
   "id": "a80bbbae",
   "metadata": {},
   "outputs": [],
   "source": [
    "# Lấy vị trí NaN từ cột chieurong va xoa tuong ung voi các cột còn lại\n",
    "\n",
    "nan_index_lstcr = [i for i, e in enumerate(lst_new_cr) if e =='NaN']\n",
    "\n",
    "lst_new_cd1 = [lst_new_cd[i] for i, e in enumerate(lst_new_cd) if i not in nan_index_lstcr]\n",
    "lst_new_cr1 = [lst_new_cr[i] for i, e in enumerate(lst_new_cr) if i not in nan_index_lstcr]\n",
    "lst_new_dt1 = [lst_new_dt[i] for i, e in enumerate(lst_new_dt) if i not in nan_index_lstcr]\n",
    "lst_new_gn1 = [lst_new_gn[i] for i, e in enumerate(lst_new_gn) if i not in nan_index_lstcr]\n",
    "lst_new_date1 = [lst_new_date[i] for i, e in enumerate(lst_new_date) if i not in nan_index_lstcr]"
   ]
  },
  {
   "cell_type": "code",
   "execution_count": 36,
   "id": "faafdc9e",
   "metadata": {},
   "outputs": [],
   "source": [
    "filter_data = list(zip(lst_new_date1, lst_new_dt1, lst_new_cd1, lst_new_cr1, lst_new_gn1))"
   ]
  },
  {
   "cell_type": "code",
   "execution_count": 38,
   "id": "a6c926be",
   "metadata": {},
   "outputs": [],
   "source": [
    "col_name = ['Ngày','Diện tích','Dài','Rộng','Giá/m2']\n",
    "with open('data/DA08_Wk5_NMT_KQ.csv', 'w', encoding='utf-8', newline='') as f:\n",
    "      \n",
    "    write = csv.writer(f)\n",
    "      \n",
    "    write.writerow(col_name)\n",
    "    write.writerows(filter_data)"
   ]
  }
 ],
 "metadata": {
  "kernelspec": {
   "display_name": "Python 3 (ipykernel)",
   "language": "python",
   "name": "python3"
  },
  "language_info": {
   "codemirror_mode": {
    "name": "ipython",
    "version": 3
   },
   "file_extension": ".py",
   "mimetype": "text/x-python",
   "name": "python",
   "nbconvert_exporter": "python",
   "pygments_lexer": "ipython3",
   "version": "3.10.9"
  }
 },
 "nbformat": 4,
 "nbformat_minor": 5
}
