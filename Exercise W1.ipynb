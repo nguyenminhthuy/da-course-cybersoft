{
 "cells": [
  {
   "cell_type": "code",
   "execution_count": 1,
   "id": "453c5710",
   "metadata": {},
   "outputs": [],
   "source": [
    "def exercise1(lname, mfname, mrms):\n",
    "    print(f\"\\nHello {mrms} {lname} {mfname}\")\n",
    "    print(f\"The name printed on your ticket is {lname} {mfname}\")"
   ]
  },
  {
   "cell_type": "code",
   "execution_count": 2,
   "id": "51d83bf1",
   "metadata": {},
   "outputs": [],
   "source": [
    "seat_number = 99\n",
    "def seat_count():\n",
    "    global seat_number\n",
    "    seat_number += 1\n",
    "    return seat_number"
   ]
  },
  {
   "cell_type": "code",
   "execution_count": 3,
   "id": "6f8d506a",
   "metadata": {},
   "outputs": [],
   "source": [
    "def exercise2(lname, mfname, mrms):\n",
    "    print(f\"\\nHello {mrms} {lname} {mfname}\")\n",
    "    print(f\"The name printed on your ticket is {lname} {mfname}\")\n",
    "    print(f\"Your seat number is {seat_count()}\")"
   ]
  },
  {
   "cell_type": "code",
   "execution_count": 6,
   "id": "1bae3abb",
   "metadata": {},
   "outputs": [
    {
     "name": "stdout",
     "output_type": "stream",
     "text": [
      "Input customer's last name: 1\n",
      "Input customer's middle name and first name: 2\n",
      "Mr/Ms? 3\n",
      "\n",
      "Hello 3 1 2\n",
      "The name printed on your ticket is 1 2\n",
      "Input customer's last name: 456\n",
      "Input customer's middle name and first name: 7\n",
      "Mr/Ms? 9\n",
      "\n",
      "Hello 9 456 7\n",
      "The name printed on your ticket is 456 7\n",
      "Your seat number is 101\n"
     ]
    }
   ],
   "source": [
    "# Exercise 1\n",
    "last_name = input(\"Input customer's last name: \")\n",
    "middle_first_name = input(\"Input customer's middle name and first name: \")\n",
    "mr_or_ms = input(\"Mr/Ms? \")\n",
    "\n",
    "exercise1(last_name, middle_first_name, mr_or_ms)"
   ]
  },
  {
   "cell_type": "code",
   "execution_count": null,
   "id": "6123ff2e",
   "metadata": {},
   "outputs": [],
   "source": [
    "# Exercise 2\n",
    "last_name = input(\"Input customer's last name: \")\n",
    "middle_first_name = input(\"Input customer's middle name and first name: \")\n",
    "mr_or_ms = input(\"Mr/Ms? \")\n",
    "\n",
    "exercise2(last_name, middle_first_name, mr_or_ms)"
   ]
  },
  {
   "cell_type": "code",
   "execution_count": 5,
   "id": "f127fa1b",
   "metadata": {},
   "outputs": [],
   "source": [
    "# 3 year of birth -> age, print more information"
   ]
  },
  {
   "cell_type": "code",
   "execution_count": null,
   "id": "b48eb8d6",
   "metadata": {},
   "outputs": [],
   "source": []
  }
 ],
 "metadata": {
  "kernelspec": {
   "display_name": "Python 3 (ipykernel)",
   "language": "python",
   "name": "python3"
  },
  "language_info": {
   "codemirror_mode": {
    "name": "ipython",
    "version": 3
   },
   "file_extension": ".py",
   "mimetype": "text/x-python",
   "name": "python",
   "nbconvert_exporter": "python",
   "pygments_lexer": "ipython3",
   "version": "3.10.9"
  }
 },
 "nbformat": 4,
 "nbformat_minor": 5
}
