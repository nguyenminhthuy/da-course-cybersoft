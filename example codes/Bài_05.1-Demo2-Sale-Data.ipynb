{
 "cells": [
  {
   "cell_type": "code",
   "execution_count": 1,
   "id": "d5892d12",
   "metadata": {},
   "outputs": [
    {
     "data": {
      "text/html": [
       "<style type='text/css'>\n",
       ".CodeMirror{\n",
       "    font-size: 18px;\n",
       "}\n",
       "\n",
       "div.output_area pre {\n",
       "    font-size: 16px;\n",
       "}\n",
       "</style>\n"
      ],
      "text/plain": [
       "<IPython.core.display.HTML object>"
      ]
     },
     "metadata": {},
     "output_type": "display_data"
    }
   ],
   "source": [
    "%%html\n",
    "<style type='text/css'>\n",
    ".CodeMirror{\n",
    "    font-size: 18px;\n",
    "}\n",
    "\n",
    "div.output_area pre {\n",
    "    font-size: 16px;\n",
    "}\n",
    "</style>"
   ]
  },
  {
   "cell_type": "code",
   "execution_count": 2,
   "id": "922c6c3b",
   "metadata": {},
   "outputs": [],
   "source": [
    "import numpy as np\n",
    "from matplotlib import pyplot as plt\n",
    "from scipy import stats\n",
    "np.set_printoptions(precision=3, suppress=True)"
   ]
  },
  {
   "cell_type": "code",
   "execution_count": 3,
   "id": "34b61c9a",
   "metadata": {
    "scrolled": false
   },
   "outputs": [
    {
     "name": "stdout",
     "output_type": "stream",
     "text": [
      "['Invoice ID', 'City', 'Customer type', 'Gender', 'Product line', 'Unit price', 'Quantity', 'Tax 5%', 'Total', 'Date', 'Time', 'Payment', 'cogs', 'Rating']\n",
      "Tổng số dòng data:  1000\n",
      "Hiển thị thử 10 dòng đầu:\n",
      "['750-67-8428', 'Hà Nội', 'Member', 'Nữ', 'Health and beauty', '74.69', '7', '26.1415', '548.9715', '1/5/19', '13:08', 'Ewallet', '522.83', '9.1']\n",
      "['226-31-3081', 'TP HCM', 'Normal', 'Nữ', 'Electronic accessories', '15.28', '5', '3.82', '80.22', '3/8/19', '10:29', 'Cash', '76.4', '9.6']\n",
      "['631-41-3108', 'Hà Nội', 'Normal', 'Nam', 'Home and lifestyle', '46.33', '7', '16.2155', '340.5255', '3/3/19', '13:23', 'Credit card', '324.31', '7.4']\n",
      "['123-19-1176', 'Hà Nội', 'Member', 'Nam', 'Health and beauty', '58.22', '8', '23.288', '489.048', '1/27/19', '20:33', 'Ewallet', '465.76', '8.4']\n",
      "['373-73-7910', 'Hà Nội', 'Normal', 'Nam', 'Sports and travel', '86.31', '7', '30.2085', '634.3785', '2/8/19', '10:37', 'Ewallet', '604.17', '5.3']\n",
      "['699-14-3026', 'TP HCM', 'Normal', 'Nam', 'Electronic accessories', '85.39', '7', '29.8865', '627.6165', '3/25/19', '18:30', 'Ewallet', '597.73', '4.1']\n",
      "['355-53-5943', 'Hà Nội', 'Member', 'Nữ', 'Electronic accessories', '68.84', '6', '20.652', '433.692', '2/25/19', '14:36', 'Ewallet', '413.04', '5.8']\n",
      "['315-22-5665', 'TP HCM', 'Normal', 'Nữ', 'Home and lifestyle', '73.56', '10', '36.78', '772.38', '2/24/19', '11:38', 'Ewallet', '735.6', '8']\n",
      "['665-32-9167', 'Hà Nội', 'Member', 'Nữ', 'Health and beauty', '36.26', '2', '3.626', '76.146', '1/10/19', '17:15', 'Credit card', '72.52', '7.2']\n",
      "['692-92-5582', 'Đà Nẵng', 'Member', 'Nữ', 'Food and beverages', '54.84', '3', '8.226', '172.746', '2/20/19', '13:27', 'Credit card', '164.52', '5.9']\n",
      "Hiển thị thử 10 dòng cuối:\n",
      "['886-18-2897', 'Hà Nội', 'Normal', 'Nữ', 'Food and beverages', '56.56', '5', '14.14', '296.94', '3/22/19', '19:06', 'Credit card', '282.8', '4.5']\n",
      "['602-16-6955', 'Đà Nẵng', 'Normal', 'Nữ', 'Sports and travel', '76.6', '10', '38.3', '804.3', '1/24/19', '18:10', 'Ewallet', '766', '6']\n",
      "['745-74-0715', 'Hà Nội', 'Normal', 'Nam', 'Electronic accessories', '58.03', '2', '5.803', '121.863', '3/10/19', '20:46', 'Ewallet', '116.06', '8.8']\n",
      "['690-01-6631', 'TP HCM', 'Normal', 'Nam', 'Fashion accessories', '17.49', '10', '8.745', '183.645', '2/22/19', '18:35', 'Ewallet', '174.9', '6.6']\n",
      "['652-49-6720', 'TP HCM', 'Member', 'Nữ', 'Electronic accessories', '60.95', '1', '3.0475', '63.9975', '2/18/19', '11:40', 'Ewallet', '60.95', '5.9']\n",
      "['233-67-5758', 'TP HCM', 'Normal', 'Nam', 'Health and beauty', '40.35', '1', '2.0175', '42.3675', '1/29/19', '13:46', 'Ewallet', '40.35', '6.2']\n",
      "['303-96-2227', 'Đà Nẵng', 'Normal', 'Nữ', 'Home and lifestyle', '97.38', '10', '48.69', '1022.49', '3/2/19', '17:16', 'Ewallet', '973.8', '4.4']\n",
      "['727-02-1313', 'TP HCM', 'Member', 'Nam', 'Food and beverages', '31.84', '1', '1.592', '33.432', '2/9/19', '13:22', 'Cash', '31.84', '7.7']\n",
      "['347-56-2442', 'Hà Nội', 'Normal', 'Nam', 'Home and lifestyle', '65.82', '1', '3.291', '69.111', '2/22/19', '15:33', 'Cash', '65.82', '4.1']\n",
      "['849-09-3807', 'Hà Nội', 'Member', 'Nữ', 'Fashion accessories', '88.34', '7', '30.919', '649.299', '2/18/19', '13:28', 'Cash', '618.38', '6.6']\n"
     ]
    }
   ],
   "source": [
    "# Load dữ liệu: data-example/example_sales_vn.csv\n",
    "import csv\n",
    "file_path = \"data/supermarket_sales_vn.csv\"\n",
    "\n",
    "row_list = []\n",
    "with open(file_path, newline='', encoding='utf-8') as csv_file:\n",
    "    data_csv = csv.reader(csv_file, delimiter=',')\n",
    "    header = next(data_csv)\n",
    "    print(header)\n",
    "    for row in data_csv:\n",
    "        row_list.append(row)\n",
    "n_rows = len(row_list)\n",
    "print(\"Tổng số dòng data: \", n_rows)\n",
    "\n",
    "print(\"Hiển thị thử 10 dòng đầu:\")\n",
    "for i in range(10): print(row_list[i])\n",
    "print(\"Hiển thị thử 10 dòng cuối:\")\n",
    "for i in range(10): print(row_list[-(10-i)])"
   ]
  },
  {
   "cell_type": "markdown",
   "id": "81a02c95",
   "metadata": {},
   "source": [
    "# 1. Phân tích mô tả theo số lượng đơn"
   ]
  },
  {
   "cell_type": "markdown",
   "id": "f81456f2",
   "metadata": {},
   "source": [
    "## 1.1. Theo chi nhánh (City)"
   ]
  },
  {
   "cell_type": "code",
   "execution_count": 4,
   "id": "d9f59056",
   "metadata": {},
   "outputs": [],
   "source": [
    "ds_tp = [row[1] for row in row_list]\n",
    "ds_gt = [row[3] for row in row_list]"
   ]
  },
  {
   "cell_type": "code",
   "execution_count": 5,
   "id": "e477f5c3",
   "metadata": {},
   "outputs": [
    {
     "data": {
      "text/plain": [
       "(501, 499)"
      ]
     },
     "execution_count": 5,
     "metadata": {},
     "output_type": "execute_result"
    }
   ],
   "source": [
    "# Đếm số đơn theo giới tính\n",
    "ds_gt.count('Nữ')\n",
    "ds_gt.count('Nam')\n",
    "\n",
    "print(count_Female, count_Male)"
   ]
  },
  {
   "cell_type": "code",
   "execution_count": 7,
   "id": "ea9cab7b",
   "metadata": {},
   "outputs": [
    {
     "name": "stdout",
     "output_type": "stream",
     "text": [
      "274 490 236\n"
     ]
    }
   ],
   "source": [
    "# Đếm số đơn theo chi nhánh\n",
    "count_HN = ds_tp.count('Hà Nội')\n",
    "count_SG = ds_tp.count('TP HCM')\n",
    "count_ĐN = ds_tp.count('Đà Nẵng')\n",
    "\n",
    "print(count_HN, count_SG, count_ĐN)"
   ]
  },
  {
   "cell_type": "markdown",
   "id": "467ea119",
   "metadata": {},
   "source": [
    "**Biểu đồ cột: bar()**"
   ]
  },
  {
   "cell_type": "code",
   "execution_count": 8,
   "id": "7ea0b1ff",
   "metadata": {},
   "outputs": [
    {
     "data": {
      "image/png": "[encoded data removed]",
      "text/plain": [
       "<Figure size 432x288 with 1 Axes>"
      ]
     },
     "metadata": {
      "needs_background": "light"
     },
     "output_type": "display_data"
    }
   ],
   "source": [
    "# Tần số: theo chi nhánh\n",
    "plt.figure(figsize=(6,4))\n",
    "plt.bar(x=[0,1,2],height=[count_HN, count_SG, count_ĐN])\n",
    "plt.xticks([0,1,2],[\"Hà Nội\", \"TP HCM\", \"Đà Nẵng\"])\n",
    "plt.show()"
   ]
  },
  {
   "cell_type": "markdown",
   "id": "642c2bb6",
   "metadata": {},
   "source": [
    "**Biểu đồ hình tròn**"
   ]
  },
  {
   "cell_type": "code",
   "execution_count": 9,
   "id": "83128da1",
   "metadata": {},
   "outputs": [
    {
     "data": {
      "image/png": "[encoded data removed]",
      "text/plain": [
       "<Figure size 288x288 with 1 Axes>"
      ]
     },
     "metadata": {},
     "output_type": "display_data"
    }
   ],
   "source": [
    "# Tần suất: theo chi nhánh\n",
    "plt.figure(figsize=(4,4))\n",
    "plt.pie([count_HN, count_SG, count_ĐN], autopct='%1.1f%%')\n",
    "plt.legend([\"Hà Nội\", \"TP HCM\", \"Đà Nẵng\"])\n",
    "plt.show()"
   ]
  },
  {
   "cell_type": "markdown",
   "id": "3ba615b5",
   "metadata": {},
   "source": [
    "## 1.2. Theo các cột phân loại khác:\n",
    "- **Giới tính (Gender)?**\n",
    "- **Loại sản phẩm (Product line)?**\n",
    "- **Loại thanh toán (Payment)?**"
   ]
  },
  {
   "cell_type": "code",
   "execution_count": 11,
   "id": "bca0cf61",
   "metadata": {},
   "outputs": [],
   "source": [
    "ds_pl = [row[4] for row in row_list]\n",
    "ds_pl_unique = set(ds_pl)"
   ]
  },
  {
   "cell_type": "code",
   "execution_count": 12,
   "id": "2ec573d7",
   "metadata": {},
   "outputs": [
    {
     "data": {
      "text/plain": [
       "{'Electronic accessories',\n",
       " 'Fashion accessories',\n",
       " 'Food and beverages',\n",
       " 'Health and beauty',\n",
       " 'Home and lifestyle',\n",
       " 'Sports and travel'}"
      ]
     },
     "execution_count": 12,
     "metadata": {},
     "output_type": "execute_result"
    }
   ],
   "source": [
    "ds_pl_unique"
   ]
  },
  {
   "cell_type": "code",
   "execution_count": 13,
   "id": "aa9c3b66",
   "metadata": {},
   "outputs": [
    {
     "data": {
      "text/plain": [
       "(array(['Electronic accessories', 'Fashion accessories',\n",
       "        'Food and beverages', 'Health and beauty', 'Home and lifestyle',\n",
       "        'Sports and travel'], dtype='<U22'),\n",
       " array([170, 178, 174, 152, 160, 166], dtype=int64))"
      ]
     },
     "execution_count": 13,
     "metadata": {},
     "output_type": "execute_result"
    }
   ],
   "source": [
    "# Sử dụng np.unique để đếm số đơn theo phân loại\n",
    "np.unique(ds_pl, return_counts=True)"
   ]
  },
  {
   "cell_type": "markdown",
   "id": "e6b5146c",
   "metadata": {},
   "source": [
    "# 2. Phân tích mô tả của tổng giá trị đơn hàng"
   ]
  },
  {
   "cell_type": "code",
   "execution_count": 55,
   "id": "65219ef4",
   "metadata": {},
   "outputs": [],
   "source": [
    "# Lấy ra các giá trị \n",
    "ds_gia = np.array([float(row[5]) for row in row_list])\n",
    "ds_soluong = np.array([float(row[6]) for row in row_list])\n",
    "ds_tong = np.array([float(row[8]) for row in row_list])\n",
    "ds_rate = np.array([float(row[13]) for row in row_list])"
   ]
  },
  {
   "cell_type": "markdown",
   "id": "1197060f",
   "metadata": {},
   "source": [
    "## Độ đo về sự mở rộng"
   ]
  },
  {
   "cell_type": "code",
   "execution_count": null,
   "id": "51c4ea05",
   "metadata": {},
   "outputs": [],
   "source": [
    "print(np.min(ds_tong))\n",
    "print(np.max(ds_tong))\n",
    "print(np.ptp(ds_tong))\n",
    "print(np.var(ds_tong))\n",
    "print(np.std(ds_tong))"
   ]
  },
  {
   "cell_type": "markdown",
   "id": "a690d72b",
   "metadata": {},
   "source": [
    "## Tỷ lệ phần trăm doanh thu"
   ]
  },
  {
   "cell_type": "code",
   "execution_count": 56,
   "id": "bf1ab333",
   "metadata": {},
   "outputs": [],
   "source": [
    "# Lấy ra danh sách giá trị đơn theo từng thành phố\n",
    "hanoi = ds_tong[np.array(ds_tp) == \"Hà Nội\"]\n",
    "tphcm = ds_tong[np.array(ds_tp) == \"TP HCM\"]\n",
    "danang = ds_tong[np.array(ds_tp) == \"Đà Nẵng\"]"
   ]
  },
  {
   "cell_type": "code",
   "execution_count": 57,
   "id": "e228dc43",
   "metadata": {},
   "outputs": [],
   "source": [
    "# Tính tổng giá trị các đơn của các thành phố\n",
    "tong_HN = np.sum(hanoi)\n",
    "tong_SG = np.sum(tphcm)\n",
    "tong_ĐN = np.sum(danang)"
   ]
  },
  {
   "cell_type": "code",
   "execution_count": 58,
   "id": "ea53bf1a",
   "metadata": {},
   "outputs": [
    {
     "data": {
      "image/png": "[encoded data removed]",
      "text/plain": [
       "<Figure size 288x288 with 1 Axes>"
      ]
     },
     "metadata": {},
     "output_type": "display_data"
    }
   ],
   "source": [
    "plt.figure(figsize=(4,4))\n",
    "plt.pie([tong_HN, tong_SG, tong_ĐN], autopct='%.2f%%')\n",
    "plt.legend([\"Hà Nội\", \"TP HCM\", \"Đà Nẵng\"])\n",
    "plt.show()"
   ]
  },
  {
   "cell_type": "markdown",
   "id": "4f3dabc5",
   "metadata": {},
   "source": [
    "## Khuynh hướng tập trung"
   ]
  },
  {
   "cell_type": "code",
   "execution_count": 61,
   "id": "fa5f5068",
   "metadata": {
    "scrolled": true
   },
   "outputs": [
    {
     "data": {
      "image/png": "[encoded data removed]",
      "text/plain": [
       "<Figure size 576x360 with 1 Axes>"
      ]
     },
     "metadata": {
      "needs_background": "light"
     },
     "output_type": "display_data"
    }
   ],
   "source": [
    "fig, ax = plt.subplots(figsize=(8,5), num=1)\n",
    "ax.hist(ds_tong, bins=50, color='red')\n",
    "ax.set_xlabel(\"Tổng giá trị đơn (ngàn vnđ)\")\n",
    "plt.show()"
   ]
  },
  {
   "cell_type": "code",
   "execution_count": 62,
   "id": "73b38dc9",
   "metadata": {},
   "outputs": [
    {
     "name": "stdout",
     "output_type": "stream",
     "text": [
      "Mean: 322.966749\n",
      "Median: 253.848\n",
      "Mode: 82.916505\n"
     ]
    }
   ],
   "source": [
    "# Tính ra mean, median, mode\n",
    "mean = np.mean(ds_tong)\n",
    "median = np.median(ds_tong)\n",
    "h = np.histogram(ds_tong, bins=50)\n",
    "counts, bins = h\n",
    "mode_idx = np.argmax(counts)\n",
    "mode = np.mean([bins[mode_idx], bins[mode_idx+1]])\n",
    "print(\"Mean:\", mean)\n",
    "print(\"Median:\", median)\n",
    "print(\"Mode:\", mode)"
   ]
  },
  {
   "cell_type": "code",
   "execution_count": 67,
   "id": "1d5bac5b",
   "metadata": {
    "scrolled": true
   },
   "outputs": [
    {
     "data": {
      "image/png": "[encoded data removed]",
      "text/plain": [
       "<Figure size 576x360 with 1 Axes>"
      ]
     },
     "metadata": {
      "needs_background": "light"
     },
     "output_type": "display_data"
    }
   ],
   "source": [
    "# Vẽ lên biểu đồ\n",
    "fig, ax = plt.subplots(figsize=(8,5), num=1)\n",
    "ax.hist(ds_tong, bins=50, color='red')\n",
    "ax.set_xlabel(\"Tổng giá trị đơn (ngàn vnđ)\")\n",
    "\n",
    "ax.axvline(mean, color='k', linestyle='dashed', linewidth=1)\n",
    "ax.text(mean-10, 50, f\"Mean:\\n{mean:.2f}\", color=\"k\")\n",
    "#ax.text(mean, 60, 'Mean: %f'%(mean))\n",
    "\n",
    "ax.axvline(median, color='b', linestyle='dashed', linewidth=1)\n",
    "ax.text(median-50, 65, f\"Median:\\n{median:.2f}\", color=\"b\")\n",
    "\n",
    "ax.axvline(mode, color='g', linestyle='dashed', linewidth=1)\n",
    "ax.text(mode+10, 50, f\"Mode:\\n{mode:.2f}\", color=\"g\")\n",
    "\n",
    "plt.show()"
   ]
  },
  {
   "cell_type": "markdown",
   "id": "6dd9efff",
   "metadata": {},
   "source": [
    "## Phân vị"
   ]
  },
  {
   "cell_type": "code",
   "execution_count": 85,
   "id": "325861b9",
   "metadata": {},
   "outputs": [
    {
     "data": {
      "text/plain": [
       "array([124.422, 253.848, 471.35 ])"
      ]
     },
     "execution_count": 85,
     "metadata": {},
     "output_type": "execute_result"
    }
   ],
   "source": [
    "np.quantile(ds_tong, [0.25, 0.5, 0.75])"
   ]
  },
  {
   "cell_type": "code",
   "execution_count": 88,
   "id": "c5a06301",
   "metadata": {},
   "outputs": [
    {
     "name": "stdout",
     "output_type": "stream",
     "text": [
      "0.227\n",
      "0.254\n",
      "2.70%\n"
     ]
    }
   ],
   "source": [
    "# Giả sử ta muốn khuyến mãi tiền ship (30k) cho KH có hóa đơn >500k\n",
    "pct500k = np.count_nonzero(ds_tong>500)/ds_tong.size\n",
    "print(pct500k)\n",
    "\n",
    "# Kỳ vọng những người mua tầm 470k sẽ tăng mua để được freeship\n",
    "# Khả năng bao nhiêu phần trăm số người sẽ tăng mua?\n",
    "pct470k = np.count_nonzero(ds_tong>470)/ds_tong.size\n",
    "print(pct470k)\n",
    "print(f\"{100*(pct470k - pct500k):.2f}%\")"
   ]
  },
  {
   "cell_type": "code",
   "execution_count": 91,
   "id": "31cdf4da",
   "metadata": {},
   "outputs": [
    {
     "name": "stdout",
     "output_type": "stream",
     "text": [
      "0.5\n",
      "0.541\n",
      "4.10%\n"
     ]
    }
   ],
   "source": [
    "# Giả sử ta muốn khuyến mãi tiền ship (30k) cho KH có hóa đơn > mean\n",
    "pct_mean = np.count_nonzero(ds_tong>median)/ds_tong.size\n",
    "print(pct_mean)\n",
    "\n",
    "# Kỳ vọng những người mua tầm 293k sẽ tăng mua để được freeship\n",
    "# Khả năng bao nhiêu phần trăm số người sẽ tăng mua?\n",
    "pct293k = np.count_nonzero(ds_tong>median-30)/ds_tong.size\n",
    "print(pct293k)\n",
    "print(f\"{100*(pct293k - pct_mean):.2f}%\")"
   ]
  },
  {
   "cell_type": "markdown",
   "id": "bb1829b7",
   "metadata": {},
   "source": [
    "## Dạng phân bố"
   ]
  },
  {
   "cell_type": "code",
   "execution_count": 83,
   "id": "6a5f20b8",
   "metadata": {},
   "outputs": [
    {
     "data": {
      "text/plain": [
       "0.8912303920037631"
      ]
     },
     "execution_count": 83,
     "metadata": {},
     "output_type": "execute_result"
    }
   ],
   "source": [
    "stats.skew(ds_tong)"
   ]
  },
  {
   "cell_type": "code",
   "execution_count": 84,
   "id": "d922e132",
   "metadata": {},
   "outputs": [
    {
     "data": {
      "text/plain": [
       "-0.08746991289329031"
      ]
     },
     "execution_count": 84,
     "metadata": {},
     "output_type": "execute_result"
    }
   ],
   "source": [
    "stats.kurtosis(ds_tong)"
   ]
  },
  {
   "cell_type": "markdown",
   "id": "96a8808d",
   "metadata": {},
   "source": [
    "## Tương quan"
   ]
  },
  {
   "cell_type": "code",
   "execution_count": 92,
   "id": "c2e66913",
   "metadata": {},
   "outputs": [
    {
     "data": {
      "image/png": "[encoded data removed]",
      "text/plain": [
       "<Figure size 432x288 with 1 Axes>"
      ]
     },
     "metadata": {
      "needs_background": "light"
     },
     "output_type": "display_data"
    }
   ],
   "source": [
    "nam = np.array(ds_gt) == \"Nam\"\n",
    "nu = np.array(ds_gt) == \"Nữ\"\n",
    "plt.scatter(ds_tong[nam], ds_rate[nam])\n",
    "plt.scatter(ds_tong[nu], ds_rate[nu])\n",
    "plt.show()"
   ]
  },
  {
   "cell_type": "code",
   "execution_count": 93,
   "id": "dcc55a9e",
   "metadata": {},
   "outputs": [
    {
     "name": "stdout",
     "output_type": "stream",
     "text": [
      "[[60459.598   -15.399]\n",
      " [  -15.399     2.954]]\n"
     ]
    }
   ],
   "source": [
    "print(np.cov(ds_tong, ds_rate))"
   ]
  },
  {
   "cell_type": "code",
   "execution_count": 94,
   "id": "e4f6b2d7",
   "metadata": {},
   "outputs": [
    {
     "name": "stdout",
     "output_type": "stream",
     "text": [
      "[[ 1.    -0.036]\n",
      " [-0.036  1.   ]]\n"
     ]
    }
   ],
   "source": [
    "print(np.corrcoef(ds_tong, ds_rate))"
   ]
  },
  {
   "cell_type": "code",
   "execution_count": null,
   "id": "faa6d198",
   "metadata": {},
   "outputs": [],
   "source": []
  }
 ],
 "metadata": {
  "kernelspec": {
   "display_name": "Python 3 (ipykernel)",
   "language": "python",
   "name": "python3"
  },
  "language_info": {
   "codemirror_mode": {
    "name": "ipython",
    "version": 3
   },
   "file_extension": ".py",
   "mimetype": "text/x-python",
   "name": "python",
   "nbconvert_exporter": "python",
   "pygments_lexer": "ipython3",
   "version": "3.9.7"
  }
 },
 "nbformat": 4,
 "nbformat_minor": 5
}
