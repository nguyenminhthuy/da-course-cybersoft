{
 "cells": [
  {
   "cell_type": "code",
   "execution_count": 1,
   "id": "2eac2f54",
   "metadata": {},
   "outputs": [],
   "source": [
    "import pandas as pd\n",
    "import numpy as np\n",
    "import seaborn as sns\n",
    "from matplotlib import pyplot as plt\n",
    "import ipywidgets as widgets"
   ]
  },
  {
   "cell_type": "markdown",
   "id": "106e1ef9",
   "metadata": {},
   "source": [
    "# Demo: Hiển thị các Aisles, Department theo lựa chọn"
   ]
  },
  {
   "cell_type": "markdown",
   "id": "0327c830",
   "metadata": {},
   "source": [
    "# 1. Đọc dữ liệu"
   ]
  },
  {
   "cell_type": "code",
   "execution_count": 3,
   "id": "7504ab43",
   "metadata": {},
   "outputs": [
    {
     "data": {
      "text/html": [
       "<div>\n",
       "<style scoped>\n",
       "    .dataframe tbody tr th:only-of-type {\n",
       "        vertical-align: middle;\n",
       "    }\n",
       "\n",
       "    .dataframe tbody tr th {\n",
       "        vertical-align: top;\n",
       "    }\n",
       "\n",
       "    .dataframe thead th {\n",
       "        text-align: right;\n",
       "    }\n",
       "</style>\n",
       "<table border=\"1\" class=\"dataframe\">\n",
       "  <thead>\n",
       "    <tr style=\"text-align: right;\">\n",
       "      <th></th>\n",
       "      <th>aisle_id</th>\n",
       "      <th>counts</th>\n",
       "      <th>aisle</th>\n",
       "      <th>department_id</th>\n",
       "      <th>department</th>\n",
       "    </tr>\n",
       "  </thead>\n",
       "  <tbody>\n",
       "    <tr>\n",
       "      <th>0</th>\n",
       "      <td>1</td>\n",
       "      <td>15632</td>\n",
       "      <td>prepared soups salads</td>\n",
       "      <td>20</td>\n",
       "      <td>deli</td>\n",
       "    </tr>\n",
       "    <tr>\n",
       "      <th>1</th>\n",
       "      <td>13</td>\n",
       "      <td>21357</td>\n",
       "      <td>prepared meals</td>\n",
       "      <td>20</td>\n",
       "      <td>deli</td>\n",
       "    </tr>\n",
       "    <tr>\n",
       "      <th>2</th>\n",
       "      <td>14</td>\n",
       "      <td>28085</td>\n",
       "      <td>tofu meat alternatives</td>\n",
       "      <td>20</td>\n",
       "      <td>deli</td>\n",
       "    </tr>\n",
       "    <tr>\n",
       "      <th>3</th>\n",
       "      <td>67</td>\n",
       "      <td>76837</td>\n",
       "      <td>fresh dips tapenades</td>\n",
       "      <td>20</td>\n",
       "      <td>deli</td>\n",
       "    </tr>\n",
       "    <tr>\n",
       "      <th>4</th>\n",
       "      <td>96</td>\n",
       "      <td>85093</td>\n",
       "      <td>lunch meat</td>\n",
       "      <td>20</td>\n",
       "      <td>deli</td>\n",
       "    </tr>\n",
       "  </tbody>\n",
       "</table>\n",
       "</div>"
      ],
      "text/plain": [
       "   aisle_id  counts                   aisle  department_id department\n",
       "0         1   15632   prepared soups salads             20       deli\n",
       "1        13   21357          prepared meals             20       deli\n",
       "2        14   28085  tofu meat alternatives             20       deli\n",
       "3        67   76837    fresh dips tapenades             20       deli\n",
       "4        96   85093              lunch meat             20       deli"
      ]
     },
     "execution_count": 3,
     "metadata": {},
     "output_type": "execute_result"
    }
   ],
   "source": [
    "# Đọc kết quả đã phân tích trước đó\n",
    "df = pd.read_csv('../data/aisle_deparment_counts.csv')\n",
    "df.head(5)"
   ]
  },
  {
   "cell_type": "code",
   "execution_count": 4,
   "id": "7c2f81e8",
   "metadata": {},
   "outputs": [
    {
     "name": "stdout",
     "output_type": "stream",
     "text": [
      "<class 'pandas.core.frame.DataFrame'>\n",
      "RangeIndex: 134 entries, 0 to 133\n",
      "Data columns (total 5 columns):\n",
      " #   Column         Non-Null Count  Dtype \n",
      "---  ------         --------------  ----- \n",
      " 0   aisle_id       134 non-null    int64 \n",
      " 1   counts         134 non-null    int64 \n",
      " 2   aisle          134 non-null    object\n",
      " 3   department_id  134 non-null    int64 \n",
      " 4   department     134 non-null    object\n",
      "dtypes: int64(3), object(2)\n",
      "memory usage: 5.4+ KB\n"
     ]
    }
   ],
   "source": [
    "df.info()"
   ]
  },
  {
   "cell_type": "markdown",
   "id": "e2372f1a",
   "metadata": {},
   "source": [
    "# 2. Thử vẽ biểu đồ Bar & Treemap cho 20 + 1 aisle"
   ]
  },
  {
   "cell_type": "markdown",
   "id": "d678e8c3",
   "metadata": {},
   "source": [
    "**Tạo bảng dữ liệu: 20 aisles nhiều nhất và phần còn lại**"
   ]
  },
  {
   "cell_type": "code",
   "execution_count": 5,
   "id": "75daee79",
   "metadata": {},
   "outputs": [
    {
     "data": {
      "text/html": [
       "<div>\n",
       "<style scoped>\n",
       "    .dataframe tbody tr th:only-of-type {\n",
       "        vertical-align: middle;\n",
       "    }\n",
       "\n",
       "    .dataframe tbody tr th {\n",
       "        vertical-align: top;\n",
       "    }\n",
       "\n",
       "    .dataframe thead th {\n",
       "        text-align: right;\n",
       "    }\n",
       "</style>\n",
       "<table border=\"1\" class=\"dataframe\">\n",
       "  <thead>\n",
       "    <tr style=\"text-align: right;\">\n",
       "      <th></th>\n",
       "      <th>aisle_id</th>\n",
       "      <th>counts</th>\n",
       "      <th>aisle</th>\n",
       "      <th>department_id</th>\n",
       "      <th>department</th>\n",
       "    </tr>\n",
       "  </thead>\n",
       "  <tbody>\n",
       "    <tr>\n",
       "      <th>0</th>\n",
       "      <td>24</td>\n",
       "      <td>786888</td>\n",
       "      <td>fresh fruits</td>\n",
       "      <td>4</td>\n",
       "      <td>produce</td>\n",
       "    </tr>\n",
       "    <tr>\n",
       "      <th>1</th>\n",
       "      <td>83</td>\n",
       "      <td>737374</td>\n",
       "      <td>fresh vegetables</td>\n",
       "      <td>4</td>\n",
       "      <td>produce</td>\n",
       "    </tr>\n",
       "    <tr>\n",
       "      <th>2</th>\n",
       "      <td>123</td>\n",
       "      <td>381575</td>\n",
       "      <td>packaged vegetables fruits</td>\n",
       "      <td>4</td>\n",
       "      <td>produce</td>\n",
       "    </tr>\n",
       "    <tr>\n",
       "      <th>3</th>\n",
       "      <td>120</td>\n",
       "      <td>313279</td>\n",
       "      <td>yogurt</td>\n",
       "      <td>16</td>\n",
       "      <td>dairy eggs</td>\n",
       "    </tr>\n",
       "    <tr>\n",
       "      <th>4</th>\n",
       "      <td>21</td>\n",
       "      <td>211480</td>\n",
       "      <td>packaged cheese</td>\n",
       "      <td>16</td>\n",
       "      <td>dairy eggs</td>\n",
       "    </tr>\n",
       "  </tbody>\n",
       "</table>\n",
       "</div>"
      ],
      "text/plain": [
       "   aisle_id  counts                       aisle  department_id  department\n",
       "0        24  786888                fresh fruits              4     produce\n",
       "1        83  737374            fresh vegetables              4     produce\n",
       "2       123  381575  packaged vegetables fruits              4     produce\n",
       "3       120  313279                      yogurt             16  dairy eggs\n",
       "4        21  211480             packaged cheese             16  dairy eggs"
      ]
     },
     "execution_count": 5,
     "metadata": {},
     "output_type": "execute_result"
    }
   ],
   "source": [
    "# Sắp xếp theo số các sản phẩm đã bán được\n",
    "df = df.sort_values('counts', ascending=False)\n",
    "df.reset_index(drop=True, inplace=True)\n",
    "df.head()"
   ]
  },
  {
   "cell_type": "code",
   "execution_count": 6,
   "id": "d02dc228",
   "metadata": {
    "scrolled": false
   },
   "outputs": [
    {
     "name": "stdout",
     "output_type": "stream",
     "text": [
      "2802620\n"
     ]
    },
    {
     "name": "stderr",
     "output_type": "stream",
     "text": [
      "C:\\Users\\NguyenMinhThuy\\AppData\\Local\\Temp\\ipykernel_12300\\1907854206.py:8: FutureWarning: The frame.append method is deprecated and will be removed from pandas in a future version. Use pandas.concat instead.\n",
      "  df1 = df1.append(other, ignore_index=True)\n"
     ]
    },
    {
     "data": {
      "text/html": [
       "<div>\n",
       "<style scoped>\n",
       "    .dataframe tbody tr th:only-of-type {\n",
       "        vertical-align: middle;\n",
       "    }\n",
       "\n",
       "    .dataframe tbody tr th {\n",
       "        vertical-align: top;\n",
       "    }\n",
       "\n",
       "    .dataframe thead th {\n",
       "        text-align: right;\n",
       "    }\n",
       "</style>\n",
       "<table border=\"1\" class=\"dataframe\">\n",
       "  <thead>\n",
       "    <tr style=\"text-align: right;\">\n",
       "      <th></th>\n",
       "      <th>counts</th>\n",
       "      <th>aisle</th>\n",
       "    </tr>\n",
       "  </thead>\n",
       "  <tbody>\n",
       "    <tr>\n",
       "      <th>0</th>\n",
       "      <td>786888</td>\n",
       "      <td>fresh fruits</td>\n",
       "    </tr>\n",
       "    <tr>\n",
       "      <th>1</th>\n",
       "      <td>737374</td>\n",
       "      <td>fresh vegetables</td>\n",
       "    </tr>\n",
       "    <tr>\n",
       "      <th>2</th>\n",
       "      <td>381575</td>\n",
       "      <td>packaged vegetables fruits</td>\n",
       "    </tr>\n",
       "    <tr>\n",
       "      <th>3</th>\n",
       "      <td>313279</td>\n",
       "      <td>yogurt</td>\n",
       "    </tr>\n",
       "    <tr>\n",
       "      <th>4</th>\n",
       "      <td>211480</td>\n",
       "      <td>packaged cheese</td>\n",
       "    </tr>\n",
       "    <tr>\n",
       "      <th>5</th>\n",
       "      <td>192052</td>\n",
       "      <td>milk</td>\n",
       "    </tr>\n",
       "    <tr>\n",
       "      <th>6</th>\n",
       "      <td>181060</td>\n",
       "      <td>water seltzer sparkling water</td>\n",
       "    </tr>\n",
       "    <tr>\n",
       "      <th>7</th>\n",
       "      <td>156875</td>\n",
       "      <td>chips pretzels</td>\n",
       "    </tr>\n",
       "    <tr>\n",
       "      <th>8</th>\n",
       "      <td>138111</td>\n",
       "      <td>soy lactosefree</td>\n",
       "    </tr>\n",
       "    <tr>\n",
       "      <th>9</th>\n",
       "      <td>125989</td>\n",
       "      <td>bread</td>\n",
       "    </tr>\n",
       "    <tr>\n",
       "      <th>10</th>\n",
       "      <td>124003</td>\n",
       "      <td>refrigerated</td>\n",
       "    </tr>\n",
       "    <tr>\n",
       "      <th>11</th>\n",
       "      <td>113088</td>\n",
       "      <td>frozen produce</td>\n",
       "    </tr>\n",
       "    <tr>\n",
       "      <th>12</th>\n",
       "      <td>107104</td>\n",
       "      <td>ice cream ice</td>\n",
       "    </tr>\n",
       "    <tr>\n",
       "      <th>13</th>\n",
       "      <td>98691</td>\n",
       "      <td>crackers</td>\n",
       "    </tr>\n",
       "    <tr>\n",
       "      <th>14</th>\n",
       "      <td>98222</td>\n",
       "      <td>energy granola bars</td>\n",
       "    </tr>\n",
       "    <tr>\n",
       "      <th>15</th>\n",
       "      <td>97746</td>\n",
       "      <td>eggs</td>\n",
       "    </tr>\n",
       "    <tr>\n",
       "      <th>16</th>\n",
       "      <td>85093</td>\n",
       "      <td>lunch meat</td>\n",
       "    </tr>\n",
       "    <tr>\n",
       "      <th>17</th>\n",
       "      <td>84205</td>\n",
       "      <td>frozen meals</td>\n",
       "    </tr>\n",
       "    <tr>\n",
       "      <th>18</th>\n",
       "      <td>83167</td>\n",
       "      <td>baby food formula</td>\n",
       "    </tr>\n",
       "    <tr>\n",
       "      <th>19</th>\n",
       "      <td>81378</td>\n",
       "      <td>fresh herbs</td>\n",
       "    </tr>\n",
       "    <tr>\n",
       "      <th>20</th>\n",
       "      <td>2802620</td>\n",
       "      <td>others</td>\n",
       "    </tr>\n",
       "  </tbody>\n",
       "</table>\n",
       "</div>"
      ],
      "text/plain": [
       "     counts                          aisle\n",
       "0    786888                   fresh fruits\n",
       "1    737374               fresh vegetables\n",
       "2    381575     packaged vegetables fruits\n",
       "3    313279                         yogurt\n",
       "4    211480                packaged cheese\n",
       "5    192052                           milk\n",
       "6    181060  water seltzer sparkling water\n",
       "7    156875                 chips pretzels\n",
       "8    138111                soy lactosefree\n",
       "9    125989                          bread\n",
       "10   124003                   refrigerated\n",
       "11   113088                 frozen produce\n",
       "12   107104                  ice cream ice\n",
       "13    98691                       crackers\n",
       "14    98222            energy granola bars\n",
       "15    97746                           eggs\n",
       "16    85093                     lunch meat\n",
       "17    84205                   frozen meals\n",
       "18    83167              baby food formula\n",
       "19    81378                    fresh herbs\n",
       "20  2802620                         others"
      ]
     },
     "execution_count": 6,
     "metadata": {},
     "output_type": "execute_result"
    }
   ],
   "source": [
    "# Lấy ra 20 aisles có số lượng bán nhiều nhất, phần còn lại gom thành 1 nhóm riêng\n",
    "N = 20\n",
    "df1 = df[['counts', 'aisle']][0:N]\n",
    "other_count = df['counts'][N:].sum()\n",
    "print(other_count)\n",
    "\n",
    "other = pd.DataFrame({'counts': [other_count], 'aisle': ['others']})\n",
    "df1 = df1.append(other, ignore_index=True)\n",
    "df1"
   ]
  },
  {
   "cell_type": "markdown",
   "id": "b729d855",
   "metadata": {},
   "source": [
    "**Vẽ biểu đồ cột**"
   ]
  },
  {
   "cell_type": "code",
   "execution_count": 7,
   "id": "ebfb6752",
   "metadata": {},
   "outputs": [
    {
     "data": {
      "image/png": "[encoded data removed]",
      "text/plain": [
       "<Figure size 800x500 with 1 Axes>"
      ]
     },
     "metadata": {},
     "output_type": "display_data"
    }
   ],
   "source": [
    "df1.plot.bar(y='counts', color='green', alpha=0.7, figsize=(8,5))\n",
    "plt.xticks(df1.index, df1['aisle'], rotation=-60, ha='left')\n",
    "plt.show()\n",
    "plt.close('all')"
   ]
  },
  {
   "cell_type": "markdown",
   "id": "580874b8",
   "metadata": {},
   "source": [
    "**Vẽ biểu đồ Tree-Map**"
   ]
  },
  {
   "cell_type": "code",
   "execution_count": 8,
   "id": "754e63fa",
   "metadata": {
    "scrolled": true
   },
   "outputs": [
    {
     "data": {
      "image/png": "[encoded data removed]",
      "text/plain": [
       "<Figure size 1200x500 with 1 Axes>"
      ]
     },
     "metadata": {},
     "output_type": "display_data"
    }
   ],
   "source": [
    "import squarify\n",
    "fig,ax=plt.subplots(figsize=(12,5))\n",
    "squarify.plot(sizes=df1['counts'], label=df1['aisle'])\n",
    "plt.axis('off')\n",
    "plt.show()\n",
    "plt.close('all')"
   ]
  },
  {
   "cell_type": "markdown",
   "id": "8bf37dae",
   "metadata": {},
   "source": [
    "# 3. Tạo hàm vẽ Treemap, cho phép chọn N"
   ]
  },
  {
   "cell_type": "code",
   "execution_count": 9,
   "id": "253854d7",
   "metadata": {},
   "outputs": [
    {
     "data": {
      "application/vnd.jupyter.widget-view+json": {
       "model_id": "7146932390034073b455c20d90646165",
       "version_major": 2,
       "version_minor": 0
      },
      "text/plain": [
       "interactive(children=(IntSlider(value=20, description='N', max=30, min=10, step=2), Output()), _dom_classes=('…"
      ]
     },
     "metadata": {},
     "output_type": "display_data"
    }
   ],
   "source": [
    "@widgets.interact(N = (10,30,2)) # 10-30, step =2\n",
    "def VeTreemap(N = 20):\n",
    "    df2 = df[['counts', 'aisle']][0:N]\n",
    "    other = pd.DataFrame({'counts': [df['counts'][N:].sum()], 'aisle': ['others']})\n",
    "    df2 = df2.append(other, ignore_index=True)\n",
    "\n",
    "    fig,ax=plt.subplots(figsize=(15,7))\n",
    "    squarify.plot(sizes=df2['counts'], label=df2['aisle'])\n",
    "    plt.axis('off')\n",
    "    plt.show()\n",
    "    plt.close('all')"
   ]
  },
  {
   "cell_type": "code",
   "execution_count": 10,
   "id": "1744b383",
   "metadata": {},
   "outputs": [
    {
     "name": "stderr",
     "output_type": "stream",
     "text": [
      "C:\\Users\\NguyenMinhThuy\\AppData\\Local\\Temp\\ipykernel_12300\\4162013004.py:5: FutureWarning: The frame.append method is deprecated and will be removed from pandas in a future version. Use pandas.concat instead.\n",
      "  df2 = df2.append(other, ignore_index=True)\n"
     ]
    },
    {
     "data": {
      "image/png": "[encoded data removed]",
      "text/plain": [
       "<Figure size 1500x700 with 1 Axes>"
      ]
     },
     "metadata": {},
     "output_type": "display_data"
    }
   ],
   "source": [
    "VeTreemap(N=15)"
   ]
  },
  {
   "cell_type": "markdown",
   "id": "eea67850",
   "metadata": {},
   "source": [
    "# 4. Vẽ biểu đồ treemap cho các Deparment"
   ]
  },
  {
   "cell_type": "markdown",
   "id": "779d3a46",
   "metadata": {},
   "source": [
    "**Sắp xếp các Departments theo số lượng đã bán**"
   ]
  },
  {
   "cell_type": "code",
   "execution_count": 11,
   "id": "54ff0354",
   "metadata": {},
   "outputs": [
    {
     "data": {
      "text/html": [
       "<div>\n",
       "<style scoped>\n",
       "    .dataframe tbody tr th:only-of-type {\n",
       "        vertical-align: middle;\n",
       "    }\n",
       "\n",
       "    .dataframe tbody tr th {\n",
       "        vertical-align: top;\n",
       "    }\n",
       "\n",
       "    .dataframe thead th {\n",
       "        text-align: right;\n",
       "    }\n",
       "</style>\n",
       "<table border=\"1\" class=\"dataframe\">\n",
       "  <thead>\n",
       "    <tr style=\"text-align: right;\">\n",
       "      <th></th>\n",
       "      <th>department</th>\n",
       "      <th>counts</th>\n",
       "    </tr>\n",
       "  </thead>\n",
       "  <tbody>\n",
       "    <tr>\n",
       "      <th>0</th>\n",
       "      <td>produce</td>\n",
       "      <td>2046990</td>\n",
       "    </tr>\n",
       "    <tr>\n",
       "      <th>1</th>\n",
       "      <td>dairy eggs</td>\n",
       "      <td>1168475</td>\n",
       "    </tr>\n",
       "    <tr>\n",
       "      <th>2</th>\n",
       "      <td>snacks</td>\n",
       "      <td>623318</td>\n",
       "    </tr>\n",
       "    <tr>\n",
       "      <th>3</th>\n",
       "      <td>beverages</td>\n",
       "      <td>579862</td>\n",
       "    </tr>\n",
       "    <tr>\n",
       "      <th>4</th>\n",
       "      <td>frozen</td>\n",
       "      <td>482633</td>\n",
       "    </tr>\n",
       "    <tr>\n",
       "      <th>5</th>\n",
       "      <td>pantry</td>\n",
       "      <td>404730</td>\n",
       "    </tr>\n",
       "    <tr>\n",
       "      <th>6</th>\n",
       "      <td>bakery</td>\n",
       "      <td>253775</td>\n",
       "    </tr>\n",
       "    <tr>\n",
       "      <th>7</th>\n",
       "      <td>canned goods</td>\n",
       "      <td>230207</td>\n",
       "    </tr>\n",
       "    <tr>\n",
       "      <th>8</th>\n",
       "      <td>deli</td>\n",
       "      <td>227004</td>\n",
       "    </tr>\n",
       "    <tr>\n",
       "      <th>9</th>\n",
       "      <td>dry goods pasta</td>\n",
       "      <td>186861</td>\n",
       "    </tr>\n",
       "    <tr>\n",
       "      <th>10</th>\n",
       "      <td>household</td>\n",
       "      <td>159027</td>\n",
       "    </tr>\n",
       "    <tr>\n",
       "      <th>11</th>\n",
       "      <td>breakfast</td>\n",
       "      <td>153218</td>\n",
       "    </tr>\n",
       "    <tr>\n",
       "      <th>12</th>\n",
       "      <td>meat seafood</td>\n",
       "      <td>152797</td>\n",
       "    </tr>\n",
       "    <tr>\n",
       "      <th>13</th>\n",
       "      <td>personal care</td>\n",
       "      <td>96370</td>\n",
       "    </tr>\n",
       "    <tr>\n",
       "      <th>14</th>\n",
       "      <td>babies</td>\n",
       "      <td>92045</td>\n",
       "    </tr>\n",
       "    <tr>\n",
       "      <th>15</th>\n",
       "      <td>international</td>\n",
       "      <td>58249</td>\n",
       "    </tr>\n",
       "    <tr>\n",
       "      <th>16</th>\n",
       "      <td>alcohol</td>\n",
       "      <td>33418</td>\n",
       "    </tr>\n",
       "    <tr>\n",
       "      <th>17</th>\n",
       "      <td>pets</td>\n",
       "      <td>21220</td>\n",
       "    </tr>\n",
       "    <tr>\n",
       "      <th>18</th>\n",
       "      <td>missing</td>\n",
       "      <td>14748</td>\n",
       "    </tr>\n",
       "    <tr>\n",
       "      <th>19</th>\n",
       "      <td>other</td>\n",
       "      <td>7639</td>\n",
       "    </tr>\n",
       "    <tr>\n",
       "      <th>20</th>\n",
       "      <td>bulk</td>\n",
       "      <td>7414</td>\n",
       "    </tr>\n",
       "  </tbody>\n",
       "</table>\n",
       "</div>"
      ],
      "text/plain": [
       "         department   counts\n",
       "0           produce  2046990\n",
       "1        dairy eggs  1168475\n",
       "2            snacks   623318\n",
       "3         beverages   579862\n",
       "4            frozen   482633\n",
       "5            pantry   404730\n",
       "6            bakery   253775\n",
       "7      canned goods   230207\n",
       "8              deli   227004\n",
       "9   dry goods pasta   186861\n",
       "10        household   159027\n",
       "11        breakfast   153218\n",
       "12     meat seafood   152797\n",
       "13    personal care    96370\n",
       "14           babies    92045\n",
       "15    international    58249\n",
       "16          alcohol    33418\n",
       "17             pets    21220\n",
       "18          missing    14748\n",
       "19            other     7639\n",
       "20             bulk     7414"
      ]
     },
     "execution_count": 11,
     "metadata": {},
     "output_type": "execute_result"
    }
   ],
   "source": [
    "df_d = df[['department','counts']].groupby('department').sum()\n",
    "df_d = df_d.sort_values('counts', ascending=False)\n",
    "df_d.reset_index(inplace=True)\n",
    "df_d"
   ]
  },
  {
   "cell_type": "markdown",
   "id": "24650002",
   "metadata": {},
   "source": [
    "**Thử chọn ra 10 deparment bán được nhiều nhất và tính tổng phần còn lại**"
   ]
  },
  {
   "cell_type": "code",
   "execution_count": 12,
   "id": "b8d2aac2",
   "metadata": {},
   "outputs": [
    {
     "name": "stderr",
     "output_type": "stream",
     "text": [
      "C:\\Users\\NguyenMinhThuy\\AppData\\Local\\Temp\\ipykernel_12300\\1677721652.py:7: FutureWarning: The frame.append method is deprecated and will be removed from pandas in a future version. Use pandas.concat instead.\n",
      "  df2 = df2.append(other, ignore_index=True)\n"
     ]
    },
    {
     "data": {
      "text/html": [
       "<div>\n",
       "<style scoped>\n",
       "    .dataframe tbody tr th:only-of-type {\n",
       "        vertical-align: middle;\n",
       "    }\n",
       "\n",
       "    .dataframe tbody tr th {\n",
       "        vertical-align: top;\n",
       "    }\n",
       "\n",
       "    .dataframe thead th {\n",
       "        text-align: right;\n",
       "    }\n",
       "</style>\n",
       "<table border=\"1\" class=\"dataframe\">\n",
       "  <thead>\n",
       "    <tr style=\"text-align: right;\">\n",
       "      <th></th>\n",
       "      <th>counts</th>\n",
       "      <th>department</th>\n",
       "    </tr>\n",
       "  </thead>\n",
       "  <tbody>\n",
       "    <tr>\n",
       "      <th>0</th>\n",
       "      <td>2046990</td>\n",
       "      <td>produce</td>\n",
       "    </tr>\n",
       "    <tr>\n",
       "      <th>1</th>\n",
       "      <td>1168475</td>\n",
       "      <td>dairy eggs</td>\n",
       "    </tr>\n",
       "    <tr>\n",
       "      <th>2</th>\n",
       "      <td>623318</td>\n",
       "      <td>snacks</td>\n",
       "    </tr>\n",
       "    <tr>\n",
       "      <th>3</th>\n",
       "      <td>579862</td>\n",
       "      <td>beverages</td>\n",
       "    </tr>\n",
       "    <tr>\n",
       "      <th>4</th>\n",
       "      <td>482633</td>\n",
       "      <td>frozen</td>\n",
       "    </tr>\n",
       "    <tr>\n",
       "      <th>5</th>\n",
       "      <td>404730</td>\n",
       "      <td>pantry</td>\n",
       "    </tr>\n",
       "    <tr>\n",
       "      <th>6</th>\n",
       "      <td>253775</td>\n",
       "      <td>bakery</td>\n",
       "    </tr>\n",
       "    <tr>\n",
       "      <th>7</th>\n",
       "      <td>230207</td>\n",
       "      <td>canned goods</td>\n",
       "    </tr>\n",
       "    <tr>\n",
       "      <th>8</th>\n",
       "      <td>227004</td>\n",
       "      <td>deli</td>\n",
       "    </tr>\n",
       "    <tr>\n",
       "      <th>9</th>\n",
       "      <td>186861</td>\n",
       "      <td>dry goods pasta</td>\n",
       "    </tr>\n",
       "    <tr>\n",
       "      <th>10</th>\n",
       "      <td>796145</td>\n",
       "      <td>others</td>\n",
       "    </tr>\n",
       "  </tbody>\n",
       "</table>\n",
       "</div>"
      ],
      "text/plain": [
       "     counts       department\n",
       "0   2046990          produce\n",
       "1   1168475       dairy eggs\n",
       "2    623318           snacks\n",
       "3    579862        beverages\n",
       "4    482633           frozen\n",
       "5    404730           pantry\n",
       "6    253775           bakery\n",
       "7    230207     canned goods\n",
       "8    227004             deli\n",
       "9    186861  dry goods pasta\n",
       "10   796145           others"
      ]
     },
     "execution_count": 12,
     "metadata": {},
     "output_type": "execute_result"
    }
   ],
   "source": [
    "N=10\n",
    "df2 = df_d[['counts', 'department']][0:N]\n",
    "other = pd.DataFrame({'counts': [df_d['counts'][N:].sum()], \n",
    "                      'department': ['others']}\n",
    "                    )\n",
    "\n",
    "df2 = df2.append(other, ignore_index=True)\n",
    "df2"
   ]
  },
  {
   "cell_type": "markdown",
   "id": "2c31c179",
   "metadata": {},
   "source": [
    "**Tạo widgets để vẽ Treemap**"
   ]
  },
  {
   "cell_type": "code",
   "execution_count": 13,
   "id": "5a7c442e",
   "metadata": {},
   "outputs": [
    {
     "data": {
      "application/vnd.jupyter.widget-view+json": {
       "model_id": "b35ad1d410604e2fa3df2e499a47c7e8",
       "version_major": 2,
       "version_minor": 0
      },
      "text/plain": [
       "interactive(children=(IntSlider(value=10, description='N', max=20, min=10), Output()), _dom_classes=('widget-i…"
      ]
     },
     "metadata": {},
     "output_type": "display_data"
    }
   ],
   "source": [
    "@widgets.interact(N = (10,20,1))\n",
    "def VeTreemap(N = 10):\n",
    "    df2 = df_d[['counts', 'department']][0:N]\n",
    "    \n",
    "    other_count = df_d['counts'][N:].sum()\n",
    "    other = pd.DataFrame({'counts': [other_count], 'department': ['others']})\n",
    "    df2 = df2.append(other, ignore_index=True)\n",
    "    \n",
    "    fig,ax=plt.subplots(figsize=(12,5))\n",
    "    squarify.plot(sizes=df2['counts'], label=df2['department'])\n",
    "    plt.axis('off')\n",
    "    plt.show()\n",
    "    plt.close('all')"
   ]
  },
  {
   "cell_type": "code",
   "execution_count": 14,
   "id": "c076cc89",
   "metadata": {},
   "outputs": [
    {
     "data": {
      "application/vnd.jupyter.widget-view+json": {
       "model_id": "31038ee7cc3c41c6aae46026582cdff3",
       "version_major": 2,
       "version_minor": 0
      },
      "text/plain": [
       "interactive(children=(IntSlider(value=10, description='N', max=20, min=10), Dropdown(description='ColorMap', o…"
      ]
     },
     "metadata": {},
     "output_type": "display_data"
    }
   ],
   "source": [
    "# Thêm widget để chọn bảng màu\n",
    "cmaps = ['tab20', 'tab20b', 'viridis', 'YlOrRd', 'prism']\n",
    "\n",
    "@widgets.interact(N = (10,20,1), ColorMap=cmaps)\n",
    "def VeTreemap(N = 10, ColorMap=None):\n",
    "    df2 = df_d[['counts', 'department']][0:N]\n",
    "    \n",
    "    other_count = df_d['counts'][N:].sum()\n",
    "    other = pd.DataFrame({'counts': [other_count], 'department': ['others']})\n",
    "    df2 = df2.append(other, ignore_index=True)\n",
    "    \n",
    "    if ColorMap:\n",
    "        cmap=plt.get_cmap(ColorMap)\n",
    "        colors = [cmap(v) for v in np.linspace(0,1,N)][::-1]\n",
    "    else: colors = None\n",
    "\n",
    "    fig,ax=plt.subplots(figsize=(12,5))\n",
    "    squarify.plot(sizes=df2['counts'], label=df2['department'], color=colors)\n",
    "    plt.axis('off')\n",
    "    plt.show()\n",
    "    plt.close('all')"
   ]
  },
  {
   "cell_type": "markdown",
   "id": "fda098f8",
   "metadata": {},
   "source": [
    "# 5. Vẽ biểu đồ cho phép chọn từng department"
   ]
  },
  {
   "cell_type": "markdown",
   "id": "14ed8e0d",
   "metadata": {},
   "source": [
    "**Chuẩn bị dữ liệu**"
   ]
  },
  {
   "cell_type": "code",
   "execution_count": 15,
   "id": "1123c03e",
   "metadata": {},
   "outputs": [
    {
     "data": {
      "text/html": [
       "<div>\n",
       "<style scoped>\n",
       "    .dataframe tbody tr th:only-of-type {\n",
       "        vertical-align: middle;\n",
       "    }\n",
       "\n",
       "    .dataframe tbody tr th {\n",
       "        vertical-align: top;\n",
       "    }\n",
       "\n",
       "    .dataframe thead th {\n",
       "        text-align: right;\n",
       "    }\n",
       "</style>\n",
       "<table border=\"1\" class=\"dataframe\">\n",
       "  <thead>\n",
       "    <tr style=\"text-align: right;\">\n",
       "      <th></th>\n",
       "      <th></th>\n",
       "      <th>counts</th>\n",
       "    </tr>\n",
       "    <tr>\n",
       "      <th>department</th>\n",
       "      <th>aisle</th>\n",
       "      <th></th>\n",
       "    </tr>\n",
       "  </thead>\n",
       "  <tbody>\n",
       "    <tr>\n",
       "      <th rowspan=\"5\" valign=\"top\">alcohol</th>\n",
       "      <th>beers coolers</th>\n",
       "      <td>10609</td>\n",
       "    </tr>\n",
       "    <tr>\n",
       "      <th>red wines</th>\n",
       "      <td>7823</td>\n",
       "    </tr>\n",
       "    <tr>\n",
       "      <th>specialty wines champagnes</th>\n",
       "      <td>2413</td>\n",
       "    </tr>\n",
       "    <tr>\n",
       "      <th>spirits</th>\n",
       "      <td>5939</td>\n",
       "    </tr>\n",
       "    <tr>\n",
       "      <th>white wines</th>\n",
       "      <td>6634</td>\n",
       "    </tr>\n",
       "    <tr>\n",
       "      <th>...</th>\n",
       "      <th>...</th>\n",
       "      <td>...</td>\n",
       "    </tr>\n",
       "    <tr>\n",
       "      <th rowspan=\"5\" valign=\"top\">snacks</th>\n",
       "      <th>ice cream toppings</th>\n",
       "      <td>2372</td>\n",
       "    </tr>\n",
       "    <tr>\n",
       "      <th>mint gum</th>\n",
       "      <td>4840</td>\n",
       "    </tr>\n",
       "    <tr>\n",
       "      <th>nuts seeds dried fruit</th>\n",
       "      <td>65980</td>\n",
       "    </tr>\n",
       "    <tr>\n",
       "      <th>popcorn jerky</th>\n",
       "      <td>35179</td>\n",
       "    </tr>\n",
       "    <tr>\n",
       "      <th>trail mix snack mix</th>\n",
       "      <td>7686</td>\n",
       "    </tr>\n",
       "  </tbody>\n",
       "</table>\n",
       "<p>134 rows × 1 columns</p>\n",
       "</div>"
      ],
      "text/plain": [
       "                                       counts\n",
       "department aisle                             \n",
       "alcohol    beers coolers                10609\n",
       "           red wines                     7823\n",
       "           specialty wines champagnes    2413\n",
       "           spirits                       5939\n",
       "           white wines                   6634\n",
       "...                                       ...\n",
       "snacks     ice cream toppings            2372\n",
       "           mint gum                      4840\n",
       "           nuts seeds dried fruit       65980\n",
       "           popcorn jerky                35179\n",
       "           trail mix snack mix           7686\n",
       "\n",
       "[134 rows x 1 columns]"
      ]
     },
     "execution_count": 15,
     "metadata": {},
     "output_type": "execute_result"
    }
   ],
   "source": [
    "# Tính ra số lượng sản phẩm đã bán được theo từng aisle của từng department\n",
    "df3 = df[['department', 'aisle', 'counts']].groupby(['department', 'aisle']).sum()\n",
    "df3"
   ]
  },
  {
   "cell_type": "markdown",
   "id": "ad51ba64",
   "metadata": {},
   "source": [
    "**Thử lấy ra một department**"
   ]
  },
  {
   "cell_type": "code",
   "execution_count": 16,
   "id": "06fa2e8a",
   "metadata": {},
   "outputs": [
    {
     "data": {
      "text/html": [
       "<div>\n",
       "<style scoped>\n",
       "    .dataframe tbody tr th:only-of-type {\n",
       "        vertical-align: middle;\n",
       "    }\n",
       "\n",
       "    .dataframe tbody tr th {\n",
       "        vertical-align: top;\n",
       "    }\n",
       "\n",
       "    .dataframe thead th {\n",
       "        text-align: right;\n",
       "    }\n",
       "</style>\n",
       "<table border=\"1\" class=\"dataframe\">\n",
       "  <thead>\n",
       "    <tr style=\"text-align: right;\">\n",
       "      <th></th>\n",
       "      <th>counts</th>\n",
       "    </tr>\n",
       "    <tr>\n",
       "      <th>aisle</th>\n",
       "      <th></th>\n",
       "    </tr>\n",
       "  </thead>\n",
       "  <tbody>\n",
       "    <tr>\n",
       "      <th>beers coolers</th>\n",
       "      <td>10609</td>\n",
       "    </tr>\n",
       "    <tr>\n",
       "      <th>red wines</th>\n",
       "      <td>7823</td>\n",
       "    </tr>\n",
       "    <tr>\n",
       "      <th>specialty wines champagnes</th>\n",
       "      <td>2413</td>\n",
       "    </tr>\n",
       "    <tr>\n",
       "      <th>spirits</th>\n",
       "      <td>5939</td>\n",
       "    </tr>\n",
       "    <tr>\n",
       "      <th>white wines</th>\n",
       "      <td>6634</td>\n",
       "    </tr>\n",
       "  </tbody>\n",
       "</table>\n",
       "</div>"
      ],
      "text/plain": [
       "                            counts\n",
       "aisle                             \n",
       "beers coolers                10609\n",
       "red wines                     7823\n",
       "specialty wines champagnes    2413\n",
       "spirits                       5939\n",
       "white wines                   6634"
      ]
     },
     "execution_count": 16,
     "metadata": {},
     "output_type": "execute_result"
    }
   ],
   "source": [
    "# Dùng hàm 'loc'\n",
    "df3.loc['alcohol']"
   ]
  },
  {
   "cell_type": "code",
   "execution_count": 17,
   "id": "1b043a7b",
   "metadata": {},
   "outputs": [
    {
     "data": {
      "text/html": [
       "<div>\n",
       "<style scoped>\n",
       "    .dataframe tbody tr th:only-of-type {\n",
       "        vertical-align: middle;\n",
       "    }\n",
       "\n",
       "    .dataframe tbody tr th {\n",
       "        vertical-align: top;\n",
       "    }\n",
       "\n",
       "    .dataframe thead th {\n",
       "        text-align: right;\n",
       "    }\n",
       "</style>\n",
       "<table border=\"1\" class=\"dataframe\">\n",
       "  <thead>\n",
       "    <tr style=\"text-align: right;\">\n",
       "      <th></th>\n",
       "      <th>counts</th>\n",
       "    </tr>\n",
       "    <tr>\n",
       "      <th>aisle</th>\n",
       "      <th></th>\n",
       "    </tr>\n",
       "  </thead>\n",
       "  <tbody>\n",
       "    <tr>\n",
       "      <th>beers coolers</th>\n",
       "      <td>10609</td>\n",
       "    </tr>\n",
       "    <tr>\n",
       "      <th>red wines</th>\n",
       "      <td>7823</td>\n",
       "    </tr>\n",
       "    <tr>\n",
       "      <th>specialty wines champagnes</th>\n",
       "      <td>2413</td>\n",
       "    </tr>\n",
       "    <tr>\n",
       "      <th>spirits</th>\n",
       "      <td>5939</td>\n",
       "    </tr>\n",
       "    <tr>\n",
       "      <th>white wines</th>\n",
       "      <td>6634</td>\n",
       "    </tr>\n",
       "  </tbody>\n",
       "</table>\n",
       "</div>"
      ],
      "text/plain": [
       "                            counts\n",
       "aisle                             \n",
       "beers coolers                10609\n",
       "red wines                     7823\n",
       "specialty wines champagnes    2413\n",
       "spirits                       5939\n",
       "white wines                   6634"
      ]
     },
     "execution_count": 17,
     "metadata": {},
     "output_type": "execute_result"
    }
   ],
   "source": [
    "# Cách mới: Dùng hàm slice lấy ra nhóm và droplevel để bỏ đi tên nhóm\n",
    "df3[slice('alcohol')].droplevel(0) # nếu chỉ slice, sẽ lấy luôn index"
   ]
  },
  {
   "cell_type": "markdown",
   "id": "fac61a5d",
   "metadata": {},
   "source": [
    "**Thêm widget để chọn department**"
   ]
  },
  {
   "cell_type": "code",
   "execution_count": 18,
   "id": "4020c0e3",
   "metadata": {},
   "outputs": [
    {
     "data": {
      "application/vnd.jupyter.widget-view+json": {
       "model_id": "e8acb372d93943408f059aba298c3cf9",
       "version_major": 2,
       "version_minor": 0
      },
      "text/plain": [
       "interactive(children=(Dropdown(description='dep_name', options=('produce', 'dairy eggs', 'snacks', 'beverages'…"
      ]
     },
     "metadata": {},
     "output_type": "display_data"
    }
   ],
   "source": [
    "# Chỉ chọn 10 department bán được nhiều sản phẩm nhất\n",
    "dep_list = list(df_d['department'].iloc[0:10].values)\n",
    "\n",
    "@widgets.interact(dep_name=dep_list)\n",
    "def Ve_BD_Theo_Dep(dep_name):\n",
    "    new_df = df3.loc[dep_name].reset_index()\n",
    "    \n",
    "    fig = plt.figure(figsize=(8,5))\n",
    "    ax = sns.barplot(data=new_df, x=new_df.index, y='counts', \n",
    "                palette='bright',\n",
    "               )\n",
    "    ax.set_xticklabels(new_df['aisle'], rotation=-60, ha='left')\n",
    "    plt.title(dep_name)\n",
    "    plt.show()\n",
    "    plt.close('all')\n",
    "#Ve_BD_Theo_Dep('alcohol')"
   ]
  },
  {
   "cell_type": "code",
   "execution_count": null,
   "id": "a3105a15",
   "metadata": {},
   "outputs": [],
   "source": []
  }
 ],
 "metadata": {
  "kernelspec": {
   "display_name": "Python 3 (ipykernel)",
   "language": "python",
   "name": "python3"
  },
  "language_info": {
   "codemirror_mode": {
    "name": "ipython",
    "version": 3
   },
   "file_extension": ".py",
   "mimetype": "text/x-python",
   "name": "python",
   "nbconvert_exporter": "python",
   "pygments_lexer": "ipython3",
   "version": "3.10.9"
  }
 },
 "nbformat": 4,
 "nbformat_minor": 5
}
