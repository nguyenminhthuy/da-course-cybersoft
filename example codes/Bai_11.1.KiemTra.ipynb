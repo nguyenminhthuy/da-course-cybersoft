{
 "cells": [
  {
   "cell_type": "code",
   "execution_count": 24,
   "id": "654d4258",
   "metadata": {},
   "outputs": [
    {
     "data": {
      "text/html": [
       "<style type='text/css'>\n",
       ".CodeMirror{\n",
       "    font-size: 18px;\n",
       "}\n",
       "\n",
       "div.output_area pre {\n",
       "    font-size: 16px;\n",
       "}\n",
       "</style>\n"
      ],
      "text/plain": [
       "<IPython.core.display.HTML object>"
      ]
     },
     "metadata": {},
     "output_type": "display_data"
    }
   ],
   "source": [
    "%%html\n",
    "<style type='text/css'>\n",
    ".CodeMirror{\n",
    "    font-size: 18px;\n",
    "}\n",
    "\n",
    "div.output_area pre {\n",
    "    font-size: 16px;\n",
    "}\n",
    "</style>"
   ]
  },
  {
   "cell_type": "code",
   "execution_count": 25,
   "id": "9bf1b734",
   "metadata": {},
   "outputs": [],
   "source": [
    "import numpy as np\n",
    "import pandas as pd\n",
    "import sqlite3"
   ]
  },
  {
   "cell_type": "markdown",
   "id": "a2a42a86",
   "metadata": {},
   "source": [
    "**Kiểm tra các bảng**"
   ]
  },
  {
   "cell_type": "code",
   "execution_count": 26,
   "id": "136f9409",
   "metadata": {},
   "outputs": [],
   "source": [
    "conn = sqlite3.connect('database/example_da07.db')\n",
    "cursor = conn.cursor()"
   ]
  },
  {
   "cell_type": "code",
   "execution_count": 39,
   "id": "be60de16",
   "metadata": {},
   "outputs": [
    {
     "data": {
      "text/plain": [
       "[('PhongBan',), ('nhanvien',)]"
      ]
     },
     "execution_count": 39,
     "metadata": {},
     "output_type": "execute_result"
    }
   ],
   "source": [
    "cursor.execute(\"SELECT name FROM sqlite_master WHERE type='table';\")\n",
    "res = cursor.fetchall()\n",
    "res"
   ]
  },
  {
   "cell_type": "markdown",
   "id": "5f4b77da",
   "metadata": {},
   "source": [
    "**Kiểm tra bảng `PhongBan`**"
   ]
  },
  {
   "cell_type": "code",
   "execution_count": 35,
   "id": "d095271c",
   "metadata": {},
   "outputs": [
    {
     "name": "stdout",
     "output_type": "stream",
     "text": [
      "[(1, 'Phòng Nhân Sự', None), (4, 'Phong Ke Toan', None)]\n"
     ]
    }
   ],
   "source": [
    "cursor.execute(\"SELECT * FROM phongban\")\n",
    "print(cursor.fetchall())"
   ]
  },
  {
   "cell_type": "code",
   "execution_count": 43,
   "id": "54ecbb35",
   "metadata": {},
   "outputs": [
    {
     "data": {
      "text/html": [
       "<div>\n",
       "<style scoped>\n",
       "    .dataframe tbody tr th:only-of-type {\n",
       "        vertical-align: middle;\n",
       "    }\n",
       "\n",
       "    .dataframe tbody tr th {\n",
       "        vertical-align: top;\n",
       "    }\n",
       "\n",
       "    .dataframe thead th {\n",
       "        text-align: right;\n",
       "    }\n",
       "</style>\n",
       "<table border=\"1\" class=\"dataframe\">\n",
       "  <thead>\n",
       "    <tr style=\"text-align: right;\">\n",
       "      <th></th>\n",
       "      <th>id_phongban</th>\n",
       "      <th>ten</th>\n",
       "      <th>id_truongphong</th>\n",
       "    </tr>\n",
       "  </thead>\n",
       "  <tbody>\n",
       "    <tr>\n",
       "      <th>0</th>\n",
       "      <td>1</td>\n",
       "      <td>Phòng Nhân Sự</td>\n",
       "      <td>NaN</td>\n",
       "    </tr>\n",
       "    <tr>\n",
       "      <th>1</th>\n",
       "      <td>4</td>\n",
       "      <td>Phong Ke Toan</td>\n",
       "      <td>3.0</td>\n",
       "    </tr>\n",
       "    <tr>\n",
       "      <th>2</th>\n",
       "      <td>5</td>\n",
       "      <td>Phong San Xuat</td>\n",
       "      <td>NaN</td>\n",
       "    </tr>\n",
       "    <tr>\n",
       "      <th>3</th>\n",
       "      <td>6</td>\n",
       "      <td>Phong Kinh Doanh - Marketing</td>\n",
       "      <td>NaN</td>\n",
       "    </tr>\n",
       "    <tr>\n",
       "      <th>4</th>\n",
       "      <td>7</td>\n",
       "      <td>Phong Ky Thuat</td>\n",
       "      <td>NaN</td>\n",
       "    </tr>\n",
       "    <tr>\n",
       "      <th>5</th>\n",
       "      <td>8</td>\n",
       "      <td>Phong R&amp;D</td>\n",
       "      <td>NaN</td>\n",
       "    </tr>\n",
       "  </tbody>\n",
       "</table>\n",
       "</div>"
      ],
      "text/plain": [
       "   id_phongban                           ten  id_truongphong\n",
       "0            1                 Phòng Nhân Sự             NaN\n",
       "1            4                 Phong Ke Toan             3.0\n",
       "2            5                Phong San Xuat             NaN\n",
       "3            6  Phong Kinh Doanh - Marketing             NaN\n",
       "4            7                Phong Ky Thuat             NaN\n",
       "5            8                     Phong R&D             NaN"
      ]
     },
     "execution_count": 43,
     "metadata": {},
     "output_type": "execute_result"
    }
   ],
   "source": [
    "cursor.execute(\"SELECT * FROM phongban\")\n",
    "df = pd.DataFrame(cursor.fetchall(), columns=[item[0] for item in cursor.description])\n",
    "df"
   ]
  },
  {
   "cell_type": "markdown",
   "id": "eb6cc356",
   "metadata": {},
   "source": [
    "**Kiểm tra bảng `NhanVien`**"
   ]
  },
  {
   "cell_type": "code",
   "execution_count": 45,
   "id": "9701997d",
   "metadata": {},
   "outputs": [
    {
     "data": {
      "text/html": [
       "<div>\n",
       "<style scoped>\n",
       "    .dataframe tbody tr th:only-of-type {\n",
       "        vertical-align: middle;\n",
       "    }\n",
       "\n",
       "    .dataframe tbody tr th {\n",
       "        vertical-align: top;\n",
       "    }\n",
       "\n",
       "    .dataframe thead th {\n",
       "        text-align: right;\n",
       "    }\n",
       "</style>\n",
       "<table border=\"1\" class=\"dataframe\">\n",
       "  <thead>\n",
       "    <tr style=\"text-align: right;\">\n",
       "      <th></th>\n",
       "      <th>id_nhanvien</th>\n",
       "      <th>ho</th>\n",
       "      <th>ten</th>\n",
       "      <th>email</th>\n",
       "      <th>id_phongban</th>\n",
       "      <th>id_quanly</th>\n",
       "      <th>ngay_batdau</th>\n",
       "      <th>luong</th>\n",
       "    </tr>\n",
       "  </thead>\n",
       "  <tbody>\n",
       "    <tr>\n",
       "      <th>0</th>\n",
       "      <td>1</td>\n",
       "      <td>Tran</td>\n",
       "      <td>Van A</td>\n",
       "      <td>atran@gmail.com</td>\n",
       "      <td>4</td>\n",
       "      <td>3.0</td>\n",
       "      <td>None</td>\n",
       "      <td>15000.0</td>\n",
       "    </tr>\n",
       "    <tr>\n",
       "      <th>1</th>\n",
       "      <td>3</td>\n",
       "      <td>Pham</td>\n",
       "      <td>Van Binh</td>\n",
       "      <td>binhpham12345@gmail.com</td>\n",
       "      <td>4</td>\n",
       "      <td>NaN</td>\n",
       "      <td>None</td>\n",
       "      <td>18000.0</td>\n",
       "    </tr>\n",
       "  </tbody>\n",
       "</table>\n",
       "</div>"
      ],
      "text/plain": [
       "   id_nhanvien    ho       ten                    email  id_phongban  \\\n",
       "0            1  Tran     Van A          atran@gmail.com            4   \n",
       "1            3  Pham  Van Binh  binhpham12345@gmail.com            4   \n",
       "\n",
       "   id_quanly ngay_batdau    luong  \n",
       "0        3.0        None  15000.0  \n",
       "1        NaN        None  18000.0  "
      ]
     },
     "execution_count": 45,
     "metadata": {},
     "output_type": "execute_result"
    }
   ],
   "source": [
    "cursor.execute(\"SELECT * FROM nhanvien\")\n",
    "df = pd.DataFrame(cursor.fetchall(), columns=[item[0] for item in cursor.description])\n",
    "df"
   ]
  },
  {
   "cell_type": "code",
   "execution_count": null,
   "id": "b3715e4f",
   "metadata": {},
   "outputs": [],
   "source": []
  }
 ],
 "metadata": {
  "kernelspec": {
   "display_name": "Python 3 (ipykernel)",
   "language": "python",
   "name": "python3"
  },
  "language_info": {
   "codemirror_mode": {
    "name": "ipython",
    "version": 3
   },
   "file_extension": ".py",
   "mimetype": "text/x-python",
   "name": "python",
   "nbconvert_exporter": "python",
   "pygments_lexer": "ipython3",
   "version": "3.9.7"
  }
 },
 "nbformat": 4,
 "nbformat_minor": 5
}
