{
 "cells": [
  {
   "cell_type": "code",
   "execution_count": 1,
   "id": "9006b339",
   "metadata": {},
   "outputs": [],
   "source": [
    "import numpy as np\n",
    "import pandas as pd"
   ]
  },
  {
   "cell_type": "code",
   "execution_count": 2,
   "id": "26ce6c6d",
   "metadata": {},
   "outputs": [],
   "source": [
    "import sqlite3"
   ]
  },
  {
   "cell_type": "markdown",
   "id": "a3fcf2ea",
   "metadata": {},
   "source": [
    "# 1. Làm quen SQL"
   ]
  },
  {
   "cell_type": "markdown",
   "id": "b2c2bc24",
   "metadata": {},
   "source": [
    "## 1.1. Kết nối CSDL và kiểm tra các bảng thông tin"
   ]
  },
  {
   "cell_type": "code",
   "execution_count": 3,
   "id": "6868e6c0",
   "metadata": {},
   "outputs": [],
   "source": [
    "# Kết nối đế CSDL\n",
    "conn = sqlite3.connect('database/Chinook_Sqlite.sqlite')"
   ]
  },
  {
   "cell_type": "code",
   "execution_count": 4,
   "id": "8525c6c9",
   "metadata": {},
   "outputs": [],
   "source": [
    "# Tạo cursor để thực thi lệnh truy vấn\n",
    "cursor = conn.cursor()"
   ]
  },
  {
   "cell_type": "code",
   "execution_count": 5,
   "id": "412289ea",
   "metadata": {},
   "outputs": [],
   "source": [
    "# Thực thi lệnh và gọi hàm fetchall để trả về toàn bộ kết quả\n",
    "cursor.execute(\"SELECT name FROM sqlite_master WHERE type='table';\")\n",
    "res = cursor.fetchall()"
   ]
  },
  {
   "cell_type": "code",
   "execution_count": 6,
   "id": "cc12784f",
   "metadata": {},
   "outputs": [
    {
     "name": "stdout",
     "output_type": "stream",
     "text": [
      "[('Album',), ('Artist',), ('Customer',), ('Employee',), ('Genre',), ('Invoice',), ('InvoiceLine',), ('MediaType',), ('Playlist',), ('PlaylistTrack',), ('Track',)]\n"
     ]
    }
   ],
   "source": [
    "print(res)"
   ]
  },
  {
   "cell_type": "markdown",
   "id": "e373be56",
   "metadata": {},
   "source": [
    "## 1.2. Kiểm tra thông tin của một bảng "
   ]
  },
  {
   "cell_type": "code",
   "execution_count": 7,
   "id": "ac27a187",
   "metadata": {},
   "outputs": [],
   "source": [
    "# Truy vấn thông tin mô tả của một bảng nào đó\n",
    "cursor.execute(\"PRAGMA table_info(Employee)\")\n",
    "info = cursor.fetchall()"
   ]
  },
  {
   "cell_type": "code",
   "execution_count": 8,
   "id": "d1399ea0",
   "metadata": {},
   "outputs": [
    {
     "data": {
      "text/plain": [
       "[(0, 'EmployeeId', 'INTEGER', 1, None, 1),\n",
       " (1, 'LastName', 'NVARCHAR(20)', 1, None, 0),\n",
       " (2, 'FirstName', 'NVARCHAR(20)', 1, None, 0),\n",
       " (3, 'Title', 'NVARCHAR(30)', 0, None, 0),\n",
       " (4, 'ReportsTo', 'INTEGER', 0, None, 0),\n",
       " (5, 'BirthDate', 'DATETIME', 0, None, 0),\n",
       " (6, 'HireDate', 'DATETIME', 0, None, 0),\n",
       " (7, 'Address', 'NVARCHAR(70)', 0, None, 0),\n",
       " (8, 'City', 'NVARCHAR(40)', 0, None, 0),\n",
       " (9, 'State', 'NVARCHAR(40)', 0, None, 0),\n",
       " (10, 'Country', 'NVARCHAR(40)', 0, None, 0),\n",
       " (11, 'PostalCode', 'NVARCHAR(10)', 0, None, 0),\n",
       " (12, 'Phone', 'NVARCHAR(24)', 0, None, 0),\n",
       " (13, 'Fax', 'NVARCHAR(24)', 0, None, 0),\n",
       " (14, 'Email', 'NVARCHAR(60)', 0, None, 0)]"
      ]
     },
     "execution_count": 8,
     "metadata": {},
     "output_type": "execute_result"
    }
   ],
   "source": [
    "info"
   ]
  },
  {
   "cell_type": "code",
   "execution_count": 9,
   "id": "8ad68072",
   "metadata": {},
   "outputs": [
    {
     "data": {
      "text/plain": [
       "(('cid', None, None, None, None, None, None),\n",
       " ('name', None, None, None, None, None, None),\n",
       " ('type', None, None, None, None, None, None),\n",
       " ('notnull', None, None, None, None, None, None),\n",
       " ('dflt_value', None, None, None, None, None, None),\n",
       " ('pk', None, None, None, None, None, None))"
      ]
     },
     "execution_count": 9,
     "metadata": {},
     "output_type": "execute_result"
    }
   ],
   "source": [
    "# Lấy ra thông tin mô tả chung của truy vấn hiện tại\n",
    "# Lưu ý: 6 giá trị None ở mỗi dòng (thông tin cột) là để \n",
    "#        tương thích với Python DB API\n",
    "#        cid = column id\n",
    "cursor.description"
   ]
  },
  {
   "cell_type": "code",
   "execution_count": 10,
   "id": "1ae40025",
   "metadata": {},
   "outputs": [
    {
     "data": {
      "text/html": [
       "<div>\n",
       "<style scoped>\n",
       "    .dataframe tbody tr th:only-of-type {\n",
       "        vertical-align: middle;\n",
       "    }\n",
       "\n",
       "    .dataframe tbody tr th {\n",
       "        vertical-align: top;\n",
       "    }\n",
       "\n",
       "    .dataframe thead th {\n",
       "        text-align: right;\n",
       "    }\n",
       "</style>\n",
       "<table border=\"1\" class=\"dataframe\">\n",
       "  <thead>\n",
       "    <tr style=\"text-align: right;\">\n",
       "      <th></th>\n",
       "      <th>cid</th>\n",
       "      <th>name</th>\n",
       "      <th>type</th>\n",
       "      <th>notnull</th>\n",
       "      <th>dflt_value</th>\n",
       "      <th>pk</th>\n",
       "    </tr>\n",
       "  </thead>\n",
       "  <tbody>\n",
       "    <tr>\n",
       "      <th>0</th>\n",
       "      <td>0</td>\n",
       "      <td>EmployeeId</td>\n",
       "      <td>INTEGER</td>\n",
       "      <td>1</td>\n",
       "      <td>None</td>\n",
       "      <td>1</td>\n",
       "    </tr>\n",
       "    <tr>\n",
       "      <th>1</th>\n",
       "      <td>1</td>\n",
       "      <td>LastName</td>\n",
       "      <td>NVARCHAR(20)</td>\n",
       "      <td>1</td>\n",
       "      <td>None</td>\n",
       "      <td>0</td>\n",
       "    </tr>\n",
       "    <tr>\n",
       "      <th>2</th>\n",
       "      <td>2</td>\n",
       "      <td>FirstName</td>\n",
       "      <td>NVARCHAR(20)</td>\n",
       "      <td>1</td>\n",
       "      <td>None</td>\n",
       "      <td>0</td>\n",
       "    </tr>\n",
       "    <tr>\n",
       "      <th>3</th>\n",
       "      <td>3</td>\n",
       "      <td>Title</td>\n",
       "      <td>NVARCHAR(30)</td>\n",
       "      <td>0</td>\n",
       "      <td>None</td>\n",
       "      <td>0</td>\n",
       "    </tr>\n",
       "    <tr>\n",
       "      <th>4</th>\n",
       "      <td>4</td>\n",
       "      <td>ReportsTo</td>\n",
       "      <td>INTEGER</td>\n",
       "      <td>0</td>\n",
       "      <td>None</td>\n",
       "      <td>0</td>\n",
       "    </tr>\n",
       "    <tr>\n",
       "      <th>5</th>\n",
       "      <td>5</td>\n",
       "      <td>BirthDate</td>\n",
       "      <td>DATETIME</td>\n",
       "      <td>0</td>\n",
       "      <td>None</td>\n",
       "      <td>0</td>\n",
       "    </tr>\n",
       "    <tr>\n",
       "      <th>6</th>\n",
       "      <td>6</td>\n",
       "      <td>HireDate</td>\n",
       "      <td>DATETIME</td>\n",
       "      <td>0</td>\n",
       "      <td>None</td>\n",
       "      <td>0</td>\n",
       "    </tr>\n",
       "    <tr>\n",
       "      <th>7</th>\n",
       "      <td>7</td>\n",
       "      <td>Address</td>\n",
       "      <td>NVARCHAR(70)</td>\n",
       "      <td>0</td>\n",
       "      <td>None</td>\n",
       "      <td>0</td>\n",
       "    </tr>\n",
       "    <tr>\n",
       "      <th>8</th>\n",
       "      <td>8</td>\n",
       "      <td>City</td>\n",
       "      <td>NVARCHAR(40)</td>\n",
       "      <td>0</td>\n",
       "      <td>None</td>\n",
       "      <td>0</td>\n",
       "    </tr>\n",
       "    <tr>\n",
       "      <th>9</th>\n",
       "      <td>9</td>\n",
       "      <td>State</td>\n",
       "      <td>NVARCHAR(40)</td>\n",
       "      <td>0</td>\n",
       "      <td>None</td>\n",
       "      <td>0</td>\n",
       "    </tr>\n",
       "    <tr>\n",
       "      <th>10</th>\n",
       "      <td>10</td>\n",
       "      <td>Country</td>\n",
       "      <td>NVARCHAR(40)</td>\n",
       "      <td>0</td>\n",
       "      <td>None</td>\n",
       "      <td>0</td>\n",
       "    </tr>\n",
       "    <tr>\n",
       "      <th>11</th>\n",
       "      <td>11</td>\n",
       "      <td>PostalCode</td>\n",
       "      <td>NVARCHAR(10)</td>\n",
       "      <td>0</td>\n",
       "      <td>None</td>\n",
       "      <td>0</td>\n",
       "    </tr>\n",
       "    <tr>\n",
       "      <th>12</th>\n",
       "      <td>12</td>\n",
       "      <td>Phone</td>\n",
       "      <td>NVARCHAR(24)</td>\n",
       "      <td>0</td>\n",
       "      <td>None</td>\n",
       "      <td>0</td>\n",
       "    </tr>\n",
       "    <tr>\n",
       "      <th>13</th>\n",
       "      <td>13</td>\n",
       "      <td>Fax</td>\n",
       "      <td>NVARCHAR(24)</td>\n",
       "      <td>0</td>\n",
       "      <td>None</td>\n",
       "      <td>0</td>\n",
       "    </tr>\n",
       "    <tr>\n",
       "      <th>14</th>\n",
       "      <td>14</td>\n",
       "      <td>Email</td>\n",
       "      <td>NVARCHAR(60)</td>\n",
       "      <td>0</td>\n",
       "      <td>None</td>\n",
       "      <td>0</td>\n",
       "    </tr>\n",
       "  </tbody>\n",
       "</table>\n",
       "</div>"
      ],
      "text/plain": [
       "    cid        name          type  notnull dflt_value  pk\n",
       "0     0  EmployeeId       INTEGER        1       None   1\n",
       "1     1    LastName  NVARCHAR(20)        1       None   0\n",
       "2     2   FirstName  NVARCHAR(20)        1       None   0\n",
       "3     3       Title  NVARCHAR(30)        0       None   0\n",
       "4     4   ReportsTo       INTEGER        0       None   0\n",
       "5     5   BirthDate      DATETIME        0       None   0\n",
       "6     6    HireDate      DATETIME        0       None   0\n",
       "7     7     Address  NVARCHAR(70)        0       None   0\n",
       "8     8        City  NVARCHAR(40)        0       None   0\n",
       "9     9       State  NVARCHAR(40)        0       None   0\n",
       "10   10     Country  NVARCHAR(40)        0       None   0\n",
       "11   11  PostalCode  NVARCHAR(10)        0       None   0\n",
       "12   12       Phone  NVARCHAR(24)        0       None   0\n",
       "13   13         Fax  NVARCHAR(24)        0       None   0\n",
       "14   14       Email  NVARCHAR(60)        0       None   0"
      ]
     },
     "execution_count": 10,
     "metadata": {},
     "output_type": "execute_result"
    }
   ],
   "source": [
    "# Biến thông tin đã truy vấn thành dataframe của pandas\n",
    "pd.DataFrame(info, columns= [item[0] for item in cursor.description])"
   ]
  },
  {
   "cell_type": "markdown",
   "id": "27474f5a",
   "metadata": {},
   "source": [
    "## 1.3. Truy vấn dữ liệu từ bảng "
   ]
  },
  {
   "cell_type": "markdown",
   "id": "0a4a48a3",
   "metadata": {},
   "source": [
    "**Cách thực hiện truy vấn cơ bản**"
   ]
  },
  {
   "cell_type": "code",
   "execution_count": 11,
   "id": "2d1e621b",
   "metadata": {},
   "outputs": [
    {
     "data": {
      "text/plain": [
       "[(1,\n",
       "  'Adams',\n",
       "  'Andrew',\n",
       "  'General Manager',\n",
       "  None,\n",
       "  '1962-02-18 00:00:00',\n",
       "  '2002-08-14 00:00:00',\n",
       "  '11120 Jasper Ave NW',\n",
       "  'Edmonton',\n",
       "  'AB',\n",
       "  'Canada',\n",
       "  'T5K 2N1',\n",
       "  '+1 (780) 428-9482',\n",
       "  '+1 (780) 428-3457',\n",
       "  'andrew@chinookcorp.com'),\n",
       " (2,\n",
       "  'Edwards',\n",
       "  'Nancy',\n",
       "  'Sales Manager',\n",
       "  1,\n",
       "  '1958-12-08 00:00:00',\n",
       "  '2002-05-01 00:00:00',\n",
       "  '825 8 Ave SW',\n",
       "  'Calgary',\n",
       "  'AB',\n",
       "  'Canada',\n",
       "  'T2P 2T3',\n",
       "  '+1 (403) 262-3443',\n",
       "  '+1 (403) 262-3322',\n",
       "  'nancy@chinookcorp.com'),\n",
       " (3,\n",
       "  'Peacock',\n",
       "  'Jane',\n",
       "  'Sales Support Agent',\n",
       "  2,\n",
       "  '1973-08-29 00:00:00',\n",
       "  '2002-04-01 00:00:00',\n",
       "  '1111 6 Ave SW',\n",
       "  'Calgary',\n",
       "  'AB',\n",
       "  'Canada',\n",
       "  'T2P 5M5',\n",
       "  '+1 (403) 262-3443',\n",
       "  '+1 (403) 262-6712',\n",
       "  'jane@chinookcorp.com'),\n",
       " (4,\n",
       "  'Park',\n",
       "  'Margaret',\n",
       "  'Sales Support Agent',\n",
       "  2,\n",
       "  '1947-09-19 00:00:00',\n",
       "  '2003-05-03 00:00:00',\n",
       "  '683 10 Street SW',\n",
       "  'Calgary',\n",
       "  'AB',\n",
       "  'Canada',\n",
       "  'T2P 5G3',\n",
       "  '+1 (403) 263-4423',\n",
       "  '+1 (403) 263-4289',\n",
       "  'margaret@chinookcorp.com'),\n",
       " (5,\n",
       "  'Johnson',\n",
       "  'Steve',\n",
       "  'Sales Support Agent',\n",
       "  2,\n",
       "  '1965-03-03 00:00:00',\n",
       "  '2003-10-17 00:00:00',\n",
       "  '7727B 41 Ave',\n",
       "  'Calgary',\n",
       "  'AB',\n",
       "  'Canada',\n",
       "  'T3B 1Y7',\n",
       "  '1 (780) 836-9987',\n",
       "  '1 (780) 836-9543',\n",
       "  'steve@chinookcorp.com'),\n",
       " (6,\n",
       "  'Mitchell',\n",
       "  'Michael',\n",
       "  'IT Manager',\n",
       "  1,\n",
       "  '1973-07-01 00:00:00',\n",
       "  '2003-10-17 00:00:00',\n",
       "  '5827 Bowness Road NW',\n",
       "  'Calgary',\n",
       "  'AB',\n",
       "  'Canada',\n",
       "  'T3B 0C5',\n",
       "  '+1 (403) 246-9887',\n",
       "  '+1 (403) 246-9899',\n",
       "  'michael@chinookcorp.com'),\n",
       " (7,\n",
       "  'King',\n",
       "  'Robert',\n",
       "  'IT Staff',\n",
       "  6,\n",
       "  '1970-05-29 00:00:00',\n",
       "  '2004-01-02 00:00:00',\n",
       "  '590 Columbia Boulevard West',\n",
       "  'Lethbridge',\n",
       "  'AB',\n",
       "  'Canada',\n",
       "  'T1K 5N8',\n",
       "  '+1 (403) 456-9986',\n",
       "  '+1 (403) 456-8485',\n",
       "  'robert@chinookcorp.com'),\n",
       " (8,\n",
       "  'Callahan',\n",
       "  'Laura',\n",
       "  'IT Staff',\n",
       "  6,\n",
       "  '1968-01-09 00:00:00',\n",
       "  '2004-03-04 00:00:00',\n",
       "  '923 7 ST NW',\n",
       "  'Lethbridge',\n",
       "  'AB',\n",
       "  'Canada',\n",
       "  'T1H 1Y8',\n",
       "  '+1 (403) 467-3351',\n",
       "  '+1 (403) 467-8772',\n",
       "  'laura@chinookcorp.com')]"
      ]
     },
     "execution_count": 11,
     "metadata": {},
     "output_type": "execute_result"
    }
   ],
   "source": [
    "# Thử truy vấn tất cả thông tin trong một bảng\n",
    "cursor.execute(\"SELECT * FROM Employee\")\n",
    "cursor.fetchall()"
   ]
  },
  {
   "cell_type": "code",
   "execution_count": 12,
   "id": "82299bcd",
   "metadata": {},
   "outputs": [
    {
     "data": {
      "text/plain": [
       "[(1, 'Andrew', 'Adams'),\n",
       " (2, 'Nancy', 'Edwards'),\n",
       " (3, 'Jane', 'Peacock'),\n",
       " (4, 'Margaret', 'Park'),\n",
       " (5, 'Steve', 'Johnson'),\n",
       " (6, 'Michael', 'Mitchell'),\n",
       " (7, 'Robert', 'King'),\n",
       " (8, 'Laura', 'Callahan')]"
      ]
     },
     "execution_count": 12,
     "metadata": {},
     "output_type": "execute_result"
    }
   ],
   "source": [
    "# Truy vấn thử một số thông tin từ 1 bảng nào đó\n",
    "cursor.execute(\"SELECT EmployeeId AS EID, Firstname, Lastname FROM Employee\")\n",
    "cursor.fetchall()"
   ]
  },
  {
   "cell_type": "code",
   "execution_count": 13,
   "id": "17929c78",
   "metadata": {},
   "outputs": [
    {
     "data": {
      "text/plain": [
       "[(1, 'Andrew', 'Adams', '2002-08-14 00:00:00', 'Canada'),\n",
       " (2, 'Nancy', 'Edwards', '2002-05-01 00:00:00', 'Canada'),\n",
       " (3, 'Jane', 'Peacock', '2002-04-01 00:00:00', 'Canada'),\n",
       " (4, 'Margaret', 'Park', '2003-05-03 00:00:00', 'Canada'),\n",
       " (5, 'Steve', 'Johnson', '2003-10-17 00:00:00', 'Canada'),\n",
       " (6, 'Michael', 'Mitchell', '2003-10-17 00:00:00', 'Canada'),\n",
       " (7, 'Robert', 'King', '2004-01-02 00:00:00', 'Canada'),\n",
       " (8, 'Laura', 'Callahan', '2004-03-04 00:00:00', 'Canada')]"
      ]
     },
     "execution_count": 13,
     "metadata": {},
     "output_type": "execute_result"
    }
   ],
   "source": [
    "# Tạo câu truy vấn (dễ kiểm tra hơn) và gọi lệnh thực hiện\n",
    "query = \"\"\"\n",
    "        SELECT EmployeeId, Firstname, Lastname, HireDate, Country \n",
    "        FROM Employee \n",
    "        --WHERE Country != 'USA'\n",
    "        --LIMIT(5)\n",
    "\"\"\"\n",
    "cursor.execute(query)\n",
    "cursor.fetchall()"
   ]
  },
  {
   "cell_type": "markdown",
   "id": "402047d8",
   "metadata": {},
   "source": [
    "**Tạo DataFrame từ kết quả truy vấn**"
   ]
  },
  {
   "cell_type": "code",
   "execution_count": 14,
   "id": "eada2efa",
   "metadata": {},
   "outputs": [
    {
     "data": {
      "text/html": [
       "<div>\n",
       "<style scoped>\n",
       "    .dataframe tbody tr th:only-of-type {\n",
       "        vertical-align: middle;\n",
       "    }\n",
       "\n",
       "    .dataframe tbody tr th {\n",
       "        vertical-align: top;\n",
       "    }\n",
       "\n",
       "    .dataframe thead th {\n",
       "        text-align: right;\n",
       "    }\n",
       "</style>\n",
       "<table border=\"1\" class=\"dataframe\">\n",
       "  <thead>\n",
       "    <tr style=\"text-align: right;\">\n",
       "      <th></th>\n",
       "    </tr>\n",
       "  </thead>\n",
       "  <tbody>\n",
       "  </tbody>\n",
       "</table>\n",
       "</div>"
      ],
      "text/plain": [
       "Empty DataFrame\n",
       "Columns: []\n",
       "Index: []"
      ]
     },
     "execution_count": 14,
     "metadata": {},
     "output_type": "execute_result"
    }
   ],
   "source": [
    "# Tiếp tục gọi fetchall() và đưa và dataFrame\n",
    "# cursor.execute(query)\n",
    "df = pd.DataFrame(cursor.fetchall())\n",
    "df"
   ]
  },
  {
   "cell_type": "code",
   "execution_count": 15,
   "id": "ce359ae7",
   "metadata": {},
   "outputs": [
    {
     "data": {
      "text/html": [
       "<div>\n",
       "<style scoped>\n",
       "    .dataframe tbody tr th:only-of-type {\n",
       "        vertical-align: middle;\n",
       "    }\n",
       "\n",
       "    .dataframe tbody tr th {\n",
       "        vertical-align: top;\n",
       "    }\n",
       "\n",
       "    .dataframe thead th {\n",
       "        text-align: right;\n",
       "    }\n",
       "</style>\n",
       "<table border=\"1\" class=\"dataframe\">\n",
       "  <thead>\n",
       "    <tr style=\"text-align: right;\">\n",
       "      <th></th>\n",
       "      <th>EmployeeId</th>\n",
       "      <th>FirstName</th>\n",
       "      <th>LastName</th>\n",
       "      <th>HireDate</th>\n",
       "      <th>Country</th>\n",
       "    </tr>\n",
       "  </thead>\n",
       "  <tbody>\n",
       "    <tr>\n",
       "      <th>0</th>\n",
       "      <td>1</td>\n",
       "      <td>Andrew</td>\n",
       "      <td>Adams</td>\n",
       "      <td>2002-08-14 00:00:00</td>\n",
       "      <td>Canada</td>\n",
       "    </tr>\n",
       "    <tr>\n",
       "      <th>1</th>\n",
       "      <td>2</td>\n",
       "      <td>Nancy</td>\n",
       "      <td>Edwards</td>\n",
       "      <td>2002-05-01 00:00:00</td>\n",
       "      <td>Canada</td>\n",
       "    </tr>\n",
       "    <tr>\n",
       "      <th>2</th>\n",
       "      <td>3</td>\n",
       "      <td>Jane</td>\n",
       "      <td>Peacock</td>\n",
       "      <td>2002-04-01 00:00:00</td>\n",
       "      <td>Canada</td>\n",
       "    </tr>\n",
       "    <tr>\n",
       "      <th>3</th>\n",
       "      <td>4</td>\n",
       "      <td>Margaret</td>\n",
       "      <td>Park</td>\n",
       "      <td>2003-05-03 00:00:00</td>\n",
       "      <td>Canada</td>\n",
       "    </tr>\n",
       "    <tr>\n",
       "      <th>4</th>\n",
       "      <td>5</td>\n",
       "      <td>Steve</td>\n",
       "      <td>Johnson</td>\n",
       "      <td>2003-10-17 00:00:00</td>\n",
       "      <td>Canada</td>\n",
       "    </tr>\n",
       "    <tr>\n",
       "      <th>5</th>\n",
       "      <td>6</td>\n",
       "      <td>Michael</td>\n",
       "      <td>Mitchell</td>\n",
       "      <td>2003-10-17 00:00:00</td>\n",
       "      <td>Canada</td>\n",
       "    </tr>\n",
       "    <tr>\n",
       "      <th>6</th>\n",
       "      <td>7</td>\n",
       "      <td>Robert</td>\n",
       "      <td>King</td>\n",
       "      <td>2004-01-02 00:00:00</td>\n",
       "      <td>Canada</td>\n",
       "    </tr>\n",
       "    <tr>\n",
       "      <th>7</th>\n",
       "      <td>8</td>\n",
       "      <td>Laura</td>\n",
       "      <td>Callahan</td>\n",
       "      <td>2004-03-04 00:00:00</td>\n",
       "      <td>Canada</td>\n",
       "    </tr>\n",
       "  </tbody>\n",
       "</table>\n",
       "</div>"
      ],
      "text/plain": [
       "   EmployeeId FirstName  LastName             HireDate Country\n",
       "0           1    Andrew     Adams  2002-08-14 00:00:00  Canada\n",
       "1           2     Nancy   Edwards  2002-05-01 00:00:00  Canada\n",
       "2           3      Jane   Peacock  2002-04-01 00:00:00  Canada\n",
       "3           4  Margaret      Park  2003-05-03 00:00:00  Canada\n",
       "4           5     Steve   Johnson  2003-10-17 00:00:00  Canada\n",
       "5           6   Michael  Mitchell  2003-10-17 00:00:00  Canada\n",
       "6           7    Robert      King  2004-01-02 00:00:00  Canada\n",
       "7           8     Laura  Callahan  2004-03-04 00:00:00  Canada"
      ]
     },
     "execution_count": 15,
     "metadata": {},
     "output_type": "execute_result"
    }
   ],
   "source": [
    "# Phải thực hiện query lại \n",
    "cursor.execute(query)\n",
    "df = pd.DataFrame(cursor.fetchall(), columns=[item[0] for item in cursor.description])\n",
    "df"
   ]
  },
  {
   "cell_type": "markdown",
   "id": "042cbe5c",
   "metadata": {},
   "source": [
    "**Thêm một số xử lý vào câu truy vấn**"
   ]
  },
  {
   "cell_type": "code",
   "execution_count": 16,
   "id": "7dc545ae",
   "metadata": {},
   "outputs": [
    {
     "data": {
      "text/html": [
       "<div>\n",
       "<style scoped>\n",
       "    .dataframe tbody tr th:only-of-type {\n",
       "        vertical-align: middle;\n",
       "    }\n",
       "\n",
       "    .dataframe tbody tr th {\n",
       "        vertical-align: top;\n",
       "    }\n",
       "\n",
       "    .dataframe thead th {\n",
       "        text-align: right;\n",
       "    }\n",
       "</style>\n",
       "<table border=\"1\" class=\"dataframe\">\n",
       "  <thead>\n",
       "    <tr style=\"text-align: right;\">\n",
       "      <th></th>\n",
       "      <th>EmployeeId</th>\n",
       "      <th>FirstName</th>\n",
       "      <th>LastName</th>\n",
       "      <th>HireDate</th>\n",
       "      <th>Country</th>\n",
       "    </tr>\n",
       "  </thead>\n",
       "  <tbody>\n",
       "    <tr>\n",
       "      <th>0</th>\n",
       "      <td>3</td>\n",
       "      <td>Jane</td>\n",
       "      <td>Peacock</td>\n",
       "      <td>2002-04-01 00:00:00</td>\n",
       "      <td>Canada</td>\n",
       "    </tr>\n",
       "    <tr>\n",
       "      <th>1</th>\n",
       "      <td>2</td>\n",
       "      <td>Nancy</td>\n",
       "      <td>Edwards</td>\n",
       "      <td>2002-05-01 00:00:00</td>\n",
       "      <td>Canada</td>\n",
       "    </tr>\n",
       "    <tr>\n",
       "      <th>2</th>\n",
       "      <td>1</td>\n",
       "      <td>Andrew</td>\n",
       "      <td>Adams</td>\n",
       "      <td>2002-08-14 00:00:00</td>\n",
       "      <td>Canada</td>\n",
       "    </tr>\n",
       "    <tr>\n",
       "      <th>3</th>\n",
       "      <td>4</td>\n",
       "      <td>Margaret</td>\n",
       "      <td>Park</td>\n",
       "      <td>2003-05-03 00:00:00</td>\n",
       "      <td>Canada</td>\n",
       "    </tr>\n",
       "    <tr>\n",
       "      <th>4</th>\n",
       "      <td>5</td>\n",
       "      <td>Steve</td>\n",
       "      <td>Johnson</td>\n",
       "      <td>2003-10-17 00:00:00</td>\n",
       "      <td>Canada</td>\n",
       "    </tr>\n",
       "    <tr>\n",
       "      <th>5</th>\n",
       "      <td>6</td>\n",
       "      <td>Michael</td>\n",
       "      <td>Mitchell</td>\n",
       "      <td>2003-10-17 00:00:00</td>\n",
       "      <td>Canada</td>\n",
       "    </tr>\n",
       "    <tr>\n",
       "      <th>6</th>\n",
       "      <td>7</td>\n",
       "      <td>Robert</td>\n",
       "      <td>King</td>\n",
       "      <td>2004-01-02 00:00:00</td>\n",
       "      <td>Canada</td>\n",
       "    </tr>\n",
       "    <tr>\n",
       "      <th>7</th>\n",
       "      <td>8</td>\n",
       "      <td>Laura</td>\n",
       "      <td>Callahan</td>\n",
       "      <td>2004-03-04 00:00:00</td>\n",
       "      <td>Canada</td>\n",
       "    </tr>\n",
       "  </tbody>\n",
       "</table>\n",
       "</div>"
      ],
      "text/plain": [
       "   EmployeeId FirstName  LastName             HireDate Country\n",
       "0           3      Jane   Peacock  2002-04-01 00:00:00  Canada\n",
       "1           2     Nancy   Edwards  2002-05-01 00:00:00  Canada\n",
       "2           1    Andrew     Adams  2002-08-14 00:00:00  Canada\n",
       "3           4  Margaret      Park  2003-05-03 00:00:00  Canada\n",
       "4           5     Steve   Johnson  2003-10-17 00:00:00  Canada\n",
       "5           6   Michael  Mitchell  2003-10-17 00:00:00  Canada\n",
       "6           7    Robert      King  2004-01-02 00:00:00  Canada\n",
       "7           8     Laura  Callahan  2004-03-04 00:00:00  Canada"
      ]
     },
     "execution_count": 16,
     "metadata": {},
     "output_type": "execute_result"
    }
   ],
   "source": [
    "# Truy vấn với sự sắp xếp theo 1 cột nào đó\n",
    "query = \"\"\"\n",
    "        SELECT EmployeeId, Firstname, Lastname, HireDate, Country \n",
    "        FROM Employee \n",
    "        -- WHERE Country != 'USA'\n",
    "        ORDER BY HireDate ASC\n",
    "        LIMIT(20)\n",
    "\"\"\"\n",
    "cursor.execute(query)\n",
    "df = pd.DataFrame(cursor.fetchall(), columns=[item[0] for item in cursor.description])\n",
    "df"
   ]
  },
  {
   "cell_type": "code",
   "execution_count": 17,
   "id": "aba86f30",
   "metadata": {},
   "outputs": [
    {
     "data": {
      "text/html": [
       "<div>\n",
       "<style scoped>\n",
       "    .dataframe tbody tr th:only-of-type {\n",
       "        vertical-align: middle;\n",
       "    }\n",
       "\n",
       "    .dataframe tbody tr th {\n",
       "        vertical-align: top;\n",
       "    }\n",
       "\n",
       "    .dataframe thead th {\n",
       "        text-align: right;\n",
       "    }\n",
       "</style>\n",
       "<table border=\"1\" class=\"dataframe\">\n",
       "  <thead>\n",
       "    <tr style=\"text-align: right;\">\n",
       "      <th></th>\n",
       "      <th>EmployeeId</th>\n",
       "      <th>FirstName</th>\n",
       "      <th>LastName</th>\n",
       "      <th>HDate</th>\n",
       "      <th>Country</th>\n",
       "    </tr>\n",
       "  </thead>\n",
       "  <tbody>\n",
       "    <tr>\n",
       "      <th>0</th>\n",
       "      <td>8</td>\n",
       "      <td>Laura</td>\n",
       "      <td>Callahan</td>\n",
       "      <td>2004-03-04</td>\n",
       "      <td>Canada</td>\n",
       "    </tr>\n",
       "    <tr>\n",
       "      <th>1</th>\n",
       "      <td>7</td>\n",
       "      <td>Robert</td>\n",
       "      <td>King</td>\n",
       "      <td>2004-01-02</td>\n",
       "      <td>Canada</td>\n",
       "    </tr>\n",
       "    <tr>\n",
       "      <th>2</th>\n",
       "      <td>5</td>\n",
       "      <td>Steve</td>\n",
       "      <td>Johnson</td>\n",
       "      <td>2003-10-17</td>\n",
       "      <td>Canada</td>\n",
       "    </tr>\n",
       "    <tr>\n",
       "      <th>3</th>\n",
       "      <td>6</td>\n",
       "      <td>Michael</td>\n",
       "      <td>Mitchell</td>\n",
       "      <td>2003-10-17</td>\n",
       "      <td>Canada</td>\n",
       "    </tr>\n",
       "    <tr>\n",
       "      <th>4</th>\n",
       "      <td>4</td>\n",
       "      <td>Margaret</td>\n",
       "      <td>Park</td>\n",
       "      <td>2003-05-03</td>\n",
       "      <td>Canada</td>\n",
       "    </tr>\n",
       "    <tr>\n",
       "      <th>5</th>\n",
       "      <td>1</td>\n",
       "      <td>Andrew</td>\n",
       "      <td>Adams</td>\n",
       "      <td>2002-08-14</td>\n",
       "      <td>Canada</td>\n",
       "    </tr>\n",
       "    <tr>\n",
       "      <th>6</th>\n",
       "      <td>2</td>\n",
       "      <td>Nancy</td>\n",
       "      <td>Edwards</td>\n",
       "      <td>2002-05-01</td>\n",
       "      <td>Canada</td>\n",
       "    </tr>\n",
       "    <tr>\n",
       "      <th>7</th>\n",
       "      <td>3</td>\n",
       "      <td>Jane</td>\n",
       "      <td>Peacock</td>\n",
       "      <td>2002-04-01</td>\n",
       "      <td>Canada</td>\n",
       "    </tr>\n",
       "  </tbody>\n",
       "</table>\n",
       "</div>"
      ],
      "text/plain": [
       "   EmployeeId FirstName  LastName       HDate Country\n",
       "0           8     Laura  Callahan  2004-03-04  Canada\n",
       "1           7    Robert      King  2004-01-02  Canada\n",
       "2           5     Steve   Johnson  2003-10-17  Canada\n",
       "3           6   Michael  Mitchell  2003-10-17  Canada\n",
       "4           4  Margaret      Park  2003-05-03  Canada\n",
       "5           1    Andrew     Adams  2002-08-14  Canada\n",
       "6           2     Nancy   Edwards  2002-05-01  Canada\n",
       "7           3      Jane   Peacock  2002-04-01  Canada"
      ]
     },
     "execution_count": 17,
     "metadata": {},
     "output_type": "execute_result"
    }
   ],
   "source": [
    "# Truy vấn với việc chuyển đổi text sang Date\n",
    "query = \"\"\"\n",
    "        SELECT EmployeeId, Firstname, Lastname, DATE(HireDate) as HDate, Country \n",
    "        FROM Employee \n",
    "        ORDER BY HDate DESC\n",
    "        --LIMIT(20)\n",
    "\"\"\"\n",
    "cursor.execute(query)\n",
    "fetch_data = cursor.fetchall()\n",
    "\n",
    "col_list = [item[0] for item in cursor.description]\n",
    "\n",
    "df = pd.DataFrame(fetch_data, columns=col_list)\n",
    "df"
   ]
  },
  {
   "cell_type": "code",
   "execution_count": 18,
   "id": "6c76304d",
   "metadata": {},
   "outputs": [
    {
     "data": {
      "text/html": [
       "<div>\n",
       "<style scoped>\n",
       "    .dataframe tbody tr th:only-of-type {\n",
       "        vertical-align: middle;\n",
       "    }\n",
       "\n",
       "    .dataframe tbody tr th {\n",
       "        vertical-align: top;\n",
       "    }\n",
       "\n",
       "    .dataframe thead th {\n",
       "        text-align: right;\n",
       "    }\n",
       "</style>\n",
       "<table border=\"1\" class=\"dataframe\">\n",
       "  <thead>\n",
       "    <tr style=\"text-align: right;\">\n",
       "      <th></th>\n",
       "      <th>EmployeeId</th>\n",
       "      <th>FirstName</th>\n",
       "      <th>LastName</th>\n",
       "      <th>HireDate</th>\n",
       "      <th>Country</th>\n",
       "    </tr>\n",
       "  </thead>\n",
       "  <tbody>\n",
       "    <tr>\n",
       "      <th>0</th>\n",
       "      <td>5</td>\n",
       "      <td>Steve</td>\n",
       "      <td>Johnson</td>\n",
       "      <td>2003-10-17</td>\n",
       "      <td>Canada</td>\n",
       "    </tr>\n",
       "    <tr>\n",
       "      <th>1</th>\n",
       "      <td>6</td>\n",
       "      <td>Michael</td>\n",
       "      <td>Mitchell</td>\n",
       "      <td>2003-10-17</td>\n",
       "      <td>Canada</td>\n",
       "    </tr>\n",
       "    <tr>\n",
       "      <th>2</th>\n",
       "      <td>4</td>\n",
       "      <td>Margaret</td>\n",
       "      <td>Park</td>\n",
       "      <td>2003-05-03</td>\n",
       "      <td>Canada</td>\n",
       "    </tr>\n",
       "  </tbody>\n",
       "</table>\n",
       "</div>"
      ],
      "text/plain": [
       "   EmployeeId FirstName  LastName    HireDate Country\n",
       "0           5     Steve   Johnson  2003-10-17  Canada\n",
       "1           6   Michael  Mitchell  2003-10-17  Canada\n",
       "2           4  Margaret      Park  2003-05-03  Canada"
      ]
     },
     "execution_count": 18,
     "metadata": {},
     "output_type": "execute_result"
    }
   ],
   "source": [
    "# Truy vấn với ràng buộc về ngày\n",
    "query = \"\"\"\n",
    "        SELECT EmployeeId, Firstname, Lastname, DATE(HireDate) as HireDate, Country \n",
    "        FROM Employee \n",
    "        WHERE HireDate BETWEEN '2003-01-01' AND '2003-12-31'\n",
    "        ORDER BY HireDate Desc\n",
    "        -- LIMIT(20)\n",
    "\"\"\"\n",
    "cursor.execute(query)\n",
    "df = pd.DataFrame(cursor.fetchall(), columns=[item[0] for item in cursor.description])\n",
    "df"
   ]
  },
  {
   "cell_type": "markdown",
   "id": "d4a9870f",
   "metadata": {},
   "source": [
    "# 2. Demo tạo CSDL với SQLite"
   ]
  },
  {
   "cell_type": "markdown",
   "id": "8f6e1176",
   "metadata": {},
   "source": [
    "## 2.1. Kết nối database"
   ]
  },
  {
   "cell_type": "code",
   "execution_count": 19,
   "id": "9fb27db0",
   "metadata": {},
   "outputs": [],
   "source": [
    "# db = sqlite3.connect(':memory:')\n",
    "con = sqlite3.connect('database/example.db')"
   ]
  },
  {
   "cell_type": "code",
   "execution_count": 20,
   "id": "6e00bbe7",
   "metadata": {},
   "outputs": [],
   "source": [
    "cur = con.cursor()"
   ]
  },
  {
   "cell_type": "code",
   "execution_count": null,
   "id": "8975a46d",
   "metadata": {},
   "outputs": [],
   "source": [
    "#con.close()"
   ]
  },
  {
   "cell_type": "markdown",
   "id": "809be5cf",
   "metadata": {},
   "source": [
    "## 2.2. Một số lệnh đơn giản"
   ]
  },
  {
   "cell_type": "markdown",
   "id": "d3f0a6e3",
   "metadata": {},
   "source": [
    "# Bảng `PhongBan`"
   ]
  },
  {
   "cell_type": "markdown",
   "id": "21b79ffe",
   "metadata": {},
   "source": [
    "**Tạo bảng PhongBan**"
   ]
  },
  {
   "cell_type": "code",
   "execution_count": 25,
   "id": "bcd97628",
   "metadata": {},
   "outputs": [],
   "source": [
    "query = \"\"\"\n",
    "            CREATE TABLE PhongBan (\n",
    "                            id_phongban INTEGER,\n",
    "                            ten NVARCHAR(50) NOT NULL,\n",
    "                            id_truongphong INTEGER,\n",
    "                            PRIMARY KEY (id_phongban)\n",
    "            )\n",
    "\"\"\"\n",
    "cur.execute(query)\n",
    "con.commit()"
   ]
  },
  {
   "cell_type": "markdown",
   "id": "769a29b8",
   "metadata": {},
   "source": [
    "**Thêm dữ liệu vào bảng `PhongBan`**"
   ]
  },
  {
   "cell_type": "code",
   "execution_count": 26,
   "id": "f82d1502",
   "metadata": {},
   "outputs": [],
   "source": [
    "query = \"\"\" INSERT INTO PhongBan\n",
    "            VALUES(1, 'Phong Nhan Su', 0)\n",
    "\"\"\"\n",
    "cur.execute(query)\n",
    "con.commit()"
   ]
  },
  {
   "cell_type": "code",
   "execution_count": 24,
   "id": "936a8329",
   "metadata": {},
   "outputs": [],
   "source": [
    "# Thử xóa phòng ban\n",
    "cur.execute(\"DROP TABLE IF EXISTS phongban\")\n",
    "con.commit()"
   ]
  },
  {
   "cell_type": "markdown",
   "id": "c2e46974",
   "metadata": {},
   "source": [
    "**Tạo lại bảng và thêm data vào bảng `PhongBan`**"
   ]
  },
  {
   "cell_type": "code",
   "execution_count": 27,
   "id": "d6704f70",
   "metadata": {},
   "outputs": [],
   "source": [
    "# Thêm vào và có id\n",
    "query = \"\"\"\n",
    "        INSERT INTO phongban \n",
    "        VALUES(4, 'Phong Ke Toan', NULL)\n",
    "\"\"\"\n",
    "cur.execute(query)\n",
    "con.commit()"
   ]
  },
  {
   "cell_type": "code",
   "execution_count": 29,
   "id": "d3265169",
   "metadata": {},
   "outputs": [],
   "source": [
    "# Thêm vào mà không set id\n",
    "query = \"\"\"\n",
    "        INSERT INTO phongban (ten)\n",
    "        VALUES('Phong San Xuat')\n",
    "\"\"\"\n",
    "cur.execute(query)\n",
    "con.commit()"
   ]
  },
  {
   "cell_type": "markdown",
   "id": "cdf26a60",
   "metadata": {},
   "source": [
    "**Thêm một loạt các dòng vào bảng**"
   ]
  },
  {
   "cell_type": "code",
   "execution_count": 30,
   "id": "b26ed0eb",
   "metadata": {},
   "outputs": [
    {
     "data": {
      "text/plain": [
       "[('Phong Kinh Doanh - Marketing', None),\n",
       " ('Phong Ky Thuat', None),\n",
       " ('Phong R&D', None)]"
      ]
     },
     "execution_count": 30,
     "metadata": {},
     "output_type": "execute_result"
    }
   ],
   "source": [
    "phongban_list = [\n",
    "    ('Phong Kinh Doanh - Marketing', None),\n",
    "    ('Phong Ky Thuat', None),\n",
    "    ('Phong R&D', None)\n",
    "]\n",
    "phongban_list"
   ]
  },
  {
   "cell_type": "code",
   "execution_count": 31,
   "id": "73121097",
   "metadata": {},
   "outputs": [],
   "source": [
    "# Thêm một list các phòng ban bằng lệnh executemany \n",
    "query = \"\"\"\n",
    "        INSERT INTO PhongBan(ten, id_truongphong)\n",
    "        VALUES(?,?)\n",
    "\"\"\"\n",
    "cur.executemany(query, phongban_list)\n",
    "con.commit()"
   ]
  },
  {
   "cell_type": "markdown",
   "id": "a60b0d33",
   "metadata": {},
   "source": [
    "# Bảng `NhanVien`"
   ]
  },
  {
   "cell_type": "markdown",
   "id": "c3c7a9ff",
   "metadata": {},
   "source": [
    "**Tạo bảng `NhanVien` và thêm dữ liệu**"
   ]
  },
  {
   "cell_type": "code",
   "execution_count": 32,
   "id": "aa19a9e7",
   "metadata": {},
   "outputs": [],
   "source": [
    "query = \"\"\"\n",
    "        CREATE TABLE nhanvien (id_nhanvien INTEGER PRIMARY KEY,\n",
    "                               ho TEXT NOT NULL, \n",
    "                               ten TEXT NOT NULL,\n",
    "                               email TEXT NOT NULL UNIQUE,\n",
    "                               id_phongban INTEGER NOT NULL, \n",
    "                               id_quanly INTEGER,\n",
    "                               ngay_batdau DATETIME,\n",
    "                               luong REAL NOT NULL)\n",
    "\"\"\"\n",
    "cur.execute(query)\n",
    "con.commit()"
   ]
  },
  {
   "cell_type": "code",
   "execution_count": 33,
   "id": "10c3ced6",
   "metadata": {},
   "outputs": [],
   "source": [
    "query = \"\"\"\n",
    "        INSERT INTO nhanvien (ho, ten, email, id_phongban, luong)\n",
    "        VALUES('Tran', 'Van A', 'atran@gmail.com', 3, 15000)\n",
    "\"\"\"\n",
    "cur.execute(query)\n",
    "con.commit()"
   ]
  },
  {
   "cell_type": "code",
   "execution_count": 34,
   "id": "a2b52170",
   "metadata": {},
   "outputs": [],
   "source": [
    "query = \"\"\"\n",
    "        INSERT INTO nhanvien (ho, ten, email, id_phongban, luong)\n",
    "        VALUES('Nguyen', 'Quang C', 'cnguyen@gmail.com', 1, 18000)\n",
    "\"\"\"\n",
    "cur.execute(query)\n",
    "con.commit()"
   ]
  },
  {
   "cell_type": "code",
   "execution_count": 35,
   "id": "ee217114",
   "metadata": {},
   "outputs": [],
   "source": [
    "query = \"\"\"\n",
    "        INSERT INTO nhanvien (ho, ten, email, id_phongban, luong)\n",
    "        VALUES('Pham', 'Van Binh', 'binhpham12345@gmail.com', 3, 18000)\n",
    "\"\"\"\n",
    "cur.execute(query)\n",
    "con.commit()"
   ]
  },
  {
   "cell_type": "markdown",
   "id": "35b2df2f",
   "metadata": {},
   "source": [
    "**Update thông tin cho các bảng sau khi thêm được thông tin nhân viên** <br>\n",
    "- Trưởng phòng là ai?\n",
    "- Người quản lý là ai?"
   ]
  },
  {
   "cell_type": "code",
   "execution_count": 36,
   "id": "c4f3ac1b",
   "metadata": {},
   "outputs": [
    {
     "data": {
      "text/plain": [
       "[(1, 'Tran', 'Van A', 'atran@gmail.com', 3, None, None, 15000.0),\n",
       " (3, 'Pham', 'Van Binh', 'binhpham12345@gmail.com', 3, None, None, 18000.0)]"
      ]
     },
     "execution_count": 36,
     "metadata": {},
     "output_type": "execute_result"
    }
   ],
   "source": [
    "cur.execute(\"SELECT * FROM nhanvien WHERE id_phongban=3\")\n",
    "cur.fetchall()"
   ]
  },
  {
   "cell_type": "code",
   "execution_count": 37,
   "id": "e1eb1534",
   "metadata": {},
   "outputs": [],
   "source": [
    "# Update trưởng phòng cho phòng id=3\n",
    "query = \"\"\"\n",
    "        UPDATE PhongBan\n",
    "        SET id_truongphong=1\n",
    "        WHERE id_phongban=3\n",
    "\"\"\"\n",
    "cur.execute(query)\n",
    "con.commit()"
   ]
  },
  {
   "cell_type": "code",
   "execution_count": 38,
   "id": "c3f8f5c7",
   "metadata": {},
   "outputs": [],
   "source": [
    "# Update người quản lý cho nhân viên có id=2\n",
    "query = \"\"\"\n",
    "        UPDATE NhanVien\n",
    "        SET id_quanly=1\n",
    "        WHERE id_nhanvien=3\n",
    "\"\"\"\n",
    "cur.execute(query)\n",
    "con.commit()"
   ]
  },
  {
   "cell_type": "markdown",
   "id": "8890e9e5",
   "metadata": {},
   "source": [
    "**Thử xóa một dòng**"
   ]
  },
  {
   "cell_type": "code",
   "execution_count": 39,
   "id": "91dc0da7",
   "metadata": {},
   "outputs": [],
   "source": [
    "query = \"\"\"\n",
    "        DELETE FROM nhanvien\n",
    "        WHERE id_nhanvien=2\n",
    "\"\"\"\n",
    "cur.execute(query)\n",
    "con.commit()"
   ]
  },
  {
   "cell_type": "code",
   "execution_count": null,
   "id": "da7591a4",
   "metadata": {},
   "outputs": [],
   "source": []
  }
 ],
 "metadata": {
  "kernelspec": {
   "display_name": "Python 3 (ipykernel)",
   "language": "python",
   "name": "python3"
  },
  "language_info": {
   "codemirror_mode": {
    "name": "ipython",
    "version": 3
   },
   "file_extension": ".py",
   "mimetype": "text/x-python",
   "name": "python",
   "nbconvert_exporter": "python",
   "pygments_lexer": "ipython3",
   "version": "3.9.7"
  }
 },
 "nbformat": 4,
 "nbformat_minor": 5
}
