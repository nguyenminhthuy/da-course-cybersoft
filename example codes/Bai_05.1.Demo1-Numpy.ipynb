{
 "cells": [
  {
   "cell_type": "code",
   "execution_count": 1,
   "id": "b2bedbba",
   "metadata": {},
   "outputs": [
    {
     "data": {
      "text/html": [
       "<style type='text/css'>\n",
       ".CodeMirror{\n",
       "    font-size: 18px;\n",
       "}\n",
       "\n",
       "div.output_area pre {\n",
       "    font-size: 16px;\n",
       "}\n",
       "</style>\n"
      ],
      "text/plain": [
       "<IPython.core.display.HTML object>"
      ]
     },
     "metadata": {},
     "output_type": "display_data"
    }
   ],
   "source": [
    "%%html\n",
    "<style type='text/css'>\n",
    ".CodeMirror{\n",
    "    font-size: 18px;\n",
    "}\n",
    "\n",
    "div.output_area pre {\n",
    "    font-size: 16px;\n",
    "}\n",
    "</style>"
   ]
  },
  {
   "cell_type": "code",
   "execution_count": 2,
   "id": "732fd457",
   "metadata": {},
   "outputs": [
    {
     "name": "stdout",
     "output_type": "stream",
     "text": [
      "1.20.3\n"
     ]
    }
   ],
   "source": [
    "import numpy as np\n",
    "print(np.__version__)"
   ]
  },
  {
   "cell_type": "markdown",
   "id": "0b5adf54",
   "metadata": {},
   "source": [
    "# 1. Cơ bản về mảng Numpy"
   ]
  },
  {
   "cell_type": "markdown",
   "id": "dbdb0cbf",
   "metadata": {},
   "source": [
    "## 1.1. Khởi tạo mảng"
   ]
  },
  {
   "cell_type": "code",
   "execution_count": 3,
   "id": "6e1bd4c6",
   "metadata": {},
   "outputs": [],
   "source": [
    "a = [5,3,8,9,1000]"
   ]
  },
  {
   "cell_type": "markdown",
   "id": "7d0735f6",
   "metadata": {},
   "source": [
    "**Hàm `np.array()`**"
   ]
  },
  {
   "cell_type": "code",
   "execution_count": 4,
   "id": "2c083f9f",
   "metadata": {},
   "outputs": [
    {
     "data": {
      "text/plain": [
       "array([   5,    3,    8,    9, 1000])"
      ]
     },
     "execution_count": 4,
     "metadata": {},
     "output_type": "execute_result"
    }
   ],
   "source": [
    "a0 = np.array(a)\n",
    "a0"
   ]
  },
  {
   "cell_type": "code",
   "execution_count": 5,
   "id": "e57bd403",
   "metadata": {},
   "outputs": [
    {
     "data": {
      "text/plain": [
       "array([   5.,    3.,    8.,    9., 1000.], dtype=float32)"
      ]
     },
     "execution_count": 5,
     "metadata": {},
     "output_type": "execute_result"
    }
   ],
   "source": [
    "# Khởi tạo và ép kiểu\n",
    "a1 = np.array(a, dtype=np.float32)\n",
    "a1"
   ]
  },
  {
   "cell_type": "code",
   "execution_count": 6,
   "id": "b6fce821",
   "metadata": {},
   "outputs": [
    {
     "name": "stdout",
     "output_type": "stream",
     "text": [
      "[   5.    3.    8.    9. 1000.]\n",
      "[   5.    3.    8.    9. 1000.]\n"
     ]
    }
   ],
   "source": [
    "# Tạo ra một bản copy từ một array\n",
    "a2 = np.array(a1)\n",
    "print(a2)\n",
    "print(a1)"
   ]
  },
  {
   "cell_type": "code",
   "execution_count": 7,
   "id": "cc84f749",
   "metadata": {},
   "outputs": [
    {
     "name": "stdout",
     "output_type": "stream",
     "text": [
      "[   1.    3.    8.    9. 1000.]\n",
      "[   5.    3.    8.    9. 1000.]\n"
     ]
    }
   ],
   "source": [
    "a2[0] = 1\n",
    "print(a2)\n",
    "print(a1)"
   ]
  },
  {
   "cell_type": "markdown",
   "id": "1eb94cab",
   "metadata": {},
   "source": [
    "**Tùy chỉnh số thập phân và kiểu in**"
   ]
  },
  {
   "cell_type": "code",
   "execution_count": 9,
   "id": "a12e3e19",
   "metadata": {},
   "outputs": [
    {
     "name": "stdout",
     "output_type": "stream",
     "text": [
      "[4.12345679e+00 1.23456789e-04 2.50000000e+01 3.60000000e+01\n",
      " 1.70000000e+01 2.00000000e+01 2.20000000e+01 2.30000000e+01\n",
      " 2.50000000e+01 2.70000000e+01 3.40000000e+01 2.30000000e+01\n",
      " 2.10000000e+01 1.90000000e+01 2.40000000e+01 2.50000000e+01\n",
      " 2.70000000e+01 2.90000000e+01 2.80000000e+01 2.60000000e+01\n",
      " 2.90000000e+01 2.50000000e+01 3.40000000e+01 2.00000000e+01\n",
      " 2.20000000e+01 2.30000000e+01 2.50000000e+01]\n"
     ]
    }
   ],
   "source": [
    "x = [4.123456789123456789, 0.00012345678912, \n",
    "     25, 36, 17,20,22,23,25,27,34, 23, 21, 19, 24, 25, 27, \n",
    "     29, 28, 26, 29, 25, 34,20,22,23,25]\n",
    "\n",
    "# Ép kiểu bằng hàm 'astype()'\n",
    "x1 = np.array(x).astype(np.float64)\n",
    "print(x1)"
   ]
  },
  {
   "cell_type": "code",
   "execution_count": 12,
   "id": "08d7697c",
   "metadata": {},
   "outputs": [],
   "source": [
    "# Một số hàm tùy chỉnh\n",
    "np.set_printoptions(precision=3) # chỉ in 3 chữ số thập phân\n",
    "np.set_printoptions(threshold=10)# chỉ in tối đa 20 phần tử của mảng\n",
    "np.set_printoptions(suppress=True) # không dùng scientific notation"
   ]
  },
  {
   "cell_type": "code",
   "execution_count": 13,
   "id": "65ca0c3f",
   "metadata": {},
   "outputs": [
    {
     "name": "stdout",
     "output_type": "stream",
     "text": [
      "[ 4.123  0.    25.    ... 22.    23.    25.   ]\n"
     ]
    }
   ],
   "source": [
    "print(x1)"
   ]
  },
  {
   "cell_type": "markdown",
   "id": "822e6074",
   "metadata": {},
   "source": [
    "**Hàm `np.asarray()`**"
   ]
  },
  {
   "cell_type": "code",
   "execution_count": 13,
   "id": "6ac0ab9c",
   "metadata": {},
   "outputs": [
    {
     "data": {
      "text/plain": [
       "array([   5,    3,    8,    9, 1000], dtype=int16)"
      ]
     },
     "execution_count": 13,
     "metadata": {},
     "output_type": "execute_result"
    }
   ],
   "source": [
    "a2 = np.asarray(a)\n",
    "a2"
   ]
  },
  {
   "cell_type": "code",
   "execution_count": 9,
   "id": "3c99bc4b",
   "metadata": {},
   "outputs": [
    {
     "name": "stdout",
     "output_type": "stream",
     "text": [
      "[5 3 8 9 1]\n"
     ]
    }
   ],
   "source": [
    "a3 = np.asarray(a2)\n",
    "a3[-1] = 1\n",
    "print(a3)"
   ]
  },
  {
   "cell_type": "code",
   "execution_count": 10,
   "id": "ea9a5536",
   "metadata": {},
   "outputs": [
    {
     "name": "stdout",
     "output_type": "stream",
     "text": [
      "[5 3 8 9 1]\n"
     ]
    }
   ],
   "source": [
    "print(a2)"
   ]
  },
  {
   "cell_type": "code",
   "execution_count": 14,
   "id": "19e662fc",
   "metadata": {},
   "outputs": [
    {
     "name": "stdout",
     "output_type": "stream",
     "text": [
      "[5, 3, 8, 9, 1000]\n"
     ]
    }
   ],
   "source": [
    "# Lưu ý: list cũ không bị tác động\n",
    "print(a)"
   ]
  },
  {
   "cell_type": "markdown",
   "id": "317a4403",
   "metadata": {},
   "source": [
    "## 1.2. Mảng nhiều chiều"
   ]
  },
  {
   "cell_type": "markdown",
   "id": "011cf02d",
   "metadata": {},
   "source": [
    "**Khởi tạo mảng nhiều chiều**"
   ]
  },
  {
   "cell_type": "code",
   "execution_count": 30,
   "id": "a1ca9008",
   "metadata": {},
   "outputs": [
    {
     "data": {
      "text/plain": [
       "array([[   4,    5,    6],\n",
       "       [   7,    8,    9],\n",
       "       [  10,   15,   18],\n",
       "       [1000, 2000, 3000]])"
      ]
     },
     "execution_count": 30,
     "metadata": {},
     "output_type": "execute_result"
    }
   ],
   "source": [
    "# Mảng 2 chiều\n",
    "b = [[4,5,6], [7,8,9], [10,15,18], [1000,2000,3000]]\n",
    "b1 = np.array(b)\n",
    "b1"
   ]
  },
  {
   "cell_type": "code",
   "execution_count": 31,
   "id": "ee6cafe0",
   "metadata": {},
   "outputs": [
    {
     "data": {
      "text/plain": [
       "array([[[   4,    5,    6],\n",
       "        [   7,    8,    9],\n",
       "        [  10,   15,   18],\n",
       "        [1000, 2000, 3000]],\n",
       "\n",
       "       [[  25,   36,   17],\n",
       "        [  20,   22,   23],\n",
       "        [  25,   27,   34],\n",
       "        [  23,   21,   19]]])"
      ]
     },
     "execution_count": 31,
     "metadata": {},
     "output_type": "execute_result"
    }
   ],
   "source": [
    "# Mảng 3 chiều\n",
    "c = [[[4,5,6], [7,8,9], [10,15,18], [1000,2000,3000]],\n",
    "     [[25,36,17], [20,22,23], [25,27,34], [23,21,19]]\n",
    "    ]\n",
    "c1 = np.array(c)\n",
    "c1"
   ]
  },
  {
   "cell_type": "markdown",
   "id": "260f83f2",
   "metadata": {},
   "source": [
    "**Kiểm tra kích thước, số chiều của mảng**\n",
    "- shape\n",
    "- ndim\n",
    "- size"
   ]
  },
  {
   "cell_type": "code",
   "execution_count": 35,
   "id": "b5de4455",
   "metadata": {},
   "outputs": [
    {
     "name": "stdout",
     "output_type": "stream",
     "text": [
      "(2, 4, 3)\n",
      "3\n",
      "24\n"
     ]
    }
   ],
   "source": [
    "print(c1.shape)\n",
    "print(c1.ndim)\n",
    "print(c1.size)"
   ]
  },
  {
   "cell_type": "markdown",
   "id": "f1df8c78",
   "metadata": {},
   "source": [
    "## 1.3. Truy cập vào mảng"
   ]
  },
  {
   "cell_type": "markdown",
   "id": "6d8e919f",
   "metadata": {},
   "source": [
    "**Truy cập vào vị trí theo chỉ số** <br>\n",
    "(Lưu ý: chỉ số bắt đầu từ 0)"
   ]
  },
  {
   "cell_type": "code",
   "execution_count": 53,
   "id": "39a9f5ac",
   "metadata": {},
   "outputs": [
    {
     "data": {
      "text/plain": [
       "array([[   4,    5,    6],\n",
       "       [   7,    8,    9],\n",
       "       [  10,   15,   18],\n",
       "       [1000, 2000, 3000]])"
      ]
     },
     "execution_count": 53,
     "metadata": {},
     "output_type": "execute_result"
    }
   ],
   "source": [
    "c1[0]"
   ]
  },
  {
   "cell_type": "code",
   "execution_count": 54,
   "id": "a91ad904",
   "metadata": {},
   "outputs": [
    {
     "data": {
      "text/plain": [
       "array([7, 8, 9])"
      ]
     },
     "execution_count": 54,
     "metadata": {},
     "output_type": "execute_result"
    }
   ],
   "source": [
    "c1[0,1]"
   ]
  },
  {
   "cell_type": "code",
   "execution_count": 56,
   "id": "a5cfe32d",
   "metadata": {},
   "outputs": [
    {
     "data": {
      "text/plain": [
       "9"
      ]
     },
     "execution_count": 56,
     "metadata": {},
     "output_type": "execute_result"
    }
   ],
   "source": [
    "c1[0, 1, -1]"
   ]
  },
  {
   "cell_type": "code",
   "execution_count": 57,
   "id": "45972a62",
   "metadata": {},
   "outputs": [
    {
     "name": "stdout",
     "output_type": "stream",
     "text": [
      "[[[   4    5    6]\n",
      "  [   7    8  100]\n",
      "  [  10   15   18]\n",
      "  [1000 2000 3000]]\n",
      "\n",
      " [[  25   36   17]\n",
      "  [  20   22   23]\n",
      "  [  25   27   34]\n",
      "  [  23   21   19]]]\n"
     ]
    }
   ],
   "source": [
    "# Thử thực hiện thay đổi giá trị\n",
    "c1[0, 1, -1] = 100\n",
    "print(c1)"
   ]
  },
  {
   "cell_type": "markdown",
   "id": "428af405",
   "metadata": {},
   "source": [
    "**Slicing**"
   ]
  },
  {
   "cell_type": "code",
   "execution_count": 58,
   "id": "aa115d42",
   "metadata": {},
   "outputs": [
    {
     "data": {
      "text/plain": [
       "array([[  7,   8, 100],\n",
       "       [ 10,  15,  18]])"
      ]
     },
     "execution_count": 58,
     "metadata": {},
     "output_type": "execute_result"
    }
   ],
   "source": [
    "c1[0,1:3]"
   ]
  },
  {
   "cell_type": "code",
   "execution_count": 72,
   "id": "cc892272",
   "metadata": {},
   "outputs": [
    {
     "name": "stdout",
     "output_type": "stream",
     "text": [
      "[ 4.12346  0.00012 25.      36.      17.      20.      22.     ]\n"
     ]
    }
   ],
   "source": [
    "print(x1[0:7])"
   ]
  },
  {
   "cell_type": "code",
   "execution_count": 73,
   "id": "889e3573",
   "metadata": {},
   "outputs": [
    {
     "name": "stdout",
     "output_type": "stream",
     "text": [
      "[ 4.12346 25.      17.     ]\n"
     ]
    }
   ],
   "source": [
    "# Slicing theo quy tắc 'start:stop:step'\n",
    "print(x1[0:5:2])"
   ]
  },
  {
   "cell_type": "markdown",
   "id": "77366518",
   "metadata": {},
   "source": [
    "# 2. Một số hàm tính toán, sắp xếp"
   ]
  },
  {
   "cell_type": "markdown",
   "id": "6bb8d265",
   "metadata": {},
   "source": [
    "## 2.1. Các phép toán học"
   ]
  },
  {
   "cell_type": "code",
   "execution_count": 38,
   "id": "91cf64cc",
   "metadata": {},
   "outputs": [
    {
     "data": {
      "text/plain": [
       "array([[   4,    5,    6],\n",
       "       [   7,    8,    9],\n",
       "       [  10,   15,   18],\n",
       "       [1000, 2000, 3000]])"
      ]
     },
     "execution_count": 38,
     "metadata": {},
     "output_type": "execute_result"
    }
   ],
   "source": [
    "b1"
   ]
  },
  {
   "cell_type": "markdown",
   "id": "db3f3ffb",
   "metadata": {},
   "source": [
    "**Một số các phép toán thông dụng**"
   ]
  },
  {
   "cell_type": "code",
   "execution_count": 43,
   "id": "4418139e",
   "metadata": {},
   "outputs": [
    {
     "data": {
      "text/plain": [
       "array([[   5,    6,    7],\n",
       "       [   8,    9,   10],\n",
       "       [  11,   16,   19],\n",
       "       [1001, 2001, 3001]])"
      ]
     },
     "execution_count": 43,
     "metadata": {},
     "output_type": "execute_result"
    }
   ],
   "source": [
    "b1 + 1"
   ]
  },
  {
   "cell_type": "code",
   "execution_count": 47,
   "id": "0406f0a6",
   "metadata": {},
   "outputs": [
    {
     "data": {
      "text/plain": [
       "array([[   2,    3,    4],\n",
       "       [   5,    6,    7],\n",
       "       [   8,   13,   16],\n",
       "       [ 998, 1998, 2998]])"
      ]
     },
     "execution_count": 47,
     "metadata": {},
     "output_type": "execute_result"
    }
   ],
   "source": [
    "b1 - 2"
   ]
  },
  {
   "cell_type": "markdown",
   "id": "273e712f",
   "metadata": {},
   "source": [
    "**Phép `Broadcasting`**"
   ]
  },
  {
   "cell_type": "code",
   "execution_count": 46,
   "id": "0213d7eb",
   "metadata": {},
   "outputs": [
    {
     "data": {
      "text/plain": [
       "array([[   1,    3,    5],\n",
       "       [   4,    6,    8],\n",
       "       [   7,   13,   17],\n",
       "       [ 997, 1998, 2999]])"
      ]
     },
     "execution_count": 46,
     "metadata": {},
     "output_type": "execute_result"
    }
   ],
   "source": [
    "b1 - np.array([3, 2, 1])"
   ]
  },
  {
   "cell_type": "markdown",
   "id": "84662d3e",
   "metadata": {},
   "source": [
    "## 2.2. Các hàm thống kê cơ bản"
   ]
  },
  {
   "cell_type": "code",
   "execution_count": 40,
   "id": "0c44ad88",
   "metadata": {},
   "outputs": [
    {
     "name": "stdout",
     "output_type": "stream",
     "text": [
      "[4 5 6]\n",
      "[   6    9   18 3000]\n"
     ]
    }
   ],
   "source": [
    "# Min/Max\n",
    "print(np.min(b1, axis=0))\n",
    "print(np.max(b1, axis=1))"
   ]
  },
  {
   "cell_type": "code",
   "execution_count": 42,
   "id": "8e0387cc",
   "metadata": {},
   "outputs": [
    {
     "name": "stdout",
     "output_type": "stream",
     "text": [
      "[255.25 507.   758.25]\n",
      "[ 8.5 11.5 13.5]\n"
     ]
    }
   ],
   "source": [
    "# Mean, Median\n",
    "print(np.mean(b1, axis=0))\n",
    "print(np.median(b1, axis=0))"
   ]
  },
  {
   "cell_type": "code",
   "execution_count": 16,
   "id": "db1d16c3",
   "metadata": {},
   "outputs": [
    {
     "name": "stdout",
     "output_type": "stream",
     "text": [
      "[ 4.123  0.    25.    ... 22.    23.    25.   ]\n",
      "56.51386876006416\n",
      "7.517570668777525\n"
     ]
    }
   ],
   "source": [
    "# Variance, Standard Deviation\n",
    "print(x1)\n",
    "print(x1.var())\n",
    "print(x1.std())"
   ]
  },
  {
   "cell_type": "markdown",
   "id": "4c436687",
   "metadata": {},
   "source": [
    "**Phân vị: `np.percentile`, `np.quantile`**"
   ]
  },
  {
   "cell_type": "code",
   "execution_count": null,
   "id": "1e9ea88e",
   "metadata": {},
   "outputs": [],
   "source": [
    "np.percentile(x1, [30, 70])"
   ]
  },
  {
   "cell_type": "code",
   "execution_count": null,
   "id": "63d5d608",
   "metadata": {},
   "outputs": [],
   "source": [
    "np.quantile(x1, 0.5)"
   ]
  },
  {
   "cell_type": "markdown",
   "id": "9cf872ac",
   "metadata": {},
   "source": [
    "## 2.3. Sắp xếp tăng/giảm"
   ]
  },
  {
   "cell_type": "code",
   "execution_count": 49,
   "id": "9dc6f9d1",
   "metadata": {
    "scrolled": true
   },
   "outputs": [
    {
     "data": {
      "text/plain": [
       "array([17, 20, 25, 25, 36])"
      ]
     },
     "execution_count": 49,
     "metadata": {},
     "output_type": "execute_result"
    }
   ],
   "source": [
    "# Sắp xếp tăng\n",
    "np.sort([25, 36, 17, 20, 25])"
   ]
  },
  {
   "cell_type": "code",
   "execution_count": 51,
   "id": "20df1886",
   "metadata": {
    "scrolled": true
   },
   "outputs": [
    {
     "data": {
      "text/plain": [
       "array([36, 25, 25, 20, 17])"
      ]
     },
     "execution_count": 51,
     "metadata": {},
     "output_type": "execute_result"
    }
   ],
   "source": [
    "# Sắp xếp giảm\n",
    "np.sort([25, 36, 17, 20, 25])[::-1]"
   ]
  },
  {
   "cell_type": "code",
   "execution_count": 52,
   "id": "8f2b52bb",
   "metadata": {},
   "outputs": [
    {
     "data": {
      "text/plain": [
       "array([2, 3, 0, 4, 1], dtype=int64)"
      ]
     },
     "execution_count": 52,
     "metadata": {},
     "output_type": "execute_result"
    }
   ],
   "source": [
    "# Lấy ra index sẽ sắp xếp mảng\n",
    "np.argsort([25, 36, 17, 20, 25])"
   ]
  },
  {
   "cell_type": "markdown",
   "id": "176b14f2",
   "metadata": {},
   "source": [
    "# 3. Một số khởi tạo đặc biệt"
   ]
  },
  {
   "cell_type": "markdown",
   "id": "a1fa136f",
   "metadata": {},
   "source": [
    "## 3.1. Khởi tạo mảng với 1 giá trị nào đó\n",
    "\n",
    "- np.zeros(), np.zeros_like()\n",
    "- np.ones(), np.ones_like()\n",
    "- np.full()"
   ]
  },
  {
   "cell_type": "code",
   "execution_count": 80,
   "id": "f33dbb65",
   "metadata": {},
   "outputs": [
    {
     "data": {
      "text/plain": [
       "array([[0., 0., 0., 0.],\n",
       "       [0., 0., 0., 0.],\n",
       "       [0., 0., 0., 0.]])"
      ]
     },
     "execution_count": 80,
     "metadata": {},
     "output_type": "execute_result"
    }
   ],
   "source": [
    "np.zeros((3,4))"
   ]
  },
  {
   "cell_type": "code",
   "execution_count": 76,
   "id": "3a7099cf",
   "metadata": {},
   "outputs": [
    {
     "data": {
      "text/plain": [
       "array([[1, 1, 1],\n",
       "       [1, 1, 1],\n",
       "       [1, 1, 1],\n",
       "       [1, 1, 1]])"
      ]
     },
     "execution_count": 76,
     "metadata": {},
     "output_type": "execute_result"
    }
   ],
   "source": [
    "np.ones_like(b1)"
   ]
  },
  {
   "cell_type": "code",
   "execution_count": 78,
   "id": "22976a5b",
   "metadata": {},
   "outputs": [
    {
     "data": {
      "text/plain": [
       "array([[100, 100, 100, 100],\n",
       "       [100, 100, 100, 100],\n",
       "       [100, 100, 100, 100]])"
      ]
     },
     "execution_count": 78,
     "metadata": {},
     "output_type": "execute_result"
    }
   ],
   "source": [
    "np.full((3,4), 100)"
   ]
  },
  {
   "cell_type": "markdown",
   "id": "92f3c5f2",
   "metadata": {},
   "source": [
    "## 3.2. Khởi tạo chuỗi các giá trị"
   ]
  },
  {
   "cell_type": "code",
   "execution_count": 81,
   "id": "e3e8041e",
   "metadata": {},
   "outputs": [
    {
     "data": {
      "text/plain": [
       "array([1, 2, 3, 4, 5, 6, 7, 8, 9])"
      ]
     },
     "execution_count": 81,
     "metadata": {},
     "output_type": "execute_result"
    }
   ],
   "source": [
    "# arange(start, stop, step)\n",
    "np.arange(1, 10, 1)"
   ]
  },
  {
   "cell_type": "code",
   "execution_count": 83,
   "id": "69e37520",
   "metadata": {},
   "outputs": [
    {
     "data": {
      "text/plain": [
       "array([3.5    , 3.86667, 4.23333, 4.6    , 4.96667, 5.33333, 5.7    ,\n",
       "       6.06667, 6.43333, 6.8    ])"
      ]
     },
     "execution_count": 83,
     "metadata": {},
     "output_type": "execute_result"
    }
   ],
   "source": [
    "# linspace(start, stop, num)\n",
    "np.linspace(3.5, 6.8, 10)"
   ]
  },
  {
   "cell_type": "markdown",
   "id": "0c1027d5",
   "metadata": {},
   "source": [
    "## 3.3. Khởi tạo ngẫu nhiên"
   ]
  },
  {
   "cell_type": "markdown",
   "id": "6dfcb6a2",
   "metadata": {},
   "source": [
    "**Tạo mảng số nguyên hoặc số thực**"
   ]
  },
  {
   "cell_type": "code",
   "execution_count": 87,
   "id": "1a1a7f71",
   "metadata": {},
   "outputs": [
    {
     "data": {
      "text/plain": [
       "0.13623432201904695"
      ]
     },
     "execution_count": 87,
     "metadata": {},
     "output_type": "execute_result"
    }
   ],
   "source": [
    "np.random.rand()"
   ]
  },
  {
   "cell_type": "code",
   "execution_count": 88,
   "id": "883c1856",
   "metadata": {},
   "outputs": [
    {
     "data": {
      "text/plain": [
       "array([[0.54414, 0.51818, 0.76686, 0.93385],\n",
       "       [0.0897 , 0.19577, 0.99419, 0.23518],\n",
       "       [0.23899, 0.6291 , 0.73495, 0.68834]])"
      ]
     },
     "execution_count": 88,
     "metadata": {},
     "output_type": "execute_result"
    }
   ],
   "source": [
    "np.random.random((3,4))"
   ]
  },
  {
   "cell_type": "code",
   "execution_count": 91,
   "id": "a235017d",
   "metadata": {},
   "outputs": [
    {
     "data": {
      "text/plain": [
       "array([ 6, 12,  8, 10,  2])"
      ]
     },
     "execution_count": 91,
     "metadata": {},
     "output_type": "execute_result"
    }
   ],
   "source": [
    "np.random.randint(low=1, high=20, size=5)"
   ]
  },
  {
   "cell_type": "markdown",
   "id": "9877998b",
   "metadata": {},
   "source": [
    "**Theo phân bố chuẩn**<br>\n",
    "`np.random.normal(mean, standard-deviation, num)`"
   ]
  },
  {
   "cell_type": "code",
   "execution_count": 84,
   "id": "0888117d",
   "metadata": {},
   "outputs": [
    {
     "data": {
      "text/plain": [
       "array([6.70826, 6.39161, 5.80931, ..., 9.54407, 5.13707, 7.42686])"
      ]
     },
     "execution_count": 84,
     "metadata": {},
     "output_type": "execute_result"
    }
   ],
   "source": [
    "np.random.normal(7, 2, 100)"
   ]
  },
  {
   "cell_type": "code",
   "execution_count": 85,
   "id": "943ac11e",
   "metadata": {},
   "outputs": [
    {
     "data": {
      "text/plain": [
       "array([ 4.47189, 10.05581,  5.05858, ...,  6.43596,  7.66336,  7.87412])"
      ]
     },
     "execution_count": 85,
     "metadata": {},
     "output_type": "execute_result"
    }
   ],
   "source": [
    "np.random.seed(30)\n",
    "np.random.normal(7, 2, 100)"
   ]
  },
  {
   "cell_type": "markdown",
   "id": "578bf91b",
   "metadata": {},
   "source": [
    "**Theo phân bố đều**<br>\n",
    "`np.random.uniform(min, max, num)`"
   ]
  },
  {
   "cell_type": "code",
   "execution_count": 86,
   "id": "86548699",
   "metadata": {},
   "outputs": [
    {
     "data": {
      "text/plain": [
       "array([2.58649, 2.42845, 2.59783, 2.29819, 2.77756, 2.408  , 2.79505,\n",
       "       2.34103, 2.55142, 2.44401])"
      ]
     },
     "execution_count": 86,
     "metadata": {},
     "output_type": "execute_result"
    }
   ],
   "source": [
    "np.random.seed(30)\n",
    "np.random.uniform(2.2, 2.8, 10)"
   ]
  },
  {
   "cell_type": "markdown",
   "id": "6bccda06",
   "metadata": {},
   "source": [
    "**Luyện tập: tạo mảng số thực từ [-20, 50]**"
   ]
  },
  {
   "cell_type": "code",
   "execution_count": 22,
   "id": "3bd6a6a5",
   "metadata": {},
   "outputs": [
    {
     "name": "stdout",
     "output_type": "stream",
     "text": [
      "[ 33.992 -18.547  24.355 ...  15.92   25.528  22.073]\n"
     ]
    }
   ],
   "source": [
    "# Cách 1: dùng hàm rand()\n",
    "np.random.seed(10)\n",
    "kq1 = np.random.rand(30)*70 - 20\n",
    "print(kq1)"
   ]
  },
  {
   "cell_type": "code",
   "execution_count": 23,
   "id": "5060bb9e",
   "metadata": {},
   "outputs": [
    {
     "data": {
      "text/plain": [
       "array([36.366, 16.515, 43.605, ..., 11.941, 37.829, -2.404])"
      ]
     },
     "execution_count": 23,
     "metadata": {},
     "output_type": "execute_result"
    }
   ],
   "source": [
    "# Cách 2: dùng hàm uniform()\n",
    "kq2 = np.random.uniform(-20, 50, 30)\n",
    "kq2"
   ]
  },
  {
   "cell_type": "markdown",
   "id": "3f6ef4ac",
   "metadata": {},
   "source": [
    "# 4. Tìm kiếm, so sánh và đếm"
   ]
  },
  {
   "cell_type": "markdown",
   "id": "f96fdc8d",
   "metadata": {},
   "source": [
    "## 4.1. Tìm 1 giá trị hoặc so sánh với 1 ngưỡng"
   ]
  },
  {
   "cell_type": "code",
   "execution_count": 97,
   "id": "9355cb8a",
   "metadata": {},
   "outputs": [
    {
     "data": {
      "text/plain": [
       "array([[   4,    5,    6],\n",
       "       [   7,    8,    9],\n",
       "       [  10,   15,   18],\n",
       "       [1000, 2000, 3000]])"
      ]
     },
     "execution_count": 97,
     "metadata": {},
     "output_type": "execute_result"
    }
   ],
   "source": [
    "b1"
   ]
  },
  {
   "cell_type": "code",
   "execution_count": 94,
   "id": "6d7b4626",
   "metadata": {
    "scrolled": true
   },
   "outputs": [
    {
     "data": {
      "text/plain": [
       "array([[False, False, False],\n",
       "       [False,  True, False],\n",
       "       [False, False, False],\n",
       "       [False, False, False]])"
      ]
     },
     "execution_count": 94,
     "metadata": {},
     "output_type": "execute_result"
    }
   ],
   "source": [
    "b1 == 8"
   ]
  },
  {
   "cell_type": "code",
   "execution_count": 96,
   "id": "5e71ff02",
   "metadata": {},
   "outputs": [
    {
     "data": {
      "text/plain": [
       "array([[False, False, False],\n",
       "       [False,  True,  True],\n",
       "       [ True,  True,  True],\n",
       "       [ True,  True,  True]])"
      ]
     },
     "execution_count": 96,
     "metadata": {},
     "output_type": "execute_result"
    }
   ],
   "source": [
    "b1 >= 8"
   ]
  },
  {
   "cell_type": "code",
   "execution_count": null,
   "id": "f13b6b20",
   "metadata": {},
   "outputs": [],
   "source": [
    "# Lấy ra các giá trị chia hết cho 3\n",
    "b1[(b1 % 3) == 0]"
   ]
  },
  {
   "cell_type": "markdown",
   "id": "6eadbdc7",
   "metadata": {},
   "source": [
    "## 4.2. Đếm"
   ]
  },
  {
   "cell_type": "markdown",
   "id": "3d6e071b",
   "metadata": {},
   "source": [
    "**Đếm số lượng các giá trị thỏa điều kiện**"
   ]
  },
  {
   "cell_type": "code",
   "execution_count": 95,
   "id": "2f0c9dca",
   "metadata": {},
   "outputs": [
    {
     "data": {
      "text/plain": [
       "1"
      ]
     },
     "execution_count": 95,
     "metadata": {},
     "output_type": "execute_result"
    }
   ],
   "source": [
    "np.count_nonzero(b1 == 8)"
   ]
  },
  {
   "cell_type": "code",
   "execution_count": 98,
   "id": "dd547f19",
   "metadata": {},
   "outputs": [
    {
     "data": {
      "text/plain": [
       "7"
      ]
     },
     "execution_count": 98,
     "metadata": {},
     "output_type": "execute_result"
    }
   ],
   "source": [
    "np.count_nonzero(b1 > 8)"
   ]
  },
  {
   "cell_type": "markdown",
   "id": "ef07e4af",
   "metadata": {},
   "source": [
    "**Đếm số lần xuất hiện của các giá trị bằng `np.unique()`**"
   ]
  },
  {
   "cell_type": "code",
   "execution_count": 104,
   "id": "d0341bd9",
   "metadata": {},
   "outputs": [
    {
     "data": {
      "text/plain": [
       "array([17, 20, 23, 25, 36])"
      ]
     },
     "execution_count": 104,
     "metadata": {},
     "output_type": "execute_result"
    }
   ],
   "source": [
    "ds = [25, 36, 17, 20, 23, 23, 25, 17, 36, 25]\n",
    "np.unique(ds)"
   ]
  },
  {
   "cell_type": "code",
   "execution_count": 105,
   "id": "248044d5",
   "metadata": {},
   "outputs": [
    {
     "data": {
      "text/plain": [
       "(array([17, 20, 23, 25, 36]), array([2, 1, 2, 3, 2], dtype=int64))"
      ]
     },
     "execution_count": 105,
     "metadata": {},
     "output_type": "execute_result"
    }
   ],
   "source": [
    "np.unique(ds, return_counts=True)"
   ]
  },
  {
   "cell_type": "code",
   "execution_count": 106,
   "id": "30b8e40a",
   "metadata": {},
   "outputs": [
    {
     "name": "stdout",
     "output_type": "stream",
     "text": [
      "[17 20 23 25 36]\n",
      "[2 1 2 3 2]\n"
     ]
    }
   ],
   "source": [
    "# Lấy ra các kết quả\n",
    "gia_tri, so_luong = np.unique(ds, return_counts=True)\n",
    "print(gia_tri)\n",
    "print(so_luong)"
   ]
  },
  {
   "cell_type": "markdown",
   "id": "4bede2dc",
   "metadata": {},
   "source": [
    "**Luyện tập: lấy ra giá trị có số lần xuất hiện nhiều nhất (mode)?**"
   ]
  },
  {
   "cell_type": "code",
   "execution_count": 109,
   "id": "f124118c",
   "metadata": {},
   "outputs": [
    {
     "data": {
      "text/plain": [
       "25"
      ]
     },
     "execution_count": 109,
     "metadata": {},
     "output_type": "execute_result"
    }
   ],
   "source": [
    "???"
   ]
  }
 ],
 "metadata": {
  "kernelspec": {
   "display_name": "Python 3 (ipykernel)",
   "language": "python",
   "name": "python3"
  },
  "language_info": {
   "codemirror_mode": {
    "name": "ipython",
    "version": 3
   },
   "file_extension": ".py",
   "mimetype": "text/x-python",
   "name": "python",
   "nbconvert_exporter": "python",
   "pygments_lexer": "ipython3",
   "version": "3.9.7"
  }
 },
 "nbformat": 4,
 "nbformat_minor": 5
}
