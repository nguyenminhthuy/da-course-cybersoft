{
 "cells": [
  {
   "cell_type": "code",
   "execution_count": 1,
   "id": "2f15f733",
   "metadata": {},
   "outputs": [
    {
     "data": {
      "text/html": [
       "<style type='text/css'>\n",
       ".CodeMirror{\n",
       "    font-size: 18px;\n",
       "}\n",
       "\n",
       "div.output_area pre {\n",
       "    font-size: 16px;\n",
       "}\n",
       "</style>\n"
      ],
      "text/plain": [
       "<IPython.core.display.HTML object>"
      ]
     },
     "metadata": {},
     "output_type": "display_data"
    }
   ],
   "source": [
    "%%html\n",
    "<style type='text/css'>\n",
    ".CodeMirror{\n",
    "    font-size: 18px;\n",
    "}\n",
    "\n",
    "div.output_area pre {\n",
    "    font-size: 16px;\n",
    "}\n",
    "</style>"
   ]
  },
  {
   "cell_type": "code",
   "execution_count": 2,
   "id": "1bcf1323",
   "metadata": {},
   "outputs": [],
   "source": [
    "import numpy as np"
   ]
  },
  {
   "cell_type": "markdown",
   "id": "ae70d38d",
   "metadata": {},
   "source": [
    "# 1. Cơ bản về xử lý dữ liệu text"
   ]
  },
  {
   "cell_type": "markdown",
   "id": "5e11f4da",
   "metadata": {},
   "source": [
    "## 1.1. Cấu thành dữ liệu text"
   ]
  },
  {
   "cell_type": "code",
   "execution_count": 4,
   "id": "5833c9d9",
   "metadata": {},
   "outputs": [
    {
     "name": "stdout",
     "output_type": "stream",
     "text": [
      "False\n"
     ]
    }
   ],
   "source": [
    "# Ví dụ: nhập liệu chữ IN HOA - in thường\n",
    "dia_phuong_1 = 'Cao Thắng'\n",
    "dia_phuong_2 = \"cao Thắng\"\n",
    "print(dia_phuong_1 == dia_phuong_2)"
   ]
  },
  {
   "cell_type": "code",
   "execution_count": 10,
   "id": "ae12eb00",
   "metadata": {},
   "outputs": [
    {
     "data": {
      "text/plain": [
       "True"
      ]
     },
     "execution_count": 10,
     "metadata": {},
     "output_type": "execute_result"
    }
   ],
   "source": [
    "# Convert sang kiểu chữ thường\n",
    "dia_phuong_1.lower() == dia_phuong_2.lower()"
   ]
  },
  {
   "cell_type": "markdown",
   "id": "a79e5b2d",
   "metadata": {},
   "source": [
    "**Một số cách trình bày khi in các đoạn text**"
   ]
  },
  {
   "cell_type": "code",
   "execution_count": 5,
   "id": "6fe3d0d2",
   "metadata": {},
   "outputs": [
    {
     "name": "stdout",
     "output_type": "stream",
     "text": [
      "Xin Chào! \n",
      "\tTôi tên là Trần Văn A\n"
     ]
    }
   ],
   "source": [
    "# Dấu xuống dòng: \\n\n",
    "# Dấu Tab (thụt đầu dòng): \\t\n",
    "a = \"Xin Chào! \\n\\tTôi tên là Trần Văn A\"\n",
    "print(a)"
   ]
  },
  {
   "cell_type": "code",
   "execution_count": 4,
   "id": "0b63fece",
   "metadata": {
    "scrolled": true
   },
   "outputs": [
    {
     "name": "stdout",
     "output_type": "stream",
     "text": [
      "Địa chỉ: 15A\\34 đường Cao Thắng\n"
     ]
    }
   ],
   "source": [
    "# Giả sử cần in ra dấu \"\\\"\n",
    "print(\"Địa chỉ: 15A\\\\34 đường Cao Thắng\")"
   ]
  },
  {
   "cell_type": "code",
   "execution_count": 7,
   "id": "40154cf2",
   "metadata": {},
   "outputs": [
    {
     "name": "stdout",
     "output_type": "stream",
     "text": [
      "Tôi tên là: \\nTrần Văn A\n"
     ]
    }
   ],
   "source": [
    "# Giữ nguyên format với tiền tố \"r\" (raw)\n",
    "print(r\"Tôi tên là: \\nTrần Văn A\")"
   ]
  },
  {
   "cell_type": "code",
   "execution_count": 8,
   "id": "3fd31560",
   "metadata": {},
   "outputs": [
    {
     "name": "stdout",
     "output_type": "stream",
     "text": [
      "Xin Chào!\n",
      "Tôi tên là 'Trần Văn A'\n",
      "----\n",
      "Rất vui được làm quen\n"
     ]
    }
   ],
   "source": [
    "# Dạng docstring\n",
    "lời_chào = '''Xin Chào!\n",
    "Tôi tên là \\'Trần Văn A\\'\n",
    "----\n",
    "Rất vui được làm quen'''\n",
    "print(lời_chào)"
   ]
  },
  {
   "cell_type": "code",
   "execution_count": 9,
   "id": "31294e50",
   "metadata": {},
   "outputs": [
    {
     "ename": "TypeError",
     "evalue": "'str' object does not support item assignment",
     "output_type": "error",
     "traceback": [
      "\u001b[1;31m---------------------------------------------------------------------------\u001b[0m",
      "\u001b[1;31mTypeError\u001b[0m                                 Traceback (most recent call last)",
      "\u001b[1;32mC:\\Users\\QUANG-~1\\AppData\\Local\\Temp/ipykernel_2648/3236666281.py\u001b[0m in \u001b[0;36m<module>\u001b[1;34m\u001b[0m\n\u001b[0;32m      1\u001b[0m \u001b[1;31m# Sau khi khai báo, giá trị của ký tự trong chuỗi không thay đổi được (immutable)\u001b[0m\u001b[1;33m\u001b[0m\u001b[1;33m\u001b[0m\u001b[0m\n\u001b[0;32m      2\u001b[0m \u001b[0mvd\u001b[0m \u001b[1;33m=\u001b[0m \u001b[1;34m\"abc\"\u001b[0m\u001b[1;33m\u001b[0m\u001b[1;33m\u001b[0m\u001b[0m\n\u001b[1;32m----> 3\u001b[1;33m \u001b[0mvd\u001b[0m\u001b[1;33m[\u001b[0m\u001b[1;36m1\u001b[0m\u001b[1;33m]\u001b[0m \u001b[1;33m=\u001b[0m \u001b[1;34m'd'\u001b[0m\u001b[1;33m\u001b[0m\u001b[1;33m\u001b[0m\u001b[0m\n\u001b[0m\u001b[0;32m      4\u001b[0m \u001b[0mprint\u001b[0m\u001b[1;33m(\u001b[0m\u001b[0mvd\u001b[0m\u001b[1;33m)\u001b[0m\u001b[1;33m\u001b[0m\u001b[1;33m\u001b[0m\u001b[0m\n",
      "\u001b[1;31mTypeError\u001b[0m: 'str' object does not support item assignment"
     ]
    }
   ],
   "source": [
    "# Sau khi khai báo, giá trị của ký tự trong chuỗi không thay đổi được (immutable)\n",
    "vd = \"abc\"\n",
    "vd[1] = 'd'\n",
    "print(vd)"
   ]
  },
  {
   "cell_type": "markdown",
   "id": "bdc9d047",
   "metadata": {},
   "source": [
    "## 1.2. Truy cập vào phần từ trong chuỗi text"
   ]
  },
  {
   "cell_type": "code",
   "execution_count": 11,
   "id": "7515085c",
   "metadata": {},
   "outputs": [
    {
     "name": "stdout",
     "output_type": "stream",
     "text": [
      "Xin Chào!\n",
      "Tôi tên là 'Trần Văn A'\n"
     ]
    }
   ],
   "source": [
    "# len()\n",
    "lời_chào = \"Xin Chào!\\nTôi tên là 'Trần Văn A'\"\n",
    "print(lời_chào)"
   ]
  },
  {
   "cell_type": "code",
   "execution_count": 12,
   "id": "424f6a7b",
   "metadata": {},
   "outputs": [
    {
     "name": "stdout",
     "output_type": "stream",
     "text": [
      "33\n"
     ]
    }
   ],
   "source": [
    "print(len(lời_chào))"
   ]
  },
  {
   "cell_type": "code",
   "execution_count": 13,
   "id": "014f4bab",
   "metadata": {},
   "outputs": [
    {
     "name": "stdout",
     "output_type": "stream",
     "text": [
      "Xin Chào!\n",
      "'Trần Văn A\n"
     ]
    }
   ],
   "source": [
    "# slicing\n",
    "str1 = lời_chào[:9]\n",
    "str2 = lời_chào[-12:-1]\n",
    "print(str1)\n",
    "print(str2)"
   ]
  },
  {
   "cell_type": "code",
   "execution_count": 14,
   "id": "e46cab3e",
   "metadata": {},
   "outputs": [
    {
     "name": "stdout",
     "output_type": "stream",
     "text": [
      "b\n"
     ]
    }
   ],
   "source": [
    "# looping\n",
    "vd = \"abc\"\n",
    "for letter in vd: \n",
    "    if letter == 'b': print(letter)"
   ]
  },
  {
   "cell_type": "markdown",
   "id": "ddfd369e",
   "metadata": {},
   "source": [
    "# 2. Các phương thức cơ bản của chuỗi"
   ]
  },
  {
   "cell_type": "markdown",
   "id": "ab504753",
   "metadata": {},
   "source": [
    "## 2.1. Đổi kiểu text"
   ]
  },
  {
   "cell_type": "markdown",
   "id": "c4e20664",
   "metadata": {},
   "source": [
    "**Đổi chữ hoa, thường**"
   ]
  },
  {
   "cell_type": "code",
   "execution_count": 2,
   "id": "22a179d3",
   "metadata": {},
   "outputs": [
    {
     "name": "stdout",
     "output_type": "stream",
     "text": [
      "xin  chào các bạn\n",
      "XIN  CHÀO CÁC BẠN\n"
     ]
    }
   ],
   "source": [
    "# lower(), upper()\n",
    "lời_chào = \"Xin  ChÀo CÁc BẠn\"\n",
    "print(lời_chào.lower())\n",
    "print(lời_chào.upper())"
   ]
  },
  {
   "cell_type": "code",
   "execution_count": 3,
   "id": "53e09c16",
   "metadata": {},
   "outputs": [
    {
     "name": "stdout",
     "output_type": "stream",
     "text": [
      "Xin  Chào Các Bạn\n"
     ]
    }
   ],
   "source": [
    "print(lời_chào.title())"
   ]
  },
  {
   "cell_type": "markdown",
   "id": "41aeabcd",
   "metadata": {},
   "source": [
    " ## 2.2. Cắt và ghép chuỗi"
   ]
  },
  {
   "cell_type": "markdown",
   "id": "34743b52",
   "metadata": {},
   "source": [
    "**Cắt chuỗi bằng hàm `split()`**"
   ]
  },
  {
   "cell_type": "code",
   "execution_count": 21,
   "id": "fe1f7428",
   "metadata": {},
   "outputs": [
    {
     "name": "stdout",
     "output_type": "stream",
     "text": [
      "['Số', '112,', 'Đường', 'Cao', 'Thắng,', 'Quận', '3,', 'Tp.', 'HCM']\n"
     ]
    }
   ],
   "source": [
    "# split()\n",
    "vd = \"Số 112, Đường Cao Thắng, Quận 3, Tp. HCM\"\n",
    "kq = vd.split()\n",
    "print(kq)"
   ]
  },
  {
   "cell_type": "code",
   "execution_count": 22,
   "id": "c9aca35e",
   "metadata": {},
   "outputs": [
    {
     "name": "stdout",
     "output_type": "stream",
     "text": [
      "['Số 112', ' Đường Cao Thắng', ' Quận 3', ' Tp. HCM']\n"
     ]
    }
   ],
   "source": [
    "# split()\n",
    "kq = vd.split(',')\n",
    "print(kq)"
   ]
  },
  {
   "cell_type": "code",
   "execution_count": 23,
   "id": "9a98b4fe",
   "metadata": {},
   "outputs": [
    {
     "name": "stdout",
     "output_type": "stream",
     "text": [
      "Số 112\n",
      " Đường Cao Thắng\n"
     ]
    }
   ],
   "source": [
    "# Truy cập vào thành phần sau khi cắt\n",
    "print(kq[0])\n",
    "print(kq[1])"
   ]
  },
  {
   "cell_type": "markdown",
   "id": "93b2d90b",
   "metadata": {},
   "source": [
    "**Ghép chuỗi: phép cộng chuỗi, phép join()**"
   ]
  },
  {
   "cell_type": "code",
   "execution_count": 8,
   "id": "7a4133a2",
   "metadata": {},
   "outputs": [
    {
     "name": "stdout",
     "output_type": "stream",
     "text": [
      "Tôi tên là: Trần Văn A\n"
     ]
    }
   ],
   "source": [
    "# Cộng chuỗi\n",
    "t1 = \"Tôi tên là\"\n",
    "t2 = \"Trần Văn A\"\n",
    "tuoi = 24\n",
    "t3 = t1 + \": \" + t2\n",
    "print(t3)"
   ]
  },
  {
   "cell_type": "code",
   "execution_count": 9,
   "id": "542c5d26",
   "metadata": {},
   "outputs": [
    {
     "name": "stdout",
     "output_type": "stream",
     "text": [
      "Tôi năm nay 24 tuổi\n"
     ]
    }
   ],
   "source": [
    "t4 = \"Tôi năm nay \" + str(tuoi) + \" tuổi\"\n",
    "print(t4)"
   ]
  },
  {
   "cell_type": "code",
   "execution_count": 33,
   "id": "3ccc3e75",
   "metadata": {},
   "outputs": [],
   "source": [
    "# Ghép chuỗi bằng join()\n",
    "my_list = ['Thực phẩm', 'Thuốc men', 'Sữa', 'Vật dụng y tế']"
   ]
  },
  {
   "cell_type": "code",
   "execution_count": 34,
   "id": "1bb44c4f",
   "metadata": {},
   "outputs": [
    {
     "data": {
      "text/plain": [
       "'Thực phẩm, Thuốc men, Sữa, Vật dụng y tế'"
      ]
     },
     "execution_count": 34,
     "metadata": {},
     "output_type": "execute_result"
    }
   ],
   "source": [
    "', '.join(my_list)"
   ]
  },
  {
   "cell_type": "code",
   "execution_count": 57,
   "id": "b3e13e1a",
   "metadata": {},
   "outputs": [
    {
     "name": "stdout",
     "output_type": "stream",
     "text": [
      "Chuỗi được ghép: 1, 2, 3, 4\n"
     ]
    }
   ],
   "source": [
    "my_list2 = [1,2,3,4]\n",
    "print(\"Chuỗi được ghép:\", ', '.join([str(i) for i in my_list2]))"
   ]
  },
  {
   "cell_type": "markdown",
   "id": "c8778413",
   "metadata": {},
   "source": [
    "**Ví dụ: tạo ra tên file từ đường dẫn**"
   ]
  },
  {
   "cell_type": "code",
   "execution_count": 73,
   "id": "6ece37c7",
   "metadata": {},
   "outputs": [],
   "source": [
    "# Giả sử cần tạo ra file-name: 20210730.png\n",
    "filepath = \"D:\\study\\data-science\\bai tap 01\\doanh_so_ban_hang_20210730.csv\""
   ]
  },
  {
   "cell_type": "code",
   "execution_count": 75,
   "id": "9bb007c8",
   "metadata": {},
   "outputs": [],
   "source": [
    "img_file = filepath.split('\\\\')[-1].split('_')[-1][:-4] + '.png'"
   ]
  },
  {
   "cell_type": "code",
   "execution_count": 76,
   "id": "a05b3e6b",
   "metadata": {},
   "outputs": [
    {
     "name": "stdout",
     "output_type": "stream",
     "text": [
      "20210730.png\n"
     ]
    }
   ],
   "source": [
    "print(img_file)"
   ]
  },
  {
   "cell_type": "markdown",
   "id": "87fbc609",
   "metadata": {},
   "source": [
    "## 2.3. Loại bỏ khoảng trắng và thay thế"
   ]
  },
  {
   "cell_type": "markdown",
   "id": "8f7b7dc6",
   "metadata": {},
   "source": [
    "**Loại bỏ các khoảng trắng ở 2 đầu bằng hàm `strip()`**"
   ]
  },
  {
   "cell_type": "code",
   "execution_count": 25,
   "id": "114c9470",
   "metadata": {},
   "outputs": [
    {
     "name": "stdout",
     "output_type": "stream",
     "text": [
      "['Số 112', 'Đường Cao Thắng', 'Quận 3', 'Tp. HCM']\n"
     ]
    }
   ],
   "source": [
    "kq_new = [t.strip() for t in kq]\n",
    "print(kq_new)"
   ]
  },
  {
   "cell_type": "markdown",
   "id": "152b95f3",
   "metadata": {},
   "source": [
    "**Thay thế bằng hàm replace()**"
   ]
  },
  {
   "cell_type": "code",
   "execution_count": 5,
   "id": "b218c2db",
   "metadata": {},
   "outputs": [
    {
     "data": {
      "text/plain": [
       "'Anh thík       em.      Em   có    thík a   hok  '"
      ]
     },
     "execution_count": 5,
     "metadata": {},
     "output_type": "execute_result"
    }
   ],
   "source": [
    "vd = \"Anh thík       em.      Em   có    thík a   hok  \"\n",
    "vd"
   ]
  },
  {
   "cell_type": "code",
   "execution_count": 6,
   "id": "6ee1bc5e",
   "metadata": {},
   "outputs": [
    {
     "name": "stdout",
     "output_type": "stream",
     "text": [
      "Anh thík       em.      Em   có    thík a   hok  \n",
      "Anh thích       em.      Em   có    thích anh   không?  \n"
     ]
    }
   ],
   "source": [
    "# Thay: ('thík', 'thích', 1)\n",
    "vd1 = vd.replace('thík', 'thích').replace('hok', 'không?').replace('a', 'anh')\n",
    "print(vd)\n",
    "print(vd1)"
   ]
  },
  {
   "cell_type": "code",
   "execution_count": 7,
   "id": "7c6bf6cc",
   "metadata": {},
   "outputs": [
    {
     "name": "stdout",
     "output_type": "stream",
     "text": [
      "Anh thík       em.      Em   có    thík a   hok  \n",
      "Anh thích em. Em có thích anh không? \n"
     ]
    }
   ],
   "source": [
    "# Dùng vòng lặp while để thay thế \"  \" bằng \" \"\n",
    "s2 = str(vd1)\n",
    "\n",
    "while \"  \" in s2:\n",
    "    s2 = s2.replace(\"  \", \" \")\n",
    "    \n",
    "print(vd)\n",
    "print(s2)"
   ]
  },
  {
   "cell_type": "markdown",
   "id": "02fb29fc",
   "metadata": {},
   "source": [
    "**Sử dụng hàm `join()` để loại bỏ nhiều khoảng trắng**"
   ]
  },
  {
   "cell_type": "code",
   "execution_count": 11,
   "id": "bf4b745e",
   "metadata": {},
   "outputs": [
    {
     "name": "stdout",
     "output_type": "stream",
     "text": [
      "['Anh', 'thík', 'em.', 'Em', 'có', 'thík', 'a', 'hok']\n"
     ]
    }
   ],
   "source": [
    "# Kết quả khi cắt ra\n",
    "vd = \"Anh thík       em.      Em   có    thík a   hok  \"\n",
    "print(vd.split())"
   ]
  },
  {
   "cell_type": "code",
   "execution_count": 12,
   "id": "fd4b6536",
   "metadata": {},
   "outputs": [
    {
     "name": "stdout",
     "output_type": "stream",
     "text": [
      "anh thík em. em có thík a hok\n"
     ]
    }
   ],
   "source": [
    "# Kết hợp với hàm lower() để chuẩn hóa chuỗi\n",
    "kq = \" \".join(vd.lower().split())\n",
    "print(kq)"
   ]
  },
  {
   "cell_type": "markdown",
   "id": "33ddd7cd",
   "metadata": {},
   "source": [
    "## 2.4. Tìm kiếm, đếm chuỗi con"
   ]
  },
  {
   "cell_type": "markdown",
   "id": "98cc8610",
   "metadata": {},
   "source": [
    "**Kiểm tra chuỗi con trong chuỗi**"
   ]
  },
  {
   "cell_type": "code",
   "execution_count": 36,
   "id": "f760825c",
   "metadata": {},
   "outputs": [
    {
     "name": "stdout",
     "output_type": "stream",
     "text": [
      "True\n"
     ]
    }
   ],
   "source": [
    "# Kiểm tra chuỗi con: in \n",
    "binh_luan = \"SP còn khuyến mÃi ko ad?\"\n",
    "print('khuyến mãi' in binh_luan.lower())"
   ]
  },
  {
   "cell_type": "markdown",
   "id": "58d42dc3",
   "metadata": {},
   "source": [
    "**Đếm số chuỗi con: hàm `count()`**"
   ]
  },
  {
   "cell_type": "code",
   "execution_count": 13,
   "id": "b03d591b",
   "metadata": {},
   "outputs": [
    {
     "data": {
      "text/plain": [
       "2"
      ]
     },
     "execution_count": 13,
     "metadata": {},
     "output_type": "execute_result"
    }
   ],
   "source": [
    "kq.count('thík')"
   ]
  },
  {
   "cell_type": "code",
   "execution_count": 14,
   "id": "28f2e0e7",
   "metadata": {},
   "outputs": [
    {
     "data": {
      "text/plain": [
       "0"
      ]
     },
     "execution_count": 14,
     "metadata": {},
     "output_type": "execute_result"
    }
   ],
   "source": [
    "kq.count('thích')"
   ]
  },
  {
   "cell_type": "markdown",
   "id": "dafd5bb6",
   "metadata": {},
   "source": [
    "## 2.5. Format chuỗi kết quả tính toán"
   ]
  },
  {
   "cell_type": "markdown",
   "id": "cfd5bbf0",
   "metadata": {},
   "source": [
    "**Dùng ký hiệu % (phần trăm**"
   ]
  },
  {
   "cell_type": "code",
   "execution_count": 40,
   "id": "481d4c95",
   "metadata": {},
   "outputs": [
    {
     "name": "stdout",
     "output_type": "stream",
     "text": [
      "Bạn Tý có chiều cao là 172cm và cân nặng là 65.712000kg\n"
     ]
    }
   ],
   "source": [
    "vd = \"Bạn %s có chiều cao là %dcm và cân nặng là %fkg\"%('Tý', 172, 65.712)\n",
    "print(vd)"
   ]
  },
  {
   "cell_type": "code",
   "execution_count": 41,
   "id": "fdbd2952",
   "metadata": {},
   "outputs": [
    {
     "name": "stdout",
     "output_type": "stream",
     "text": [
      "Bạn Tý có chiều cao là 172cm và cân nặng là 65.8kg\n"
     ]
    }
   ],
   "source": [
    "vd = \"Bạn %s có chiều cao là %dcm và cân nặng là %2.1fkg\"%('Tý', 172, 65.772)\n",
    "print(vd)"
   ]
  },
  {
   "cell_type": "markdown",
   "id": "356978e0",
   "metadata": {},
   "source": [
    "**Dùng tiền tố \"f\"**"
   ]
  },
  {
   "cell_type": "code",
   "execution_count": 42,
   "id": "7e01ad16",
   "metadata": {},
   "outputs": [
    {
     "name": "stdout",
     "output_type": "stream",
     "text": [
      "PI có giá trị là 3.14159265359\n"
     ]
    }
   ],
   "source": [
    "tên_biến = 'PI'\n",
    "giá_trị = 3.14159265359\n",
    "vd = f\"{tên_biến} có giá trị là {giá_trị}\"\n",
    "print(vd)"
   ]
  },
  {
   "cell_type": "code",
   "execution_count": 43,
   "id": "9a436736",
   "metadata": {},
   "outputs": [
    {
     "name": "stdout",
     "output_type": "stream",
     "text": [
      "PI có giá trị là 3.14\n"
     ]
    }
   ],
   "source": [
    "tên_biến = 'PI'\n",
    "giá_trị = 3.14159265359\n",
    "vd = f\"{tên_biến} có giá trị là {giá_trị:.2f}\"\n",
    "print(vd)"
   ]
  },
  {
   "cell_type": "markdown",
   "id": "3038fcc9",
   "metadata": {},
   "source": [
    "**Dùng hàm text.format()**"
   ]
  },
  {
   "cell_type": "code",
   "execution_count": 44,
   "id": "0280d48a",
   "metadata": {},
   "outputs": [
    {
     "name": "stdout",
     "output_type": "stream",
     "text": [
      "PI có giá trị là 3.14\n"
     ]
    }
   ],
   "source": [
    "tên_biến = 'PI'\n",
    "giá_trị = 3.14159265359\n",
    "vd = \"{} có giá trị là {:.2f}\".format(tên_biến, giá_trị)\n",
    "print(vd)"
   ]
  },
  {
   "cell_type": "markdown",
   "id": "3ba30d56",
   "metadata": {},
   "source": [
    "# 3. Một số xử lý text với Numpy"
   ]
  },
  {
   "cell_type": "markdown",
   "id": "f23ffd50",
   "metadata": {},
   "source": [
    "## 3.1. Kiểm tra text"
   ]
  },
  {
   "cell_type": "code",
   "execution_count": 45,
   "id": "b101ea98",
   "metadata": {},
   "outputs": [
    {
     "name": "stdout",
     "output_type": "stream",
     "text": [
      "True\n",
      "True\n",
      "True\n",
      "True\n",
      "True\n"
     ]
    }
   ],
   "source": [
    "# Kiểm tra text có phải là số, chữ, chữ+số\n",
    "print(np.char.isdigit('123'))\n",
    "print(np.char.isnumeric('123'))\n",
    "print(np.char.isdecimal('123'))\n",
    "print(np.char.isalpha('abcd'))\n",
    "print(np.char.isalnum('123abcd'))"
   ]
  },
  {
   "cell_type": "code",
   "execution_count": 47,
   "id": "af69173a",
   "metadata": {},
   "outputs": [
    {
     "name": "stdout",
     "output_type": "stream",
     "text": [
      "True\n",
      "False\n"
     ]
    }
   ],
   "source": [
    "# Kiểm tra 1 text có dạng title (viết hoa ký tự đầu của từng chữ)\n",
    "print(np.char.istitle(\"Xin Chào Các Bạn\"))\n",
    "print(np.char.istitle(\"xin chào các bạn\"))"
   ]
  },
  {
   "cell_type": "markdown",
   "id": "bd73be0a",
   "metadata": {},
   "source": [
    "## 3.2. Parse dữ liệu text sang dạng số"
   ]
  },
  {
   "cell_type": "code",
   "execution_count": 48,
   "id": "ddd5fe51",
   "metadata": {},
   "outputs": [
    {
     "name": "stdout",
     "output_type": "stream",
     "text": [
      "12345\n",
      "12345.0\n"
     ]
    }
   ],
   "source": [
    "# Parsing thông thường bằng hàm của Python\n",
    "a = \"12345\"\n",
    "b = int(a)\n",
    "c = float(a)\n",
    "print(b)\n",
    "print(c)"
   ]
  },
  {
   "cell_type": "code",
   "execution_count": 50,
   "id": "c2eae15e",
   "metadata": {},
   "outputs": [
    {
     "name": "stdout",
     "output_type": "stream",
     "text": [
      "12344\n"
     ]
    }
   ],
   "source": [
    "# Parsing bằng Numpy\n",
    "a = \"12345.123\"\n",
    "#b = np.int(a)\n",
    "c = np.int16(np.float16(a))\n",
    "#print(b)\n",
    "print(c)"
   ]
  },
  {
   "cell_type": "code",
   "execution_count": 51,
   "id": "80b46175",
   "metadata": {},
   "outputs": [
    {
     "data": {
      "text/plain": [
       "array([12345.123,    56.   ], dtype=float32)"
      ]
     },
     "execution_count": 51,
     "metadata": {},
     "output_type": "execute_result"
    }
   ],
   "source": [
    "# Parsing một chuỗi các chữ số bằng Numpy\n",
    "a = \"12345.123, 56\"\n",
    "np.fromstring(a, dtype=np.float32, sep=',')"
   ]
  },
  {
   "cell_type": "code",
   "execution_count": 52,
   "id": "36c8ba3d",
   "metadata": {},
   "outputs": [
    {
     "data": {
      "text/plain": [
       "array([  3.14,   2.83, 100.1 ], dtype=float16)"
      ]
     },
     "execution_count": 52,
     "metadata": {},
     "output_type": "execute_result"
    }
   ],
   "source": [
    "# Parsing một list các số dạng text bằng Numpy\n",
    "a = ['3.14', '2.83', '100.1']\n",
    "#int(a), np.float(a)\n",
    "#np.array(a).astype(np.float16)\n",
    "np.array(a, dtype=np.float16)"
   ]
  },
  {
   "cell_type": "code",
   "execution_count": 55,
   "id": "2ff9f499",
   "metadata": {},
   "outputs": [
    {
     "data": {
      "text/plain": [
       "15.0"
      ]
     },
     "execution_count": 55,
     "metadata": {},
     "output_type": "execute_result"
    }
   ],
   "source": [
    "def ChuyenTextSangSo(s='12.25g'):\n",
    "    try:\n",
    "        number = float(s)        \n",
    "    except:\n",
    "        print(\"Không convert được\")\n",
    "        return s\n",
    "    \n",
    "    return number\n",
    "    \n",
    "ChuyenTextSangSo('15')"
   ]
  },
  {
   "cell_type": "code",
   "execution_count": 56,
   "id": "68a1d423",
   "metadata": {},
   "outputs": [
    {
     "name": "stdout",
     "output_type": "stream",
     "text": [
      "['3.14', '2.83abc', '100.1']\n",
      "[3.14, '2.83abc', 100.1]\n"
     ]
    }
   ],
   "source": [
    "# Cách convert 1 mảng gồm số dạng float và text\n",
    "def my_convert(x):\n",
    "    try: \n",
    "        kq = np.float32(x)\n",
    "        #print(type(kq))\n",
    "    except:\n",
    "        #print(x)\n",
    "        kq = x\n",
    "    return kq\n",
    "\n",
    "a = ['3.14', '2.83abc', '100.1']\n",
    "print(a)\n",
    "b = [my_convert(item) for item in a]\n",
    "print(b)"
   ]
  }
 ],
 "metadata": {
  "kernelspec": {
   "display_name": "Python 3 (ipykernel)",
   "language": "python",
   "name": "python3"
  },
  "language_info": {
   "codemirror_mode": {
    "name": "ipython",
    "version": 3
   },
   "file_extension": ".py",
   "mimetype": "text/x-python",
   "name": "python",
   "nbconvert_exporter": "python",
   "pygments_lexer": "ipython3",
   "version": "3.10.9"
  }
 },
 "nbformat": 4,
 "nbformat_minor": 5
}
