{
 "cells": [
  {
   "cell_type": "code",
   "execution_count": null,
   "id": "99713703",
   "metadata": {},
   "outputs": [],
   "source": [
    "%%html\n",
    "<style type='text/css'>\n",
    ".CodeMirror{\n",
    "    font-size: 18px;\n",
    "}\n",
    "\n",
    "div.output_area pre {\n",
    "    font-size: 16px;\n",
    "}\n",
    "</style>"
   ]
  },
  {
   "cell_type": "markdown",
   "id": "668c8b6b",
   "metadata": {},
   "source": [
    "# 0. Cập nhật phiên bản mới cho matplotlib"
   ]
  },
  {
   "cell_type": "code",
   "execution_count": null,
   "id": "a3e6473d",
   "metadata": {},
   "outputs": [],
   "source": [
    "%pip install --upgrade matplotlib"
   ]
  },
  {
   "cell_type": "code",
   "execution_count": null,
   "id": "9afd7b47",
   "metadata": {},
   "outputs": [],
   "source": [
    "import matplotlib\n",
    "from matplotlib import pyplot as plt\n",
    "print(matplotlib.__version__)"
   ]
  },
  {
   "cell_type": "markdown",
   "id": "467ea119",
   "metadata": {},
   "source": [
    "# 1. Biểu đồ cột: bar()"
   ]
  },
  {
   "cell_type": "markdown",
   "id": "c55b3942",
   "metadata": {},
   "source": [
    "### 1.1. Biểu đồ cột đơn giản"
   ]
  },
  {
   "cell_type": "code",
   "execution_count": null,
   "id": "f2c75b7a",
   "metadata": {
    "scrolled": false
   },
   "outputs": [],
   "source": [
    "ds1 = [20,22,23,25,27,34, 23, 21, 19, 24, 25, 27]\n",
    "\n",
    "plt.bar(range(len(ds1)), ds1)\n",
    "plt.show()"
   ]
  },
  {
   "cell_type": "markdown",
   "id": "99bae7b9",
   "metadata": {},
   "source": [
    "**Thêm màu sắc và chỉnh sửa xticks**"
   ]
  },
  {
   "cell_type": "code",
   "execution_count": null,
   "id": "6475c614",
   "metadata": {
    "scrolled": false
   },
   "outputs": [],
   "source": [
    "# Chỉnh sửa xticklabels\n",
    "plt.bar(x=???, \n",
    "        height=???, \n",
    "        color='r', width=0.5)\n",
    "\n",
    "x_list = [i+1 for i in range(len(ds1))]\n",
    "plt.xticks(\n",
    "            ???,         # vị trí\n",
    "            ???          # giá trị in ra\n",
    "          )\n",
    "\n",
    "plt.show()"
   ]
  },
  {
   "cell_type": "markdown",
   "id": "21466838",
   "metadata": {},
   "source": [
    "**Biểu đồ cột với giá trị âm**"
   ]
  },
  {
   "cell_type": "code",
   "execution_count": null,
   "id": "4c3ad030",
   "metadata": {
    "scrolled": false
   },
   "outputs": [],
   "source": [
    "# Đồng thời thử đổi màu của đường viền quanh cột với edgecolor\n",
    "ds2 = [20,-22,23,25,27,34, 23, -21, -19, 24, 25, 27]\n",
    "\n",
    "plt.bar(x=range(len(ds2)), height=ds2, edgecolor = \"k\", linewidth=2)\n",
    "plt.show()"
   ]
  },
  {
   "cell_type": "markdown",
   "id": "832c812e",
   "metadata": {},
   "source": [
    "### 1.2. Biểu đồ cột với scale khác nhau"
   ]
  },
  {
   "cell_type": "code",
   "execution_count": null,
   "id": "c89cfe61",
   "metadata": {},
   "outputs": [],
   "source": [
    "# Dữ liệu\n",
    "ds1 = [20, 22, 23, 25, 27, 34, 23, 21, 19, 20]\n",
    "ds2 = [24, 25, 24, 21, 22, 26, 18, 25, 24, 27]"
   ]
  },
  {
   "cell_type": "code",
   "execution_count": null,
   "id": "02ca5312",
   "metadata": {},
   "outputs": [],
   "source": [
    "# Tạo nhanh subplot từ plt (thay vì fig.add_subplot)\n",
    "ax1 = plt.subplot(1,2,1)\n",
    "plt.bar(x=range(len(ds1)), height=ds1, color=\"red\")\n",
    "\n",
    "ax2 = plt.subplot(1,2,2)\n",
    "plt.bar(x=range(len(ds2)), height=ds2, color=\"green\")\n",
    "plt.show()"
   ]
  },
  {
   "cell_type": "code",
   "execution_count": null,
   "id": "c684c025",
   "metadata": {},
   "outputs": [],
   "source": [
    "# Chỉnh lại scale bằng tham số sharey\n",
    "fig = plt.figure()\n",
    "ax1 = fig.add_subplot(1, 2, 1)\n",
    "ax2 = fig.add_subplot(1, 2, 2, ???)\n",
    "\n",
    "ax1.bar(x=range(len(ds1)), height=ds1, color=\"red\")\n",
    "ax2.bar(x=range(len(ds2)), height=ds2, color=\"green\")\n",
    "\n",
    "plt.show()"
   ]
  },
  {
   "cell_type": "code",
   "execution_count": null,
   "id": "9b6f5c24",
   "metadata": {},
   "outputs": [],
   "source": [
    "# Chỉnh vị trí in xtick_label\n",
    "fig = plt.figure()\n",
    "ax1 = fig.add_subplot(1, 2, 1)\n",
    "ax2 = fig.add_subplot(1, 2, 2, sharey=ax1)\n",
    "\n",
    "x1 = range(len(ds1))\n",
    "ax1.bar(x=x1, height=ds1, color=\"red\", align=\"center\")\n",
    "???\n",
    "\n",
    "x2 = range(len(ds2))\n",
    "ax2.bar(x=x2,height=ds2, color=\"green\")\n",
    "\n",
    "plt.show()"
   ]
  },
  {
   "cell_type": "markdown",
   "id": "ee40d42e",
   "metadata": {},
   "source": [
    "### 1.3. Biểu đồ dạng nhóm (group)"
   ]
  },
  {
   "cell_type": "markdown",
   "id": "fffb1af3",
   "metadata": {},
   "source": [
    "**Biểu đồ dạng nhóm (group) với 2 giá trị**"
   ]
  },
  {
   "cell_type": "code",
   "execution_count": null,
   "id": "11ff892c",
   "metadata": {},
   "outputs": [],
   "source": [
    "# Cách thực hiện: thiết lập vị trí trên trục x cho phù hợp\n",
    "plt.bar(x=???, height=ds1, width=???, color=\"red\", label=\"Nam\")\n",
    "plt.bar(x=???, height=ds2, width=???, color=\"green\", label=\"Nữ\")\n",
    "plt.legend()\n",
    "plt.show()"
   ]
  },
  {
   "cell_type": "markdown",
   "id": "ce38ab9f",
   "metadata": {},
   "source": [
    "**Biểu đồ dạng chồng lên nhau**"
   ]
  },
  {
   "cell_type": "code",
   "execution_count": null,
   "id": "64aeb3db",
   "metadata": {
    "scrolled": false
   },
   "outputs": [],
   "source": [
    "# set giá trị cho tham số bottom ở thông số thứ 2\n",
    "plt.bar(x=x1, height=ds1, width=0.4, color=\"red\", label=\"Nam\")\n",
    "plt.bar(x=x1, height=ds2, width=0.4, color=\"green\", label=\"Nữ\", ???)\n",
    "plt.legend()\n",
    "plt.show()"
   ]
  },
  {
   "cell_type": "markdown",
   "id": "5d1f41ad",
   "metadata": {},
   "source": [
    "**Thêm số biểu diễn giá trị thành phần**"
   ]
  },
  {
   "cell_type": "code",
   "execution_count": null,
   "id": "f73d4c14",
   "metadata": {
    "scrolled": false
   },
   "outputs": [],
   "source": [
    "# Dùng hàm ax.bar_label()\n",
    "plt.bar(x=x1, height=ds1, width=0.4, color=\"red\", label=\"Nam\")\n",
    "plt.bar(x=x1, height=ds2, width=0.4, color=\"green\", label=\"Nữ\", bottom=ds1)\n",
    "\n",
    "# Lưu ý: hiển thị tổng \n",
    "ax = plt.gca() # Get-Current-Axes\n",
    "???\n",
    "\n",
    "plt.legend()\n",
    "plt.show()"
   ]
  },
  {
   "cell_type": "code",
   "execution_count": null,
   "id": "17123cee",
   "metadata": {},
   "outputs": [],
   "source": [
    "# Thêm số biểu diễn giá trị thành phần\n",
    "plt.bar(x=x1, height=ds1, width=0.4, color=\"red\", label=\"Nam\")\n",
    "plt.bar(x=x1, height=ds2, width=0.4, color=\"green\", label=\"Nữ\", bottom=ds1)\n",
    "\n",
    "ax = plt.gca()\n",
    "\n",
    "# Các thành phần\n",
    "ax.bar_label(container = ax.containers[0], padding=-12, ???)\n",
    "ax.bar_label(container = ax.containers[1], padding=-12, ???, color='w')\n",
    "\n",
    "# Tổng\n",
    "???\n",
    "\n",
    "plt.legend()\n",
    "plt.show()"
   ]
  },
  {
   "cell_type": "markdown",
   "id": "5c6f2cb3",
   "metadata": {},
   "source": [
    "### 1.4. Biểu đồ nằm ngang"
   ]
  },
  {
   "cell_type": "code",
   "execution_count": null,
   "id": "4ab1dfc8",
   "metadata": {},
   "outputs": [],
   "source": [
    "# Thay vì set vị trí trên trục x ==> vị trí trên trục y\n",
    "plt.barh(y=[i-0.2 for i in x1], width=ds1, height=0.4, color=\"red\", label=\"Nam\")\n",
    "plt.barh(y=[i+0.2 for i in x2], width=ds2, height=0.4, color=\"green\", label=\"Nữ\")\n",
    "plt.legend(loc='lower right')\n",
    "plt.show()"
   ]
  },
  {
   "cell_type": "markdown",
   "id": "6615c1ed",
   "metadata": {},
   "source": [
    "**Biểu đồ nằm ngang dạng nối tiếp nhau**"
   ]
  },
  {
   "cell_type": "code",
   "execution_count": null,
   "id": "a1a08f64",
   "metadata": {},
   "outputs": [],
   "source": [
    "# set giá trị cho tham số \"left\"\n",
    "plt.barh(y=x1, width=ds1, height=0.6, color=\"red\", label=\"Nam\")\n",
    "plt.barh(y=x1, width=ds2, height=0.4, color=\"green\", label=\"Nữ\", ???)\n",
    "plt.legend(loc='lower right')\n",
    "plt.show()"
   ]
  },
  {
   "cell_type": "markdown",
   "id": "c79c5f30",
   "metadata": {},
   "source": [
    "### 1.5. Biểu đồ stem (tương tự biểu đồ cột)"
   ]
  },
  {
   "cell_type": "code",
   "execution_count": null,
   "id": "96c04bfe",
   "metadata": {
    "scrolled": false
   },
   "outputs": [],
   "source": [
    "x = [2,8,9]\n",
    "y1 = [10, 20, 30]\n",
    "plt.stem(x,y1, linefmt='--', markerfmt=\"D\", bottom=1)\n",
    "plt.show()\n",
    "# stem([x,] y, linefmt=None, markerfmt=None, basefmt=None)"
   ]
  },
  {
   "cell_type": "code",
   "execution_count": null,
   "id": "b01ff6de",
   "metadata": {
    "scrolled": false
   },
   "outputs": [],
   "source": [
    "# Có thể vẽ biểu đồ stem dạng group như cột\n",
    "y2 = [15, -20, -30]\n",
    "plt.stem(x,y1, linefmt='-.', markerfmt=\"o\", bottom=1)\n",
    "plt.stem([i+0.2 for i in x], y2, linefmt='--', markerfmt=\"D\", bottom=1)\n",
    "plt.show()\n",
    "# stem([x,] y, linefmt=None, markerfmt=None, basefmt=None)"
   ]
  },
  {
   "cell_type": "markdown",
   "id": "0c24f9d3",
   "metadata": {},
   "source": [
    "## 2. Biểu đồ histogram"
   ]
  },
  {
   "cell_type": "markdown",
   "id": "c0f72bb9",
   "metadata": {},
   "source": [
    "### 2.1. Ví dụ"
   ]
  },
  {
   "cell_type": "code",
   "execution_count": null,
   "id": "8f830295",
   "metadata": {},
   "outputs": [],
   "source": [
    "a = [0, 1, 2, 2, 3, 3, 3, 4, 5, 5, 6, 6, 6, 6, 7, 8, 9, 10]\n",
    "\n",
    "???\n",
    "plt.show()"
   ]
  },
  {
   "cell_type": "code",
   "execution_count": null,
   "id": "493efe25",
   "metadata": {},
   "outputs": [],
   "source": [
    "# Histogram với bins tự xác định\n",
    "fig,ax = plt.subplots()\n",
    "ax.hist(a, \n",
    "        ???,\n",
    "        color='r', edgecolor='k',\n",
    "        align=\"mid\"\n",
    "       )\n",
    "plt.show()"
   ]
  },
  {
   "cell_type": "code",
   "execution_count": null,
   "id": "2b213575",
   "metadata": {},
   "outputs": [],
   "source": [
    "# chỉnh sửa chiều rộng của cột hiển thị\n",
    "# width/rwidth\n",
    "plt.hist(a, bins=5, \n",
    "#          rwidth=0.75,\n",
    "         width=2,\n",
    "         facecolor='red', edgecolor='k',\n",
    "         alpha=0.75)\n",
    "plt.show()"
   ]
  },
  {
   "cell_type": "markdown",
   "id": "f49dc6cb",
   "metadata": {},
   "source": [
    "### 2.2. Ví dụ phân bố đều"
   ]
  },
  {
   "cell_type": "code",
   "execution_count": null,
   "id": "7359596a",
   "metadata": {
    "scrolled": false
   },
   "outputs": [],
   "source": [
    "# Thử vẽ một phân bố đều\n",
    "import numpy as np\n",
    "\n",
    "np.random.seed(100)\n",
    "x = np.random.normal(170, 10, 1000)\n",
    "\n",
    "plt.hist(x)\n",
    "plt.show()"
   ]
  },
  {
   "cell_type": "code",
   "execution_count": null,
   "id": "f2fe2498",
   "metadata": {},
   "outputs": [],
   "source": [
    "# Tăng số lượng bins để hiển thị chi tiết hơn\n",
    "plt.hist(x, \n",
    "         bins=20, \n",
    "         color='g', \n",
    "         density=True # Dạng xác suất\n",
    "        )\n",
    "plt.grid()\n",
    "plt.show()"
   ]
  },
  {
   "cell_type": "markdown",
   "id": "9a429a2d",
   "metadata": {},
   "source": [
    "**Chọn hướng nằm ngang**"
   ]
  },
  {
   "cell_type": "code",
   "execution_count": null,
   "id": "e64c39c3",
   "metadata": {},
   "outputs": [],
   "source": [
    "# Chỉnh sửa màu và độ mờ, hướng ngang\n",
    "plt.hist(x, bins=20, color='red', alpha=0.75, orientation=\"horizontal\")\n",
    "plt.grid()\n",
    "plt.show()"
   ]
  },
  {
   "cell_type": "markdown",
   "id": "d0277adb",
   "metadata": {},
   "source": [
    "**So sánh phân bố của vài dữ liệu khác nhau**"
   ]
  },
  {
   "cell_type": "code",
   "execution_count": null,
   "id": "f0ea6698",
   "metadata": {},
   "outputs": [],
   "source": [
    "# Giả sử: có 2 phân bố về chiều cao của Nam/Nữ\n",
    "\n",
    "x = np.random.normal(170, 10, 10000)\n",
    "y = np.random.normal(155, 20, 10000)"
   ]
  },
  {
   "cell_type": "code",
   "execution_count": null,
   "id": "2e742911",
   "metadata": {},
   "outputs": [],
   "source": [
    "plt.hist(x, bins=50, facecolor='red', density=True, alpha=0.75)\n",
    "plt.hist(y, bins=50, facecolor='blue', density=True, alpha=0.75)\n",
    "\n",
    "plt.legend([\"Nam\", \"Nữ\"])\n",
    "plt.grid()\n",
    "plt.show()"
   ]
  },
  {
   "cell_type": "markdown",
   "id": "dbc23763",
   "metadata": {},
   "source": [
    "## 3. Biểu đồ scatter"
   ]
  },
  {
   "cell_type": "code",
   "execution_count": null,
   "id": "41650297",
   "metadata": {},
   "outputs": [],
   "source": [
    "x = [5,7,8,7,2,17,2,9,4,11,12,9,6]\n",
    "y = [99,86,87,88,111,76,103,87,94,78,77,85,86]"
   ]
  },
  {
   "cell_type": "code",
   "execution_count": null,
   "id": "508cccc4",
   "metadata": {},
   "outputs": [],
   "source": [
    "???\n",
    "plt.show()"
   ]
  },
  {
   "cell_type": "code",
   "execution_count": null,
   "id": "3b3463de",
   "metadata": {},
   "outputs": [],
   "source": [
    "# Thời gian tự học vs. khả năng nắm bắt khóa học này (giả định)\n",
    "plt.scatter([20 - i for i in x], [i - 20 for i in y])\n",
    "plt.show()"
   ]
  },
  {
   "cell_type": "code",
   "execution_count": null,
   "id": "3e0707d3",
   "metadata": {},
   "outputs": [],
   "source": [
    "# Vẽ scatter cho 2 quan sát dữ liệu khác nhau\n",
    "plt.scatter(x, y, label='Nam')\n",
    "\n",
    "x2 = [2,2,8,1,15,8,12,9,7,3,11,4,7,14,12]\n",
    "y2 = [100,105,84,105,90,99,90,95,94,100,79,112,91,80,85]\n",
    "???\n",
    "\n",
    "plt.legend()\n",
    "plt.show()"
   ]
  },
  {
   "cell_type": "markdown",
   "id": "7418eba4",
   "metadata": {},
   "source": [
    "**Biểu diễn scatter với các màu và kích thước khác nhau**"
   ]
  },
  {
   "cell_type": "code",
   "execution_count": null,
   "id": "d3eec679",
   "metadata": {
    "scrolled": false
   },
   "outputs": [],
   "source": [
    "colors=[\"red\",\"green\",\"blue\",\"yellow\",\"pink\",\"black\",\n",
    "        \"orange\",\"purple\",\"beige\",\"brown\",\"gray\",\"cyan\",\"magenta\"]\n",
    "sizes=[50, 80, 90, 30, 20, 100, 150, 40, 60, 70, 50, 90, 70]\n",
    "plt.scatter(x, y, color=colors, sizes=sizes)\n",
    "plt.show()"
   ]
  },
  {
   "cell_type": "markdown",
   "id": "b4949b7c",
   "metadata": {},
   "source": [
    "**Biểu đồ scatter cho phân nhóm**"
   ]
  },
  {
   "cell_type": "code",
   "execution_count": null,
   "id": "7a53d331",
   "metadata": {
    "scrolled": false
   },
   "outputs": [],
   "source": [
    "fig, ax = plt.subplots()\n",
    "\n",
    "x1 = np.random.normal(170, 10, 100)\n",
    "y1 = np.random.normal(120, 10, 100)\n",
    "ax.scatter(x1, y1, c='red')\n",
    "\n",
    "x2 = np.random.normal(70, 10, 100)\n",
    "y2 = np.random.normal(20, 10, 100)\n",
    "ax.scatter(x2, y2, c='green')\n",
    "\n",
    "x3 = np.random.normal(70, 10, 100)\n",
    "y3 = np.random.normal(120, 10, 100)\n",
    "ax.scatter(x3, y3, c='blue')\n",
    "\n",
    "plt.show()"
   ]
  },
  {
   "cell_type": "markdown",
   "id": "4f188669",
   "metadata": {},
   "source": [
    "## 4. Biểu đồ area"
   ]
  },
  {
   "cell_type": "code",
   "execution_count": null,
   "id": "751f434b",
   "metadata": {},
   "outputs": [],
   "source": [
    "# Sử dụng stackplot \n",
    "x = [1, 2, 3, 4, 5]\n",
    "y1 = [1, 1, 2, 3, 5]\n",
    "y2 = [0, 4, 2, 6, 8]\n",
    "y3 = [1, 3, 5, 7, 9]\n",
    "\n",
    "labels = [\"Fibonacci \", \"Evens\", \"Odds\"]"
   ]
  },
  {
   "cell_type": "code",
   "execution_count": null,
   "id": "d5cf82c0",
   "metadata": {},
   "outputs": [],
   "source": [
    "???\n",
    "\n",
    "plt.legend(loc='upper left')\n",
    "plt.show()"
   ]
  },
  {
   "cell_type": "markdown",
   "id": "1d2702ff",
   "metadata": {},
   "source": [
    "**Sử dụng stackplot với baseline khác**<br>\n",
    "('zero', 'sym', 'wiggle', 'weighted_wiggle')"
   ]
  },
  {
   "cell_type": "code",
   "execution_count": null,
   "id": "f7f14a51",
   "metadata": {},
   "outputs": [],
   "source": [
    "plt.stackplot(x, y1, y2, y3, labels=labels, baseline='wiggle')\n",
    "plt.legend(loc='upper left')\n",
    "plt.show()"
   ]
  },
  {
   "cell_type": "markdown",
   "id": "642c2bb6",
   "metadata": {},
   "source": [
    "## 5. Biểu đồ hình tròn"
   ]
  },
  {
   "cell_type": "markdown",
   "id": "291635a7",
   "metadata": {},
   "source": [
    "### 5.1. Biểu đồ tròn đơn giản"
   ]
  },
  {
   "cell_type": "code",
   "execution_count": null,
   "id": "06890a6f",
   "metadata": {},
   "outputs": [],
   "source": [
    "y = [35, 25, 25, 15]\n",
    "plt.pie(y)\n",
    "plt.show()"
   ]
  },
  {
   "cell_type": "code",
   "execution_count": null,
   "id": "f8490ad8",
   "metadata": {
    "scrolled": true
   },
   "outputs": [],
   "source": [
    "# Hiển thị số phần trăm\n",
    "y = [35, 25, 25, 50]\n",
    "???\n",
    "\n",
    "plt.show()"
   ]
  },
  {
   "cell_type": "markdown",
   "id": "042318b3",
   "metadata": {},
   "source": [
    "**Chỉnh vị trí và màu của text hiển thị %**"
   ]
  },
  {
   "cell_type": "code",
   "execution_count": null,
   "id": "687bf0a0",
   "metadata": {
    "scrolled": true
   },
   "outputs": [],
   "source": [
    "y = [35, 25, 25, 50]\n",
    "plt.pie(y, autopct='%.1f%%', \n",
    "        ???, \n",
    "        ???\n",
    "       )\n",
    "plt.show()"
   ]
  },
  {
   "cell_type": "markdown",
   "id": "798d4870",
   "metadata": {},
   "source": [
    "### 5.2. Thêm một số trang trí"
   ]
  },
  {
   "cell_type": "code",
   "execution_count": null,
   "id": "a15dcfe3",
   "metadata": {},
   "outputs": [],
   "source": [
    "# 1. cho một mảnh nhô ra\n",
    "# 2. Thay đổi góc bắt đầu\n",
    "# 3. Thay đổi màu của các mảnh\n",
    "\n",
    "# Thứ tự ngược chiều kim đồng hồ, bắt đầu từ vị trí 3h (0 độ):\n",
    "labels = 'Trà-Cà Phê', 'Nước Trái Cây', 'SP Sữa', 'Khác'\n",
    "sizes = [15, 30, 45, 10]\n",
    "explode = (0, 0.1, 0, 0)\n",
    "my_colors = 'brown', 'green', 'pink', 'yellow'\n",
    "\n",
    "fig1, ax1 = plt.subplots()\n",
    "ax1.pie(sizes, labels=labels, autopct='%1.1f%%',\n",
    "        ???,\n",
    "        ???, \n",
    "        textprops={'color':\"b\", 'weight':'bold'},\n",
    "        shadow=True, \n",
    "        ???, # Thay đổi góc bắt đầu\n",
    "       )\n",
    "ax1.axis('equal')  # Equal aspect ratio ensures that pie is drawn as a circle.\n",
    "\n",
    "plt.show()"
   ]
  },
  {
   "cell_type": "code",
   "execution_count": null,
   "id": "bd4ba0f3",
   "metadata": {
    "scrolled": false
   },
   "outputs": [],
   "source": [
    "# Sử dụng legend thay vì nhãn\n",
    "# Và cho tất cả các mảnh nhô ra\n",
    "labels = 'Trà-Cà Phê', 'Nước Trái Cây', 'SP Sữa', 'Khác'\n",
    "\n",
    "plt.pie(sizes, \n",
    "        labels=???,\n",
    "        explode=[0.05]*4, \n",
    "        colors=colors, autopct='%1.1f%%',\n",
    "        shadow=True, startangle=90, )\n",
    "plt.axis('equal')  # Equal aspect ratio ensures that pie is drawn as a circle.\n",
    "\n",
    "plt.legend(labels, loc=\"best\")\n",
    "plt.show()"
   ]
  },
  {
   "cell_type": "markdown",
   "id": "4869034b",
   "metadata": {},
   "source": [
    "### 5.3. Biểu đồ dạng hình quạt\n",
    "(Set tham số normalize=False)"
   ]
  },
  {
   "cell_type": "code",
   "execution_count": null,
   "id": "3d7d3faf",
   "metadata": {},
   "outputs": [],
   "source": [
    "# Tổng phải nhỏ hơn 1.0\n",
    "y = [0.35, 0.10, 0.10, 0.10]\n",
    "plt.pie(y, \n",
    "        ???, \n",
    "        startangle=-30)\n",
    "plt.show()"
   ]
  },
  {
   "cell_type": "markdown",
   "id": "34be2e93",
   "metadata": {},
   "source": [
    "## 6. Biểu đồ dạng Tree-map\n",
    "**Lưu ý:** Cần phải cài module squarify vào Ananconda"
   ]
  },
  {
   "cell_type": "code",
   "execution_count": null,
   "id": "014e536d",
   "metadata": {},
   "outputs": [],
   "source": [
    "# Cách cài đặt module squarify\n",
    "# (Chạy câu lệnh command line ngay trên Jupyter Notebook)\n",
    "%pip install squarify"
   ]
  },
  {
   "cell_type": "code",
   "execution_count": null,
   "id": "f2657523",
   "metadata": {},
   "outputs": [],
   "source": [
    "# Cách khác\n",
    "!pip install squarify"
   ]
  },
  {
   "cell_type": "markdown",
   "id": "8cad6593",
   "metadata": {},
   "source": [
    "**Biểu đồ tree-map đơn giản**"
   ]
  },
  {
   "cell_type": "code",
   "execution_count": null,
   "id": "99e79edf",
   "metadata": {},
   "outputs": [],
   "source": [
    "import squarify"
   ]
  },
  {
   "cell_type": "code",
   "execution_count": null,
   "id": "a6fe53f8",
   "metadata": {},
   "outputs": [],
   "source": [
    "fig = plt.figure(figsize=(7,5))\n",
    "\n",
    "squarify.plot(sizes=[45,20,30], \n",
    "              label=[\"Tien hoc\", \"Tien an\", \"Tien di choi\"],\n",
    "              color=['pink', 'yellow', 'orange']\n",
    "             )\n",
    "plt.axis(\"off\")\n",
    "plt.plot()\n",
    "plt.show()"
   ]
  },
  {
   "cell_type": "markdown",
   "id": "84d611d0",
   "metadata": {},
   "source": [
    "**Giả sử ta có dữ liệu về doanh thu theo mặt hàng như sau:**"
   ]
  },
  {
   "cell_type": "code",
   "execution_count": null,
   "id": "194184a7",
   "metadata": {},
   "outputs": [],
   "source": [
    "volume = [1783, 1221, 1097, 839, 736, #493,\n",
    "          472, 150, 105, 66, 50]\n",
    "labels = ['Water\\n volume: 1783k',\n",
    "          'Coffe\\n volume: 1221k',\n",
    "          'Yogurt\\n volume: 1097k',\n",
    "          'Chocolate\\n volume: 839k',\n",
    "          'Juice\\n volume: 736k',\n",
    "          'Snacking\\n volume: 493k',\n",
    "          'Fruit\\n volume: 472k',\n",
    "          'Beef\\n volume: 150k',\n",
    "          'Ice-cream\\n volume: 105k',\n",
    "          'Salad\\n volume: 66k',\n",
    "          'Shampooing\\n volume: 50k']\n",
    "color_list = ['#0f7216', '#b2790c', '#ffe9a3',\n",
    "              '#f9d4d4', '#d35158', '#ea3033']"
   ]
  },
  {
   "cell_type": "code",
   "execution_count": null,
   "id": "844937ef",
   "metadata": {},
   "outputs": [],
   "source": [
    "fig = plt.figure(figsize=(10,5))\n",
    "\n",
    "squarify.plot(???, \n",
    "              ???,\n",
    "              )\n",
    "\n",
    "plt.axis(\"off\")\n",
    "plt.show()"
   ]
  },
  {
   "cell_type": "code",
   "execution_count": null,
   "id": "fece21f4",
   "metadata": {},
   "outputs": [],
   "source": [
    "# Thiết lập màu sắc và thêm khoảng trắng\n",
    "fig = plt.figure(figsize=(10,5))\n",
    "\n",
    "squarify.plot(sizes=volume, label=labels,\n",
    "              color=color_list, \n",
    "              alpha=0.7,\n",
    "              pad=True,\n",
    "             )\n",
    "\n",
    "plt.axis(\"off\")\n",
    "plt.show()"
   ]
  },
  {
   "cell_type": "markdown",
   "id": "ad1c7608",
   "metadata": {},
   "source": [
    "**Sử dụng thêm `text_kwargs` và `bar_kwargs` để trang trí đẹp hơn**"
   ]
  },
  {
   "cell_type": "code",
   "execution_count": null,
   "id": "2e248d37",
   "metadata": {},
   "outputs": [],
   "source": [
    "fig = plt.figure(figsize=(14,8))\n",
    "\n",
    "ax = squarify.plot(sizes=volume, label=labels,\n",
    "                   color=color_list, alpha=0.7,\n",
    "                   # pad=True, \n",
    "                   ???,\n",
    "                   ???\n",
    "                  )\n",
    "ax.set_xticks([])\n",
    "ax.set_yticks([])\n",
    "\n",
    "plt.show()"
   ]
  },
  {
   "cell_type": "markdown",
   "id": "5635d762",
   "metadata": {},
   "source": [
    "**Vẽ biểu đồ squarify trên subplots**"
   ]
  },
  {
   "cell_type": "code",
   "execution_count": null,
   "id": "22e33179",
   "metadata": {},
   "outputs": [],
   "source": [
    "fig = plt.figure(figsize=(10,10))\n",
    "ax1 = fig.add_subplot(2, 1, 1)\n",
    "squarify.plot(sizes=volume, label=labels,\n",
    "              ax=ax1, # Lưu ý: không cần nếu plot ngay sau khi thêm ax1\n",
    "              pad=True,\n",
    "              color=color_list, alpha=0.7)\n",
    "#plt.axis(\"off\")\n",
    "ax1.set_xticks([])\n",
    "ax1.set_yticks([])\n",
    "\n",
    "ax2 = fig.add_subplot(2, 2, 3)\n",
    "ax3 = fig.add_subplot(2, 2, 4)\n",
    "\n",
    "ds1 = [20, 22, 23, 25, 27, 34, 23, 21, 19, 20]\n",
    "ds2 = [24, 25, 24, 21, 22, 26, 18, 25, 24, 27]\n",
    "ax2.bar(x=range(len(ds1)), height=ds1, color=\"red\", align=\"center\")\n",
    "ax3.bar(x=range(len(ds2)), height=ds2, color=\"green\")\n",
    "\n",
    "plt.show()"
   ]
  },
  {
   "cell_type": "markdown",
   "id": "eae7b307",
   "metadata": {},
   "source": [
    "# Phụ lục: mở rộng và nâng cao"
   ]
  },
  {
   "cell_type": "markdown",
   "id": "cfd50a6b",
   "metadata": {},
   "source": [
    "## 1. In danh sách các màu từ Python"
   ]
  },
  {
   "cell_type": "code",
   "execution_count": null,
   "id": "d5431321",
   "metadata": {},
   "outputs": [],
   "source": [
    "import matplotlib.colors as colors\n",
    "color_list = list(colors._colors_full_map.keys())\n",
    "# color_list = list(colors._colors_full_map.values())\n",
    "print(color_list)"
   ]
  },
  {
   "cell_type": "markdown",
   "id": "bb2a8215",
   "metadata": {},
   "source": [
    "**Thử chỉnh màu `edgecolor`**"
   ]
  },
  {
   "cell_type": "code",
   "execution_count": null,
   "id": "639ab11a",
   "metadata": {},
   "outputs": [],
   "source": [
    "fig = plt.figure(figsize=(14,8))\n",
    "\n",
    "ax = squarify.plot(sizes=volume, label=labels,\n",
    "                   color=color_list, alpha=0.7,\n",
    "                   # pad=True, \n",
    "                   text_kwargs={'fontsize':12, 'fontname':\"Arial\",'weight':'bold', \n",
    "                                'color':'darkblue'},\n",
    "                   bar_kwargs=dict(linewidth=4, edgecolor=\"xkcd:pale magenta\")\n",
    "                  )\n",
    "ax.set_xticks([])\n",
    "ax.set_yticks([])\n",
    "\n",
    "plt.show()"
   ]
  },
  {
   "cell_type": "markdown",
   "id": "e7d34e87",
   "metadata": {},
   "source": [
    "## 2. Thiết lập font cho nhãn"
   ]
  },
  {
   "cell_type": "code",
   "execution_count": null,
   "id": "90d6acb9",
   "metadata": {
    "scrolled": true
   },
   "outputs": [],
   "source": [
    "fig = plt.figure(figsize=(7,5))\n",
    "ax = fig.add_subplot()\n",
    "ax.plot([1,2,3], [3,5,2])\n",
    "\n",
    "# Font của các tiêu đề\n",
    "ax.set_title(\"Biểu Đồ Ví Dụ\", \n",
    "             loc='left',          # Các vị trí: left | center | right\n",
    "             fontstyle='oblique', # Các style: normal | italic |  oblique\n",
    "             fontname='Arial',\n",
    "             weight='bold', fontsize=14,\n",
    "             color='xkcd:deep aqua'\n",
    "            )\n",
    "ax.set_ylabel(\"Giá trị trục y\", weight='bold', fontsize=12)\n",
    "ax.set_xlabel(\"Giá trị trục x\", weight='bold', fontsize=12)\n",
    "\n",
    "# Font của các trục\n",
    "ax.set_xticks(range(10))\n",
    "ax.set_xticklabels(range(1,11), fontsize=15, weight='bold')\n",
    "\n",
    "plt.show()"
   ]
  },
  {
   "cell_type": "markdown",
   "id": "c8cbefee",
   "metadata": {},
   "source": [
    "## 3. Scatter với nhiều màu sắc ngẫu nhiên"
   ]
  },
  {
   "cell_type": "code",
   "execution_count": null,
   "id": "9f498d87",
   "metadata": {},
   "outputs": [],
   "source": [
    "# Thử biểu diễn nhiều màu sắc\n",
    "x = np.random.randint(100, size=(100))\n",
    "y = np.random.randint(100, size=(100))\n",
    "colors = np.random.randint(100, size=(100))\n",
    "sizes = 10 * np.random.randint(100, size=(100))\n",
    "\n",
    "plt.scatter(x, y, c=colors, s=sizes, alpha=0.5, cmap='nipy_spectral')\n",
    "plt.colorbar()\n",
    "\n",
    "plt.show() "
   ]
  },
  {
   "cell_type": "markdown",
   "id": "f4382967",
   "metadata": {},
   "source": [
    "## 4. Tạo biểu đồ vùng với fill_between"
   ]
  },
  {
   "cell_type": "code",
   "execution_count": null,
   "id": "20269b2c",
   "metadata": {},
   "outputs": [],
   "source": [
    "x = [1, 2, 3, 4, 5]\n",
    "y1 = [1, 1, 2, 3, 5]\n",
    "y2 = [0, 4, 2, 6, 8]\n",
    "y3 = [1, 3, 5, 7, 9]\n",
    "\n",
    "labels = [\"Fibonacci \", \"Evens\", \"Odds\"]"
   ]
  },
  {
   "cell_type": "code",
   "execution_count": null,
   "id": "3ab5fa92",
   "metadata": {},
   "outputs": [],
   "source": [
    "# Sử dụng fill_between\n",
    "y2_new = [a+b for a,b in zip(y2,y1)]\n",
    "y3_new = [a+b+c for a,b,c in zip(y3,y2,y1)]\n",
    "\n",
    "plt.plot(x,y1)\n",
    "plt.plot(x,y2_new)\n",
    "plt.plot(x,y3_new)\n",
    "plt.legend(loc='upper left', labels=labels)\n",
    "\n",
    "plt.fill_between(x, y1, 0)\n",
    "plt.fill_between(x, y2_new, y1)\n",
    "plt.fill_between(x, y3_new, y2_new)\n",
    "\n",
    "plt.show()"
   ]
  },
  {
   "cell_type": "markdown",
   "id": "ce0e9aef",
   "metadata": {},
   "source": [
    "## 5. Biểu đồ với nhóm 3 tham số"
   ]
  },
  {
   "cell_type": "code",
   "execution_count": null,
   "id": "3889b203",
   "metadata": {},
   "outputs": [],
   "source": [
    "# Biểu đồ nhóm với 3 tham số\n",
    "import numpy as np\n",
    "  \n",
    "ind = np.array([1,2,3]) \n",
    "width = 0.25\n",
    "  \n",
    "x = [8, 9, 2]\n",
    "bar1 = plt.bar(ind, x, width, color = 'r')\n",
    "  \n",
    "y = [10, 20, 30]\n",
    "bar2 = plt.bar(ind+width, y, width, color='g')\n",
    "  \n",
    "z = [11, 12, 13]\n",
    "bar3 = plt.bar(ind+width*2, z, width, color = 'b')\n",
    "  \n",
    "plt.xlabel(\"Dates\")\n",
    "plt.ylabel('Scores')\n",
    "\n",
    "# Sử dụng xticks để set vị trí của nhãn minh họa\n",
    "plt.xticks(ind+width,['2021Feb01', '2021Feb02', '2021Feb03'])\n",
    "plt.legend((bar1, bar2, bar3), ('Player1', 'Player2', 'Player3') )\n",
    "plt.show()"
   ]
  },
  {
   "cell_type": "code",
   "execution_count": null,
   "id": "e916e17f",
   "metadata": {},
   "outputs": [],
   "source": [
    "# Thêm số biểu thị thông tin từng cột\n",
    "bar1 = plt.bar(ind, x, width, color = 'r')\n",
    "bar2 = plt.bar(ind+width, y, width, color='g')\n",
    "bar3 = plt.bar(ind+width*2, z, width, color = 'b')\n",
    "  \n",
    "plt.xlabel(\"Dates\", fontsize=14, weight='bold')\n",
    "plt.ylabel('Scores', fontsize=14, weight='bold')\n",
    "\n",
    "ax = plt.gca()\n",
    "ax.bar_label(container = ax.containers[0], padding=0, label_type='center')\n",
    "ax.bar_label(container = ax.containers[1], padding=0, label_type='center')\n",
    "\n",
    "# Chỉnh sử font của cột thứ 3\n",
    "ax.bar_label(container = ax.containers[2], padding=0, label_type='center', \n",
    "             color='w', fontsize=12, weight='bold')\n",
    "\n",
    "# Sử dụng xticks để set vị trí của nhãn minh họa\n",
    "plt.xticks(ind+width,['2021Feb01', '2021Feb02', '2021Feb03'])\n",
    "plt.legend((bar1, bar2, bar3), ('Player1', 'Player2', 'Player3') )\n",
    "plt.show()"
   ]
  },
  {
   "cell_type": "markdown",
   "id": "0ddeba93",
   "metadata": {},
   "source": [
    "### 6. Làm mờ đi một mảnh của biểu đồ tròn<br>\n",
    "(Cần nhận kết quả trả về từ hàm vẽ)"
   ]
  },
  {
   "cell_type": "code",
   "execution_count": null,
   "id": "5ba9f273",
   "metadata": {},
   "outputs": [],
   "source": [
    "labels = 'Trà-Cà Phê', 'Nước Trái Cây', 'SP Sữa', 'Khác'\n",
    "sizes = [0.15, 0.10, 0.25, 0.10]\n",
    "explode = (0, 0.1, 0, 0)\n",
    "colors = 'brown', 'green', 'pink', 'yellow'"
   ]
  },
  {
   "cell_type": "code",
   "execution_count": null,
   "id": "9f99b32f",
   "metadata": {
    "scrolled": true
   },
   "outputs": [],
   "source": [
    "# Lấy ra patch để tiến hành xử lý thêm\n",
    "# (Cho patch \"SP Sữa\" mờ đi)\n",
    "\n",
    "kq = plt.pie(sizes, explode=explode, autopct='%1.1f%%',\n",
    "             shadow=True, startangle=160, normalize=False)\n",
    "\n",
    "patches, texts, autotexts = kq\n",
    "patches[2].set_alpha(0.25)\n",
    "\n",
    "plt.axis('equal')  # Equal aspect ratio ensures that pie is drawn as a circle.\n",
    "plt.legend(labels, loc=[0.34, 0.9])\n",
    "plt.show()"
   ]
  },
  {
   "cell_type": "markdown",
   "id": "20529280",
   "metadata": {},
   "source": [
    "**Thiết lập màu text cho từng mảnh**"
   ]
  },
  {
   "cell_type": "code",
   "execution_count": null,
   "id": "284a28b5",
   "metadata": {
    "scrolled": false
   },
   "outputs": [],
   "source": [
    "kq = plt.pie(sizes, explode=explode, autopct='%1.1f%%',\n",
    "             shadow=True, startangle=160, normalize=False)\n",
    "\n",
    "patches, texts, autotexts = kq\n",
    "patches[2].set_alpha(0.25)\n",
    "\n",
    "# Thiết lập màu text\n",
    "autotexts[0].set_color('white')\n",
    "autotexts[1].set_color('blue') # Mảnh màu cam\n",
    "autotexts[2].set_color('white')\n",
    "autotexts[3].set_color('yellow')\n",
    "autotexts[3].set_fontweight('bold')\n",
    "\n",
    "plt.axis('equal')  # Equal aspect ratio ensures that pie is drawn as a circle.\n",
    "plt.legend(labels, loc=[0.34, 0.9])\n",
    "plt.show()"
   ]
  }
 ],
 "metadata": {
  "kernelspec": {
   "display_name": "Python 3 (ipykernel)",
   "language": "python",
   "name": "python3"
  },
  "language_info": {
   "codemirror_mode": {
    "name": "ipython",
    "version": 3
   },
   "file_extension": ".py",
   "mimetype": "text/x-python",
   "name": "python",
   "nbconvert_exporter": "python",
   "pygments_lexer": "ipython3",
   "version": "3.9.7"
  }
 },
 "nbformat": 4,
 "nbformat_minor": 5
}
