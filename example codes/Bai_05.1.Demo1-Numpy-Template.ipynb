{
 "cells": [
  {
   "cell_type": "code",
   "execution_count": 1,
   "id": "c34b2f4f",
   "metadata": {},
   "outputs": [
    {
     "data": {
      "text/html": [
       "<style type='text/css'>\n",
       ".CodeMirror{\n",
       "    font-size: 18px;\n",
       "}\n",
       "\n",
       "div.output_area pre {\n",
       "    font-size: 16px;\n",
       "}\n",
       "</style>\n"
      ],
      "text/plain": [
       "<IPython.core.display.HTML object>"
      ]
     },
     "metadata": {},
     "output_type": "display_data"
    }
   ],
   "source": [
    "%%html\n",
    "<style type='text/css'>\n",
    ".CodeMirror{\n",
    "    font-size: 18px;\n",
    "}\n",
    "\n",
    "div.output_area pre {\n",
    "    font-size: 16px;\n",
    "}\n",
    "</style>"
   ]
  },
  {
   "cell_type": "code",
   "execution_count": 2,
   "id": "81ab6512",
   "metadata": {},
   "outputs": [
    {
     "name": "stdout",
     "output_type": "stream",
     "text": [
      "1.20.3\n"
     ]
    }
   ],
   "source": [
    "import numpy as np\n",
    "print(np.__version__)"
   ]
  },
  {
   "cell_type": "markdown",
   "id": "3bfc98a1",
   "metadata": {},
   "source": [
    "# 1. Cơ bản về mảng Numpy"
   ]
  },
  {
   "cell_type": "markdown",
   "id": "a4dcf71a",
   "metadata": {},
   "source": [
    "## 1.1. Khởi tạo mảng"
   ]
  },
  {
   "cell_type": "code",
   "execution_count": 5,
   "id": "b7403600",
   "metadata": {},
   "outputs": [],
   "source": [
    "a = [5,3,8,9,1000]"
   ]
  },
  {
   "cell_type": "markdown",
   "id": "afaf12ee",
   "metadata": {},
   "source": [
    "**Hàm `np.array()`**"
   ]
  },
  {
   "cell_type": "code",
   "execution_count": 12,
   "id": "ade3ecf3",
   "metadata": {},
   "outputs": [
    {
     "data": {
      "text/plain": [
       "array([   5,    3,    8,    9, 1000])"
      ]
     },
     "execution_count": 12,
     "metadata": {},
     "output_type": "execute_result"
    }
   ],
   "source": [
    "???"
   ]
  },
  {
   "cell_type": "code",
   "execution_count": 7,
   "id": "e55c30d7",
   "metadata": {},
   "outputs": [
    {
     "data": {
      "text/plain": [
       "array([   5.,    3.,    8.,    9., 1000.], dtype=float32)"
      ]
     },
     "execution_count": 7,
     "metadata": {},
     "output_type": "execute_result"
    }
   ],
   "source": [
    "# Khởi tạo và ép kiểu\n",
    "a1 = np.array(a, ???)\n",
    "\n",
    "a1"
   ]
  },
  {
   "cell_type": "code",
   "execution_count": null,
   "id": "bb725119",
   "metadata": {},
   "outputs": [],
   "source": [
    "# Tạo ra một bản copy từ một array\n",
    "a2 = np.array(a1)\n",
    "print(a2)\n",
    "print(a1)"
   ]
  },
  {
   "cell_type": "code",
   "execution_count": null,
   "id": "d74e6d97",
   "metadata": {},
   "outputs": [],
   "source": [
    "# Thử thay đổi giá trị ở một mảng: không ảnh hưởng mảng kia\n",
    "???"
   ]
  },
  {
   "cell_type": "markdown",
   "id": "836a6bef",
   "metadata": {},
   "source": [
    "**Tùy chỉnh số thập phân và kiểu in**"
   ]
  },
  {
   "cell_type": "code",
   "execution_count": 26,
   "id": "577f15b1",
   "metadata": {},
   "outputs": [
    {
     "name": "stdout",
     "output_type": "stream",
     "text": [
      "[4.1234567891e+00 1.2345678912e-04 2.5000000000e+01 ... 2.2000000000e+01\n",
      " 2.3000000000e+01 2.5000000000e+01]\n"
     ]
    }
   ],
   "source": [
    "x = [4.123456789123456789, 0.00012345678912, \n",
    "     25, 36, 17,20,22,23,25,27,34, 23, 21, 19, 24, 25, 27, \n",
    "     29, 28, 26, 29, 25, 34,20,22,23,25]\n",
    "\n",
    "# Ép kiểu bằng hàm 'astype()'\n",
    "x1 = ???\n",
    "\n",
    "print(x1)"
   ]
  },
  {
   "cell_type": "code",
   "execution_count": 27,
   "id": "9ac6fb65",
   "metadata": {},
   "outputs": [],
   "source": [
    "# Một số hàm tùy chỉnh\n",
    "np.set_printoptions(precision=3) # chỉ in 3 chữ số thập phân\n",
    "np.set_printoptions(threshold=10)# chỉ in tối đa 20 phần tử của mảng\n",
    "np.set_printoptions(suppress=True) # không dùng scientific notation"
   ]
  },
  {
   "cell_type": "code",
   "execution_count": 29,
   "id": "16c23096",
   "metadata": {},
   "outputs": [
    {
     "name": "stdout",
     "output_type": "stream",
     "text": [
      "[ 4.12346  0.00012 25.      ... 22.      23.      25.     ]\n"
     ]
    }
   ],
   "source": [
    "print(x1)"
   ]
  },
  {
   "cell_type": "markdown",
   "id": "2ed8a5d3",
   "metadata": {},
   "source": [
    "**Hàm `np.asarray()`**"
   ]
  },
  {
   "cell_type": "code",
   "execution_count": 13,
   "id": "a8cf5148",
   "metadata": {},
   "outputs": [
    {
     "data": {
      "text/plain": [
       "array([   5,    3,    8,    9, 1000], dtype=int16)"
      ]
     },
     "execution_count": 13,
     "metadata": {},
     "output_type": "execute_result"
    }
   ],
   "source": [
    "a3 = np.asarray(a).astype(np.int16)\n",
    "a3"
   ]
  },
  {
   "cell_type": "markdown",
   "id": "7bab73d0",
   "metadata": {},
   "source": [
    "**Nếu khởi tạo với `np.asarray()` từ một `array` khác**"
   ]
  },
  {
   "cell_type": "code",
   "execution_count": 9,
   "id": "7a89ec61",
   "metadata": {},
   "outputs": [
    {
     "name": "stdout",
     "output_type": "stream",
     "text": [
      "[5 3 8 9 1]\n"
     ]
    }
   ],
   "source": [
    "a4 = np.asarray(a3)\n",
    "a4[-1] = 1\n",
    "print(a3)"
   ]
  },
  {
   "cell_type": "code",
   "execution_count": 10,
   "id": "fe390435",
   "metadata": {},
   "outputs": [
    {
     "name": "stdout",
     "output_type": "stream",
     "text": [
      "[5 3 8 9 1]\n"
     ]
    }
   ],
   "source": [
    "print(a3)"
   ]
  },
  {
   "cell_type": "code",
   "execution_count": 14,
   "id": "6f73bb4a",
   "metadata": {},
   "outputs": [
    {
     "name": "stdout",
     "output_type": "stream",
     "text": [
      "[5, 3, 8, 9, 1000]\n"
     ]
    }
   ],
   "source": [
    "# Lưu ý: list cũ không bị tác động\n",
    "print(a)"
   ]
  },
  {
   "cell_type": "markdown",
   "id": "a0a7c1b6",
   "metadata": {},
   "source": [
    "## 1.2. Mảng nhiều chiều"
   ]
  },
  {
   "cell_type": "markdown",
   "id": "dc19eb11",
   "metadata": {},
   "source": [
    "**Khởi tạo mảng nhiều chiều**"
   ]
  },
  {
   "cell_type": "code",
   "execution_count": 30,
   "id": "ff6f3431",
   "metadata": {},
   "outputs": [
    {
     "data": {
      "text/plain": [
       "array([[   4,    5,    6],\n",
       "       [   7,    8,    9],\n",
       "       [  10,   15,   18],\n",
       "       [1000, 2000, 3000]])"
      ]
     },
     "execution_count": 30,
     "metadata": {},
     "output_type": "execute_result"
    }
   ],
   "source": [
    "# Mảng 2 chiều\n",
    "b = [[4,5,6], \n",
    "     [7,8,9], \n",
    "     [10,15,18], \n",
    "     [1000,2000,3000]\n",
    "    ]\n",
    "b1 = np.array(b)\n",
    "b1"
   ]
  },
  {
   "cell_type": "code",
   "execution_count": 31,
   "id": "2579fbed",
   "metadata": {},
   "outputs": [
    {
     "data": {
      "text/plain": [
       "array([[[   4,    5,    6],\n",
       "        [   7,    8,    9],\n",
       "        [  10,   15,   18],\n",
       "        [1000, 2000, 3000]],\n",
       "\n",
       "       [[  25,   36,   17],\n",
       "        [  20,   22,   23],\n",
       "        [  25,   27,   34],\n",
       "        [  23,   21,   19]]])"
      ]
     },
     "execution_count": 31,
     "metadata": {},
     "output_type": "execute_result"
    }
   ],
   "source": [
    "# Mảng 3 chiều\n",
    "c = [[[4,5,6], [7,8,9], [10,15,18], [1000,2000,3000]],\n",
    "     [[25,36,17], [20,22,23], [25,27,34], [23,21,19]]\n",
    "    ]\n",
    "c1 = np.asarray(c)\n",
    "c1"
   ]
  },
  {
   "cell_type": "markdown",
   "id": "dc1a689c",
   "metadata": {},
   "source": [
    "**Kiểm tra kích thước, số chiều của mảng**\n",
    "- shape\n",
    "- ndim\n",
    "- size"
   ]
  },
  {
   "cell_type": "code",
   "execution_count": 35,
   "id": "19f62de3",
   "metadata": {},
   "outputs": [
    {
     "name": "stdout",
     "output_type": "stream",
     "text": [
      "(2, 4, 3)\n",
      "3\n",
      "24\n"
     ]
    }
   ],
   "source": [
    "???"
   ]
  },
  {
   "cell_type": "markdown",
   "id": "7621011f",
   "metadata": {},
   "source": [
    "## 1.3. Truy cập vào mảng"
   ]
  },
  {
   "cell_type": "markdown",
   "id": "9e877f88",
   "metadata": {},
   "source": [
    "**Truy cập vào vị trí theo chỉ số** <br>\n",
    "(Lưu ý: chỉ số bắt đầu từ 0)"
   ]
  },
  {
   "cell_type": "code",
   "execution_count": 53,
   "id": "60469085",
   "metadata": {},
   "outputs": [
    {
     "data": {
      "text/plain": [
       "array([[   4,    5,    6],\n",
       "       [   7,    8,    9],\n",
       "       [  10,   15,   18],\n",
       "       [1000, 2000, 3000]])"
      ]
     },
     "execution_count": 53,
     "metadata": {},
     "output_type": "execute_result"
    }
   ],
   "source": [
    "# Vào ma trận thứ 1 trong c1\n",
    "???"
   ]
  },
  {
   "cell_type": "code",
   "execution_count": 54,
   "id": "5295314d",
   "metadata": {},
   "outputs": [
    {
     "data": {
      "text/plain": [
       "array([7, 8, 9])"
      ]
     },
     "execution_count": 54,
     "metadata": {},
     "output_type": "execute_result"
    }
   ],
   "source": [
    "# Lấy ra dòng 1 trong ma trận trên\n",
    "???"
   ]
  },
  {
   "cell_type": "code",
   "execution_count": 56,
   "id": "667a60ed",
   "metadata": {},
   "outputs": [
    {
     "data": {
      "text/plain": [
       "9"
      ]
     },
     "execution_count": 56,
     "metadata": {},
     "output_type": "execute_result"
    }
   ],
   "source": [
    "# Lấy ra giá trị cuối cùng ở dòng trên\n",
    "???"
   ]
  },
  {
   "cell_type": "code",
   "execution_count": 57,
   "id": "5bbbc65c",
   "metadata": {},
   "outputs": [
    {
     "name": "stdout",
     "output_type": "stream",
     "text": [
      "[[[   4    5    6]\n",
      "  [   7    8  100]\n",
      "  [  10   15   18]\n",
      "  [1000 2000 3000]]\n",
      "\n",
      " [[  25   36   17]\n",
      "  [  20   22   23]\n",
      "  [  25   27   34]\n",
      "  [  23   21   19]]]\n"
     ]
    }
   ],
   "source": [
    "# Thử thực hiện thay đổi giá trị\n",
    "c1[0, 1, -1] = 100\n",
    "print(c1)"
   ]
  },
  {
   "cell_type": "markdown",
   "id": "2e360e5c",
   "metadata": {},
   "source": [
    "**Slicing**"
   ]
  },
  {
   "cell_type": "code",
   "execution_count": 58,
   "id": "4e35d520",
   "metadata": {},
   "outputs": [
    {
     "data": {
      "text/plain": [
       "array([[  7,   8, 100],\n",
       "       [ 10,  15,  18]])"
      ]
     },
     "execution_count": 58,
     "metadata": {},
     "output_type": "execute_result"
    }
   ],
   "source": [
    "c1[0,1:3]"
   ]
  },
  {
   "cell_type": "code",
   "execution_count": 72,
   "id": "8ea3a6f1",
   "metadata": {},
   "outputs": [
    {
     "name": "stdout",
     "output_type": "stream",
     "text": [
      "[ 4.12346  0.00012 25.      36.      17.      20.      22.     ]\n"
     ]
    }
   ],
   "source": [
    "print(x1[0:7])"
   ]
  },
  {
   "cell_type": "code",
   "execution_count": 73,
   "id": "4273559c",
   "metadata": {},
   "outputs": [
    {
     "name": "stdout",
     "output_type": "stream",
     "text": [
      "[ 4.12346 25.      17.     ]\n"
     ]
    }
   ],
   "source": [
    "# Slicing theo quy tắc 'start:stop:step'\n",
    "???"
   ]
  },
  {
   "cell_type": "markdown",
   "id": "ff5708be",
   "metadata": {},
   "source": [
    "# 2. Một số hàm tính toán, sắp xếp"
   ]
  },
  {
   "cell_type": "code",
   "execution_count": 38,
   "id": "caeabf5c",
   "metadata": {},
   "outputs": [
    {
     "data": {
      "text/plain": [
       "array([[   4,    5,    6],\n",
       "       [   7,    8,    9],\n",
       "       [  10,   15,   18],\n",
       "       [1000, 2000, 3000]])"
      ]
     },
     "execution_count": 38,
     "metadata": {},
     "output_type": "execute_result"
    }
   ],
   "source": [
    "b1"
   ]
  },
  {
   "cell_type": "markdown",
   "id": "da646425",
   "metadata": {},
   "source": [
    "## 2.1. Các phép toán học"
   ]
  },
  {
   "cell_type": "markdown",
   "id": "0ca2c478",
   "metadata": {},
   "source": [
    "**Một số các phép toán thông dụng**"
   ]
  },
  {
   "cell_type": "code",
   "execution_count": 43,
   "id": "c496ea66",
   "metadata": {},
   "outputs": [
    {
     "data": {
      "text/plain": [
       "array([[   5,    6,    7],\n",
       "       [   8,    9,   10],\n",
       "       [  11,   16,   19],\n",
       "       [1001, 2001, 3001]])"
      ]
     },
     "execution_count": 43,
     "metadata": {},
     "output_type": "execute_result"
    }
   ],
   "source": [
    "b1 + 1"
   ]
  },
  {
   "cell_type": "code",
   "execution_count": 47,
   "id": "908caf22",
   "metadata": {},
   "outputs": [
    {
     "data": {
      "text/plain": [
       "array([[   2,    3,    4],\n",
       "       [   5,    6,    7],\n",
       "       [   8,   13,   16],\n",
       "       [ 998, 1998, 2998]])"
      ]
     },
     "execution_count": 47,
     "metadata": {},
     "output_type": "execute_result"
    }
   ],
   "source": [
    "b1 - 2"
   ]
  },
  {
   "cell_type": "markdown",
   "id": "6c3470f2",
   "metadata": {},
   "source": [
    "**Phép `Broadcasting`**"
   ]
  },
  {
   "cell_type": "code",
   "execution_count": 46,
   "id": "2e88cd06",
   "metadata": {},
   "outputs": [
    {
     "data": {
      "text/plain": [
       "array([[   1,    3,    5],\n",
       "       [   4,    6,    8],\n",
       "       [   7,   13,   17],\n",
       "       [ 997, 1998, 2999]])"
      ]
     },
     "execution_count": 46,
     "metadata": {},
     "output_type": "execute_result"
    }
   ],
   "source": [
    "???"
   ]
  },
  {
   "cell_type": "markdown",
   "id": "b44d4656",
   "metadata": {},
   "source": [
    "## 2.2. Các hàm thống kê cơ bản"
   ]
  },
  {
   "cell_type": "code",
   "execution_count": 40,
   "id": "18b2ddfa",
   "metadata": {},
   "outputs": [
    {
     "name": "stdout",
     "output_type": "stream",
     "text": [
      "[4 5 6]\n",
      "[   6    9   18 3000]\n"
     ]
    }
   ],
   "source": [
    "# Min/Max\n",
    "print(np.min(b1))\n",
    "print(np.max(b1))"
   ]
  },
  {
   "cell_type": "code",
   "execution_count": 42,
   "id": "84b5776d",
   "metadata": {},
   "outputs": [
    {
     "name": "stdout",
     "output_type": "stream",
     "text": [
      "[255.25 507.   758.25]\n",
      "[ 8.5 11.5 13.5]\n"
     ]
    }
   ],
   "source": [
    "# Mean, Median\n",
    "???"
   ]
  },
  {
   "cell_type": "code",
   "execution_count": null,
   "id": "fa2ea1c9",
   "metadata": {},
   "outputs": [],
   "source": [
    "# Variance, Standard Deviation\n",
    "print(x1)\n",
    "print(np.var(x1))\n",
    "print(np.std(x1))"
   ]
  },
  {
   "cell_type": "markdown",
   "id": "a5b548f1",
   "metadata": {},
   "source": [
    "**Phân vị: `np.percentile`, `np.quantile`**"
   ]
  },
  {
   "cell_type": "code",
   "execution_count": 111,
   "id": "f865befd",
   "metadata": {},
   "outputs": [
    {
     "data": {
      "text/plain": [
       "array([22. , 26.2])"
      ]
     },
     "execution_count": 111,
     "metadata": {},
     "output_type": "execute_result"
    }
   ],
   "source": [
    "np.percentile(x1, [30, 70])"
   ]
  },
  {
   "cell_type": "code",
   "execution_count": 112,
   "id": "b3a4c3f1",
   "metadata": {},
   "outputs": [
    {
     "data": {
      "text/plain": [
       "25.0"
      ]
     },
     "execution_count": 112,
     "metadata": {},
     "output_type": "execute_result"
    }
   ],
   "source": [
    "np.quantile(x1, 0.5)"
   ]
  },
  {
   "cell_type": "markdown",
   "id": "2ae68740",
   "metadata": {},
   "source": [
    "## 2.3. Sắp xếp tăng/giảm"
   ]
  },
  {
   "cell_type": "code",
   "execution_count": 49,
   "id": "5cf5f262",
   "metadata": {},
   "outputs": [
    {
     "data": {
      "text/plain": [
       "array([17, 20, 25, 25, 36])"
      ]
     },
     "execution_count": 49,
     "metadata": {},
     "output_type": "execute_result"
    }
   ],
   "source": [
    "# Sắp xếp tăng\n",
    "np.sort([25, 36, 17, 20, 25])"
   ]
  },
  {
   "cell_type": "code",
   "execution_count": 51,
   "id": "b73a958b",
   "metadata": {},
   "outputs": [
    {
     "data": {
      "text/plain": [
       "array([36, 25, 25, 20, 17])"
      ]
     },
     "execution_count": 51,
     "metadata": {},
     "output_type": "execute_result"
    }
   ],
   "source": [
    "# Sắp xếp giảm\n",
    "np.sort([25, 36, 17, 20, 25])[::-1]"
   ]
  },
  {
   "cell_type": "code",
   "execution_count": 52,
   "id": "9c5f79da",
   "metadata": {},
   "outputs": [
    {
     "data": {
      "text/plain": [
       "array([2, 3, 0, 4, 1], dtype=int64)"
      ]
     },
     "execution_count": 52,
     "metadata": {},
     "output_type": "execute_result"
    }
   ],
   "source": [
    "# Lấy ra index sẽ sắp xếp mảng\n",
    "???"
   ]
  },
  {
   "cell_type": "markdown",
   "id": "e2e32dc8",
   "metadata": {},
   "source": [
    "# 3. Một số khởi tạo đặc biệt"
   ]
  },
  {
   "cell_type": "markdown",
   "id": "1bf9a4de",
   "metadata": {},
   "source": [
    "## 3.1. Khởi tạo mảng với 1 giá trị nào đó\n",
    "\n",
    "- np.zeros(), np.zeros_like()\n",
    "- np.ones(), np.ones_like()\n",
    "- np.full()"
   ]
  },
  {
   "cell_type": "code",
   "execution_count": 80,
   "id": "5144c721",
   "metadata": {},
   "outputs": [
    {
     "data": {
      "text/plain": [
       "array([[0., 0., 0., 0.],\n",
       "       [0., 0., 0., 0.],\n",
       "       [0., 0., 0., 0.]])"
      ]
     },
     "execution_count": 80,
     "metadata": {},
     "output_type": "execute_result"
    }
   ],
   "source": [
    "np.zeros((3,4))"
   ]
  },
  {
   "cell_type": "code",
   "execution_count": 76,
   "id": "6c3065ee",
   "metadata": {},
   "outputs": [
    {
     "data": {
      "text/plain": [
       "array([[1, 1, 1],\n",
       "       [1, 1, 1],\n",
       "       [1, 1, 1],\n",
       "       [1, 1, 1]])"
      ]
     },
     "execution_count": 76,
     "metadata": {},
     "output_type": "execute_result"
    }
   ],
   "source": [
    "np.ones_like(b1)"
   ]
  },
  {
   "cell_type": "code",
   "execution_count": 78,
   "id": "edb411e2",
   "metadata": {},
   "outputs": [
    {
     "data": {
      "text/plain": [
       "array([[100, 100, 100, 100],\n",
       "       [100, 100, 100, 100],\n",
       "       [100, 100, 100, 100]])"
      ]
     },
     "execution_count": 78,
     "metadata": {},
     "output_type": "execute_result"
    }
   ],
   "source": [
    "np.full((3,4), 100)"
   ]
  },
  {
   "cell_type": "markdown",
   "id": "b0a2bc3f",
   "metadata": {},
   "source": [
    "## 3.2. Khởi tạo chuỗi các giá trị"
   ]
  },
  {
   "cell_type": "code",
   "execution_count": 81,
   "id": "8c51d450",
   "metadata": {},
   "outputs": [
    {
     "data": {
      "text/plain": [
       "array([1, 2, 3, 4, 5, 6, 7, 8, 9])"
      ]
     },
     "execution_count": 81,
     "metadata": {},
     "output_type": "execute_result"
    }
   ],
   "source": [
    "# arange(start, stop, step)\n",
    "???\n"
   ]
  },
  {
   "cell_type": "code",
   "execution_count": 83,
   "id": "15a94f6c",
   "metadata": {},
   "outputs": [
    {
     "data": {
      "text/plain": [
       "array([3.5    , 3.86667, 4.23333, 4.6    , 4.96667, 5.33333, 5.7    ,\n",
       "       6.06667, 6.43333, 6.8    ])"
      ]
     },
     "execution_count": 83,
     "metadata": {},
     "output_type": "execute_result"
    }
   ],
   "source": [
    "# linspace(start, stop, num)\n",
    "???\n"
   ]
  },
  {
   "cell_type": "markdown",
   "id": "ed914488",
   "metadata": {},
   "source": [
    "## 3.3. Khởi tạo ngẫu nhiên"
   ]
  },
  {
   "cell_type": "markdown",
   "id": "f958abcb",
   "metadata": {},
   "source": [
    "**Tạo mảng số nguyên hoặc số thực**"
   ]
  },
  {
   "cell_type": "code",
   "execution_count": 87,
   "id": "6a468f02",
   "metadata": {},
   "outputs": [
    {
     "data": {
      "text/plain": [
       "0.13623432201904695"
      ]
     },
     "execution_count": 87,
     "metadata": {},
     "output_type": "execute_result"
    }
   ],
   "source": [
    "np.random.rand()"
   ]
  },
  {
   "cell_type": "code",
   "execution_count": 88,
   "id": "a463509d",
   "metadata": {},
   "outputs": [
    {
     "data": {
      "text/plain": [
       "array([[0.54414, 0.51818, 0.76686, 0.93385],\n",
       "       [0.0897 , 0.19577, 0.99419, 0.23518],\n",
       "       [0.23899, 0.6291 , 0.73495, 0.68834]])"
      ]
     },
     "execution_count": 88,
     "metadata": {},
     "output_type": "execute_result"
    }
   ],
   "source": [
    "np.random.random((3,4))"
   ]
  },
  {
   "cell_type": "code",
   "execution_count": 91,
   "id": "3f35dbb8",
   "metadata": {},
   "outputs": [
    {
     "data": {
      "text/plain": [
       "array([ 6, 12,  8, 10,  2])"
      ]
     },
     "execution_count": 91,
     "metadata": {},
     "output_type": "execute_result"
    }
   ],
   "source": [
    "np.random.randint(low=1, high=20, size=5)"
   ]
  },
  {
   "cell_type": "markdown",
   "id": "906d32bf",
   "metadata": {},
   "source": [
    "**Theo phân bố chuẩn**<br>\n",
    "`np.random.normal(mean, standard-deviation, num)`"
   ]
  },
  {
   "cell_type": "code",
   "execution_count": 84,
   "id": "1cd7d755",
   "metadata": {},
   "outputs": [
    {
     "data": {
      "text/plain": [
       "array([6.70826, 6.39161, 5.80931, ..., 9.54407, 5.13707, 7.42686])"
      ]
     },
     "execution_count": 84,
     "metadata": {},
     "output_type": "execute_result"
    }
   ],
   "source": [
    "# Ví dụ: tạo 100 số ngẫu nhiên quanh giá trị 7 (std=2)\n",
    "???"
   ]
  },
  {
   "cell_type": "code",
   "execution_count": 85,
   "id": "1052a8e7",
   "metadata": {},
   "outputs": [
    {
     "data": {
      "text/plain": [
       "array([ 4.47189, 10.05581,  5.05858, ...,  6.43596,  7.66336,  7.87412])"
      ]
     },
     "execution_count": 85,
     "metadata": {},
     "output_type": "execute_result"
    }
   ],
   "source": [
    "# Thiết lập seed để cố định các giá trị tạo ra\n",
    "???\n",
    "np.random.normal(7, 2, 100)"
   ]
  },
  {
   "cell_type": "markdown",
   "id": "13cf4d83",
   "metadata": {},
   "source": [
    "**Theo phân bố đều**<br>\n",
    "`np.random.uniform(min, max, num)`"
   ]
  },
  {
   "cell_type": "code",
   "execution_count": 86,
   "id": "5843425a",
   "metadata": {},
   "outputs": [
    {
     "data": {
      "text/plain": [
       "array([2.58649, 2.42845, 2.59783, 2.29819, 2.77756, 2.408  , 2.79505,\n",
       "       2.34103, 2.55142, 2.44401])"
      ]
     },
     "execution_count": 86,
     "metadata": {},
     "output_type": "execute_result"
    }
   ],
   "source": [
    "# Ví dụ: tạo 10 số ngẫu nhiên từ 2.2 đến 2.8\n",
    "np.random.seed(30)\n",
    "???"
   ]
  },
  {
   "cell_type": "markdown",
   "id": "fbcdb322",
   "metadata": {},
   "source": [
    "**Luyện tập: tạo mảng số thực từ [-20, 50]**"
   ]
  },
  {
   "cell_type": "code",
   "execution_count": null,
   "id": "43d64de0",
   "metadata": {},
   "outputs": [],
   "source": [
    "# Cách 1: dùng hàm rand()\n",
    "???"
   ]
  },
  {
   "cell_type": "code",
   "execution_count": null,
   "id": "660b0207",
   "metadata": {},
   "outputs": [],
   "source": [
    "# Cách 2: dùng hàm uniform()\n",
    "???"
   ]
  },
  {
   "cell_type": "markdown",
   "id": "3ba3dbca",
   "metadata": {},
   "source": [
    "# 4. Tìm kiếm, so sánh và đếm"
   ]
  },
  {
   "cell_type": "markdown",
   "id": "5abab3f7",
   "metadata": {},
   "source": [
    "## 4.1. Tìm 1 giá trị hoặc so sánh với 1 ngưỡng"
   ]
  },
  {
   "cell_type": "code",
   "execution_count": 97,
   "id": "738afa09",
   "metadata": {},
   "outputs": [
    {
     "data": {
      "text/plain": [
       "array([[   4,    5,    6],\n",
       "       [   7,    8,    9],\n",
       "       [  10,   15,   18],\n",
       "       [1000, 2000, 3000]])"
      ]
     },
     "execution_count": 97,
     "metadata": {},
     "output_type": "execute_result"
    }
   ],
   "source": [
    "b1"
   ]
  },
  {
   "cell_type": "code",
   "execution_count": 94,
   "id": "4bfdaaa9",
   "metadata": {
    "scrolled": true
   },
   "outputs": [
    {
     "data": {
      "text/plain": [
       "array([[False, False, False],\n",
       "       [False,  True, False],\n",
       "       [False, False, False],\n",
       "       [False, False, False]])"
      ]
     },
     "execution_count": 94,
     "metadata": {},
     "output_type": "execute_result"
    }
   ],
   "source": [
    "b1 == 8"
   ]
  },
  {
   "cell_type": "code",
   "execution_count": 96,
   "id": "5b0574d4",
   "metadata": {},
   "outputs": [
    {
     "data": {
      "text/plain": [
       "array([[False, False, False],\n",
       "       [False,  True,  True],\n",
       "       [ True,  True,  True],\n",
       "       [ True,  True,  True]])"
      ]
     },
     "execution_count": 96,
     "metadata": {},
     "output_type": "execute_result"
    }
   ],
   "source": [
    "b1 >= 8"
   ]
  },
  {
   "cell_type": "code",
   "execution_count": 110,
   "id": "e0861f2f",
   "metadata": {},
   "outputs": [
    {
     "data": {
      "text/plain": [
       "array([   8,    9,   10,   15,   18, 1000, 2000, 3000])"
      ]
     },
     "execution_count": 110,
     "metadata": {},
     "output_type": "execute_result"
    }
   ],
   "source": [
    "# Lấy ra các giá trị lớn hơn hoặc bằng 8\n",
    "???"
   ]
  },
  {
   "cell_type": "code",
   "execution_count": null,
   "id": "c6185777",
   "metadata": {},
   "outputs": [],
   "source": [
    "# Lấy ra các giá trị chia hết cho 3\n",
    "???\n"
   ]
  },
  {
   "cell_type": "markdown",
   "id": "42020899",
   "metadata": {},
   "source": [
    "## 4.2. Đếm"
   ]
  },
  {
   "cell_type": "markdown",
   "id": "2fb5f80c",
   "metadata": {},
   "source": [
    "**Đếm số lượng các giá trị thỏa điều kiện**"
   ]
  },
  {
   "cell_type": "code",
   "execution_count": 95,
   "id": "491bd85a",
   "metadata": {},
   "outputs": [
    {
     "data": {
      "text/plain": [
       "1"
      ]
     },
     "execution_count": 95,
     "metadata": {},
     "output_type": "execute_result"
    }
   ],
   "source": [
    "# Đếm các giá trị bằng 8\n",
    "???"
   ]
  },
  {
   "cell_type": "code",
   "execution_count": 98,
   "id": "3f0f5093",
   "metadata": {},
   "outputs": [
    {
     "data": {
      "text/plain": [
       "7"
      ]
     },
     "execution_count": 98,
     "metadata": {},
     "output_type": "execute_result"
    }
   ],
   "source": [
    "# Đếm các giá trị lớn hơn 8\n",
    "???"
   ]
  },
  {
   "cell_type": "markdown",
   "id": "da0f0989",
   "metadata": {},
   "source": [
    "**Đếm số lần xuất hiện của các giá trị bằng `np.unique()`**"
   ]
  },
  {
   "cell_type": "code",
   "execution_count": 104,
   "id": "1761d176",
   "metadata": {},
   "outputs": [
    {
     "data": {
      "text/plain": [
       "array([17, 20, 23, 25, 36])"
      ]
     },
     "execution_count": 104,
     "metadata": {},
     "output_type": "execute_result"
    }
   ],
   "source": [
    "ds = [25, 36, 17, 20, 23, 23, 25, 17, 36, 25]\n",
    "np.unique(ds)"
   ]
  },
  {
   "cell_type": "code",
   "execution_count": 105,
   "id": "24e4800a",
   "metadata": {},
   "outputs": [
    {
     "data": {
      "text/plain": [
       "(array([17, 20, 23, 25, 36]), array([2, 1, 2, 3, 2], dtype=int64))"
      ]
     },
     "execution_count": 105,
     "metadata": {},
     "output_type": "execute_result"
    }
   ],
   "source": [
    "???"
   ]
  },
  {
   "cell_type": "code",
   "execution_count": 106,
   "id": "a3ce3619",
   "metadata": {},
   "outputs": [
    {
     "name": "stdout",
     "output_type": "stream",
     "text": [
      "[17 20 23 25 36]\n",
      "[2 1 2 3 2]\n"
     ]
    }
   ],
   "source": [
    "# Lấy ra các kết quả\n",
    "gia_tri, so_luong = ???\n",
    "print(gia_tri)\n",
    "print(so_luong)"
   ]
  },
  {
   "cell_type": "markdown",
   "id": "9cb0c7aa",
   "metadata": {},
   "source": [
    "**Luyện tập: lấy ra giá trị có số lần xuất hiện nhiều nhất (mode)?**"
   ]
  },
  {
   "cell_type": "code",
   "execution_count": 109,
   "id": "63845941",
   "metadata": {},
   "outputs": [
    {
     "data": {
      "text/plain": [
       "25"
      ]
     },
     "execution_count": 109,
     "metadata": {},
     "output_type": "execute_result"
    }
   ],
   "source": [
    "???"
   ]
  }
 ],
 "metadata": {
  "kernelspec": {
   "display_name": "Python 3 (ipykernel)",
   "language": "python",
   "name": "python3"
  },
  "language_info": {
   "codemirror_mode": {
    "name": "ipython",
    "version": 3
   },
   "file_extension": ".py",
   "mimetype": "text/x-python",
   "name": "python",
   "nbconvert_exporter": "python",
   "pygments_lexer": "ipython3",
   "version": "3.9.7"
  }
 },
 "nbformat": 4,
 "nbformat_minor": 5
}
