{
 "cells": [
  {
   "cell_type": "code",
   "execution_count": 48,
   "id": "90793013",
   "metadata": {},
   "outputs": [
    {
     "data": {
      "text/html": [
       "<style type='text/css'>\n",
       ".CodeMirror{\n",
       "    font-size: 12px;\n",
       "}\n",
       "\n",
       "div.output_area pre {\n",
       "    font-size: 12px;\n",
       "}\n",
       "</style>\n"
      ],
      "text/plain": [
       "<IPython.core.display.HTML object>"
      ]
     },
     "metadata": {},
     "output_type": "display_data"
    }
   ],
   "source": [
    "%%html\n",
    "<style type='text/css'>\n",
    ".CodeMirror{\n",
    "    font-size: 12px;\n",
    "}\n",
    "\n",
    "div.output_area pre {\n",
    "    font-size: 12px;\n",
    "}\n",
    "</style>"
   ]
  },
  {
   "cell_type": "code",
   "execution_count": 2,
   "id": "561049b6",
   "metadata": {},
   "outputs": [],
   "source": [
    "import numpy as np\n",
    "from scipy import stats\n",
    "from matplotlib import pyplot as plt\n",
    "np.set_printoptions(precision=3, suppress=True)"
   ]
  },
  {
   "cell_type": "code",
   "execution_count": 3,
   "id": "26c92709",
   "metadata": {},
   "outputs": [],
   "source": [
    "import datetime"
   ]
  },
  {
   "cell_type": "markdown",
   "id": "1df57c02",
   "metadata": {},
   "source": [
    "# Phân tích EDA cho đơn hàng"
   ]
  },
  {
   "cell_type": "markdown",
   "id": "a71a2f2c",
   "metadata": {},
   "source": [
    "# 0. Load dữ liệu"
   ]
  },
  {
   "cell_type": "code",
   "execution_count": 4,
   "id": "9acce0f3",
   "metadata": {},
   "outputs": [
    {
     "name": "stdout",
     "output_type": "stream",
     "text": [
      "Đã load xong!\n",
      "Thời gian: 0:00:14.219067\n"
     ]
    }
   ],
   "source": [
    "# Header: order_id,user_id,eval_set,order_number,order_dow,\n",
    "#         order_hour_of_day,days_since_prior_order\n",
    "start_time = datetime.datetime.now()\n",
    "\n",
    "csv_data = np.genfromtxt('data-instacart/orders.csv', skip_header=1, \n",
    "                         delimiter=',', usecols=[0,1,3,4,5,6])\n",
    "\n",
    "end_time = datetime.datetime.now()\n",
    "print(\"Đã load xong!\")\n",
    "print(\"Thời gian:\", end_time - start_time)"
   ]
  },
  {
   "cell_type": "markdown",
   "id": "94041078",
   "metadata": {},
   "source": [
    "**Kiểm tra dữ liệu**"
   ]
  },
  {
   "cell_type": "code",
   "execution_count": 5,
   "id": "501d927d",
   "metadata": {},
   "outputs": [
    {
     "name": "stdout",
     "output_type": "stream",
     "text": [
      "(3421083, 6)\n"
     ]
    }
   ],
   "source": [
    "print(csv_data.shape)"
   ]
  },
  {
   "cell_type": "code",
   "execution_count": 6,
   "id": "45be7ece",
   "metadata": {},
   "outputs": [
    {
     "data": {
      "text/plain": [
       "array([[2539329.,       1.,       1.,       2.,       8.,      nan],\n",
       "       [2398795.,       1.,       2.,       3.,       7.,      15.],\n",
       "       [ 473747.,       1.,       3.,       3.,      12.,      21.],\n",
       "       [2254736.,       1.,       4.,       4.,       7.,      29.],\n",
       "       [ 431534.,       1.,       5.,       4.,      15.,      28.]])"
      ]
     },
     "execution_count": 6,
     "metadata": {},
     "output_type": "execute_result"
    }
   ],
   "source": [
    "# Kiểm tra thử 5 dòng đầu\n",
    "csv_data[0:5]"
   ]
  },
  {
   "cell_type": "code",
   "execution_count": 7,
   "id": "3039fd59",
   "metadata": {},
   "outputs": [
    {
     "data": {
      "text/plain": [
       "array([nan, 15., 21., ..., 18.,  7., 30.])"
      ]
     },
     "execution_count": 7,
     "metadata": {},
     "output_type": "execute_result"
    }
   ],
   "source": [
    "# Kiểm tra thử một cột\n",
    "csv_data.T[-1]"
   ]
  },
  {
   "cell_type": "code",
   "execution_count": 9,
   "id": "92c98d4e",
   "metadata": {},
   "outputs": [
    {
     "data": {
      "text/plain": [
       "206209"
      ]
     },
     "execution_count": 9,
     "metadata": {},
     "output_type": "execute_result"
    }
   ],
   "source": [
    "np.count_nonzero(np.isnan(csv_data.T[-1]))"
   ]
  },
  {
   "cell_type": "markdown",
   "id": "93f4565b",
   "metadata": {},
   "source": [
    "# 1. Phân tích mô tả\n",
    "(đơn biến, không dùng đồ thị)"
   ]
  },
  {
   "cell_type": "markdown",
   "id": "b500336d",
   "metadata": {},
   "source": [
    "## 1.1. Phân tích theo giờ mua hàng"
   ]
  },
  {
   "cell_type": "markdown",
   "id": "3b6401d5",
   "metadata": {},
   "source": [
    "**Lấy ra cột về giờ mua hàng (cột 4)**"
   ]
  },
  {
   "cell_type": "code",
   "execution_count": 10,
   "id": "a6180039",
   "metadata": {},
   "outputs": [
    {
     "data": {
      "text/plain": [
       "array([ 8,  7, 12,  7, 15,  7,  9, 14, 16,  8], dtype=uint8)"
      ]
     },
     "execution_count": 10,
     "metadata": {},
     "output_type": "execute_result"
    }
   ],
   "source": [
    "# order_hour_of_day\n",
    "order_hour_of_day = csv_data[:,4].astype(np.uint8)\n",
    "order_hour_of_day[0:10]"
   ]
  },
  {
   "cell_type": "code",
   "execution_count": 11,
   "id": "fdce4091",
   "metadata": {},
   "outputs": [
    {
     "name": "stdout",
     "output_type": "stream",
     "text": [
      "[ 0  1  2  3  4  5  6  7  8  9 10 11 12 13 14 15 16 17 18 19 20 21 22 23]\n"
     ]
    }
   ],
   "source": [
    "# Kiểm tra thử số giá trị duy nhất\n",
    "print(np.unique(order_hour_of_day))"
   ]
  },
  {
   "cell_type": "markdown",
   "id": "14d3b571",
   "metadata": {},
   "source": [
    "**Dùng hàm `np.unique` để đếm số đơn theo giờ**"
   ]
  },
  {
   "cell_type": "code",
   "execution_count": 12,
   "id": "fe1f795d",
   "metadata": {},
   "outputs": [
    {
     "name": "stdout",
     "output_type": "stream",
     "text": [
      "[ 0  1  2  3  4  5  6  7  8  9 10 11 12 13 14 15 16 17 18 19 20 21 22 23]\n",
      "[ 22758  12398   7539   5474   5527   9569  30529  91868 178201 257812\n",
      " 288418 284728 272841 277999 283042 283639 272553 228795 182912 140569\n",
      " 104292  78109  61468  40043]\n"
     ]
    }
   ],
   "source": [
    "# Đếm số đơn theo giờ\n",
    "values, counts = np.unique(order_hour_of_day, return_counts=True)\n",
    "print(values)\n",
    "print(counts)"
   ]
  },
  {
   "cell_type": "code",
   "execution_count": 13,
   "id": "665d337f",
   "metadata": {},
   "outputs": [
    {
     "name": "stdout",
     "output_type": "stream",
     "text": [
      "Trung bình số đơn mỗi giờ: 142545.125\n",
      "Trung bình số đơn mỗi giờ: 142545.125\n"
     ]
    }
   ],
   "source": [
    "# Trung bình số đơn theo giờ\n",
    "print(\"Trung bình số đơn mỗi giờ:\", np.mean(counts))\n",
    "print(\"Trung bình số đơn mỗi giờ:\", order_hour_of_day.size/24)"
   ]
  },
  {
   "cell_type": "code",
   "execution_count": 14,
   "id": "6c89e8a4",
   "metadata": {},
   "outputs": [
    {
     "name": "stdout",
     "output_type": "stream",
     "text": [
      "Nhiều đơn nhất: 288418\n",
      "Ít đơn nhất: 5474\n"
     ]
    }
   ],
   "source": [
    "# Tìm các giá trị max-min\n",
    "print(\"Nhiều đơn nhất:\", np.max(counts))    # Mode của số đơn hàng trong ngày\n",
    "print(\"Ít đơn nhất:\", np.min(counts))"
   ]
  },
  {
   "cell_type": "code",
   "execution_count": 15,
   "id": "f4863bc0",
   "metadata": {},
   "outputs": [
    {
     "data": {
      "text/plain": [
       "ModeResult(mode=array([10], dtype=uint8), count=array([288418]))"
      ]
     },
     "execution_count": 15,
     "metadata": {},
     "output_type": "execute_result"
    }
   ],
   "source": [
    "# Thử tìm giá trị mode bằng hàm 'stats.mode'\n",
    "stats.mode(order_hour_of_day)"
   ]
  },
  {
   "cell_type": "markdown",
   "id": "697b34e9",
   "metadata": {},
   "source": [
    "## 1.2. Phân tích theo ngày mua hàng trong tuần"
   ]
  },
  {
   "cell_type": "markdown",
   "id": "c7c21d38",
   "metadata": {},
   "source": [
    "**Lấy ra cột `order_dow` (cột 3)**"
   ]
  },
  {
   "cell_type": "code",
   "execution_count": 16,
   "id": "8d43ff54",
   "metadata": {},
   "outputs": [],
   "source": [
    "order_dow = csv_data[:,3].astype(np.uint8)"
   ]
  },
  {
   "cell_type": "code",
   "execution_count": 17,
   "id": "81ddfdd2",
   "metadata": {},
   "outputs": [
    {
     "name": "stdout",
     "output_type": "stream",
     "text": [
      "(3421083,)\n",
      "[0 1 2 3 4 5 6]\n"
     ]
    }
   ],
   "source": [
    "print(order_dow.shape)\n",
    "print(np.unique(order_dow))"
   ]
  },
  {
   "cell_type": "markdown",
   "id": "d37a1a61",
   "metadata": {},
   "source": [
    "**Dùng hàm `np.unique` để đếm số đơn theo ngày trong tuần**"
   ]
  },
  {
   "cell_type": "code",
   "execution_count": 18,
   "id": "422dc994",
   "metadata": {},
   "outputs": [
    {
     "name": "stdout",
     "output_type": "stream",
     "text": [
      "[0 1 2 3 4 5 6]\n",
      "[600905 587478 467260 436972 426339 453368 448761]\n"
     ]
    }
   ],
   "source": [
    "# Đếm số đơn theo ngày trong tuần\n",
    "values, counts = np.unique(order_dow, return_counts=True)\n",
    "print(values)\n",
    "print(counts)"
   ]
  },
  {
   "cell_type": "code",
   "execution_count": 19,
   "id": "26992642",
   "metadata": {},
   "outputs": [
    {
     "name": "stdout",
     "output_type": "stream",
     "text": [
      "Trung bình số đơn mỗi ngày trong tuần: 488726.14285714284\n",
      "Trung bình số đơn mỗi ngày trong tuần: 488726.14285714284\n"
     ]
    }
   ],
   "source": [
    "# Trung bình số đơn theo ngày trong tuần\n",
    "print(\"Trung bình số đơn mỗi ngày trong tuần:\", np.mean(counts))\n",
    "print(\"Trung bình số đơn mỗi ngày trong tuần:\", order_dow.size/7)"
   ]
  },
  {
   "cell_type": "code",
   "execution_count": 20,
   "id": "50e5d659",
   "metadata": {},
   "outputs": [
    {
     "name": "stdout",
     "output_type": "stream",
     "text": [
      "Ít đơn nhất: 426339\n",
      "Nhiều đơn nhất: 600905\n"
     ]
    }
   ],
   "source": [
    "print(\"Ít đơn nhất:\", np.min(counts)) # Min của số đơn hàng theo ngày trong tuần\n",
    "print(\"Nhiều đơn nhất:\", np.max(counts))    # Max  của số đơn hàng theo ngày trong tuần"
   ]
  },
  {
   "cell_type": "markdown",
   "id": "50402527",
   "metadata": {},
   "source": [
    "# 2. Phân tích theo các câu hỏi"
   ]
  },
  {
   "cell_type": "markdown",
   "id": "a27c8487",
   "metadata": {},
   "source": [
    "## 2.1) Thời điểm nào trong ngày thường có nhiều đơn hàng nhất?\n",
    "Vẽ biểu đồ phân bố đơn hàng theo giờ trong ngày{.unnumbered}"
   ]
  },
  {
   "cell_type": "code",
   "execution_count": 21,
   "id": "ce8d9139",
   "metadata": {},
   "outputs": [
    {
     "data": {
      "image/png": "[encoded data removed]",
      "text/plain": [
       "<Figure size 360x216 with 1 Axes>"
      ]
     },
     "metadata": {
      "needs_background": "light"
     },
     "output_type": "display_data"
    }
   ],
   "source": [
    "# Cách đơn giản nhất: vẽ histogram của cột order_hour_of_day\n",
    "fig,ax = plt.subplots(figsize=(5,3), num=1)\n",
    "ax.hist(order_hour_of_day, bins=24)\n",
    "plt.show()"
   ]
  },
  {
   "cell_type": "code",
   "execution_count": 22,
   "id": "d41758cf",
   "metadata": {},
   "outputs": [
    {
     "data": {
      "image/png": "[encoded data removed]",
      "text/plain": [
       "<Figure size 360x216 with 1 Axes>"
      ]
     },
     "metadata": {
      "needs_background": "light"
     },
     "output_type": "display_data"
    }
   ],
   "source": [
    "# Hoặc vẽ biểu đồ cột của các giá trị đếm được\n",
    "values, counts = np.unique(order_hour_of_day, return_counts=True)\n",
    "fig,ax = plt.subplots(figsize=(5,3), num=1)\n",
    "ax.bar(values, counts)\n",
    "plt.show()"
   ]
  },
  {
   "cell_type": "code",
   "execution_count": 23,
   "id": "e0d8617e",
   "metadata": {
    "scrolled": true
   },
   "outputs": [
    {
     "data": {
      "image/png": "[encoded data removed]",
      "text/plain": [
       "<Figure size 720x288 with 1 Axes>"
      ]
     },
     "metadata": {
      "needs_background": "light"
     },
     "output_type": "display_data"
    }
   ],
   "source": [
    "# Chỉnh sửa lại cho đẹp hơn\n",
    "fig,ax = plt.subplots(figsize=(10,4), num=1)\n",
    "\n",
    "ax.bar(values, counts, alpha=0.75, color='red')\n",
    "\n",
    "xtick_labels = np.arange(24)\n",
    "ax.set_xticks(values)\n",
    "ax.set_xlabel(\"Giờ trong ngày\")\n",
    "ax.set_ylabel(\"Số lượng đơn\")\n",
    "\n",
    "plt.show()"
   ]
  },
  {
   "cell_type": "markdown",
   "id": "2f687a10",
   "metadata": {},
   "source": [
    "**Kết luận?**"
   ]
  },
  {
   "cell_type": "markdown",
   "id": "c1783413",
   "metadata": {},
   "source": [
    "## 2.2) Thời điểm nào trong tuần thường có nhiều đơn hàng nhất? {.unnumbered}\n",
    "Vẽ biểu đồ phân bố đơn hàng theo ngày trong tuần"
   ]
  },
  {
   "cell_type": "code",
   "execution_count": 24,
   "id": "04552f4c",
   "metadata": {},
   "outputs": [
    {
     "data": {
      "image/png": "[encoded data removed]",
      "text/plain": [
       "<Figure size 360x216 with 1 Axes>"
      ]
     },
     "metadata": {
      "needs_background": "light"
     },
     "output_type": "display_data"
    }
   ],
   "source": [
    "values, counts = np.unique(order_dow, return_counts=True)\n",
    "fig,ax = plt.subplots(figsize=(5,3), num=1)\n",
    "ax.bar(values, counts)\n",
    "plt.show()"
   ]
  },
  {
   "cell_type": "code",
   "execution_count": 25,
   "id": "a77b68c1",
   "metadata": {},
   "outputs": [
    {
     "data": {
      "image/png": "[encoded data removed]",
      "text/plain": [
       "<Figure size 432x216 with 1 Axes>"
      ]
     },
     "metadata": {
      "needs_background": "light"
     },
     "output_type": "display_data"
    }
   ],
   "source": [
    "week_days = ['Thứ Bảy', 'CN', 'Thứ Hai', 'Thứ Ba', 'Thứ Tư', 'Thứ Năm', 'Thứ Sáu']\n",
    "fig,ax = plt.subplots(figsize=(6,3), num=1)\n",
    "ax.bar(values, counts, alpha=0.75, width=0.8,\n",
    "       color='red', edgecolor='black', linewidth=1.0)\n",
    "\n",
    "ax.set_xticks(values)\n",
    "ax.set_xticklabels(week_days, rotation=-30)\n",
    "\n",
    "ax.set_xlabel(\"Ngày trong tuần\")\n",
    "ax.set_ylabel(\"Số lượng đơn\")\n",
    "\n",
    "plt.show()"
   ]
  },
  {
   "cell_type": "markdown",
   "id": "b8c3c5ff",
   "metadata": {},
   "source": [
    "## 2.3. Mỗi khách hàng thường có số đơn hàng là bao nhiêu?\n",
    "\n",
    "**Cần tính số lượng khách hàng theo số đơn hàng mỗi khách đã mua**\n",
    "<br>\n",
    "Ví dụ:\n",
    "- Số khách hàng mua 3 đơn: 100 người\n",
    "- Số khách hàng mua 5 đơn: 120 người\n",
    "- ..."
   ]
  },
  {
   "cell_type": "markdown",
   "id": "2f6378ab",
   "metadata": {},
   "source": [
    "**Lấy ra cột `customer_id_order` (Cột 1)**"
   ]
  },
  {
   "cell_type": "code",
   "execution_count": 26,
   "id": "8993946e",
   "metadata": {},
   "outputs": [
    {
     "data": {
      "text/plain": [
       "array([     1,      1,      1, ..., 206209, 206209, 206209])"
      ]
     },
     "execution_count": 26,
     "metadata": {},
     "output_type": "execute_result"
    }
   ],
   "source": [
    "customer_id_order = csv_data[:,1].astype(int)\n",
    "customer_id_order"
   ]
  },
  {
   "cell_type": "code",
   "execution_count": 27,
   "id": "fd0a61f4",
   "metadata": {},
   "outputs": [
    {
     "name": "stdout",
     "output_type": "stream",
     "text": [
      "206209\n",
      "206209\n"
     ]
    }
   ],
   "source": [
    "# Đếm bằng hàm 'np.unique()'\n",
    "values, order_per_cus_counts = np.unique(customer_id_order, return_counts=True)\n",
    "print(values.size)\n",
    "print(order_per_cus_counts.size)"
   ]
  },
  {
   "cell_type": "code",
   "execution_count": 28,
   "id": "8e49bdaf",
   "metadata": {},
   "outputs": [
    {
     "name": "stdout",
     "output_type": "stream",
     "text": [
      "[     1      2      3 ... 206207 206208 206209]\n",
      "[11 15 13 ... 17 50 14]\n"
     ]
    }
   ],
   "source": [
    "# Thử in ra và kiểm tra\n",
    "print(values)\n",
    "print(order_per_cus_counts)"
   ]
  },
  {
   "cell_type": "markdown",
   "id": "10011ca5",
   "metadata": {},
   "source": [
    "**Một số thống kê mô tả**"
   ]
  },
  {
   "cell_type": "code",
   "execution_count": 29,
   "id": "c701caa6",
   "metadata": {},
   "outputs": [
    {
     "name": "stdout",
     "output_type": "stream",
     "text": [
      "Số đơn ít nhất mà 1 KH đã mua: 4\n",
      "Số đơn nhiều nhất mà 1 KH đã mua: 100\n",
      "Số đơn trung bình mà 1 KH đã mua: 16.590367054784224\n",
      "Giá trị trung vị của số đơn: 10.0\n",
      "Giá trị mode của số đơn: ModeResult(mode=array([4], dtype=int64), count=array([23986]))\n"
     ]
    }
   ],
   "source": [
    "print(\"Số đơn ít nhất mà 1 KH đã mua:\", np.min(order_per_cus_counts)) \n",
    "print(\"Số đơn nhiều nhất mà 1 KH đã mua:\", np.max(order_per_cus_counts))\n",
    "print(\"Số đơn trung bình mà 1 KH đã mua:\", np.mean(order_per_cus_counts))\n",
    "print(\"Giá trị trung vị của số đơn:\", np.median(order_per_cus_counts))\n",
    "print(\"Giá trị mode của số đơn:\", stats.mode(order_per_cus_counts))"
   ]
  },
  {
   "cell_type": "markdown",
   "id": "94a06325",
   "metadata": {},
   "source": [
    "**Vẽ biểu đồ: histogram**"
   ]
  },
  {
   "cell_type": "code",
   "execution_count": 35,
   "id": "0ded2118",
   "metadata": {
    "scrolled": true
   },
   "outputs": [
    {
     "data": {
      "image/png": "[encoded data removed]",
      "text/plain": [
       "<Figure size 648x360 with 1 Axes>"
      ]
     },
     "metadata": {
      "needs_background": "light"
     },
     "output_type": "display_data"
    }
   ],
   "source": [
    "fig,ax = plt.subplots(figsize=(9,5), num=1)\n",
    "n, bins, edges = ax.hist(order_per_cus_counts, bins=96,\n",
    "                         color='green', alpha=.75, edgecolor='black', linewidth=0.5)\n",
    "plt.show()"
   ]
  },
  {
   "cell_type": "code",
   "execution_count": 31,
   "id": "621992c4",
   "metadata": {},
   "outputs": [
    {
     "name": "stdout",
     "output_type": "stream",
     "text": [
      "[4, 10, 15, 20, 25, 30, 35, 40, 45, 50, 55, 60, 65, 70, 75, 80, 85, 90, 95, 100]\n"
     ]
    }
   ],
   "source": [
    "# Tạo nhãn trên trục x\n",
    "labels = [4] + list(np.arange(10,105,5))\n",
    "print(labels)"
   ]
  },
  {
   "cell_type": "code",
   "execution_count": 34,
   "id": "dd495e1f",
   "metadata": {
    "scrolled": true
   },
   "outputs": [
    {
     "data": {
      "image/png": "[encoded data removed]",
      "text/plain": [
       "<Figure size 648x360 with 1 Axes>"
      ]
     },
     "metadata": {
      "needs_background": "light"
     },
     "output_type": "display_data"
    }
   ],
   "source": [
    "fig,ax = plt.subplots(figsize=(9,5), num=1)\n",
    "ax.hist(order_per_cus_counts, bins=96, align='left',\n",
    "        color='green', alpha=.75, edgecolor='black', linewidth=0.5)\n",
    "ax.set_xticks(labels)\n",
    "plt.show()"
   ]
  },
  {
   "cell_type": "markdown",
   "id": "68f1940f",
   "metadata": {},
   "source": [
    "## 2.4. Thường sau bao nhiêu ngày khách hàng lại re-order?\n",
    "\n",
    "**Vẽ biểu đồ số đơn hàng theo quãng thời gian re-order**"
   ]
  },
  {
   "cell_type": "markdown",
   "id": "6b73f948",
   "metadata": {},
   "source": [
    "**Lấy ra cột `reorder_days` và bỏ các giá trị NaN**"
   ]
  },
  {
   "cell_type": "code",
   "execution_count": 36,
   "id": "1ce32137",
   "metadata": {},
   "outputs": [
    {
     "name": "stdout",
     "output_type": "stream",
     "text": [
      "[nan 15. 21. ... 18.  7. 30.]\n"
     ]
    }
   ],
   "source": [
    "reorder_days = csv_data.T[-1]\n",
    "# reorder_days = csv_data.T[-1].astype(np.uint8)\n",
    "print(reorder_days)"
   ]
  },
  {
   "cell_type": "code",
   "execution_count": 37,
   "id": "7629f614",
   "metadata": {},
   "outputs": [
    {
     "name": "stdout",
     "output_type": "stream",
     "text": [
      "[False False False ... False False False]\n",
      "[ True False False ... False False False]\n"
     ]
    }
   ],
   "source": [
    "# Thử kiểm tra với phép so sánh bằng và hàm isnan()\n",
    "print(reorder_days == np.nan)\n",
    "print(np.isnan(reorder_days))"
   ]
  },
  {
   "cell_type": "code",
   "execution_count": 38,
   "id": "e2222f77",
   "metadata": {},
   "outputs": [
    {
     "data": {
      "text/plain": [
       "array([False,  True,  True, ...,  True,  True,  True])"
      ]
     },
     "execution_count": 38,
     "metadata": {},
     "output_type": "execute_result"
    }
   ],
   "source": [
    "# Có thể sử dụng hàm np.invert() để đảo giá trị True/False\n",
    "# Cũng có thể dùng dấu Tidle (~) thay cho hàm np.invert()\n",
    "np.invert(np.isnan(reorder_days))"
   ]
  },
  {
   "cell_type": "markdown",
   "id": "6fcfb939",
   "metadata": {},
   "source": [
    "**Lấy ra phần không-NAN của cột `reorder_days`**"
   ]
  },
  {
   "cell_type": "code",
   "execution_count": 39,
   "id": "d815419d",
   "metadata": {},
   "outputs": [
    {
     "name": "stdout",
     "output_type": "stream",
     "text": [
      "[15 21 29 ... 18  7 30]\n"
     ]
    }
   ],
   "source": [
    "# Gán lại biến 'reorder_days'\n",
    "# Lưu ý: cần chuyển thành kiểu uint8\n",
    "reorder_days = reorder_days[np.invert(np.isnan(reorder_days))].astype(np.uint8)\n",
    "print(reorder_days)"
   ]
  },
  {
   "cell_type": "code",
   "execution_count": 40,
   "id": "8bf42ad8",
   "metadata": {},
   "outputs": [
    {
     "name": "stdout",
     "output_type": "stream",
     "text": [
      "[ 0  1  2  3  4  5  6  7  8  9 10 11 12 13 14 15 16 17 18 19 20 21 22 23\n",
      " 24 25 26 27 28 29 30]\n",
      "[ 67755 145247 193206 217005 221696 214503 240013 320608 181717 118188\n",
      "  95186  80970  76146  83214 100230  66579  46941  39245  35881  34384\n",
      "  38527  45470  32012  23885  20712  19234  19016  22013  26777  19191\n",
      " 369323]\n"
     ]
    }
   ],
   "source": [
    "values, counts = np.unique(reorder_days, return_counts=True)\n",
    "print(values)\n",
    "print(counts)"
   ]
  },
  {
   "cell_type": "markdown",
   "id": "237b9394",
   "metadata": {},
   "source": [
    "**Vẽ lên biểu đồ**"
   ]
  },
  {
   "cell_type": "code",
   "execution_count": 41,
   "id": "f15c0efe",
   "metadata": {},
   "outputs": [
    {
     "data": {
      "image/png": "[encoded data removed]",
      "text/plain": [
       "<Figure size 720x360 with 1 Axes>"
      ]
     },
     "metadata": {
      "needs_background": "light"
     },
     "output_type": "display_data"
    }
   ],
   "source": [
    "fig,ax = plt.subplots(figsize=(10,5), num=1)\n",
    "ax.bar(values, counts,\n",
    "       color='yellow', alpha=.75, edgecolor='black')\n",
    "ax.set_xticks(values)\n",
    "plt.show()"
   ]
  },
  {
   "cell_type": "markdown",
   "id": "d75f56c9",
   "metadata": {},
   "source": [
    "# Mở rộng và nâng cao\n",
    "\n",
    "**Sau 30 ngày, đa số khách hàng đã order bao nhiêu lần?**"
   ]
  },
  {
   "cell_type": "markdown",
   "id": "cf33b98e",
   "metadata": {},
   "source": [
    "**Cần lấy ra cột số lần order (cột 2) của những lần reorder sau 30 ngày**"
   ]
  },
  {
   "cell_type": "code",
   "execution_count": 42,
   "id": "5b651de2",
   "metadata": {},
   "outputs": [
    {
     "data": {
      "text/plain": [
       "array([False, False, False, ..., False, False,  True])"
      ]
     },
     "execution_count": 42,
     "metadata": {},
     "output_type": "execute_result"
    }
   ],
   "source": [
    "reorder_days == 30"
   ]
  },
  {
   "cell_type": "code",
   "execution_count": 44,
   "id": "f1d432ee",
   "metadata": {},
   "outputs": [
    {
     "name": "stdout",
     "output_type": "stream",
     "text": [
      "(369323,)\n"
     ]
    }
   ],
   "source": [
    "order_numbers = csv_data.T[2]\n",
    "reorder30 = order_numbers[csv_data.T[-1] == 30]\n",
    "print(reorder30.shape)"
   ]
  },
  {
   "cell_type": "code",
   "execution_count": 47,
   "id": "88a92164",
   "metadata": {},
   "outputs": [
    {
     "data": {
      "image/png": "[encoded data removed]",
      "text/plain": [
       "<Figure size 648x360 with 1 Axes>"
      ]
     },
     "metadata": {
      "needs_background": "light"
     },
     "output_type": "display_data"
    }
   ],
   "source": [
    "fig,ax = plt.subplots(figsize=(9,5), num=1)\n",
    "count, bins, edges = ax.hist(reorder30, bins=97,\n",
    "                             color='green', alpha=.75, edgecolor='black', linewidth=0.5)\n",
    "\n",
    "# Tạo nhãn trên trục x:\n",
    "# labels = [2] + list(np.arange(5,70,5))\n",
    "# ax.set_xticks(labels)\n",
    "ax.set_xticks([bins[i] for i in range(0,bins.size,5)])\n",
    "\n",
    "plt.show()"
   ]
  },
  {
   "cell_type": "code",
   "execution_count": null,
   "id": "78b68f77",
   "metadata": {},
   "outputs": [],
   "source": []
  }
 ],
 "metadata": {
  "kernelspec": {
   "display_name": "Python 3 (ipykernel)",
   "language": "python",
   "name": "python3"
  },
  "language_info": {
   "codemirror_mode": {
    "name": "ipython",
    "version": 3
   },
   "file_extension": ".py",
   "mimetype": "text/x-python",
   "name": "python",
   "nbconvert_exporter": "python",
   "pygments_lexer": "ipython3",
   "version": "3.9.7"
  }
 },
 "nbformat": 4,
 "nbformat_minor": 5
}
