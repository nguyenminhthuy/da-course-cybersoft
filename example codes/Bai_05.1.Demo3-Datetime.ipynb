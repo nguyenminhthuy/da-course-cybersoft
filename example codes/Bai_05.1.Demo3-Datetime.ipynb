{
 "cells": [
  {
   "cell_type": "code",
   "execution_count": 1,
   "id": "dc2d9701",
   "metadata": {},
   "outputs": [
    {
     "data": {
      "text/html": [
       "<style type='text/css'>\n",
       ".CodeMirror{\n",
       "    font-size: 18px;\n",
       "}\n",
       "\n",
       "div.output_area pre {\n",
       "    font-size: 16px;\n",
       "}\n",
       "</style>\n"
      ],
      "text/plain": [
       "<IPython.core.display.HTML object>"
      ]
     },
     "metadata": {},
     "output_type": "display_data"
    }
   ],
   "source": [
    "%%html\n",
    "<style type='text/css'>\n",
    ".CodeMirror{\n",
    "    font-size: 18px;\n",
    "}\n",
    "\n",
    "div.output_area pre {\n",
    "    font-size: 16px;\n",
    "}\n",
    "</style>"
   ]
  },
  {
   "cell_type": "markdown",
   "id": "b359e3aa",
   "metadata": {},
   "source": [
    "# Phần 2: Cơ bản về dữ liệu thời gian"
   ]
  },
  {
   "cell_type": "code",
   "execution_count": 2,
   "id": "791fef0b",
   "metadata": {},
   "outputs": [],
   "source": [
    "import numpy as np\n",
    "import datetime as dt"
   ]
  },
  {
   "cell_type": "markdown",
   "id": "bc4c7935",
   "metadata": {},
   "source": [
    "## 2.1. Các loại dữ liệu thời gian thông dụng"
   ]
  },
  {
   "cell_type": "code",
   "execution_count": 3,
   "id": "f44a1aa1",
   "metadata": {},
   "outputs": [
    {
     "name": "stdout",
     "output_type": "stream",
     "text": [
      "2022-08-17 11:25:39.554465\n",
      "2022-08-17\n",
      "2022-08-17 11:25:39.554734\n"
     ]
    }
   ],
   "source": [
    "# Lấy ngày và giờ hiện tại\n",
    "today = dt.datetime.today()\n",
    "print(today)\n",
    "\n",
    "today = dt.date.today()\n",
    "print(today)\n",
    "\n",
    "now = dt.datetime.now()\n",
    "print(now)"
   ]
  },
  {
   "cell_type": "code",
   "execution_count": 4,
   "id": "a51c7eda",
   "metadata": {},
   "outputs": [
    {
     "name": "stdout",
     "output_type": "stream",
     "text": [
      "2007-12-06 16:29:43.079043\n"
     ]
    }
   ],
   "source": [
    "# Tạo một đối tượng datetime (bao gồm ngày và giờ)\n",
    "a_day = dt.datetime(2007, 12, 6, 16, 29, 43, 79043)\n",
    "print(a_day)"
   ]
  },
  {
   "cell_type": "code",
   "execution_count": 5,
   "id": "9b7ee9f7",
   "metadata": {},
   "outputs": [
    {
     "name": "stdout",
     "output_type": "stream",
     "text": [
      "2007-12-06 16:29:43\n"
     ]
    }
   ],
   "source": [
    "# Tạo đối tượng datetime với tham số cho rõ hơn\n",
    "a_day = dt.datetime(year=2007, month=12, day=6, hour=16, minute=29, second=43)\n",
    "print(a_day)"
   ]
  },
  {
   "cell_type": "code",
   "execution_count": 6,
   "id": "32bf6616",
   "metadata": {},
   "outputs": [
    {
     "name": "stdout",
     "output_type": "stream",
     "text": [
      "2020-11-20\n"
     ]
    }
   ],
   "source": [
    "# Kiểu date\n",
    "a_date = dt.date(2020, 11, 20)\n",
    "print(a_date)"
   ]
  },
  {
   "cell_type": "code",
   "execution_count": 7,
   "id": "6024597d",
   "metadata": {},
   "outputs": [
    {
     "ename": "ValueError",
     "evalue": "day is out of range for month",
     "output_type": "error",
     "traceback": [
      "\u001b[1;31m---------------------------------------------------------------------------\u001b[0m",
      "\u001b[1;31mValueError\u001b[0m                                Traceback (most recent call last)",
      "\u001b[1;32mC:\\Users\\QUANG-~1\\AppData\\Local\\Temp/ipykernel_17288/297508030.py\u001b[0m in \u001b[0;36m<module>\u001b[1;34m\u001b[0m\n\u001b[0;32m      1\u001b[0m \u001b[1;31m# Thử tạo với ngày ko có thật\u001b[0m\u001b[1;33m\u001b[0m\u001b[1;33m\u001b[0m\u001b[0m\n\u001b[1;32m----> 2\u001b[1;33m \u001b[0ma_date\u001b[0m \u001b[1;33m=\u001b[0m \u001b[0mdt\u001b[0m\u001b[1;33m.\u001b[0m\u001b[0mdate\u001b[0m\u001b[1;33m(\u001b[0m\u001b[1;36m2021\u001b[0m\u001b[1;33m,\u001b[0m \u001b[1;36m2\u001b[0m\u001b[1;33m,\u001b[0m \u001b[1;36m29\u001b[0m\u001b[1;33m)\u001b[0m\u001b[1;33m\u001b[0m\u001b[1;33m\u001b[0m\u001b[0m\n\u001b[0m\u001b[0;32m      3\u001b[0m \u001b[0mprint\u001b[0m\u001b[1;33m(\u001b[0m\u001b[0ma_date\u001b[0m\u001b[1;33m)\u001b[0m\u001b[1;33m\u001b[0m\u001b[1;33m\u001b[0m\u001b[0m\n",
      "\u001b[1;31mValueError\u001b[0m: day is out of range for month"
     ]
    }
   ],
   "source": [
    "# Thử tạo với ngày ko có thật\n",
    "a_date = dt.date(2021, 2, 29)\n",
    "print(a_date)"
   ]
  },
  {
   "cell_type": "code",
   "execution_count": 8,
   "id": "b89ea145",
   "metadata": {},
   "outputs": [
    {
     "name": "stdout",
     "output_type": "stream",
     "text": [
      "2022-08-17\n",
      "11:26:13.363229\n"
     ]
    }
   ],
   "source": [
    "# Lấy ra ngày và giờ từ đối tượng datetime\n",
    "today = dt.datetime.now().date()\n",
    "this_time = dt.datetime.now().time()\n",
    "print(today)\n",
    "print(this_time)"
   ]
  },
  {
   "cell_type": "code",
   "execution_count": 9,
   "id": "3f9da5fb",
   "metadata": {},
   "outputs": [
    {
     "name": "stdout",
     "output_type": "stream",
     "text": [
      "2022-08-17\n",
      "11:26:16.162211\n",
      "2022-08-17 11:26:16.162211\n"
     ]
    }
   ],
   "source": [
    "# Sử dụng hàm datetime.combine để tạo đối tượng datetime\n",
    "today = dt.date.today()\n",
    "print(today)\n",
    "\n",
    "now = dt.datetime.now().time()\n",
    "print(now)\n",
    "\n",
    "today_now = dt.datetime.combine(today, now)\n",
    "print(today_now)"
   ]
  },
  {
   "cell_type": "markdown",
   "id": "65647aed",
   "metadata": {},
   "source": [
    "## 2.2. Parsing dữ liệu thời gian"
   ]
  },
  {
   "cell_type": "markdown",
   "id": "9804059c",
   "metadata": {},
   "source": [
    "**Chuyển đổi từ thời gian sang text**"
   ]
  },
  {
   "cell_type": "code",
   "execution_count": 10,
   "id": "8b6fddac",
   "metadata": {},
   "outputs": [
    {
     "name": "stdout",
     "output_type": "stream",
     "text": [
      "2022-08-17 11:26:27.198359\n"
     ]
    }
   ],
   "source": [
    "# Lấy thời gian là mốc hiện tại\n",
    "now = dt.datetime.now()\n",
    "print(now)"
   ]
  },
  {
   "cell_type": "code",
   "execution_count": 11,
   "id": "86855049",
   "metadata": {},
   "outputs": [
    {
     "name": "stdout",
     "output_type": "stream",
     "text": [
      "17/08/2022\n"
     ]
    }
   ],
   "source": [
    "# Parse một đối tượng datetime sang chuỗi text: strftime\n",
    "thoigian = now.strftime(\"%d/%m/%Y\")\n",
    "print(thoigian)"
   ]
  },
  {
   "cell_type": "code",
   "execution_count": 12,
   "id": "0258fb6c",
   "metadata": {},
   "outputs": [
    {
     "data": {
      "text/plain": [
       "str"
      ]
     },
     "execution_count": 12,
     "metadata": {},
     "output_type": "execute_result"
    }
   ],
   "source": [
    "type(thoigian)"
   ]
  },
  {
   "cell_type": "code",
   "execution_count": null,
   "id": "0d5430f1",
   "metadata": {},
   "outputs": [],
   "source": [
    "# Thực hiện lại với format: Năm/Tháng/Ngày Giờ:Phút:Giây\n",
    "# \"%Y-%m-%d %H:%M:%S\"\n",
    "text_thoigian = now.strftime(\"%Y/%m/%d %Hh %Mmin %Ss\")\n",
    "print(text_thoigian)"
   ]
  },
  {
   "cell_type": "markdown",
   "id": "0d0fabf4",
   "metadata": {},
   "source": [
    "**Chuyển đổi từ text sang thời gian**"
   ]
  },
  {
   "cell_type": "code",
   "execution_count": 14,
   "id": "b7b1a403",
   "metadata": {},
   "outputs": [
    {
     "name": "stdout",
     "output_type": "stream",
     "text": [
      "2021-08-15 15:45:00\n"
     ]
    }
   ],
   "source": [
    "# Dùng hàm strptime\n",
    "a_dt = dt.datetime.strptime(\"15_08_2021 15:45\", \"%d_%m_%Y %H:%M\")\n",
    "print(a_dt)"
   ]
  },
  {
   "cell_type": "code",
   "execution_count": 15,
   "id": "ca366c14",
   "metadata": {},
   "outputs": [
    {
     "name": "stdout",
     "output_type": "stream",
     "text": [
      "2021-09-01 00:00:00\n"
     ]
    }
   ],
   "source": [
    "a_dt = dt.datetime.strptime(\"01 September 2021\", \"%d %B %Y\")\n",
    "print(a_dt)"
   ]
  },
  {
   "cell_type": "code",
   "execution_count": null,
   "id": "94f68b91",
   "metadata": {},
   "outputs": [],
   "source": [
    "# Ngày Bắt đầu học: 13/07/2022, lúc 18:30:00\n",
    "text_dt = \"13/07/2022 18h30ph00giay\"\n",
    "dt_batdau = dt.datetime.strptime(text_dt, \"%d/%m/%Y %Hh%Mph%Sgiay\")\n",
    "print(dt_batdau)"
   ]
  },
  {
   "cell_type": "markdown",
   "id": "1c4f9b36",
   "metadata": {},
   "source": [
    "## 2.3. Các phép tính trên dữ liệu thời gian"
   ]
  },
  {
   "cell_type": "code",
   "execution_count": 17,
   "id": "be3410f5",
   "metadata": {},
   "outputs": [
    {
     "name": "stdout",
     "output_type": "stream",
     "text": [
      "34 days, 16:58:45.046082\n"
     ]
    }
   ],
   "source": [
    "# Tổng thời gian tính từ lúc lớp ta bắt đầu\n",
    "now = dt.datetime.now()\n",
    "print(now - dt_batdau)"
   ]
  },
  {
   "cell_type": "code",
   "execution_count": 18,
   "id": "0866e65c",
   "metadata": {},
   "outputs": [
    {
     "name": "stdout",
     "output_type": "stream",
     "text": [
      "0:00:04.188434\n"
     ]
    }
   ],
   "source": [
    "start_time = dt.datetime.now()\n",
    "\n",
    "for i in range(100000000): a = 1**10\n",
    "    \n",
    "end_time = dt.datetime.now()\n",
    "print(end_time - start_time)"
   ]
  },
  {
   "cell_type": "code",
   "execution_count": 19,
   "id": "0c2c1703",
   "metadata": {},
   "outputs": [
    {
     "name": "stdout",
     "output_type": "stream",
     "text": [
      "2022-08-17 11:29:21.499125\n",
      "2022-08-17 12:29:21.499125\n",
      "2022-08-17 10:29:21.499125\n"
     ]
    }
   ],
   "source": [
    "# Phép cộng trừ 1 giờ\n",
    "from datetime import timedelta\n",
    "now = dt.datetime.now()\n",
    "one_hr_later = now + timedelta(hours=1)\n",
    "one_hr_before = now - timedelta(hours=1)\n",
    "print(now)\n",
    "print(one_hr_later)\n",
    "print(one_hr_before)"
   ]
  },
  {
   "cell_type": "code",
   "execution_count": 20,
   "id": "9b04e18a",
   "metadata": {},
   "outputs": [
    {
     "data": {
      "text/plain": [
       "False"
      ]
     },
     "execution_count": 20,
     "metadata": {},
     "output_type": "execute_result"
    }
   ],
   "source": [
    "# Phép so sánh\n",
    "one_hr_later < one_hr_before"
   ]
  },
  {
   "cell_type": "code",
   "execution_count": 21,
   "id": "63cdcf13",
   "metadata": {},
   "outputs": [
    {
     "name": "stdout",
     "output_type": "stream",
     "text": [
      "2021-11-30 18:30:00\n",
      "2021-12-21 20:15:00\n",
      "21 days, 1:45:00\n"
     ]
    }
   ],
   "source": [
    "# Thực hiện trừ 2 ngày khác nhau\n",
    "d1 = dt.datetime(2021, 11, 30, 18, 30, 0)\n",
    "d2 = dt.datetime(2021, 12, 21, 20, 15, 0)\n",
    "print(d1)\n",
    "print(d2)\n",
    "diff = d2 - d1\n",
    "print(diff)"
   ]
  },
  {
   "cell_type": "code",
   "execution_count": null,
   "id": "f2b224f6",
   "metadata": {},
   "outputs": [],
   "source": [
    "# Lưu ý: Không thực hiện được phép cộng 2 ngày\n",
    "test = d2+d1\n",
    "print(test)"
   ]
  },
  {
   "cell_type": "markdown",
   "id": "6e2f99b2",
   "metadata": {},
   "source": [
    "# Mở rộng và nâng cao"
   ]
  },
  {
   "cell_type": "markdown",
   "id": "c3a2f8ef",
   "metadata": {},
   "source": [
    "### 1. Chuyển đổi thời gian theo các kiểu định sẵn"
   ]
  },
  {
   "cell_type": "code",
   "execution_count": 22,
   "id": "d5008589",
   "metadata": {},
   "outputs": [
    {
     "name": "stdout",
     "output_type": "stream",
     "text": [
      "2022-08-17 08/17/22 Wednesday August 11:29:21\n"
     ]
    }
   ],
   "source": [
    "time_str = now.strftime(\"%Y-%m-%d %D %A %B %H:%M:%S\")\n",
    "print(time_str)"
   ]
  },
  {
   "cell_type": "code",
   "execution_count": 23,
   "id": "86398d7a",
   "metadata": {},
   "outputs": [
    {
     "name": "stdout",
     "output_type": "stream",
     "text": [
      "Wed Aug 17 11:30:08 2022\n"
     ]
    }
   ],
   "source": [
    "# Parse sang chuỗi text với kiểu định sẵn (%c)\n",
    "now = dt.datetime.now()\n",
    "time_str = now.strftime(\"%c\")\n",
    "print(time_str)"
   ]
  },
  {
   "cell_type": "code",
   "execution_count": 24,
   "id": "c0e0980f",
   "metadata": {},
   "outputs": [
    {
     "name": "stdout",
     "output_type": "stream",
     "text": [
      "33\n"
     ]
    }
   ],
   "source": [
    "# Parse sang chuỗi text với kiểu định sẵn (%V)\n",
    "now = dt.datetime.now()\n",
    "time_str = now.strftime(\"%V\")\n",
    "print(time_str)"
   ]
  },
  {
   "cell_type": "code",
   "execution_count": 25,
   "id": "dd4fc41c",
   "metadata": {},
   "outputs": [
    {
     "name": "stdout",
     "output_type": "stream",
     "text": [
      "08/17/22\n"
     ]
    }
   ],
   "source": [
    "# Parse sang chuỗi text với kiểu định sẵn (%x)\n",
    "now = dt.datetime.now()\n",
    "time_str = now.strftime(\"%x\")\n",
    "print(time_str)"
   ]
  },
  {
   "cell_type": "code",
   "execution_count": 26,
   "id": "307b9041",
   "metadata": {},
   "outputs": [
    {
     "name": "stdout",
     "output_type": "stream",
     "text": [
      "11:30:28\n"
     ]
    }
   ],
   "source": [
    "# Parse sang chuỗi text với kiểu định sẵn (%X)\n",
    "now = dt.datetime.now()\n",
    "time_str = now.strftime(\"%X\")\n",
    "print(time_str)"
   ]
  },
  {
   "cell_type": "markdown",
   "id": "44978a57",
   "metadata": {},
   "source": [
    "### 2. Một số thử nghiệm với phép tính trên timedelta"
   ]
  },
  {
   "cell_type": "code",
   "execution_count": 27,
   "id": "b550e875",
   "metadata": {},
   "outputs": [
    {
     "name": "stdout",
     "output_type": "stream",
     "text": [
      "2021-10-01 22:00:00\n",
      "2021-10-01 22:00:00\n"
     ]
    }
   ],
   "source": [
    "# Cộng lùi trên timedelta\n",
    "now = dt.datetime(2021, 9, 30, 1, 0, 0)\n",
    "delta1 = timedelta(days=+2, hours=-3)\n",
    "next1 = now + delta1\n",
    "print(next1)\n",
    "\n",
    "delta2 = timedelta(hours=45)\n",
    "next2 = now + delta2\n",
    "print(next2)"
   ]
  },
  {
   "cell_type": "code",
   "execution_count": 28,
   "id": "2530e7b3",
   "metadata": {},
   "outputs": [
    {
     "name": "stdout",
     "output_type": "stream",
     "text": [
      "2021-09-30 23:30:00\n",
      "2021-09-30 23:30:00\n"
     ]
    }
   ],
   "source": [
    "# Thực hiện phép chia với timedelta\n",
    "now = dt.datetime(2021, 9, 30, 1, 0, 0)\n",
    "delta1 = timedelta(days=+2, hours=-3)\n",
    "next1 = now + delta1/2\n",
    "print(next1)\n",
    "\n",
    "delta2 = timedelta(hours=45)\n",
    "next2 = now + delta2/2\n",
    "print(next2)"
   ]
  },
  {
   "cell_type": "markdown",
   "id": "419fb21a",
   "metadata": {},
   "source": [
    "### 3. Dùng numpy cho dữ liệu thời gian"
   ]
  },
  {
   "cell_type": "code",
   "execution_count": 29,
   "id": "10f8dc68",
   "metadata": {},
   "outputs": [
    {
     "name": "stdout",
     "output_type": "stream",
     "text": [
      "2021-09-17T19:00\n"
     ]
    }
   ],
   "source": [
    "a_dt = np.datetime64('2021-09-17 19:00')\n",
    "print(a_dt)"
   ]
  },
  {
   "cell_type": "code",
   "execution_count": 30,
   "id": "56a16b2d",
   "metadata": {},
   "outputs": [
    {
     "data": {
      "text/plain": [
       "array(['2021-02-15', '2021-02-16', '2021-02-17', '2021-02-18',\n",
       "       '2021-02-19', '2021-02-20', '2021-02-21', '2021-02-22',\n",
       "       '2021-02-23', '2021-02-24', '2021-02-25', '2021-02-26',\n",
       "       '2021-02-27', '2021-02-28', '2021-03-01', '2021-03-02',\n",
       "       '2021-03-03', '2021-03-04', '2021-03-05', '2021-03-06',\n",
       "       '2021-03-07', '2021-03-08', '2021-03-09'], dtype='datetime64[D]')"
      ]
     },
     "execution_count": 30,
     "metadata": {},
     "output_type": "execute_result"
    }
   ],
   "source": [
    "# Tạo một chuỗi các ngày\n",
    "np.arange('2021-02-15', '2021-03-10', dtype=np.datetime64)"
   ]
  },
  {
   "cell_type": "code",
   "execution_count": 31,
   "id": "f3bb9d0a",
   "metadata": {},
   "outputs": [
    {
     "data": {
      "text/plain": [
       "array(['2021-08-30', '2021-08-31', '2021-09-01', '2021-09-02',\n",
       "       '2021-09-03', '2021-09-04', '2021-09-05', '2021-09-06',\n",
       "       '2021-09-07', '2021-09-08', '2021-09-09', '2021-09-10',\n",
       "       '2021-09-11', '2021-09-12', '2021-09-13', '2021-09-14',\n",
       "       '2021-09-15', '2021-09-16', '2021-09-17', '2021-09-18',\n",
       "       '2021-09-19', '2021-09-20', '2021-09-21', '2021-09-22',\n",
       "       '2021-09-23', '2021-09-24'], dtype='datetime64[D]')"
      ]
     },
     "execution_count": 31,
     "metadata": {},
     "output_type": "execute_result"
    }
   ],
   "source": [
    "# Tạo chuỗi các ngày với dt.datetime và np.arange\n",
    "# Lưu ý: dtype = 'datetime64[D]'\n",
    "d1 = dt.datetime(2021, 8, 30, 18, 30, 0)\n",
    "d2 = dt.datetime(2021, 9, 25, 20, 15, 0)\n",
    "np.arange(d1, d2, dtype='datetime64[D]')"
   ]
  },
  {
   "cell_type": "code",
   "execution_count": 32,
   "id": "9f163344",
   "metadata": {},
   "outputs": [
    {
     "name": "stdout",
     "output_type": "stream",
     "text": [
      "True\n",
      "False\n"
     ]
    }
   ],
   "source": [
    "# Kiểm tra ngày làm việc trong tuần\n",
    "print(np.is_busday(d1.date()))\n",
    "print(np.is_busday(\"2021-12-25\"))"
   ]
  }
 ],
 "metadata": {
  "kernelspec": {
   "display_name": "Python 3 (ipykernel)",
   "language": "python",
   "name": "python3"
  },
  "language_info": {
   "codemirror_mode": {
    "name": "ipython",
    "version": 3
   },
   "file_extension": ".py",
   "mimetype": "text/x-python",
   "name": "python",
   "nbconvert_exporter": "python",
   "pygments_lexer": "ipython3",
   "version": "3.9.7"
  }
 },
 "nbformat": 4,
 "nbformat_minor": 5
}
