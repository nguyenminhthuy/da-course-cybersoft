{
 "cells": [
  {
   "cell_type": "code",
   "execution_count": 1,
   "id": "ec0063f5",
   "metadata": {},
   "outputs": [
    {
     "data": {
      "text/html": [
       "<style type='text/css'>\n",
       ".CodeMirror{\n",
       "    font-size: 18px;\n",
       "}\n",
       "\n",
       "div.output_area pre {\n",
       "    font-size: 16px;\n",
       "}\n",
       "</style>\n"
      ],
      "text/plain": [
       "<IPython.core.display.HTML object>"
      ]
     },
     "metadata": {},
     "output_type": "display_data"
    }
   ],
   "source": [
    "%%html\n",
    "<style type='text/css'>\n",
    ".CodeMirror{\n",
    "    font-size: 18px;\n",
    "}\n",
    "\n",
    "div.output_area pre {\n",
    "    font-size: 16px;\n",
    "}\n",
    "</style>"
   ]
  },
  {
   "cell_type": "code",
   "execution_count": 2,
   "id": "79f276a7",
   "metadata": {},
   "outputs": [
    {
     "name": "stdout",
     "output_type": "stream",
     "text": [
      "1.3.4\n"
     ]
    }
   ],
   "source": [
    "import pandas as pd\n",
    "import numpy as np\n",
    "from matplotlib import pyplot as plt\n",
    "np.set_printoptions(precision=3, suppress=True)\n",
    "import datetime\n",
    "print(pd.__version__)"
   ]
  },
  {
   "cell_type": "markdown",
   "id": "c8edd781",
   "metadata": {},
   "source": [
    "# Tìm 10 kệ hàng (aisle) bán được nhiều nhất\n",
    "# Thực Hiện Trên File `order_products__prior.csv`\n",
    "### (>33 triệu dòng)"
   ]
  },
  {
   "cell_type": "markdown",
   "id": "b193a8e9",
   "metadata": {},
   "source": [
    "**Download data:** https://drive.google.com/file/d/1I93JznGUeIZ7FkoidlI1Sfedn_go3nqt/view?usp=sharing"
   ]
  },
  {
   "cell_type": "markdown",
   "id": "ab966ef3",
   "metadata": {},
   "source": [
    "# 1. Load dữ liệu\n",
    "\n",
    "**Load thử các chunk**<br>\n",
    "(Chỉ cần cột `product_id`)"
   ]
  },
  {
   "cell_type": "code",
   "execution_count": 3,
   "id": "d1e6f897",
   "metadata": {},
   "outputs": [
    {
     "name": "stdout",
     "output_type": "stream",
     "text": [
      "Lần đọc 1: (1000000, 1)\n",
      "Lần đọc 2: (1000000, 1)\n",
      "Lần đọc 3: (1000000, 1)\n",
      "Lần đọc 4: (1000000, 1)\n",
      "Lần đọc 5: (1000000, 1)\n",
      "Lần đọc 6: (1000000, 1)\n",
      "Lần đọc 7: (1000000, 1)\n",
      "Lần đọc 8: (1000000, 1)\n",
      "Lần đọc 9: (1000000, 1)\n",
      "Lần đọc 10: (1000000, 1)\n",
      "Lần đọc 11: (1000000, 1)\n",
      "Lần đọc 12: (1000000, 1)\n",
      "Lần đọc 13: (1000000, 1)\n",
      "Lần đọc 14: (1000000, 1)\n",
      "Lần đọc 15: (1000000, 1)\n",
      "Lần đọc 16: (1000000, 1)\n",
      "Lần đọc 17: (1000000, 1)\n",
      "Lần đọc 18: (1000000, 1)\n",
      "Lần đọc 19: (1000000, 1)\n",
      "Lần đọc 20: (1000000, 1)\n",
      "Lần đọc 21: (1000000, 1)\n",
      "Lần đọc 22: (1000000, 1)\n",
      "Lần đọc 23: (1000000, 1)\n",
      "Lần đọc 24: (1000000, 1)\n",
      "Lần đọc 25: (1000000, 1)\n",
      "Lần đọc 26: (1000000, 1)\n",
      "Lần đọc 27: (1000000, 1)\n",
      "Lần đọc 28: (1000000, 1)\n",
      "Lần đọc 29: (1000000, 1)\n",
      "Lần đọc 30: (1000000, 1)\n",
      "Lần đọc 31: (1000000, 1)\n",
      "Lần đọc 32: (1000000, 1)\n",
      "Lần đọc 33: (434489, 1)\n"
     ]
    }
   ],
   "source": [
    "N = 1e6\n",
    "filepath = 'data-instacart/order_products__prior.csv'\n",
    "order_products = pd.read_csv(filepath, chunksize=N, usecols=['product_id'])\n",
    "i = 0\n",
    "for chunk in order_products:\n",
    "    i+=1\n",
    "    print(f\"Lần đọc {i}:\",chunk.shape)"
   ]
  },
  {
   "cell_type": "markdown",
   "id": "a0c73280",
   "metadata": {},
   "source": [
    "**Load sẵn dữ liệu về tên sản phẩm**"
   ]
  },
  {
   "cell_type": "code",
   "execution_count": 4,
   "id": "dd1c11ac",
   "metadata": {},
   "outputs": [
    {
     "data": {
      "text/html": [
       "<div>\n",
       "<style scoped>\n",
       "    .dataframe tbody tr th:only-of-type {\n",
       "        vertical-align: middle;\n",
       "    }\n",
       "\n",
       "    .dataframe tbody tr th {\n",
       "        vertical-align: top;\n",
       "    }\n",
       "\n",
       "    .dataframe thead th {\n",
       "        text-align: right;\n",
       "    }\n",
       "</style>\n",
       "<table border=\"1\" class=\"dataframe\">\n",
       "  <thead>\n",
       "    <tr style=\"text-align: right;\">\n",
       "      <th></th>\n",
       "      <th>product_id</th>\n",
       "      <th>product_name</th>\n",
       "      <th>aisle_id</th>\n",
       "      <th>department_id</th>\n",
       "    </tr>\n",
       "  </thead>\n",
       "  <tbody>\n",
       "    <tr>\n",
       "      <th>0</th>\n",
       "      <td>1</td>\n",
       "      <td>Chocolate Sandwich Cookies</td>\n",
       "      <td>61</td>\n",
       "      <td>19</td>\n",
       "    </tr>\n",
       "    <tr>\n",
       "      <th>1</th>\n",
       "      <td>2</td>\n",
       "      <td>All-Seasons Salt</td>\n",
       "      <td>104</td>\n",
       "      <td>13</td>\n",
       "    </tr>\n",
       "    <tr>\n",
       "      <th>2</th>\n",
       "      <td>3</td>\n",
       "      <td>Robust Golden Unsweetened Oolong Tea</td>\n",
       "      <td>94</td>\n",
       "      <td>7</td>\n",
       "    </tr>\n",
       "    <tr>\n",
       "      <th>3</th>\n",
       "      <td>4</td>\n",
       "      <td>Smart Ones Classic Favorites Mini Rigatoni Wit...</td>\n",
       "      <td>38</td>\n",
       "      <td>1</td>\n",
       "    </tr>\n",
       "    <tr>\n",
       "      <th>4</th>\n",
       "      <td>5</td>\n",
       "      <td>Green Chile Anytime Sauce</td>\n",
       "      <td>5</td>\n",
       "      <td>13</td>\n",
       "    </tr>\n",
       "  </tbody>\n",
       "</table>\n",
       "</div>"
      ],
      "text/plain": [
       "   product_id                                       product_name  aisle_id  \\\n",
       "0           1                         Chocolate Sandwich Cookies        61   \n",
       "1           2                                   All-Seasons Salt       104   \n",
       "2           3               Robust Golden Unsweetened Oolong Tea        94   \n",
       "3           4  Smart Ones Classic Favorites Mini Rigatoni Wit...        38   \n",
       "4           5                          Green Chile Anytime Sauce         5   \n",
       "\n",
       "   department_id  \n",
       "0             19  \n",
       "1             13  \n",
       "2              7  \n",
       "3              1  \n",
       "4             13  "
      ]
     },
     "execution_count": 4,
     "metadata": {},
     "output_type": "execute_result"
    }
   ],
   "source": [
    "product_info = pd.read_csv('data-instacart/products.csv')\n",
    "product_info.head()"
   ]
  },
  {
   "cell_type": "code",
   "execution_count": 5,
   "id": "f2c11045",
   "metadata": {},
   "outputs": [
    {
     "data": {
      "text/html": [
       "<div>\n",
       "<style scoped>\n",
       "    .dataframe tbody tr th:only-of-type {\n",
       "        vertical-align: middle;\n",
       "    }\n",
       "\n",
       "    .dataframe tbody tr th {\n",
       "        vertical-align: top;\n",
       "    }\n",
       "\n",
       "    .dataframe thead th {\n",
       "        text-align: right;\n",
       "    }\n",
       "</style>\n",
       "<table border=\"1\" class=\"dataframe\">\n",
       "  <thead>\n",
       "    <tr style=\"text-align: right;\">\n",
       "      <th></th>\n",
       "      <th>product_id</th>\n",
       "      <th>aisle_id</th>\n",
       "    </tr>\n",
       "  </thead>\n",
       "  <tbody>\n",
       "    <tr>\n",
       "      <th>0</th>\n",
       "      <td>1</td>\n",
       "      <td>61</td>\n",
       "    </tr>\n",
       "    <tr>\n",
       "      <th>1</th>\n",
       "      <td>2</td>\n",
       "      <td>104</td>\n",
       "    </tr>\n",
       "    <tr>\n",
       "      <th>2</th>\n",
       "      <td>3</td>\n",
       "      <td>94</td>\n",
       "    </tr>\n",
       "    <tr>\n",
       "      <th>3</th>\n",
       "      <td>4</td>\n",
       "      <td>38</td>\n",
       "    </tr>\n",
       "    <tr>\n",
       "      <th>4</th>\n",
       "      <td>5</td>\n",
       "      <td>5</td>\n",
       "    </tr>\n",
       "    <tr>\n",
       "      <th>...</th>\n",
       "      <td>...</td>\n",
       "      <td>...</td>\n",
       "    </tr>\n",
       "    <tr>\n",
       "      <th>49683</th>\n",
       "      <td>49684</td>\n",
       "      <td>124</td>\n",
       "    </tr>\n",
       "    <tr>\n",
       "      <th>49684</th>\n",
       "      <td>49685</td>\n",
       "      <td>42</td>\n",
       "    </tr>\n",
       "    <tr>\n",
       "      <th>49685</th>\n",
       "      <td>49686</td>\n",
       "      <td>112</td>\n",
       "    </tr>\n",
       "    <tr>\n",
       "      <th>49686</th>\n",
       "      <td>49687</td>\n",
       "      <td>41</td>\n",
       "    </tr>\n",
       "    <tr>\n",
       "      <th>49687</th>\n",
       "      <td>49688</td>\n",
       "      <td>73</td>\n",
       "    </tr>\n",
       "  </tbody>\n",
       "</table>\n",
       "<p>49688 rows × 2 columns</p>\n",
       "</div>"
      ],
      "text/plain": [
       "       product_id  aisle_id\n",
       "0               1        61\n",
       "1               2       104\n",
       "2               3        94\n",
       "3               4        38\n",
       "4               5         5\n",
       "...           ...       ...\n",
       "49683       49684       124\n",
       "49684       49685        42\n",
       "49685       49686       112\n",
       "49686       49687        41\n",
       "49687       49688        73\n",
       "\n",
       "[49688 rows x 2 columns]"
      ]
     },
     "execution_count": 5,
     "metadata": {},
     "output_type": "execute_result"
    }
   ],
   "source": [
    "product_aisle = product_info[['product_id', 'aisle_id']]\n",
    "product_aisle"
   ]
  },
  {
   "cell_type": "markdown",
   "id": "f67141f6",
   "metadata": {},
   "source": [
    "# 2. Xử lý từng chunk và ghép kết quả"
   ]
  },
  {
   "cell_type": "markdown",
   "id": "39aad8dc",
   "metadata": {},
   "source": [
    "**Hàm xử lý từng chunk**"
   ]
  },
  {
   "cell_type": "code",
   "execution_count": 6,
   "id": "079fd524",
   "metadata": {},
   "outputs": [],
   "source": [
    "# Hàm lọc ra số lần aisle xuất hiện ở mỗi chunk\n",
    "def Select_Aisle_ID(chunk):\n",
    "    order_aisle = pd.merge(chunk, product_aisle, on='product_id')['aisle_id']\n",
    "    aisle_count = order_aisle.value_counts().reset_index()\n",
    "    aisle_count.columns = ['aisle_id', 'counts']\n",
    "    \n",
    "    return aisle_count    "
   ]
  },
  {
   "cell_type": "markdown",
   "id": "3da6a685",
   "metadata": {},
   "source": [
    "**Thực hiện cho tất cả các chunk**"
   ]
  },
  {
   "cell_type": "code",
   "execution_count": 7,
   "id": "704f1795",
   "metadata": {},
   "outputs": [],
   "source": [
    "# Phải tiến hành đọc lại\n",
    "order_products = pd.read_csv(filepath, chunksize=N, usecols=['product_id'])"
   ]
  },
  {
   "cell_type": "code",
   "execution_count": 8,
   "id": "7d26e7ed",
   "metadata": {},
   "outputs": [
    {
     "name": "stdout",
     "output_type": "stream",
     "text": [
      "Chunk:  0\n",
      "Chunk:  1\n",
      "Chunk:  2\n",
      "Chunk:  3\n",
      "Chunk:  4\n",
      "Chunk:  5\n",
      "Chunk:  6\n",
      "Chunk:  7\n",
      "Chunk:  8\n",
      "Chunk:  9\n",
      "Chunk:  10\n",
      "Chunk:  11\n",
      "Chunk:  12\n",
      "Chunk:  13\n",
      "Chunk:  14\n",
      "Chunk:  15\n",
      "Chunk:  16\n",
      "Chunk:  17\n",
      "Chunk:  18\n",
      "Chunk:  19\n",
      "Chunk:  20\n",
      "Chunk:  21\n",
      "Chunk:  22\n",
      "Chunk:  23\n",
      "Chunk:  24\n",
      "Chunk:  25\n",
      "Chunk:  26\n",
      "Chunk:  27\n",
      "Chunk:  28\n",
      "Chunk:  29\n",
      "Chunk:  30\n",
      "Chunk:  31\n",
      "Chunk:  32\n",
      "Hoàn tất cho 33 chunk. Thời gian: 0:00:07.402748\n"
     ]
    }
   ],
   "source": [
    "# Xử lý từng chunk và đưa vào danh sách kết quả\n",
    "ket_qua = []\n",
    "\n",
    "start = datetime.datetime.now()\n",
    "for i, chunk in enumerate(order_products):\n",
    "    print(\"Chunk: \", i)\n",
    "    chunk_count = Select_Aisle_ID(chunk)\n",
    "    ket_qua.append(chunk_count)\n",
    "\n",
    "end = datetime.datetime.now()\n",
    "print(f\"Hoàn tất cho {i+1} chunk. Thời gian:\", end-start)"
   ]
  },
  {
   "cell_type": "markdown",
   "id": "5ceafd77",
   "metadata": {},
   "source": [
    "**Ghép kết quả thành một DataFrame**"
   ]
  },
  {
   "cell_type": "code",
   "execution_count": 9,
   "id": "29771516",
   "metadata": {},
   "outputs": [
    {
     "name": "stdout",
     "output_type": "stream",
     "text": [
      "(4422, 2)\n"
     ]
    }
   ],
   "source": [
    "total_aisle_count = pd.concat(ket_qua)\n",
    "print(total_aisle_count.shape)"
   ]
  },
  {
   "cell_type": "markdown",
   "id": "31398daa",
   "metadata": {},
   "source": [
    "**Sử dụng groupby để tổng hợp kết quả**"
   ]
  },
  {
   "cell_type": "code",
   "execution_count": 10,
   "id": "e9cdfc74",
   "metadata": {},
   "outputs": [
    {
     "data": {
      "text/html": [
       "<div>\n",
       "<style scoped>\n",
       "    .dataframe tbody tr th:only-of-type {\n",
       "        vertical-align: middle;\n",
       "    }\n",
       "\n",
       "    .dataframe tbody tr th {\n",
       "        vertical-align: top;\n",
       "    }\n",
       "\n",
       "    .dataframe thead th {\n",
       "        text-align: right;\n",
       "    }\n",
       "</style>\n",
       "<table border=\"1\" class=\"dataframe\">\n",
       "  <thead>\n",
       "    <tr style=\"text-align: right;\">\n",
       "      <th></th>\n",
       "      <th>aisle_id</th>\n",
       "      <th>counts</th>\n",
       "    </tr>\n",
       "  </thead>\n",
       "  <tbody>\n",
       "    <tr>\n",
       "      <th>0</th>\n",
       "      <td>1</td>\n",
       "      <td>71928</td>\n",
       "    </tr>\n",
       "    <tr>\n",
       "      <th>1</th>\n",
       "      <td>2</td>\n",
       "      <td>82491</td>\n",
       "    </tr>\n",
       "    <tr>\n",
       "      <th>2</th>\n",
       "      <td>3</td>\n",
       "      <td>456386</td>\n",
       "    </tr>\n",
       "    <tr>\n",
       "      <th>3</th>\n",
       "      <td>4</td>\n",
       "      <td>200687</td>\n",
       "    </tr>\n",
       "    <tr>\n",
       "      <th>4</th>\n",
       "      <td>5</td>\n",
       "      <td>62510</td>\n",
       "    </tr>\n",
       "    <tr>\n",
       "      <th>...</th>\n",
       "      <td>...</td>\n",
       "      <td>...</td>\n",
       "    </tr>\n",
       "    <tr>\n",
       "      <th>129</th>\n",
       "      <td>130</td>\n",
       "      <td>158164</td>\n",
       "    </tr>\n",
       "    <tr>\n",
       "      <th>130</th>\n",
       "      <td>131</td>\n",
       "      <td>266637</td>\n",
       "    </tr>\n",
       "    <tr>\n",
       "      <th>131</th>\n",
       "      <td>132</td>\n",
       "      <td>6168</td>\n",
       "    </tr>\n",
       "    <tr>\n",
       "      <th>132</th>\n",
       "      <td>133</td>\n",
       "      <td>18683</td>\n",
       "    </tr>\n",
       "    <tr>\n",
       "      <th>133</th>\n",
       "      <td>134</td>\n",
       "      <td>11198</td>\n",
       "    </tr>\n",
       "  </tbody>\n",
       "</table>\n",
       "<p>134 rows × 2 columns</p>\n",
       "</div>"
      ],
      "text/plain": [
       "     aisle_id  counts\n",
       "0           1   71928\n",
       "1           2   82491\n",
       "2           3  456386\n",
       "3           4  200687\n",
       "4           5   62510\n",
       "..        ...     ...\n",
       "129       130  158164\n",
       "130       131  266637\n",
       "131       132    6168\n",
       "132       133   18683\n",
       "133       134   11198\n",
       "\n",
       "[134 rows x 2 columns]"
      ]
     },
     "execution_count": 10,
     "metadata": {},
     "output_type": "execute_result"
    }
   ],
   "source": [
    "total_aisle_count = total_aisle_count.groupby('aisle_id').sum().reset_index()\n",
    "total_aisle_count"
   ]
  },
  {
   "cell_type": "markdown",
   "id": "a9f920eb",
   "metadata": {},
   "source": [
    "# 3. Lấy ra 10 Aisle và vẽ biểu đồ"
   ]
  },
  {
   "cell_type": "markdown",
   "id": "52285835",
   "metadata": {},
   "source": [
    "**Dùng hàm nlargest chọn ra 10 dòng có số đếm lớn nhất**"
   ]
  },
  {
   "cell_type": "code",
   "execution_count": 11,
   "id": "6b176d0b",
   "metadata": {},
   "outputs": [
    {
     "data": {
      "text/html": [
       "<div>\n",
       "<style scoped>\n",
       "    .dataframe tbody tr th:only-of-type {\n",
       "        vertical-align: middle;\n",
       "    }\n",
       "\n",
       "    .dataframe tbody tr th {\n",
       "        vertical-align: top;\n",
       "    }\n",
       "\n",
       "    .dataframe thead th {\n",
       "        text-align: right;\n",
       "    }\n",
       "</style>\n",
       "<table border=\"1\" class=\"dataframe\">\n",
       "  <thead>\n",
       "    <tr style=\"text-align: right;\">\n",
       "      <th></th>\n",
       "      <th>aisle_id</th>\n",
       "      <th>counts</th>\n",
       "    </tr>\n",
       "  </thead>\n",
       "  <tbody>\n",
       "    <tr>\n",
       "      <th>23</th>\n",
       "      <td>24</td>\n",
       "      <td>3642188</td>\n",
       "    </tr>\n",
       "    <tr>\n",
       "      <th>82</th>\n",
       "      <td>83</td>\n",
       "      <td>3418021</td>\n",
       "    </tr>\n",
       "    <tr>\n",
       "      <th>122</th>\n",
       "      <td>123</td>\n",
       "      <td>1765313</td>\n",
       "    </tr>\n",
       "    <tr>\n",
       "      <th>119</th>\n",
       "      <td>120</td>\n",
       "      <td>1452343</td>\n",
       "    </tr>\n",
       "    <tr>\n",
       "      <th>20</th>\n",
       "      <td>21</td>\n",
       "      <td>979763</td>\n",
       "    </tr>\n",
       "    <tr>\n",
       "      <th>83</th>\n",
       "      <td>84</td>\n",
       "      <td>891015</td>\n",
       "    </tr>\n",
       "    <tr>\n",
       "      <th>114</th>\n",
       "      <td>115</td>\n",
       "      <td>841533</td>\n",
       "    </tr>\n",
       "    <tr>\n",
       "      <th>106</th>\n",
       "      <td>107</td>\n",
       "      <td>722470</td>\n",
       "    </tr>\n",
       "    <tr>\n",
       "      <th>90</th>\n",
       "      <td>91</td>\n",
       "      <td>638253</td>\n",
       "    </tr>\n",
       "    <tr>\n",
       "      <th>111</th>\n",
       "      <td>112</td>\n",
       "      <td>584834</td>\n",
       "    </tr>\n",
       "  </tbody>\n",
       "</table>\n",
       "</div>"
      ],
      "text/plain": [
       "     aisle_id   counts\n",
       "23         24  3642188\n",
       "82         83  3418021\n",
       "122       123  1765313\n",
       "119       120  1452343\n",
       "20         21   979763\n",
       "83         84   891015\n",
       "114       115   841533\n",
       "106       107   722470\n",
       "90         91   638253\n",
       "111       112   584834"
      ]
     },
     "execution_count": 11,
     "metadata": {},
     "output_type": "execute_result"
    }
   ],
   "source": [
    "n_aisle_id = total_aisle_count.nlargest(10, columns='counts')\n",
    "n_aisle_id"
   ]
  },
  {
   "cell_type": "markdown",
   "id": "e91f84cb",
   "metadata": {},
   "source": [
    "**Thử vẽ lên biểu đồ**"
   ]
  },
  {
   "cell_type": "code",
   "execution_count": 12,
   "id": "27b8481e",
   "metadata": {},
   "outputs": [
    {
     "data": {
      "image/png": "[encoded data removed]",
      "text/plain": [
       "<Figure size 360x216 with 1 Axes>"
      ]
     },
     "metadata": {
      "needs_background": "light"
     },
     "output_type": "display_data"
    }
   ],
   "source": [
    "n_aisle_id.plot.bar(x='aisle_id', y='counts', figsize=(5,3))\n",
    "plt.show()\n",
    "plt.close('all')"
   ]
  },
  {
   "cell_type": "markdown",
   "id": "05f68839",
   "metadata": {},
   "source": [
    "**Lấy ra tên các aisle trong file `aisles.csv`**"
   ]
  },
  {
   "cell_type": "code",
   "execution_count": 13,
   "id": "4820aded",
   "metadata": {},
   "outputs": [
    {
     "data": {
      "text/html": [
       "<div>\n",
       "<style scoped>\n",
       "    .dataframe tbody tr th:only-of-type {\n",
       "        vertical-align: middle;\n",
       "    }\n",
       "\n",
       "    .dataframe tbody tr th {\n",
       "        vertical-align: top;\n",
       "    }\n",
       "\n",
       "    .dataframe thead th {\n",
       "        text-align: right;\n",
       "    }\n",
       "</style>\n",
       "<table border=\"1\" class=\"dataframe\">\n",
       "  <thead>\n",
       "    <tr style=\"text-align: right;\">\n",
       "      <th></th>\n",
       "      <th>aisle_id</th>\n",
       "      <th>aisle</th>\n",
       "    </tr>\n",
       "  </thead>\n",
       "  <tbody>\n",
       "    <tr>\n",
       "      <th>0</th>\n",
       "      <td>1</td>\n",
       "      <td>prepared soups salads</td>\n",
       "    </tr>\n",
       "    <tr>\n",
       "      <th>1</th>\n",
       "      <td>2</td>\n",
       "      <td>specialty cheeses</td>\n",
       "    </tr>\n",
       "    <tr>\n",
       "      <th>2</th>\n",
       "      <td>3</td>\n",
       "      <td>energy granola bars</td>\n",
       "    </tr>\n",
       "    <tr>\n",
       "      <th>3</th>\n",
       "      <td>4</td>\n",
       "      <td>instant foods</td>\n",
       "    </tr>\n",
       "    <tr>\n",
       "      <th>4</th>\n",
       "      <td>5</td>\n",
       "      <td>marinades meat preparation</td>\n",
       "    </tr>\n",
       "  </tbody>\n",
       "</table>\n",
       "</div>"
      ],
      "text/plain": [
       "   aisle_id                       aisle\n",
       "0         1       prepared soups salads\n",
       "1         2           specialty cheeses\n",
       "2         3         energy granola bars\n",
       "3         4               instant foods\n",
       "4         5  marinades meat preparation"
      ]
     },
     "execution_count": 13,
     "metadata": {},
     "output_type": "execute_result"
    }
   ],
   "source": [
    "aisle_info = pd.read_csv('data-instacart/aisles.csv')\n",
    "aisle_info.head()"
   ]
  },
  {
   "cell_type": "code",
   "execution_count": 14,
   "id": "081a06a3",
   "metadata": {},
   "outputs": [
    {
     "data": {
      "text/html": [
       "<div>\n",
       "<style scoped>\n",
       "    .dataframe tbody tr th:only-of-type {\n",
       "        vertical-align: middle;\n",
       "    }\n",
       "\n",
       "    .dataframe tbody tr th {\n",
       "        vertical-align: top;\n",
       "    }\n",
       "\n",
       "    .dataframe thead th {\n",
       "        text-align: right;\n",
       "    }\n",
       "</style>\n",
       "<table border=\"1\" class=\"dataframe\">\n",
       "  <thead>\n",
       "    <tr style=\"text-align: right;\">\n",
       "      <th></th>\n",
       "      <th>aisle_id</th>\n",
       "      <th>counts</th>\n",
       "      <th>aisle</th>\n",
       "    </tr>\n",
       "  </thead>\n",
       "  <tbody>\n",
       "    <tr>\n",
       "      <th>0</th>\n",
       "      <td>24</td>\n",
       "      <td>3642188</td>\n",
       "      <td>fresh fruits</td>\n",
       "    </tr>\n",
       "    <tr>\n",
       "      <th>1</th>\n",
       "      <td>83</td>\n",
       "      <td>3418021</td>\n",
       "      <td>fresh vegetables</td>\n",
       "    </tr>\n",
       "    <tr>\n",
       "      <th>2</th>\n",
       "      <td>123</td>\n",
       "      <td>1765313</td>\n",
       "      <td>packaged vegetables fruits</td>\n",
       "    </tr>\n",
       "    <tr>\n",
       "      <th>3</th>\n",
       "      <td>120</td>\n",
       "      <td>1452343</td>\n",
       "      <td>yogurt</td>\n",
       "    </tr>\n",
       "    <tr>\n",
       "      <th>4</th>\n",
       "      <td>21</td>\n",
       "      <td>979763</td>\n",
       "      <td>packaged cheese</td>\n",
       "    </tr>\n",
       "    <tr>\n",
       "      <th>5</th>\n",
       "      <td>84</td>\n",
       "      <td>891015</td>\n",
       "      <td>milk</td>\n",
       "    </tr>\n",
       "    <tr>\n",
       "      <th>6</th>\n",
       "      <td>115</td>\n",
       "      <td>841533</td>\n",
       "      <td>water seltzer sparkling water</td>\n",
       "    </tr>\n",
       "    <tr>\n",
       "      <th>7</th>\n",
       "      <td>107</td>\n",
       "      <td>722470</td>\n",
       "      <td>chips pretzels</td>\n",
       "    </tr>\n",
       "    <tr>\n",
       "      <th>8</th>\n",
       "      <td>91</td>\n",
       "      <td>638253</td>\n",
       "      <td>soy lactosefree</td>\n",
       "    </tr>\n",
       "    <tr>\n",
       "      <th>9</th>\n",
       "      <td>112</td>\n",
       "      <td>584834</td>\n",
       "      <td>bread</td>\n",
       "    </tr>\n",
       "  </tbody>\n",
       "</table>\n",
       "</div>"
      ],
      "text/plain": [
       "   aisle_id   counts                          aisle\n",
       "0        24  3642188                   fresh fruits\n",
       "1        83  3418021               fresh vegetables\n",
       "2       123  1765313     packaged vegetables fruits\n",
       "3       120  1452343                         yogurt\n",
       "4        21   979763                packaged cheese\n",
       "5        84   891015                           milk\n",
       "6       115   841533  water seltzer sparkling water\n",
       "7       107   722470                 chips pretzels\n",
       "8        91   638253                soy lactosefree\n",
       "9       112   584834                          bread"
      ]
     },
     "execution_count": 14,
     "metadata": {},
     "output_type": "execute_result"
    }
   ],
   "source": [
    "n_aisle_name = pd.merge(n_aisle_id, aisle_info, on='aisle_id')\n",
    "n_aisle_name"
   ]
  },
  {
   "cell_type": "code",
   "execution_count": 15,
   "id": "cc55cf25",
   "metadata": {
    "scrolled": false
   },
   "outputs": [
    {
     "data": {
      "image/png": "[encoded data removed]",
      "text/plain": [
       "<Figure size 576x288 with 1 Axes>"
      ]
     },
     "metadata": {
      "needs_background": "light"
     },
     "output_type": "display_data"
    }
   ],
   "source": [
    "ax = n_aisle_name.plot.bar(x='aisle', y='counts', width=0.8, figsize=(8,4), \n",
    "                           color='yellow', legend=None, rot=-60)\n",
    "ax.bar_label(container=ax.containers[0], label_type='center', fontsize=9, rotation=60)\n",
    "ax.set_xticks(n_aisle_name.index-0.5)\n",
    "ax.set_xticklabels(n_aisle_name['aisle'].str.title(), ha='left')\n",
    "plt.show()\n",
    "plt.close('all')"
   ]
  },
  {
   "cell_type": "code",
   "execution_count": null,
   "id": "598028f1",
   "metadata": {},
   "outputs": [],
   "source": [
    "# .str.title(): chữ cái đầu viết hoa"
   ]
  }
 ],
 "metadata": {
  "kernelspec": {
   "display_name": "Python 3 (ipykernel)",
   "language": "python",
   "name": "python3"
  },
  "language_info": {
   "codemirror_mode": {
    "name": "ipython",
    "version": 3
   },
   "file_extension": ".py",
   "mimetype": "text/x-python",
   "name": "python",
   "nbconvert_exporter": "python",
   "pygments_lexer": "ipython3",
   "version": "3.10.9"
  }
 },
 "nbformat": 4,
 "nbformat_minor": 5
}
