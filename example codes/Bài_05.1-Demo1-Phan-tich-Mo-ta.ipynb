{
 "cells": [
  {
   "cell_type": "code",
   "execution_count": null,
   "id": "d7906851",
   "metadata": {},
   "outputs": [],
   "source": []
  },
  {
   "cell_type": "code",
   "execution_count": 2,
   "id": "5101a124",
   "metadata": {},
   "outputs": [
    {
     "data": {
      "text/html": [
       "<style type='text/css'>\n",
       ".CodeMirror{\n",
       "    font-size: 18px;\n",
       "}\n",
       "\n",
       "div.output_area pre {\n",
       "    font-size: 16px;\n",
       "}\n",
       "</style>\n"
      ],
      "text/plain": [
       "<IPython.core.display.HTML object>"
      ]
     },
     "metadata": {},
     "output_type": "display_data"
    }
   ],
   "source": [
    "%%html\n",
    "<style type='text/css'>\n",
    ".CodeMirror{\n",
    "    font-size: 18px;\n",
    "}\n",
    "\n",
    "div.output_area pre {\n",
    "    font-size: 16px;\n",
    "}\n",
    "</style>"
   ]
  },
  {
   "cell_type": "code",
   "execution_count": 3,
   "id": "8ed4c6cb",
   "metadata": {},
   "outputs": [],
   "source": [
    "import numpy as np\n",
    "from matplotlib import pyplot as plt\n",
    "np.set_printoptions(precision=3)"
   ]
  },
  {
   "cell_type": "markdown",
   "id": "432cedb5",
   "metadata": {},
   "source": [
    "# Phần 2. Một số phân tích mô tả đơn biến cơ bản\n",
    "\n",
    "**Lưu ý: các phân tích trong phần này thực hiện trên dữ liệu có phân bố chuẩn**"
   ]
  },
  {
   "cell_type": "code",
   "execution_count": 14,
   "id": "93f1ab51",
   "metadata": {},
   "outputs": [
    {
     "name": "stdout",
     "output_type": "stream",
     "text": [
      "(10000,)\n"
     ]
    }
   ],
   "source": [
    "np.random.seed(10)\n",
    "x = np.random.normal(10, 2, size=10000)\n",
    "print(x.shape)"
   ]
  },
  {
   "cell_type": "code",
   "execution_count": 15,
   "id": "d66d1e42",
   "metadata": {},
   "outputs": [
    {
     "name": "stdout",
     "output_type": "stream",
     "text": [
      "[12.663 11.431  6.909  9.983 11.243  8.56  10.531 10.217 10.009  9.651]\n"
     ]
    }
   ],
   "source": [
    "print(x[0:10])"
   ]
  },
  {
   "cell_type": "code",
   "execution_count": 31,
   "id": "65ac1e09",
   "metadata": {},
   "outputs": [
    {
     "data": {
      "image/png": "[encoded data removed]",
      "text/plain": [
       "<Figure size 432x288 with 1 Axes>"
      ]
     },
     "metadata": {
      "needs_background": "light"
     },
     "output_type": "display_data"
    }
   ],
   "source": [
    "fig, ax = plt.subplots(figsize=(6,4), num=1)\n",
    "ax.hist(x, bins=20)\n",
    "plt.show()"
   ]
  },
  {
   "cell_type": "markdown",
   "id": "cefabe3e",
   "metadata": {},
   "source": [
    "## 2.1. Tần số và tần suất"
   ]
  },
  {
   "cell_type": "markdown",
   "id": "c691f12e",
   "metadata": {},
   "source": [
    "**Câu hỏi: có thực hiện tìm tần số và tần suất với dữ liệu này được không?**"
   ]
  },
  {
   "cell_type": "markdown",
   "id": "198a1a8a",
   "metadata": {},
   "source": [
    "==> Chỉ thực hiện với các dữ liệu dạng phân loại (đếm được)"
   ]
  },
  {
   "cell_type": "markdown",
   "id": "05dd78ff",
   "metadata": {},
   "source": [
    "## 2.2. Độ đo về khuynh hướng tập trung"
   ]
  },
  {
   "cell_type": "code",
   "execution_count": 17,
   "id": "7a684f27",
   "metadata": {},
   "outputs": [
    {
     "name": "stdout",
     "output_type": "stream",
     "text": [
      "Mean: 10.01020411200383\n",
      "Median: 10.026222616990372\n"
     ]
    }
   ],
   "source": [
    "mean = np.mean(x)\n",
    "print(\"Mean:\", mean)\n",
    "\n",
    "median = np.median(x)\n",
    "print(\"Median:\", median)"
   ]
  },
  {
   "cell_type": "markdown",
   "id": "e7829b08",
   "metadata": {},
   "source": [
    "**Tính mode**"
   ]
  },
  {
   "cell_type": "code",
   "execution_count": 18,
   "id": "156e250b",
   "metadata": {},
   "outputs": [
    {
     "data": {
      "text/plain": [
       "ModeResult(mode=array([2.757]), count=array([1]))"
      ]
     },
     "execution_count": 18,
     "metadata": {},
     "output_type": "execute_result"
    }
   ],
   "source": [
    "from scipy import stats\n",
    "stats.mode(x)"
   ]
  },
  {
   "cell_type": "code",
   "execution_count": 19,
   "id": "30a723c1",
   "metadata": {},
   "outputs": [
    {
     "data": {
      "text/plain": [
       "12.663173008259037"
      ]
     },
     "execution_count": 19,
     "metadata": {},
     "output_type": "execute_result"
    }
   ],
   "source": [
    "import statistics\n",
    "statistics.mode(x)"
   ]
  },
  {
   "cell_type": "markdown",
   "id": "e2fe2ff2",
   "metadata": {},
   "source": [
    "**==> Các hàm tính mode trên đều dựa vào so sánh bằng và không trả về giá trị mong muốn**\n",
    "\n",
    "**Vậy cần làm thế nào?**"
   ]
  },
  {
   "cell_type": "markdown",
   "id": "d8273c72",
   "metadata": {},
   "source": [
    "## 2.3. Độ đo về sự/tính mở rộng (phân tán)"
   ]
  },
  {
   "cell_type": "code",
   "execution_count": 23,
   "id": "87ede9b8",
   "metadata": {},
   "outputs": [
    {
     "name": "stdout",
     "output_type": "stream",
     "text": [
      "Min - Max: 2.756722407478584 17.382978660787142\n",
      "Range: 14.626256253308558\n",
      "Variance: 3.917739432701494\n",
      "Standard Deviation: 1.9793280255433898\n"
     ]
    }
   ],
   "source": [
    "ma  = np.max(x)\n",
    "mi  = np.min(x)\n",
    "ran = np.ptp(x)\n",
    "var = np.var(x)\n",
    "std = np.std(x)\n",
    "print(\"Min - Max:\", mi, ma)\n",
    "print(\"Range:\", ran)\n",
    "print(\"Variance:\", var)\n",
    "print(\"Standard Deviation:\", std)"
   ]
  },
  {
   "cell_type": "markdown",
   "id": "67a2e8f8",
   "metadata": {},
   "source": [
    "## 2.4. Độ đo về phân vị"
   ]
  },
  {
   "cell_type": "code",
   "execution_count": 24,
   "id": "57df0793",
   "metadata": {},
   "outputs": [
    {
     "name": "stdout",
     "output_type": "stream",
     "text": [
      "[ 8.696 11.35 ]\n",
      "[ 8.696 11.35 ]\n"
     ]
    }
   ],
   "source": [
    "pct = np.percentile(x, [25, 75])\n",
    "qnt = np.quantile(x, [0.25, 0.75])\n",
    "print(pct)\n",
    "print(qnt)"
   ]
  },
  {
   "cell_type": "markdown",
   "id": "b1276df6",
   "metadata": {},
   "source": [
    "**Khoảng tin cậy (confidence interval)**"
   ]
  },
  {
   "cell_type": "code",
   "execution_count": 25,
   "id": "d654d37f",
   "metadata": {},
   "outputs": [
    {
     "data": {
      "text/plain": [
       "array([ 6.109, 13.904])"
      ]
     },
     "execution_count": 25,
     "metadata": {},
     "output_type": "execute_result"
    }
   ],
   "source": [
    "# Confidence Interval: 95%\n",
    "np.percentile(x, [2.5, 97.5])"
   ]
  },
  {
   "cell_type": "code",
   "execution_count": 27,
   "id": "2998e190",
   "metadata": {},
   "outputs": [
    {
     "name": "stdout",
     "output_type": "stream",
     "text": [
      "[ 6.109 13.904]\n"
     ]
    }
   ],
   "source": [
    "# Confidence Interval: 95%\n",
    "ci95 = np.quantile(x, [0.025, 0.975])\n",
    "print(ci95)"
   ]
  },
  {
   "cell_type": "markdown",
   "id": "307e4630",
   "metadata": {},
   "source": [
    "**Thử vẽ lên biểu đồ**"
   ]
  },
  {
   "cell_type": "code",
   "execution_count": 32,
   "id": "36256304",
   "metadata": {},
   "outputs": [
    {
     "data": {
      "image/png": "[encoded data removed]",
      "text/plain": [
       "<Figure size 432x360 with 1 Axes>"
      ]
     },
     "metadata": {
      "needs_background": "light"
     },
     "output_type": "display_data"
    }
   ],
   "source": [
    "fig, ax = plt.subplots(figsize=(6,5), num=1)\n",
    "ax.hist(x, bins=20)\n",
    "ylim1, ylim2 = ax.get_ylim()\n",
    "\n",
    "# Dùng hàm axvline để vẽ đường thẳng đứng\n",
    "ax.axvline(ci95[0], color='k', linestyle='dashed', linewidth=1)\n",
    "ax.axvline(ci95[1], color='k', linestyle='dashed', linewidth=1)\n",
    "\n",
    "plt.show()"
   ]
  },
  {
   "cell_type": "markdown",
   "id": "23c56377",
   "metadata": {},
   "source": [
    "**Standard-score (Z-score)**"
   ]
  },
  {
   "cell_type": "code",
   "execution_count": null,
   "id": "484c37b0",
   "metadata": {
    "scrolled": true
   },
   "outputs": [],
   "source": [
    "from scipy import stats\n",
    "print(stats.zscore(x, axis=None))"
   ]
  },
  {
   "cell_type": "code",
   "execution_count": 33,
   "id": "127f875e",
   "metadata": {},
   "outputs": [
    {
     "data": {
      "text/plain": [
       "array([-0.015])"
      ]
     },
     "execution_count": 33,
     "metadata": {},
     "output_type": "execute_result"
    }
   ],
   "source": [
    "# Tìm zscore của 1 giá trị\n",
    "stats.zmap(scores=9.98, compare=x)"
   ]
  },
  {
   "cell_type": "code",
   "execution_count": 34,
   "id": "73eec3e5",
   "metadata": {},
   "outputs": [
    {
     "data": {
      "text/plain": [
       "array([-1.92])"
      ]
     },
     "execution_count": 34,
     "metadata": {},
     "output_type": "execute_result"
    }
   ],
   "source": [
    "stats.zmap(scores=6.21, compare=x)"
   ]
  },
  {
   "cell_type": "markdown",
   "id": "01bd950b",
   "metadata": {},
   "source": [
    "## 2.5. Độ đo về dạng phân bố"
   ]
  },
  {
   "cell_type": "code",
   "execution_count": 35,
   "id": "7ca4893f",
   "metadata": {},
   "outputs": [
    {
     "data": {
      "image/png": "[encoded data removed]",
      "text/plain": [
       "<Figure size 432x288 with 1 Axes>"
      ]
     },
     "metadata": {
      "needs_background": "light"
     },
     "output_type": "display_data"
    }
   ],
   "source": [
    "fig, ax = plt.subplots(figsize=(6,4), num=1)\n",
    "ax.hist(x, bins=10)\n",
    "plt.show()"
   ]
  },
  {
   "cell_type": "code",
   "execution_count": 36,
   "id": "2832898e",
   "metadata": {},
   "outputs": [
    {
     "data": {
      "text/plain": [
       "-0.028247129262427197"
      ]
     },
     "execution_count": 36,
     "metadata": {},
     "output_type": "execute_result"
    }
   ],
   "source": [
    "stats.skew(x)"
   ]
  },
  {
   "cell_type": "code",
   "execution_count": 37,
   "id": "24510997",
   "metadata": {},
   "outputs": [
    {
     "data": {
      "text/plain": [
       "0.00017539964479196257"
      ]
     },
     "execution_count": 37,
     "metadata": {},
     "output_type": "execute_result"
    }
   ],
   "source": [
    "stats.kurtosis(x)"
   ]
  },
  {
   "cell_type": "markdown",
   "id": "3a4ae2b4",
   "metadata": {},
   "source": [
    "# Phần 3. Một số phân tích mô tả đa biến cơ bản"
   ]
  },
  {
   "cell_type": "code",
   "execution_count": 38,
   "id": "9263d751",
   "metadata": {},
   "outputs": [],
   "source": [
    "ds_gio_choi_game = np.array([1,2,3,4,5,6,7,8,9,10])\n",
    "ds_diem_thi = [9,10,7,7,8,4,5,3,4,1]"
   ]
  },
  {
   "cell_type": "code",
   "execution_count": 39,
   "id": "92bbfc6c",
   "metadata": {},
   "outputs": [
    {
     "data": {
      "image/png": "[encoded data removed]",
      "text/plain": [
       "<Figure size 432x360 with 1 Axes>"
      ]
     },
     "metadata": {
      "needs_background": "light"
     },
     "output_type": "display_data"
    }
   ],
   "source": [
    "fig, ax = plt.subplots(figsize=(6,5), num=1)\n",
    "ax.scatter(ds_gio_choi_game, ds_diem_thi)\n",
    "plt.show()"
   ]
  },
  {
   "cell_type": "markdown",
   "id": "c1e50811",
   "metadata": {},
   "source": [
    "**Hiệp phương sai (covariance)**"
   ]
  },
  {
   "cell_type": "code",
   "execution_count": 40,
   "id": "b702dce7",
   "metadata": {},
   "outputs": [
    {
     "name": "stdout",
     "output_type": "stream",
     "text": [
      "[[ 8.25 -7.2 ]\n",
      " [-7.2   7.36]]\n"
     ]
    }
   ],
   "source": [
    "# Lưu ý: cần set bias = True\n",
    "covariance = np.cov(ds_gio_choi_game, ds_diem_thi, bias=True)\n",
    "print(covariance)"
   ]
  },
  {
   "cell_type": "code",
   "execution_count": 43,
   "id": "7eda9a27",
   "metadata": {},
   "outputs": [
    {
     "name": "stdout",
     "output_type": "stream",
     "text": [
      "Giá trị Covariance: -7.2\n"
     ]
    }
   ],
   "source": [
    "print(\"Giá trị Covariance:\", covariance[0,1])"
   ]
  },
  {
   "cell_type": "code",
   "execution_count": 41,
   "id": "eba856b3",
   "metadata": {},
   "outputs": [
    {
     "name": "stdout",
     "output_type": "stream",
     "text": [
      "8.25\n",
      "7.360000000000001\n"
     ]
    }
   ],
   "source": [
    "print(np.var(ds_gio_choi_game))\n",
    "print(np.var(ds_diem_thi))"
   ]
  },
  {
   "cell_type": "markdown",
   "id": "3b7dde52",
   "metadata": {},
   "source": [
    "**Tính tương quan (correlation)**"
   ]
  },
  {
   "cell_type": "code",
   "execution_count": 44,
   "id": "951ae592",
   "metadata": {
    "scrolled": true
   },
   "outputs": [
    {
     "name": "stdout",
     "output_type": "stream",
     "text": [
      "[[ 1.    -0.924]\n",
      " [-0.924  1.   ]]\n"
     ]
    }
   ],
   "source": [
    "coeff = np.corrcoef(ds_gio_choi_game, ds_diem_thi)\n",
    "print(coeff)"
   ]
  }
 ],
 "metadata": {
  "kernelspec": {
   "display_name": "Python 3 (ipykernel)",
   "language": "python",
   "name": "python3"
  },
  "language_info": {
   "codemirror_mode": {
    "name": "ipython",
    "version": 3
   },
   "file_extension": ".py",
   "mimetype": "text/x-python",
   "name": "python",
   "nbconvert_exporter": "python",
   "pygments_lexer": "ipython3",
   "version": "3.9.7"
  }
 },
 "nbformat": 4,
 "nbformat_minor": 5
}
