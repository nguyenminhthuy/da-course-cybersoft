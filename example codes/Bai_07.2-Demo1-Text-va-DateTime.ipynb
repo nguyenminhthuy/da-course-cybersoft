{
 "cells": [
  {
   "cell_type": "code",
   "execution_count": 1,
   "id": "8b3a05ef",
   "metadata": {},
   "outputs": [
    {
     "name": "stdout",
     "output_type": "stream",
     "text": [
      "1.3.4\n"
     ]
    }
   ],
   "source": [
    "import pandas as pd\n",
    "import numpy as np\n",
    "from matplotlib import pyplot as plt\n",
    "np.set_printoptions(precision=3, suppress=True)\n",
    "\n",
    "print(pd.__version__)"
   ]
  },
  {
   "cell_type": "markdown",
   "id": "7484a1d9",
   "metadata": {},
   "source": [
    "# 1. Text"
   ]
  },
  {
   "cell_type": "markdown",
   "id": "0d021358",
   "metadata": {},
   "source": [
    "## 1.1. Tạo dữ liệu string trong Pandas"
   ]
  },
  {
   "cell_type": "code",
   "execution_count": 2,
   "id": "731aaffd",
   "metadata": {
    "scrolled": true
   },
   "outputs": [
    {
     "data": {
      "text/plain": [
       "0    Hoàng\n",
       "1      Nam\n",
       "2    Thắng\n",
       "3      Vân\n",
       "dtype: object"
      ]
     },
     "execution_count": 2,
     "metadata": {},
     "output_type": "execute_result"
    }
   ],
   "source": [
    "pd.Series(['Hoàng', 'Nam', 'Thắng', 'Vân'])"
   ]
  },
  {
   "cell_type": "markdown",
   "id": "293529f7",
   "metadata": {},
   "source": [
    "**Thay loại `object` bằng `string`**"
   ]
  },
  {
   "cell_type": "code",
   "execution_count": 3,
   "id": "313fcb28",
   "metadata": {
    "scrolled": true
   },
   "outputs": [
    {
     "data": {
      "text/plain": [
       "0    Hoàng\n",
       "1      Nam\n",
       "2    Thắng\n",
       "3      Vân\n",
       "dtype: string"
      ]
     },
     "execution_count": 3,
     "metadata": {},
     "output_type": "execute_result"
    }
   ],
   "source": [
    "pd.Series(['Hoàng', 'Nam', 'Thắng', 'Vân'], dtype='string')"
   ]
  },
  {
   "cell_type": "code",
   "execution_count": 4,
   "id": "fbc346be",
   "metadata": {},
   "outputs": [
    {
     "data": {
      "text/plain": [
       "0    Hoàng\n",
       "1      Nam\n",
       "2    Thắng\n",
       "3      Vân\n",
       "dtype: string"
      ]
     },
     "execution_count": 4,
     "metadata": {},
     "output_type": "execute_result"
    }
   ],
   "source": [
    "pd.Series(['Hoàng', 'Nam', 'Thắng', 'Vân'], dtype=pd.StringDtype())"
   ]
  },
  {
   "cell_type": "markdown",
   "id": "7ed2d23f",
   "metadata": {},
   "source": [
    "## 1.2. Một số thao tác trên string"
   ]
  },
  {
   "cell_type": "code",
   "execution_count": 5,
   "id": "e07493d8",
   "metadata": {},
   "outputs": [
    {
     "data": {
      "text/plain": [
       "0    Hoàng\n",
       "1      Nam\n",
       "2    Thắng\n",
       "3      Vân\n",
       "4      nam\n",
       "dtype: object"
      ]
     },
     "execution_count": 5,
     "metadata": {},
     "output_type": "execute_result"
    }
   ],
   "source": [
    "ds_hv = pd.Series(['Hoàng', 'Nam', 'Thắng', 'Vân', 'nam'])\n",
    "ds_hv"
   ]
  },
  {
   "cell_type": "markdown",
   "id": "82796c7d",
   "metadata": {},
   "source": [
    "**Chuyển sang dạng chữ in hoa hoặc thường**"
   ]
  },
  {
   "cell_type": "code",
   "execution_count": 7,
   "id": "d374b5dc",
   "metadata": {},
   "outputs": [
    {
     "data": {
      "text/plain": [
       "0    HOÀNG\n",
       "1      NAM\n",
       "2    THẮNG\n",
       "3      VÂN\n",
       "4      NAM\n",
       "dtype: object"
      ]
     },
     "execution_count": 7,
     "metadata": {},
     "output_type": "execute_result"
    }
   ],
   "source": [
    "ds_hv.str.upper()"
   ]
  },
  {
   "cell_type": "code",
   "execution_count": 8,
   "id": "7886762d",
   "metadata": {},
   "outputs": [
    {
     "data": {
      "text/plain": [
       "0    hoàng\n",
       "1      nam\n",
       "2    thắng\n",
       "3      vân\n",
       "4      nam\n",
       "dtype: object"
      ]
     },
     "execution_count": 8,
     "metadata": {},
     "output_type": "execute_result"
    }
   ],
   "source": [
    "ds_hv.str.lower()"
   ]
  },
  {
   "cell_type": "markdown",
   "id": "0a3390fe",
   "metadata": {},
   "source": [
    "**Đếm các giá trị**"
   ]
  },
  {
   "cell_type": "code",
   "execution_count": 9,
   "id": "47b4c85b",
   "metadata": {},
   "outputs": [
    {
     "data": {
      "text/plain": [
       "0    0\n",
       "1    1\n",
       "2    0\n",
       "3    0\n",
       "4    1\n",
       "dtype: int64"
      ]
     },
     "execution_count": 9,
     "metadata": {},
     "output_type": "execute_result"
    }
   ],
   "source": [
    "# Hàm count: tạo ra vector\n",
    "ds_hv = ds_hv.str.lower()\n",
    "ds_hv.str.count('nam')"
   ]
  },
  {
   "cell_type": "code",
   "execution_count": 6,
   "id": "869bed1b",
   "metadata": {
    "scrolled": true
   },
   "outputs": [
    {
     "data": {
      "text/plain": [
       "nam      2\n",
       "hoàng    1\n",
       "thắng    1\n",
       "vân      1\n",
       "dtype: int64"
      ]
     },
     "execution_count": 6,
     "metadata": {},
     "output_type": "execute_result"
    }
   ],
   "source": [
    "# Hàm value_counts(tương tự 'unique()'' với 'return_counts=True')\n",
    "ds_hv.str.lower().value_counts()"
   ]
  },
  {
   "cell_type": "markdown",
   "id": "dac241f7",
   "metadata": {},
   "source": [
    "**Bỏ các item khuyết**"
   ]
  },
  {
   "cell_type": "code",
   "execution_count": 10,
   "id": "70ed7a7f",
   "metadata": {},
   "outputs": [
    {
     "data": {
      "text/plain": [
       "0    Hoàng  Minh    \n",
       "1            Văn-Nam\n",
       "2         Quốc_Thắng\n",
       "3               <NA>\n",
       "4           Hồng Vân\n",
       "dtype: string"
      ]
     },
     "execution_count": 10,
     "metadata": {},
     "output_type": "execute_result"
    }
   ],
   "source": [
    "ds_hv = pd.Series(['Hoàng  Minh    ', 'Văn-Nam', 'Quốc_Thắng', np.nan, '  Hồng Vân']).astype('string')\n",
    "ds_hv"
   ]
  },
  {
   "cell_type": "code",
   "execution_count": 11,
   "id": "2050f335",
   "metadata": {},
   "outputs": [
    {
     "data": {
      "text/plain": [
       "0    Hoàng  Minh    \n",
       "1            Văn-Nam\n",
       "2         Quốc_Thắng\n",
       "4           Hồng Vân\n",
       "dtype: string"
      ]
     },
     "execution_count": 11,
     "metadata": {},
     "output_type": "execute_result"
    }
   ],
   "source": [
    "# Dùng hàm dropna(inplace=True/False)\n",
    "ds_hv.dropna()"
   ]
  },
  {
   "cell_type": "markdown",
   "id": "fde0a3b9",
   "metadata": {},
   "source": [
    "**Loại bỏ khoảng trắng ở 2 đầu chuỗi**"
   ]
  },
  {
   "cell_type": "code",
   "execution_count": 12,
   "id": "0ed02b30",
   "metadata": {},
   "outputs": [
    {
     "data": {
      "text/plain": [
       "0    Hoàng  Minh\n",
       "1        Văn-Nam\n",
       "2     Quốc_Thắng\n",
       "4       Hồng Vân\n",
       "dtype: string"
      ]
     },
     "execution_count": 12,
     "metadata": {},
     "output_type": "execute_result"
    }
   ],
   "source": [
    "ds_hv = ds_hv.dropna().str.strip()\n",
    "ds_hv"
   ]
  },
  {
   "cell_type": "markdown",
   "id": "08276bff",
   "metadata": {},
   "source": [
    "**Thay thế ký tự/chuỗi con**"
   ]
  },
  {
   "cell_type": "code",
   "execution_count": 13,
   "id": "65a3f79f",
   "metadata": {},
   "outputs": [
    {
     "data": {
      "text/plain": [
       "0    Hoàng Minh\n",
       "1       Văn-Nam\n",
       "2    Quốc_Thắng\n",
       "4      Hồng Vân\n",
       "dtype: string"
      ]
     },
     "execution_count": 13,
     "metadata": {},
     "output_type": "execute_result"
    }
   ],
   "source": [
    "# Thay thế hai khoảng trắng bằng 1 khoảng trắng\n",
    "ds_hv = ds_hv.str.replace('  ', ' ')\n",
    "ds_hv"
   ]
  },
  {
   "cell_type": "code",
   "execution_count": 14,
   "id": "aa4f7a1b",
   "metadata": {},
   "outputs": [
    {
     "data": {
      "text/plain": [
       "0    Hoàng Minh\n",
       "1       Văn Nam\n",
       "2    Quốc_Thắng\n",
       "4      Hồng Vân\n",
       "dtype: string"
      ]
     },
     "execution_count": 14,
     "metadata": {},
     "output_type": "execute_result"
    }
   ],
   "source": [
    "# Tương tự: thay thế '-' bằng ' '\n",
    "ds_hv = ds_hv.str.replace('-', ' ')\n",
    "ds_hv"
   ]
  },
  {
   "cell_type": "code",
   "execution_count": 15,
   "id": "a1c02020",
   "metadata": {},
   "outputs": [
    {
     "data": {
      "text/plain": [
       "0    hoàng minh\n",
       "1       văn nam\n",
       "2    quốc thắng\n",
       "4      hồng vân\n",
       "dtype: string"
      ]
     },
     "execution_count": 15,
     "metadata": {},
     "output_type": "execute_result"
    }
   ],
   "source": [
    "# Tương tự: thay thế '_' bằng ' '\n",
    "ds_hv = ds_hv.str.replace('_', ' ')\n",
    "ds_hv.str.lower()"
   ]
  },
  {
   "cell_type": "markdown",
   "id": "59311ef1",
   "metadata": {},
   "source": [
    "**Kết hợp nhiều lệnh trong một dòng**"
   ]
  },
  {
   "cell_type": "code",
   "execution_count": 16,
   "id": "d6e617ed",
   "metadata": {},
   "outputs": [
    {
     "data": {
      "text/plain": [
       "0    hoàng minh\n",
       "1       văn nam\n",
       "2    quốc thắng\n",
       "4      hồng vân\n",
       "dtype: string"
      ]
     },
     "execution_count": 16,
     "metadata": {},
     "output_type": "execute_result"
    }
   ],
   "source": [
    "ds_hv = pd.Series(['Hoàng  Minh    ', 'Văn-Nam', 'Quốc_Thắng', np.nan, '  Hồng Vân']).astype('string')\n",
    "ds_hv.dropna().str.strip().str.lower().str.replace('-', ' ').str.replace('_', ' ').str.replace('  ', ' ')"
   ]
  },
  {
   "cell_type": "markdown",
   "id": "2cdf5a8f",
   "metadata": {},
   "source": [
    "# 2. Datetime"
   ]
  },
  {
   "cell_type": "markdown",
   "id": "a041835d",
   "metadata": {},
   "source": [
    "### 2.1. Chuỗi các ngày"
   ]
  },
  {
   "cell_type": "code",
   "execution_count": 17,
   "id": "09fd9dcf",
   "metadata": {},
   "outputs": [
    {
     "data": {
      "text/plain": [
       "[0, 1, 2, 3, 4, 5, 6, 7, 8, 9]"
      ]
     },
     "execution_count": 17,
     "metadata": {},
     "output_type": "execute_result"
    }
   ],
   "source": [
    "list(range(10))"
   ]
  },
  {
   "cell_type": "code",
   "execution_count": 18,
   "id": "3b3e2b08",
   "metadata": {},
   "outputs": [
    {
     "data": {
      "text/plain": [
       "DatetimeIndex(['2022-01-13', '2022-01-14', '2022-01-15', '2022-01-16',\n",
       "               '2022-01-17', '2022-01-18'],\n",
       "              dtype='datetime64[ns]', freq='D')"
      ]
     },
     "execution_count": 18,
     "metadata": {},
     "output_type": "execute_result"
    }
   ],
   "source": [
    "dates = pd.date_range(\"20220113\", periods=6)\n",
    "dates"
   ]
  },
  {
   "cell_type": "code",
   "execution_count": 19,
   "id": "86338333",
   "metadata": {},
   "outputs": [
    {
     "data": {
      "text/html": [
       "<div>\n",
       "<style scoped>\n",
       "    .dataframe tbody tr th:only-of-type {\n",
       "        vertical-align: middle;\n",
       "    }\n",
       "\n",
       "    .dataframe tbody tr th {\n",
       "        vertical-align: top;\n",
       "    }\n",
       "\n",
       "    .dataframe thead th {\n",
       "        text-align: right;\n",
       "    }\n",
       "</style>\n",
       "<table border=\"1\" class=\"dataframe\">\n",
       "  <thead>\n",
       "    <tr style=\"text-align: right;\">\n",
       "      <th></th>\n",
       "      <th>A</th>\n",
       "      <th>B</th>\n",
       "      <th>C</th>\n",
       "      <th>D</th>\n",
       "    </tr>\n",
       "  </thead>\n",
       "  <tbody>\n",
       "    <tr>\n",
       "      <th>2022-01-13</th>\n",
       "      <td>-0.810241</td>\n",
       "      <td>-1.240634</td>\n",
       "      <td>-1.515587</td>\n",
       "      <td>-0.070148</td>\n",
       "    </tr>\n",
       "    <tr>\n",
       "      <th>2022-01-14</th>\n",
       "      <td>-0.733110</td>\n",
       "      <td>0.360084</td>\n",
       "      <td>1.173754</td>\n",
       "      <td>-0.296382</td>\n",
       "    </tr>\n",
       "    <tr>\n",
       "      <th>2022-01-15</th>\n",
       "      <td>-1.761437</td>\n",
       "      <td>0.905596</td>\n",
       "      <td>0.512103</td>\n",
       "      <td>-1.307575</td>\n",
       "    </tr>\n",
       "    <tr>\n",
       "      <th>2022-01-16</th>\n",
       "      <td>1.596819</td>\n",
       "      <td>0.212973</td>\n",
       "      <td>-0.386892</td>\n",
       "      <td>-0.215306</td>\n",
       "    </tr>\n",
       "    <tr>\n",
       "      <th>2022-01-17</th>\n",
       "      <td>0.511306</td>\n",
       "      <td>-0.007567</td>\n",
       "      <td>-0.511205</td>\n",
       "      <td>0.779516</td>\n",
       "    </tr>\n",
       "    <tr>\n",
       "      <th>2022-01-18</th>\n",
       "      <td>1.460334</td>\n",
       "      <td>0.037713</td>\n",
       "      <td>0.714810</td>\n",
       "      <td>0.573433</td>\n",
       "    </tr>\n",
       "  </tbody>\n",
       "</table>\n",
       "</div>"
      ],
      "text/plain": [
       "                   A         B         C         D\n",
       "2022-01-13 -0.810241 -1.240634 -1.515587 -0.070148\n",
       "2022-01-14 -0.733110  0.360084  1.173754 -0.296382\n",
       "2022-01-15 -1.761437  0.905596  0.512103 -1.307575\n",
       "2022-01-16  1.596819  0.212973 -0.386892 -0.215306\n",
       "2022-01-17  0.511306 -0.007567 -0.511205  0.779516\n",
       "2022-01-18  1.460334  0.037713  0.714810  0.573433"
      ]
     },
     "execution_count": 19,
     "metadata": {},
     "output_type": "execute_result"
    }
   ],
   "source": [
    "df = pd.DataFrame(np.random.randn(6, 4), index=dates, columns=list(\"ABCD\"))\n",
    "df"
   ]
  },
  {
   "cell_type": "markdown",
   "id": "e4c9fb80",
   "metadata": {},
   "source": [
    "### 2.2. Một số cách chuyển đổi từ text và dữ liệu số sang datetime"
   ]
  },
  {
   "cell_type": "markdown",
   "id": "ba5f4e73",
   "metadata": {},
   "source": [
    "**Gọi hàm `to_datetime`**"
   ]
  },
  {
   "cell_type": "code",
   "execution_count": 20,
   "id": "4efb9d9e",
   "metadata": {},
   "outputs": [
    {
     "data": {
      "text/html": [
       "<div>\n",
       "<style scoped>\n",
       "    .dataframe tbody tr th:only-of-type {\n",
       "        vertical-align: middle;\n",
       "    }\n",
       "\n",
       "    .dataframe tbody tr th {\n",
       "        vertical-align: top;\n",
       "    }\n",
       "\n",
       "    .dataframe thead th {\n",
       "        text-align: right;\n",
       "    }\n",
       "</style>\n",
       "<table border=\"1\" class=\"dataframe\">\n",
       "  <thead>\n",
       "    <tr style=\"text-align: right;\">\n",
       "      <th></th>\n",
       "      <th>date</th>\n",
       "      <th>value</th>\n",
       "    </tr>\n",
       "  </thead>\n",
       "  <tbody>\n",
       "    <tr>\n",
       "      <th>0</th>\n",
       "      <td>3/10/2000</td>\n",
       "      <td>2</td>\n",
       "    </tr>\n",
       "    <tr>\n",
       "      <th>1</th>\n",
       "      <td>3/11/2000</td>\n",
       "      <td>3</td>\n",
       "    </tr>\n",
       "    <tr>\n",
       "      <th>2</th>\n",
       "      <td>3/12/2000</td>\n",
       "      <td>4</td>\n",
       "    </tr>\n",
       "  </tbody>\n",
       "</table>\n",
       "</div>"
      ],
      "text/plain": [
       "        date  value\n",
       "0  3/10/2000      2\n",
       "1  3/11/2000      3\n",
       "2  3/12/2000      4"
      ]
     },
     "execution_count": 20,
     "metadata": {},
     "output_type": "execute_result"
    }
   ],
   "source": [
    "# Tạo dataframe chứa dữ liệu\n",
    "df2 = pd.DataFrame({'date': ['3/10/2000', '3/11/2000', '3/12/2000'],\n",
    "                   'value': [2, 3, 4]})\n",
    "df2"
   ]
  },
  {
   "cell_type": "code",
   "execution_count": 21,
   "id": "2325ef8c",
   "metadata": {},
   "outputs": [
    {
     "data": {
      "text/html": [
       "<div>\n",
       "<style scoped>\n",
       "    .dataframe tbody tr th:only-of-type {\n",
       "        vertical-align: middle;\n",
       "    }\n",
       "\n",
       "    .dataframe tbody tr th {\n",
       "        vertical-align: top;\n",
       "    }\n",
       "\n",
       "    .dataframe thead th {\n",
       "        text-align: right;\n",
       "    }\n",
       "</style>\n",
       "<table border=\"1\" class=\"dataframe\">\n",
       "  <thead>\n",
       "    <tr style=\"text-align: right;\">\n",
       "      <th></th>\n",
       "      <th>date</th>\n",
       "      <th>value</th>\n",
       "    </tr>\n",
       "  </thead>\n",
       "  <tbody>\n",
       "    <tr>\n",
       "      <th>0</th>\n",
       "      <td>2000-10-03</td>\n",
       "      <td>2</td>\n",
       "    </tr>\n",
       "    <tr>\n",
       "      <th>1</th>\n",
       "      <td>2000-11-03</td>\n",
       "      <td>3</td>\n",
       "    </tr>\n",
       "    <tr>\n",
       "      <th>2</th>\n",
       "      <td>2000-12-03</td>\n",
       "      <td>4</td>\n",
       "    </tr>\n",
       "  </tbody>\n",
       "</table>\n",
       "</div>"
      ],
      "text/plain": [
       "        date  value\n",
       "0 2000-10-03      2\n",
       "1 2000-11-03      3\n",
       "2 2000-12-03      4"
      ]
     },
     "execution_count": 21,
     "metadata": {},
     "output_type": "execute_result"
    }
   ],
   "source": [
    "# Thực hiện chuyển đổi cột date (dạng text)\n",
    "# Lưu ý: phải thực hiện phép gán\n",
    "df2['date'] = pd.to_datetime(df2['date'], dayfirst=True)\n",
    "df2"
   ]
  },
  {
   "cell_type": "markdown",
   "id": "c7984e93",
   "metadata": {},
   "source": [
    "**Sử dụng format như `datetime` trong Python**"
   ]
  },
  {
   "cell_type": "code",
   "execution_count": 22,
   "id": "f0b5c11c",
   "metadata": {
    "scrolled": true
   },
   "outputs": [
    {
     "data": {
      "text/html": [
       "<div>\n",
       "<style scoped>\n",
       "    .dataframe tbody tr th:only-of-type {\n",
       "        vertical-align: middle;\n",
       "    }\n",
       "\n",
       "    .dataframe tbody tr th {\n",
       "        vertical-align: top;\n",
       "    }\n",
       "\n",
       "    .dataframe thead th {\n",
       "        text-align: right;\n",
       "    }\n",
       "</style>\n",
       "<table border=\"1\" class=\"dataframe\">\n",
       "  <thead>\n",
       "    <tr style=\"text-align: right;\">\n",
       "      <th></th>\n",
       "      <th>date</th>\n",
       "      <th>value</th>\n",
       "    </tr>\n",
       "  </thead>\n",
       "  <tbody>\n",
       "    <tr>\n",
       "      <th>0</th>\n",
       "      <td>2016-10-06 20:30:00</td>\n",
       "      <td>2</td>\n",
       "    </tr>\n",
       "    <tr>\n",
       "      <th>1</th>\n",
       "      <td>2016-01-07 19:45:30</td>\n",
       "      <td>3</td>\n",
       "    </tr>\n",
       "    <tr>\n",
       "      <th>2</th>\n",
       "      <td>2013-12-10 04:05:01</td>\n",
       "      <td>4</td>\n",
       "    </tr>\n",
       "  </tbody>\n",
       "</table>\n",
       "</div>"
      ],
      "text/plain": [
       "                 date  value\n",
       "0 2016-10-06 20:30:00      2\n",
       "1 2016-01-07 19:45:30      3\n",
       "2 2013-12-10 04:05:01      4"
      ]
     },
     "execution_count": 22,
     "metadata": {},
     "output_type": "execute_result"
    }
   ],
   "source": [
    "df3 = pd.DataFrame({'date': ['2016-6-10 20:30:0', \n",
    "                            '2016-7-1 19:45:30', \n",
    "                            '2013-10-12 4:5:1'],\n",
    "                   'value': [2, 3, 4]})\n",
    "df3['date'] = pd.to_datetime(df3['date'], format=\"%Y-%d-%m %H:%M:%S\")\n",
    "df3"
   ]
  },
  {
   "cell_type": "markdown",
   "id": "fe24d79f",
   "metadata": {},
   "source": [
    "**Convert một DataFrame chứa các cột thành phần biểu diễn thời gian**"
   ]
  },
  {
   "cell_type": "code",
   "execution_count": 45,
   "id": "d9feb85e",
   "metadata": {},
   "outputs": [
    {
     "data": {
      "text/html": [
       "<div>\n",
       "<style scoped>\n",
       "    .dataframe tbody tr th:only-of-type {\n",
       "        vertical-align: middle;\n",
       "    }\n",
       "\n",
       "    .dataframe tbody tr th {\n",
       "        vertical-align: top;\n",
       "    }\n",
       "\n",
       "    .dataframe thead th {\n",
       "        text-align: right;\n",
       "    }\n",
       "</style>\n",
       "<table border=\"1\" class=\"dataframe\">\n",
       "  <thead>\n",
       "    <tr style=\"text-align: right;\">\n",
       "      <th></th>\n",
       "      <th>year</th>\n",
       "      <th>month</th>\n",
       "      <th>day</th>\n",
       "      <th>hour</th>\n",
       "      <th>minute</th>\n",
       "    </tr>\n",
       "  </thead>\n",
       "  <tbody>\n",
       "    <tr>\n",
       "      <th>0</th>\n",
       "      <td>2015</td>\n",
       "      <td>2</td>\n",
       "      <td>4</td>\n",
       "      <td>12</td>\n",
       "      <td>30</td>\n",
       "    </tr>\n",
       "    <tr>\n",
       "      <th>1</th>\n",
       "      <td>2015</td>\n",
       "      <td>3</td>\n",
       "      <td>5</td>\n",
       "      <td>15</td>\n",
       "      <td>45</td>\n",
       "    </tr>\n",
       "    <tr>\n",
       "      <th>2</th>\n",
       "      <td>2015</td>\n",
       "      <td>3</td>\n",
       "      <td>15</td>\n",
       "      <td>12</td>\n",
       "      <td>50</td>\n",
       "    </tr>\n",
       "    <tr>\n",
       "      <th>3</th>\n",
       "      <td>2016</td>\n",
       "      <td>3</td>\n",
       "      <td>8</td>\n",
       "      <td>11</td>\n",
       "      <td>45</td>\n",
       "    </tr>\n",
       "    <tr>\n",
       "      <th>4</th>\n",
       "      <td>2016</td>\n",
       "      <td>2</td>\n",
       "      <td>4</td>\n",
       "      <td>15</td>\n",
       "      <td>20</td>\n",
       "    </tr>\n",
       "  </tbody>\n",
       "</table>\n",
       "</div>"
      ],
      "text/plain": [
       "   year  month  day  hour  minute\n",
       "0  2015      2    4    12      30\n",
       "1  2015      3    5    15      45\n",
       "2  2015      3   15    12      50\n",
       "3  2016      3    8    11      45\n",
       "4  2016      2    4    15      20"
      ]
     },
     "execution_count": 45,
     "metadata": {},
     "output_type": "execute_result"
    }
   ],
   "source": [
    "df4 = pd.DataFrame({'year': [2015, 2015, 2015, 2016, 2016],\n",
    "                    'month': [2, 3, 3, 3, 2],\n",
    "                    'day': [4, 5, 15, 8, 4],\n",
    "                    'hour': [12, 15, 12, 11, 15],\n",
    "                    'minute': [30, 45, 50, 45, 20]})\n",
    "#df4['date'] = pd.to_datetime(df4)\n",
    "df4"
   ]
  },
  {
   "cell_type": "code",
   "execution_count": 46,
   "id": "ef87705c",
   "metadata": {},
   "outputs": [
    {
     "data": {
      "text/plain": [
       "0   2015-02-04 12:30:00\n",
       "1   2015-03-05 15:45:00\n",
       "2   2015-03-15 12:50:00\n",
       "3   2016-03-08 11:45:00\n",
       "4   2016-02-04 15:20:00\n",
       "dtype: datetime64[ns]"
      ]
     },
     "execution_count": 46,
     "metadata": {},
     "output_type": "execute_result"
    }
   ],
   "source": [
    "vd = pd.to_datetime(df4)\n",
    "vd "
   ]
  },
  {
   "cell_type": "code",
   "execution_count": 47,
   "id": "1db504ec",
   "metadata": {},
   "outputs": [
    {
     "data": {
      "text/html": [
       "<div>\n",
       "<style scoped>\n",
       "    .dataframe tbody tr th:only-of-type {\n",
       "        vertical-align: middle;\n",
       "    }\n",
       "\n",
       "    .dataframe tbody tr th {\n",
       "        vertical-align: top;\n",
       "    }\n",
       "\n",
       "    .dataframe thead th {\n",
       "        text-align: right;\n",
       "    }\n",
       "</style>\n",
       "<table border=\"1\" class=\"dataframe\">\n",
       "  <thead>\n",
       "    <tr style=\"text-align: right;\">\n",
       "      <th></th>\n",
       "      <th>year</th>\n",
       "      <th>month</th>\n",
       "      <th>day</th>\n",
       "      <th>hour</th>\n",
       "      <th>minute</th>\n",
       "      <th>date</th>\n",
       "    </tr>\n",
       "  </thead>\n",
       "  <tbody>\n",
       "    <tr>\n",
       "      <th>0</th>\n",
       "      <td>2015</td>\n",
       "      <td>2</td>\n",
       "      <td>4</td>\n",
       "      <td>12</td>\n",
       "      <td>30</td>\n",
       "      <td>2015-02-04 12:30:00</td>\n",
       "    </tr>\n",
       "    <tr>\n",
       "      <th>1</th>\n",
       "      <td>2015</td>\n",
       "      <td>3</td>\n",
       "      <td>5</td>\n",
       "      <td>15</td>\n",
       "      <td>45</td>\n",
       "      <td>2015-03-05 15:45:00</td>\n",
       "    </tr>\n",
       "    <tr>\n",
       "      <th>2</th>\n",
       "      <td>2015</td>\n",
       "      <td>3</td>\n",
       "      <td>15</td>\n",
       "      <td>12</td>\n",
       "      <td>50</td>\n",
       "      <td>2015-03-15 12:50:00</td>\n",
       "    </tr>\n",
       "    <tr>\n",
       "      <th>3</th>\n",
       "      <td>2016</td>\n",
       "      <td>3</td>\n",
       "      <td>8</td>\n",
       "      <td>11</td>\n",
       "      <td>45</td>\n",
       "      <td>2016-03-08 11:45:00</td>\n",
       "    </tr>\n",
       "    <tr>\n",
       "      <th>4</th>\n",
       "      <td>2016</td>\n",
       "      <td>2</td>\n",
       "      <td>4</td>\n",
       "      <td>15</td>\n",
       "      <td>20</td>\n",
       "      <td>2016-02-04 15:20:00</td>\n",
       "    </tr>\n",
       "  </tbody>\n",
       "</table>\n",
       "</div>"
      ],
      "text/plain": [
       "   year  month  day  hour  minute                date\n",
       "0  2015      2    4    12      30 2015-02-04 12:30:00\n",
       "1  2015      3    5    15      45 2015-03-05 15:45:00\n",
       "2  2015      3   15    12      50 2015-03-15 12:50:00\n",
       "3  2016      3    8    11      45 2016-03-08 11:45:00\n",
       "4  2016      2    4    15      20 2016-02-04 15:20:00"
      ]
     },
     "execution_count": 47,
     "metadata": {},
     "output_type": "execute_result"
    }
   ],
   "source": [
    "df4['date'] = pd.to_datetime(df4)\n",
    "df4"
   ]
  },
  {
   "cell_type": "markdown",
   "id": "10d84ea3",
   "metadata": {},
   "source": [
    "**Select các dòng dữ liệu theo thời gian**"
   ]
  },
  {
   "cell_type": "code",
   "execution_count": 48,
   "id": "de2f22d6",
   "metadata": {},
   "outputs": [
    {
     "data": {
      "text/html": [
       "<div>\n",
       "<style scoped>\n",
       "    .dataframe tbody tr th:only-of-type {\n",
       "        vertical-align: middle;\n",
       "    }\n",
       "\n",
       "    .dataframe tbody tr th {\n",
       "        vertical-align: top;\n",
       "    }\n",
       "\n",
       "    .dataframe thead th {\n",
       "        text-align: right;\n",
       "    }\n",
       "</style>\n",
       "<table border=\"1\" class=\"dataframe\">\n",
       "  <thead>\n",
       "    <tr style=\"text-align: right;\">\n",
       "      <th></th>\n",
       "      <th>year</th>\n",
       "      <th>month</th>\n",
       "      <th>day</th>\n",
       "      <th>hour</th>\n",
       "      <th>minute</th>\n",
       "    </tr>\n",
       "    <tr>\n",
       "      <th>date</th>\n",
       "      <th></th>\n",
       "      <th></th>\n",
       "      <th></th>\n",
       "      <th></th>\n",
       "      <th></th>\n",
       "    </tr>\n",
       "  </thead>\n",
       "  <tbody>\n",
       "    <tr>\n",
       "      <th>2015-02-04 12:30:00</th>\n",
       "      <td>2015</td>\n",
       "      <td>2</td>\n",
       "      <td>4</td>\n",
       "      <td>12</td>\n",
       "      <td>30</td>\n",
       "    </tr>\n",
       "    <tr>\n",
       "      <th>2015-03-05 15:45:00</th>\n",
       "      <td>2015</td>\n",
       "      <td>3</td>\n",
       "      <td>5</td>\n",
       "      <td>15</td>\n",
       "      <td>45</td>\n",
       "    </tr>\n",
       "    <tr>\n",
       "      <th>2015-03-15 12:50:00</th>\n",
       "      <td>2015</td>\n",
       "      <td>3</td>\n",
       "      <td>15</td>\n",
       "      <td>12</td>\n",
       "      <td>50</td>\n",
       "    </tr>\n",
       "    <tr>\n",
       "      <th>2016-03-08 11:45:00</th>\n",
       "      <td>2016</td>\n",
       "      <td>3</td>\n",
       "      <td>8</td>\n",
       "      <td>11</td>\n",
       "      <td>45</td>\n",
       "    </tr>\n",
       "    <tr>\n",
       "      <th>2016-02-04 15:20:00</th>\n",
       "      <td>2016</td>\n",
       "      <td>2</td>\n",
       "      <td>4</td>\n",
       "      <td>15</td>\n",
       "      <td>20</td>\n",
       "    </tr>\n",
       "  </tbody>\n",
       "</table>\n",
       "</div>"
      ],
      "text/plain": [
       "                     year  month  day  hour  minute\n",
       "date                                               \n",
       "2015-02-04 12:30:00  2015      2    4    12      30\n",
       "2015-03-05 15:45:00  2015      3    5    15      45\n",
       "2015-03-15 12:50:00  2015      3   15    12      50\n",
       "2016-03-08 11:45:00  2016      3    8    11      45\n",
       "2016-02-04 15:20:00  2016      2    4    15      20"
      ]
     },
     "execution_count": 48,
     "metadata": {},
     "output_type": "execute_result"
    }
   ],
   "source": [
    "df4 = df4.set_index('date')\n",
    "df4"
   ]
  },
  {
   "cell_type": "code",
   "execution_count": 29,
   "id": "fb20166e",
   "metadata": {
    "scrolled": true
   },
   "outputs": [
    {
     "data": {
      "text/plain": [
       "[Timestamp('2015-02-04 12:30:00'),\n",
       " Timestamp('2015-03-05 15:45:00'),\n",
       " Timestamp('2015-03-15 12:50:00'),\n",
       " Timestamp('2016-03-08 11:45:00')]"
      ]
     },
     "execution_count": 29,
     "metadata": {},
     "output_type": "execute_result"
    }
   ],
   "source": [
    "list(df4.index)"
   ]
  },
  {
   "cell_type": "code",
   "execution_count": 49,
   "id": "71454b02",
   "metadata": {},
   "outputs": [
    {
     "data": {
      "text/html": [
       "<div>\n",
       "<style scoped>\n",
       "    .dataframe tbody tr th:only-of-type {\n",
       "        vertical-align: middle;\n",
       "    }\n",
       "\n",
       "    .dataframe tbody tr th {\n",
       "        vertical-align: top;\n",
       "    }\n",
       "\n",
       "    .dataframe thead th {\n",
       "        text-align: right;\n",
       "    }\n",
       "</style>\n",
       "<table border=\"1\" class=\"dataframe\">\n",
       "  <thead>\n",
       "    <tr style=\"text-align: right;\">\n",
       "      <th></th>\n",
       "      <th>year</th>\n",
       "      <th>month</th>\n",
       "      <th>day</th>\n",
       "      <th>hour</th>\n",
       "      <th>minute</th>\n",
       "    </tr>\n",
       "    <tr>\n",
       "      <th>date</th>\n",
       "      <th></th>\n",
       "      <th></th>\n",
       "      <th></th>\n",
       "      <th></th>\n",
       "      <th></th>\n",
       "    </tr>\n",
       "  </thead>\n",
       "  <tbody>\n",
       "    <tr>\n",
       "      <th>2015-03-05 15:45:00</th>\n",
       "      <td>2015</td>\n",
       "      <td>3</td>\n",
       "      <td>5</td>\n",
       "      <td>15</td>\n",
       "      <td>45</td>\n",
       "    </tr>\n",
       "    <tr>\n",
       "      <th>2015-03-15 12:50:00</th>\n",
       "      <td>2015</td>\n",
       "      <td>3</td>\n",
       "      <td>15</td>\n",
       "      <td>12</td>\n",
       "      <td>50</td>\n",
       "    </tr>\n",
       "  </tbody>\n",
       "</table>\n",
       "</div>"
      ],
      "text/plain": [
       "                     year  month  day  hour  minute\n",
       "date                                               \n",
       "2015-03-05 15:45:00  2015      3    5    15      45\n",
       "2015-03-15 12:50:00  2015      3   15    12      50"
      ]
     },
     "execution_count": 49,
     "metadata": {},
     "output_type": "execute_result"
    }
   ],
   "source": [
    "df4.loc['2015-03']"
   ]
  },
  {
   "cell_type": "code",
   "execution_count": 50,
   "id": "28f85732",
   "metadata": {},
   "outputs": [
    {
     "data": {
      "text/html": [
       "<div>\n",
       "<style scoped>\n",
       "    .dataframe tbody tr th:only-of-type {\n",
       "        vertical-align: middle;\n",
       "    }\n",
       "\n",
       "    .dataframe tbody tr th {\n",
       "        vertical-align: top;\n",
       "    }\n",
       "\n",
       "    .dataframe thead th {\n",
       "        text-align: right;\n",
       "    }\n",
       "</style>\n",
       "<table border=\"1\" class=\"dataframe\">\n",
       "  <thead>\n",
       "    <tr style=\"text-align: right;\">\n",
       "      <th></th>\n",
       "      <th>year</th>\n",
       "      <th>month</th>\n",
       "      <th>day</th>\n",
       "      <th>hour</th>\n",
       "      <th>minute</th>\n",
       "    </tr>\n",
       "    <tr>\n",
       "      <th>date</th>\n",
       "      <th></th>\n",
       "      <th></th>\n",
       "      <th></th>\n",
       "      <th></th>\n",
       "      <th></th>\n",
       "    </tr>\n",
       "  </thead>\n",
       "  <tbody>\n",
       "    <tr>\n",
       "      <th>2016-03-08 11:45:00</th>\n",
       "      <td>2016</td>\n",
       "      <td>3</td>\n",
       "      <td>8</td>\n",
       "      <td>11</td>\n",
       "      <td>45</td>\n",
       "    </tr>\n",
       "    <tr>\n",
       "      <th>2016-02-04 15:20:00</th>\n",
       "      <td>2016</td>\n",
       "      <td>2</td>\n",
       "      <td>4</td>\n",
       "      <td>15</td>\n",
       "      <td>20</td>\n",
       "    </tr>\n",
       "  </tbody>\n",
       "</table>\n",
       "</div>"
      ],
      "text/plain": [
       "                     year  month  day  hour  minute\n",
       "date                                               \n",
       "2016-03-08 11:45:00  2016      3    8    11      45\n",
       "2016-02-04 15:20:00  2016      2    4    15      20"
      ]
     },
     "execution_count": 50,
     "metadata": {},
     "output_type": "execute_result"
    }
   ],
   "source": [
    "# Thực hiện lại với năm 2016\n",
    "df4.loc['2016']"
   ]
  },
  {
   "cell_type": "markdown",
   "id": "e74b1b37",
   "metadata": {},
   "source": [
    "# 3. Dữ liệu dạng categorical"
   ]
  },
  {
   "cell_type": "markdown",
   "id": "a64750ed",
   "metadata": {},
   "source": [
    "**Khởi tạo với tham số dtype**"
   ]
  },
  {
   "cell_type": "code",
   "execution_count": 31,
   "id": "b40ebcdb",
   "metadata": {},
   "outputs": [
    {
     "data": {
      "text/plain": [
       "0     very bad\n",
       "1         good\n",
       "2          bad\n",
       "3         good\n",
       "4    very good\n",
       "5         good\n",
       "6          bad\n",
       "dtype: category\n",
       "Categories (4, object): ['bad', 'good', 'very bad', 'very good']"
      ]
     },
     "execution_count": 31,
     "metadata": {},
     "output_type": "execute_result"
    }
   ],
   "source": [
    "sc1 = pd.Series(['very bad', 'good','bad', 'good', 'very good', 'good', 'bad'], dtype='category')\n",
    "sc1"
   ]
  },
  {
   "cell_type": "markdown",
   "id": "d8fdbf92",
   "metadata": {},
   "source": [
    "**Khởi tạo bằng lớp Categorical**"
   ]
  },
  {
   "cell_type": "code",
   "execution_count": 32,
   "id": "9a4157f8",
   "metadata": {},
   "outputs": [
    {
     "data": {
      "text/plain": [
       "['very bad', 'good', 'bad', 'good', 'very good', 'good', 'bad']\n",
       "Categories (4, object): ['bad', 'good', 'very bad', 'very good']"
      ]
     },
     "execution_count": 32,
     "metadata": {},
     "output_type": "execute_result"
    }
   ],
   "source": [
    "pd.Categorical(['very bad','good','bad', 'good', 'very good', 'good', 'bad'])"
   ]
  },
  {
   "cell_type": "code",
   "execution_count": 33,
   "id": "837c1371",
   "metadata": {
    "scrolled": true
   },
   "outputs": [
    {
     "data": {
      "text/plain": [
       "['very bad', 'good', 'bad', 'good', 'very good', 'good', 'bad']\n",
       "Categories (4, object): ['very bad' < 'bad' < 'good' < 'very good']"
      ]
     },
     "execution_count": 33,
     "metadata": {},
     "output_type": "execute_result"
    }
   ],
   "source": [
    "# Sử dụng các phân loại được định sẵn và thứ tự (order):\n",
    "# 2 tham số: categories và ordered\n",
    "c = ['very bad', 'bad', 'good', 'very good']\n",
    "sc2 = pd.Categorical(['very bad','good','bad', 'good', 'very good', 'good', 'bad'], \n",
    "                     categories=c, \n",
    "                     ordered=True\n",
    "                    )\n",
    "sc2"
   ]
  },
  {
   "cell_type": "markdown",
   "id": "64488460",
   "metadata": {},
   "source": [
    "**Tự định nghĩa một loại dữ liệu Categorical**"
   ]
  },
  {
   "cell_type": "code",
   "execution_count": 35,
   "id": "395087c6",
   "metadata": {},
   "outputs": [
    {
     "data": {
      "text/plain": [
       "0     very bad\n",
       "1         good\n",
       "2          bad\n",
       "3         good\n",
       "4    very good\n",
       "5         good\n",
       "6          bad\n",
       "dtype: category\n",
       "Categories (4, object): ['very bad' < 'bad' < 'good' < 'very good']"
      ]
     },
     "execution_count": 35,
     "metadata": {},
     "output_type": "execute_result"
    }
   ],
   "source": [
    "from pandas.api.types import CategoricalDtype\n",
    "my_type = CategoricalDtype(categories=['very bad', 'bad', 'good', 'very good'], ordered=True)\n",
    "\n",
    "sc3 = pd.Series(['very bad', 'good','bad', 'good', 'very good', 'good', 'bad']).astype(my_type)\n",
    "sc3"
   ]
  },
  {
   "cell_type": "code",
   "execution_count": 37,
   "id": "299b112f",
   "metadata": {},
   "outputs": [
    {
     "data": {
      "text/plain": [
       "0     very bad\n",
       "1         good\n",
       "2          bad\n",
       "3         good\n",
       "4    very good\n",
       "5         good\n",
       "6          bad\n",
       "dtype: category\n",
       "Categories (4, object): ['very bad' < 'bad' < 'good' < 'very good']"
      ]
     },
     "execution_count": 37,
     "metadata": {},
     "output_type": "execute_result"
    }
   ],
   "source": [
    "# Thực hiện lại với tham số dtype\n",
    "sc4 = pd.Series(['very bad', 'good','bad', 'good', 'very good', 'good', 'bad'], dtype=my_type)\n",
    "sc4"
   ]
  },
  {
   "cell_type": "markdown",
   "id": "21a5b389",
   "metadata": {},
   "source": [
    "**Sort dữ liệu với chỉ định thứ tự các category**"
   ]
  },
  {
   "cell_type": "code",
   "execution_count": 38,
   "id": "39f088b1",
   "metadata": {
    "scrolled": true
   },
   "outputs": [
    {
     "data": {
      "text/plain": [
       "2          bad\n",
       "6          bad\n",
       "1         good\n",
       "3         good\n",
       "5         good\n",
       "0     very bad\n",
       "4    very good\n",
       "dtype: category\n",
       "Categories (4, object): ['bad', 'good', 'very bad', 'very good']"
      ]
     },
     "execution_count": 38,
     "metadata": {},
     "output_type": "execute_result"
    }
   ],
   "source": [
    "# Với Series thông thường: theo thứ tự ABC\n",
    "sc1.sort_values()"
   ]
  },
  {
   "cell_type": "code",
   "execution_count": 53,
   "id": "faf59162",
   "metadata": {
    "scrolled": false
   },
   "outputs": [
    {
     "data": {
      "text/plain": [
       "['very bad', 'bad', 'bad', 'good', 'good', 'good', 'very good']\n",
       "Categories (4, object): ['very bad' < 'bad' < 'good' < 'very good']"
      ]
     },
     "execution_count": 53,
     "metadata": {},
     "output_type": "execute_result"
    }
   ],
   "source": [
    "# Với Series dạng Categorical: theo thứ tự được định nghĩa\n",
    "sc2.sort_values()"
   ]
  },
  {
   "cell_type": "code",
   "execution_count": null,
   "id": "9c3adf69",
   "metadata": {},
   "outputs": [],
   "source": []
  }
 ],
 "metadata": {
  "kernelspec": {
   "display_name": "Python 3 (ipykernel)",
   "language": "python",
   "name": "python3"
  },
  "language_info": {
   "codemirror_mode": {
    "name": "ipython",
    "version": 3
   },
   "file_extension": ".py",
   "mimetype": "text/x-python",
   "name": "python",
   "nbconvert_exporter": "python",
   "pygments_lexer": "ipython3",
   "version": "3.9.7"
  }
 },
 "nbformat": 4,
 "nbformat_minor": 5
}
