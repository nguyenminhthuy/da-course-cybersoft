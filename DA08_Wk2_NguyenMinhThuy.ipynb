{
 "cells": [
  {
   "cell_type": "markdown",
   "id": "b9306bcb",
   "metadata": {},
   "source": [
    "# Bài 1"
   ]
  },
  {
   "cell_type": "code",
   "execution_count": 90,
   "id": "e8b65e54",
   "metadata": {},
   "outputs": [],
   "source": [
    "def nhap_DSGiaCoPhieu_TheoNgay():\n",
    "    lst = []\n",
    "    num = int(input(\"Nhập số ngày của giá cổ phiếu: \"))\n",
    "\n",
    "    for i in range(0, num):\n",
    "        ele = float(input(f\"Ngày {i+1}: \"))\n",
    "        lst.append(ele) \n",
    "    \n",
    "    return lst"
   ]
  },
  {
   "cell_type": "code",
   "execution_count": 91,
   "id": "dbb1884d",
   "metadata": {},
   "outputs": [],
   "source": [
    "# Công thức tính phần trăm tăng trưởng là: \n",
    "# % tăng trưởng = (năm cần tính - năm trước)/năm trước*100\n",
    "\n",
    "def tinh_PhanTram_GiaCP(giaHomTruoc, giaHomNay):\n",
    "    return round((giaHomNay-giaHomTruoc)/giaHomTruoc*100,2)"
   ]
  },
  {
   "cell_type": "code",
   "execution_count": 104,
   "id": "fd31b7ab",
   "metadata": {},
   "outputs": [],
   "source": [
    "def kt_GiaCoPhieu(lst):\n",
    "    for i in range(len(lst)-1):\n",
    "\n",
    "        phanTram = tinhPhanTramGiaCP(lst[i],lst[i+1])\n",
    "\n",
    "        if(lst[i+1] < lst[i] and abs(phanTram) >= 5):\n",
    "            print(f\"\\nGiá ngày {i+2}: {lst[i+1]}\")\n",
    "            print(f\"Giá ngày {i+1}: {lst[i]}\")\n",
    "            print(f\"Giá ngày {i+2} giảm {abs(phanTram)}% so với giá ngày {i+1} => Mua\")\n",
    "        \n",
    "        elif(lst[i+1] > lst[i] and abs(phanTram) >= 7):\n",
    "            print(f\"\\nGiá ngày {i+2}: {lst[i+1]}\")\n",
    "            print(f\"Giá ngày {i+1}: {lst[i]}\")\n",
    "            print(f\"Giá ngày {i+2} tăng {abs(phanTram)}% so với giá ngày {i+1} => Bán\")\n",
    "        \n",
    "        else:\n",
    "            print(f\"\\nGiá ngày {i+2}: {lst[i+1]}\")\n",
    "            print(f\"Giá ngày {i+1}: {lst[i]}\")\n",
    "            print(f\"Giá ngày {i+2} không tăng trên 7% hoặc giảm 5% so với giá ngày {i+1} => Giữ nguyên\")"
   ]
  },
  {
   "cell_type": "code",
   "execution_count": 106,
   "id": "4d315708",
   "metadata": {},
   "outputs": [
    {
     "name": "stdout",
     "output_type": "stream",
     "text": [
      "Nhập số ngày của giá cổ phiếu: 3\n",
      "Ngày 1: 3.2\n",
      "Ngày 2: 1.5\n",
      "Ngày 3: 1.5\n",
      "Dữ liệu giá cổ phiếu vừa nhập:  [3.2, 1.5, 1.5]\n",
      "\n",
      "Giá ngày 2: 1.5\n",
      "Giá ngày 1: 3.2\n",
      "Giá ngày 2 giảm 53.12% so với giá ngày 1 => Mua\n",
      "\n",
      "Giá ngày 3: 1.5\n",
      "Giá ngày 2: 1.5\n",
      "Giá ngày 3 không tăng trên 7% hoặc giảm 5% so với giá ngày 2 => Giữ nguyên\n"
     ]
    }
   ],
   "source": [
    "lst_CP = nhap_DSGiaCoPhieu_TheoNgay()\n",
    "print(\"Dữ liệu giá cổ phiếu vừa nhập: \",lst_CP)\n",
    "kt_GiaCoPhieu(lst_CP)"
   ]
  },
  {
   "cell_type": "markdown",
   "id": "6573ce8b",
   "metadata": {},
   "source": [
    "# Bài 2"
   ]
  },
  {
   "cell_type": "code",
   "execution_count": 107,
   "id": "287c2e93",
   "metadata": {},
   "outputs": [],
   "source": [
    "def nhap_DSSo():\n",
    "    lst = []\n",
    "    num = int(input(\"Nhập số phần tử: \"))\n",
    "\n",
    "    for i in range(0, num):\n",
    "        ele = int(input())\n",
    "        lst.append(ele) \n",
    "    \n",
    "    return lst"
   ]
  },
  {
   "cell_type": "code",
   "execution_count": 112,
   "id": "41ea0511",
   "metadata": {},
   "outputs": [],
   "source": [
    "def ktSoNguyenTo(lst):\n",
    "    for num in lst:\n",
    "        if num == 0 or num == 1 :\n",
    "            continue\n",
    "\n",
    "        for i in range(2, num // 2 + 1) :\n",
    "            if num % i == 0:\n",
    "                print(f\"{num} không là số nguyên tố\")\n",
    "                break\n",
    "        else:\n",
    "            print(f\"{num} là số nguyên tố\")"
   ]
  },
  {
   "cell_type": "code",
   "execution_count": 113,
   "id": "c76d97bf",
   "metadata": {},
   "outputs": [
    {
     "name": "stdout",
     "output_type": "stream",
     "text": [
      "Nhập số phần tử: 3\n",
      "5\n",
      "9\n",
      "6\n",
      "Danh sách số vừa nhập:  [5, 9, 6]\n",
      "5 là số nguyên tố\n",
      "9 không là số nguyên tố\n",
      "6 không là số nguyên tố\n"
     ]
    }
   ],
   "source": [
    "lst = nhap_DSSo()\n",
    "print(\"Danh sách số vừa nhập: \", lst)\n",
    "ktSoNguyenTo(lst)"
   ]
  },
  {
   "cell_type": "markdown",
   "id": "34ab9717",
   "metadata": {},
   "source": [
    "# Bài 3"
   ]
  },
  {
   "cell_type": "code",
   "execution_count": 128,
   "id": "41f7aac7",
   "metadata": {},
   "outputs": [],
   "source": [
    "def nhap_TTNV():\n",
    "    \n",
    "    lst_luong = []\n",
    "    lst_phucap=[]\n",
    "\n",
    "    num = int(input(\"Nhập số nhân viên: \"))\n",
    "\n",
    "    for i in range(0, num):\n",
    "        print(f\"\\nNhân viên {i+1}\")\n",
    "        luong = float(input(f\"Lương: \"))\n",
    "        phucap = float(input(f\"Phụ cấp: \"))\n",
    "\n",
    "        lst_luong.append(luong) \n",
    "        lst_phucap.append(phucap) \n",
    "\n",
    "        lst_nv = list(zip(lst_luong, lst_phucap))\n",
    "        \n",
    "    return lst_nv"
   ]
  },
  {
   "cell_type": "code",
   "execution_count": 129,
   "id": "11de1ede",
   "metadata": {},
   "outputs": [
    {
     "name": "stdout",
     "output_type": "stream",
     "text": [
      "Nhập số nhân viên: 2\n",
      "\n",
      "Nhân viên 1\n",
      "Lương: 1\n",
      "Phụ cấp: 1\n",
      "\n",
      "Nhân viên 2\n",
      "Lương: 2\n",
      "Phụ cấp: 2\n",
      "Thông tin nhân viên:  [(1.0, 1.0), (2.0, 2.0)]\n"
     ]
    }
   ],
   "source": [
    "lst_nv = nhap_TTNV()\n",
    "print(\"\\nDanh sách nhân viên: \",lst_nv)"
   ]
  },
  {
   "cell_type": "code",
   "execution_count": 12,
   "id": "feb28818",
   "metadata": {},
   "outputs": [
    {
     "name": "stdout",
     "output_type": "stream",
     "text": [
      "18.3\n",
      "22.5\n",
      "13.2\n",
      "28.65\n",
      "24.0\n"
     ]
    }
   ],
   "source": [
    "# Giả sử có danh sách hệ số lương và phụ cấp của 5 nhân viên, tính lương tháng cho mỗi nhân viên\n",
    "ds_nv = [(5, 7), (6, 9), (4, 4), (8, 10.5), (10, 0)]\n",
    "LCB = 2.4\n",
    "for i, nv in enumerate(ds_nv):\n",
    "    #print(nv[0], nv[1])\n",
    "    he_so = nv[0]\n",
    "    phu_cap = nv[1]\n",
    "    luong1 = LCB*he_so\n",
    "    luong2 = phu_cap*0.9\n",
    "    luong = luong1 + luong2\n",
    "    print(luong)"
   ]
  },
  {
   "cell_type": "code",
   "execution_count": 13,
   "id": "3b012ed5",
   "metadata": {},
   "outputs": [],
   "source": [
    "# Viết hàm tính lương\n",
    "def Tinh_Luong(he_so, phu_cap):\n",
    "    luong1 = LCB*he_so\n",
    "    luong2 = phu_cap*0.9\n",
    "    luong = luong1 + luong2\n",
    "    return luong"
   ]
  },
  {
   "cell_type": "code",
   "execution_count": 14,
   "id": "bff11001",
   "metadata": {},
   "outputs": [
    {
     "name": "stdout",
     "output_type": "stream",
     "text": [
      "Nhân viên 1 - Lương:  18.3\n",
      "Nhân viên 2 - Lương:  22.5\n",
      "Nhân viên 3 - Lương:  13.2\n",
      "Nhân viên 4 - Lương:  28.65\n",
      "Nhân viên 5 - Lương:  24.0\n"
     ]
    }
   ],
   "source": [
    "for i, nv in enumerate(ds_nv):\n",
    "    he_so, phu_cap = nv\n",
    "    luong = Tinh_Luong(he_so, phu_cap)\n",
    "    print(\"Nhân viên\", i+1, \"- Lương: \", luong)"
   ]
  }
 ],
 "metadata": {
  "kernelspec": {
   "display_name": "Python 3 (ipykernel)",
   "language": "python",
   "name": "python3"
  },
  "language_info": {
   "codemirror_mode": {
    "name": "ipython",
    "version": 3
   },
   "file_extension": ".py",
   "mimetype": "text/x-python",
   "name": "python",
   "nbconvert_exporter": "python",
   "pygments_lexer": "ipython3",
   "version": "3.10.9"
  }
 },
 "nbformat": 4,
 "nbformat_minor": 5
}
