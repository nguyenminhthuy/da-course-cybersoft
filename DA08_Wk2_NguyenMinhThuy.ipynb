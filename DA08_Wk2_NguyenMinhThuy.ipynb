{
 "cells": [
  {
   "cell_type": "code",
   "execution_count": 14,
   "id": "287c2e93",
   "metadata": {},
   "outputs": [],
   "source": [
    "def nhapDS():\n",
    "    lst = []\n",
    "    num = int(input(\"Nhap so phan tu: \"))\n",
    "\n",
    "    for i in range(0, num):\n",
    "        ele = int(input())\n",
    "        lst.append(ele) \n",
    "    \n",
    "    return lst"
   ]
  },
  {
   "cell_type": "code",
   "execution_count": 16,
   "id": "41ea0511",
   "metadata": {},
   "outputs": [],
   "source": [
    "def ktSoNguyenTo(lst):\n",
    "    for num in lst:\n",
    "        if num == 0 or num == 1 :\n",
    "            continue\n",
    "\n",
    "        for i in range(2, num // 2 + 1) :\n",
    "            if num % i == 0:\n",
    "                print(f\"{num} khong la so nguyen to\")\n",
    "                break\n",
    "        else:\n",
    "            print(f\"{num} la so nguyen to\")"
   ]
  },
  {
   "cell_type": "markdown",
   "id": "6573ce8b",
   "metadata": {},
   "source": [
    "# Bai 2"
   ]
  },
  {
   "cell_type": "code",
   "execution_count": null,
   "id": "c76d97bf",
   "metadata": {},
   "outputs": [],
   "source": [
    "lst = nhapDS()\n",
    "lst"
   ]
  },
  {
   "cell_type": "code",
   "execution_count": null,
   "id": "ae107a3b",
   "metadata": {},
   "outputs": [],
   "source": [
    "ktSoNguyenTo(lst)"
   ]
  },
  {
   "cell_type": "markdown",
   "id": "34ab9717",
   "metadata": {},
   "source": [
    "# Bai 3"
   ]
  },
  {
   "cell_type": "code",
   "execution_count": 12,
   "id": "feb28818",
   "metadata": {},
   "outputs": [
    {
     "name": "stdout",
     "output_type": "stream",
     "text": [
      "18.3\n",
      "22.5\n",
      "13.2\n",
      "28.65\n",
      "24.0\n"
     ]
    }
   ],
   "source": [
    "# Giả sử có danh sách hệ số lương và phụ cấp của 5 nhân viên, tính lương tháng cho mỗi nhân viên\n",
    "ds_nv = [(5, 7), (6, 9), (4, 4), (8, 10.5), (10, 0)]\n",
    "LCB = 2.4\n",
    "for i, nv in enumerate(ds_nv):\n",
    "    #print(nv[0], nv[1])\n",
    "    he_so = nv[0]\n",
    "    phu_cap = nv[1]\n",
    "    luong1 = LCB*he_so\n",
    "    luong2 = phu_cap*0.9\n",
    "    luong = luong1 + luong2\n",
    "    print(luong)"
   ]
  },
  {
   "cell_type": "code",
   "execution_count": 13,
   "id": "3b012ed5",
   "metadata": {},
   "outputs": [],
   "source": [
    "# Viết hàm tính lương\n",
    "def Tinh_Luong(he_so, phu_cap):\n",
    "    luong1 = LCB*he_so\n",
    "    luong2 = phu_cap*0.9\n",
    "    luong = luong1 + luong2\n",
    "    return luong"
   ]
  },
  {
   "cell_type": "code",
   "execution_count": 14,
   "id": "bff11001",
   "metadata": {},
   "outputs": [
    {
     "name": "stdout",
     "output_type": "stream",
     "text": [
      "Nhân viên 1 - Lương:  18.3\n",
      "Nhân viên 2 - Lương:  22.5\n",
      "Nhân viên 3 - Lương:  13.2\n",
      "Nhân viên 4 - Lương:  28.65\n",
      "Nhân viên 5 - Lương:  24.0\n"
     ]
    }
   ],
   "source": [
    "for i, nv in enumerate(ds_nv):\n",
    "    he_so, phu_cap = nv\n",
    "    luong = Tinh_Luong(he_so, phu_cap)\n",
    "    print(\"Nhân viên\", i+1, \"- Lương: \", luong)"
   ]
  },
  {
   "cell_type": "code",
   "execution_count": 16,
   "id": "a7915046",
   "metadata": {},
   "outputs": [
    {
     "data": {
      "text/plain": [
       "tuple"
      ]
     },
     "execution_count": 16,
     "metadata": {},
     "output_type": "execute_result"
    }
   ],
   "source": [
    "v = ([1, 2, 3], [3, 2, 1])\n",
    "type(v)"
   ]
  },
  {
   "cell_type": "code",
   "execution_count": 17,
   "id": "46be9ce7",
   "metadata": {},
   "outputs": [
    {
     "name": "stdout",
     "output_type": "stream",
     "text": [
      "Enter space-separated integers: 1 2 3\n",
      "(1, 2, 3)\n"
     ]
    }
   ],
   "source": [
    "user_input = input('Enter space-separated integers: ')\n",
    "\n",
    "my_tuple = tuple(int(item) for item in user_input.split())\n",
    "\n",
    "print(my_tuple)"
   ]
  },
  {
   "cell_type": "code",
   "execution_count": null,
   "id": "276be088",
   "metadata": {},
   "outputs": [],
   "source": []
  }
 ],
 "metadata": {
  "kernelspec": {
   "display_name": "Python 3 (ipykernel)",
   "language": "python",
   "name": "python3"
  },
  "language_info": {
   "codemirror_mode": {
    "name": "ipython",
    "version": 3
   },
   "file_extension": ".py",
   "mimetype": "text/x-python",
   "name": "python",
   "nbconvert_exporter": "python",
   "pygments_lexer": "ipython3",
   "version": "3.10.9"
  }
 },
 "nbformat": 4,
 "nbformat_minor": 5
}
