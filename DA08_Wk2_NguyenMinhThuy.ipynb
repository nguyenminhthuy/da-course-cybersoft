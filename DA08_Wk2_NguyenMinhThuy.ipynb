{
 "cells": [
  {
   "cell_type": "markdown",
   "id": "b9306bcb",
   "metadata": {},
   "source": [
    "# Bài 1"
   ]
  },
  {
   "cell_type": "code",
   "execution_count": null,
   "id": "e8b65e54",
   "metadata": {},
   "outputs": [],
   "source": [
    "def nhap_DSGiaCoPhieu_TheoNgay():\n",
    "    lst = []\n",
    "    num = int(input(\"Nhập số ngày của giá cổ phiếu: \"))\n",
    "\n",
    "    for i in range(0, num):\n",
    "        ele = float(input(f\"Ngày {i+1}: \"))\n",
    "        lst.append(ele) \n",
    "    \n",
    "    return lst"
   ]
  },
  {
   "cell_type": "code",
   "execution_count": null,
   "id": "dbb1884d",
   "metadata": {},
   "outputs": [],
   "source": [
    "# Công thức tính phần trăm tăng trưởng là: \n",
    "# % tăng trưởng = (năm cần tính - năm trước)/năm trước*100\n",
    "\n",
    "def tinh_PhanTram_GiaCP(giaHomTruoc, giaHomNay):\n",
    "    return round((giaHomNay-giaHomTruoc)/giaHomTruoc*100,2)"
   ]
  },
  {
   "cell_type": "code",
   "execution_count": null,
   "id": "fd31b7ab",
   "metadata": {},
   "outputs": [],
   "source": [
    "def kt_GiaCoPhieu(lst):\n",
    "    for i in range(len(lst)-1):\n",
    "\n",
    "        phanTram = tinhPhanTramGiaCP(lst[i],lst[i+1])\n",
    "\n",
    "        if(lst[i+1] < lst[i] and abs(phanTram) >= 5):\n",
    "            print(f\"\\nGiá ngày {i+2}: {lst[i+1]}\")\n",
    "            print(f\"Giá ngày {i+1}: {lst[i]}\")\n",
    "            print(f\"Giá ngày {i+2} giảm {abs(phanTram)}% so với giá ngày {i+1} => Mua\")\n",
    "        \n",
    "        elif(lst[i+1] > lst[i] and abs(phanTram) >= 7):\n",
    "            print(f\"\\nGiá ngày {i+2}: {lst[i+1]}\")\n",
    "            print(f\"Giá ngày {i+1}: {lst[i]}\")\n",
    "            print(f\"Giá ngày {i+2} tăng {abs(phanTram)}% so với giá ngày {i+1} => Bán\")\n",
    "        \n",
    "        else:\n",
    "            print(f\"\\nGiá ngày {i+2}: {lst[i+1]}\")\n",
    "            print(f\"Giá ngày {i+1}: {lst[i]}\")\n",
    "            print(f\"Giá ngày {i+2} không tăng trên 7% hoặc giảm trên 5% so với giá ngày {i+1} => Giữ nguyên\")"
   ]
  },
  {
   "cell_type": "code",
   "execution_count": null,
   "id": "4d315708",
   "metadata": {},
   "outputs": [],
   "source": [
    "lst_CP = nhap_DSGiaCoPhieu_TheoNgay()\n",
    "print(\"Dữ liệu giá cổ phiếu vừa nhập: \",lst_CP)\n",
    "\n",
    "kt_GiaCoPhieu(lst_CP)"
   ]
  },
  {
   "cell_type": "markdown",
   "id": "6573ce8b",
   "metadata": {},
   "source": [
    "# Bài 2"
   ]
  },
  {
   "cell_type": "code",
   "execution_count": null,
   "id": "287c2e93",
   "metadata": {},
   "outputs": [],
   "source": [
    "def nhap_DSSo():\n",
    "    lst = []\n",
    "    num = int(input(\"Nhập số phần tử: \"))\n",
    "\n",
    "    for i in range(0, num):\n",
    "        ele = int(input())\n",
    "        lst.append(ele) \n",
    "    \n",
    "    return lst"
   ]
  },
  {
   "cell_type": "code",
   "execution_count": null,
   "id": "03f29bff",
   "metadata": {},
   "outputs": [],
   "source": [
    "def kt_SoNguyenTo(n):\n",
    "    \n",
    "    flag = True\n",
    "\n",
    "    if n < 2:\n",
    "        flag = False\n",
    "    elif n == 2:\n",
    "        flag = True\n",
    "    elif (n % 2) == 0:\n",
    "        flag = False\n",
    "    else:\n",
    "        for i in range(3, n, 2):\n",
    "            if (n % i) == 0:\n",
    "                flag = False\n",
    "\n",
    "    return flag"
   ]
  },
  {
   "cell_type": "code",
   "execution_count": null,
   "id": "41ea0511",
   "metadata": {},
   "outputs": [],
   "source": [
    "def kq_SoNguyenTo(lst):\n",
    "    for i in range(len(lst)):\n",
    "        \n",
    "        kq_SoNguyenTo = kt_SoNguyenTo(lst[i])\n",
    "        \n",
    "        if kq_SoNguyenTo is True:\n",
    "            print(lst[i], \"là số nguyên tố!\")\n",
    "        else:\n",
    "            print(lst[i], \"không là số nguyên tố!\")"
   ]
  },
  {
   "cell_type": "code",
   "execution_count": null,
   "id": "c76d97bf",
   "metadata": {
    "scrolled": true
   },
   "outputs": [],
   "source": [
    "lst = nhap_DSSo()\n",
    "print(\"Danh sách số vừa nhập: \", lst)\n",
    "\n",
    "print(\"\\nKết quả:\")\n",
    "kq_SoNguyenTo(lst)"
   ]
  },
  {
   "cell_type": "markdown",
   "id": "34ab9717",
   "metadata": {},
   "source": [
    "# Bài 3"
   ]
  },
  {
   "cell_type": "code",
   "execution_count": null,
   "id": "41f7aac7",
   "metadata": {},
   "outputs": [],
   "source": [
    "def nhap_TTNV():\n",
    "    \n",
    "    lst_luong = []\n",
    "    lst_phucap=[]\n",
    "\n",
    "    num = int(input(\"Nhập số lượng nhân viên: \"))\n",
    "\n",
    "    for i in range(0, num):\n",
    "        print(f\"\\nNhân viên {i+1}\")\n",
    "        \n",
    "        luong = float(input(f\"Lương: \"))\n",
    "        phucap = float(input(f\"Phụ cấp: \"))\n",
    "\n",
    "        lst_luong.append(luong) \n",
    "        lst_phucap.append(phucap) \n",
    "\n",
    "        lst_nv = list(zip(lst_luong, lst_phucap))\n",
    "        \n",
    "    return lst_nv"
   ]
  },
  {
   "cell_type": "code",
   "execution_count": null,
   "id": "3b012ed5",
   "metadata": {},
   "outputs": [],
   "source": [
    "#BHXH = 8% luong\n",
    "\n",
    "def tinh_BHXH(luong, phu_cap):\n",
    "    tongLuong = luong + phu_cap\n",
    "    return round(tongLuong * 0.08,2)"
   ]
  },
  {
   "cell_type": "code",
   "execution_count": null,
   "id": "7949ee34",
   "metadata": {},
   "outputs": [],
   "source": [
    "# <= 5: 5%\n",
    "# <=10: 10%\n",
    "# <=18: 15%\n",
    "# >18: 20%\n",
    "\n",
    "def tinh_ThueTNCN(luong, phu_cap):    \n",
    "    tongLuong = luong + phu_cap\n",
    "    \n",
    "    if tongLuong <= 5:\n",
    "        thueTNCN = round(tongLuong * 0.05,2)\n",
    "    elif tongLuong <= 10:\n",
    "        thueTNCN = round(tongLuong * 0.1,2)\n",
    "    elif tongLuong <= 18:\n",
    "        thueTNCN = round(tongLuong * 0.15,2)\n",
    "    else:\n",
    "        thueTNCN = round(tongLuong * 0.2,2)\n",
    "        \n",
    "    return thueTNCN"
   ]
  },
  {
   "cell_type": "code",
   "execution_count": null,
   "id": "bff11001",
   "metadata": {},
   "outputs": [],
   "source": [
    "def xuat_TTNV(lst_nv):\n",
    "    for i, nv in enumerate(lst_nv):\n",
    "        luong, phu_cap = nv\n",
    "\n",
    "        bhxh = tinh_BHXH(luong, phu_cap)\n",
    "        thueTNCN = tinh_ThueTNCN(luong, phu_cap)\n",
    "\n",
    "        print(\"Nhân viên\", i+1, \"- BHXH: \", bhxh, \"- Thuế TNCN: \", thueTNCN)"
   ]
  },
  {
   "cell_type": "code",
   "execution_count": null,
   "id": "11de1ede",
   "metadata": {},
   "outputs": [],
   "source": [
    "lst_nv = nhap_TTNV()\n",
    "print(\"\\nThông tin lương và phụ cấp của từng nhân viên: \",lst_nv)\n",
    "\n",
    "print(\"\\nThông tin BHXH và thuế TNCN:\")\n",
    "xuat_TTNV(lst_nv)"
   ]
  }
 ],
 "metadata": {
  "kernelspec": {
   "display_name": "Python 3 (ipykernel)",
   "language": "python",
   "name": "python3"
  },
  "language_info": {
   "codemirror_mode": {
    "name": "ipython",
    "version": 3
   },
   "file_extension": ".py",
   "mimetype": "text/x-python",
   "name": "python",
   "nbconvert_exporter": "python",
   "pygments_lexer": "ipython3",
   "version": "3.10.9"
  }
 },
 "nbformat": 4,
 "nbformat_minor": 5
}
