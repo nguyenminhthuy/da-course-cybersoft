{
 "cells": [
  {
   "cell_type": "markdown",
   "id": "85856c76",
   "metadata": {},
   "source": [
    "**Tăng font-size**"
   ]
  },
  {
   "cell_type": "code",
   "execution_count": 3,
   "id": "12c6bef1",
   "metadata": {},
   "outputs": [
    {
     "data": {
      "text/html": [
       "<style type='text/css'>\n",
       ".CodeMirror{\n",
       "    font-size: 18px;\n",
       "}\n",
       "\n",
       "div.output_area pre {\n",
       "    font-size: 16px;\n",
       "}\n",
       "</style>\n"
      ],
      "text/plain": [
       "<IPython.core.display.HTML object>"
      ]
     },
     "metadata": {},
     "output_type": "display_data"
    }
   ],
   "source": [
    "%%html\n",
    "<style type='text/css'>\n",
    ".CodeMirror{\n",
    "    font-size: 18px;\n",
    "}\n",
    "\n",
    "div.output_area pre {\n",
    "    font-size: 16px;\n",
    "}\n",
    "</style>"
   ]
  },
  {
   "cell_type": "markdown",
   "id": "e700530b",
   "metadata": {},
   "source": [
    "**Mở nhanh Notebook đến Thư Mục mong muốn bằng Anaconda Prompt**\n",
    "\n",
    "`jupyter notebook --notebook-dir=\"D:/Your/Start/Directory/\"`"
   ]
  },
  {
   "cell_type": "code",
   "execution_count": null,
   "id": "9329283a",
   "metadata": {},
   "outputs": [],
   "source": []
  },
  {
   "cell_type": "markdown",
   "id": "046111dd",
   "metadata": {},
   "source": [
    "# 1. Câu điều kiện: if/else/elif"
   ]
  },
  {
   "cell_type": "markdown",
   "id": "41283ae0",
   "metadata": {},
   "source": [
    "### 1.1. Lệnh if-else cơ bản"
   ]
  },
  {
   "cell_type": "code",
   "execution_count": 1,
   "id": "aa5ffc95",
   "metadata": {},
   "outputs": [
    {
     "name": "stdout",
     "output_type": "stream",
     "text": [
      "Không Thỏa\n"
     ]
    }
   ],
   "source": [
    "if 2 > 3:\n",
    "    print(\"Thỏa Điều Kiện\")\n",
    "else:\n",
    "    print(\"Không Thỏa\")"
   ]
  },
  {
   "cell_type": "code",
   "execution_count": 9,
   "id": "8b809f68",
   "metadata": {},
   "outputs": [
    {
     "name": "stdout",
     "output_type": "stream",
     "text": [
      "Giá trị nhỏ hơn 2\n"
     ]
    }
   ],
   "source": [
    "a = 2\n",
    "if a > 2:\n",
    "    print(\"Giá trị lớn hơn 2\")\n",
    "else:\n",
    "    print(\"Giá trị nhỏ hơn 2\")"
   ]
  },
  {
   "cell_type": "markdown",
   "id": "cf849215",
   "metadata": {},
   "source": [
    "**Câu điều kiện trong câu điều kiện**"
   ]
  },
  {
   "cell_type": "code",
   "execution_count": 15,
   "id": "87e2311d",
   "metadata": {},
   "outputs": [
    {
     "name": "stdout",
     "output_type": "stream",
     "text": [
      "Giá trị nhỏ hơn 2\n"
     ]
    }
   ],
   "source": [
    "a = -5\n",
    "if a < 2:\n",
    "    print(\"Giá trị nhỏ hơn 2\")\n",
    "else:\n",
    "    if a > 5:\n",
    "        print(\"Giá trị lớn hơn 5\")\n",
    "    else:\n",
    "        print(\"Giá trị nhỏ hơn hoặc bằng 5\")"
   ]
  },
  {
   "cell_type": "markdown",
   "id": "d1cd99a3",
   "metadata": {},
   "source": [
    "### 1.2. Sử dụng elif"
   ]
  },
  {
   "cell_type": "code",
   "execution_count": 16,
   "id": "66d177d8",
   "metadata": {},
   "outputs": [
    {
     "name": "stdout",
     "output_type": "stream",
     "text": [
      "Giá trị lớn hơn 5\n"
     ]
    }
   ],
   "source": [
    "# Thay thế bằng elif\n",
    "a = 9\n",
    "if a < 2:\n",
    "    print(\"Giá trị nhỏ hơn 2\")\n",
    "elif a > 5:\n",
    "    print(\"Giá trị lớn hơn 5\")\n",
    "else: \n",
    "    print(\"Giá trị nhỏ hơn hoặc bằng 5\")\n",
    "    "
   ]
  },
  {
   "cell_type": "code",
   "execution_count": 1,
   "id": "4c65c667",
   "metadata": {},
   "outputs": [
    {
     "name": "stdout",
     "output_type": "stream",
     "text": [
      "Không phải trường hợp nào\n"
     ]
    }
   ],
   "source": [
    "a = 7\n",
    "if a%2 ==0:\n",
    "    print(\"Số chẵn\")\n",
    "elif a%5 ==0:\n",
    "    print(\"Chia hết cho 5\")\n",
    "else:\n",
    "    print(\"Không phải trường hợp nào\")"
   ]
  },
  {
   "cell_type": "code",
   "execution_count": 37,
   "id": "3a5848a2",
   "metadata": {},
   "outputs": [
    {
     "name": "stdout",
     "output_type": "stream",
     "text": [
      "Sai\n"
     ]
    }
   ],
   "source": [
    "# Dùng elif cho nhiều trường hợp khác nhau\n",
    "t=8\n",
    "if   t == 2: print(\"Thu Hai\")\n",
    "elif t == 3: print(\"Thu Ba\")\n",
    "elif t == 4: print(\"Thu Tu\")\n",
    "elif t == 5: print(\"Thu Nam\")\n",
    "elif t == 6: print(\"Thu Sau\")\n",
    "elif t == 7: print(\"Thu Bay\")\n",
    "elif t == 1: print(\"Chu Nhat\")\n",
    "else:\n",
    "    print(\"Sai\")"
   ]
  },
  {
   "cell_type": "markdown",
   "id": "c65542e8",
   "metadata": {},
   "source": [
    "### 1.3. Kết hợp các điều kiện"
   ]
  },
  {
   "cell_type": "markdown",
   "id": "3d17512b",
   "metadata": {},
   "source": [
    "**Dùng `and` hoặc `or` để kết hợp**"
   ]
  },
  {
   "cell_type": "code",
   "execution_count": 28,
   "id": "bd7b8917",
   "metadata": {},
   "outputs": [
    {
     "name": "stdout",
     "output_type": "stream",
     "text": [
      "Điều kiện thỏa\n"
     ]
    }
   ],
   "source": [
    "**Dùng `and` hoặc `or` để kết hợp**a1 = 8 # Cần nằm giữa 3 và 8\n",
    "if a1 >= 3 and a1 <= 8:\n",
    "    print(\"Điều kiện thỏa\")\n",
    "else:\n",
    "    print(\"Không Thỏa\")"
   ]
  },
  {
   "cell_type": "code",
   "execution_count": 33,
   "id": "1231b968",
   "metadata": {},
   "outputs": [
    {
     "name": "stdout",
     "output_type": "stream",
     "text": [
      "Điều kiện KHÔNG thỏa\n"
     ]
    }
   ],
   "source": [
    "a2 = 2 # Cần nhỏ hơn -3 hoặc lớn hơn 3\n",
    "if a2 <-3 or a2 > 3:\n",
    "    print(\"Điều kiện thỏa\")\n",
    "else: \n",
    "    print(\"Điều kiện KHÔNG thỏa\")"
   ]
  },
  {
   "cell_type": "markdown",
   "id": "04bfaff2",
   "metadata": {},
   "source": [
    "**Dùng cách viết gộp**"
   ]
  },
  {
   "cell_type": "code",
   "execution_count": 30,
   "id": "482400ed",
   "metadata": {},
   "outputs": [
    {
     "name": "stdout",
     "output_type": "stream",
     "text": [
      "Không Thỏa\n"
     ]
    }
   ],
   "source": [
    "a1 = 1 # Cần nằm giữa 3 và 8\n",
    "if 3<= a1 <= 8:\n",
    "    print(\"Điều kiện thỏa\")\n",
    "else:\n",
    "    print(\"Không Thỏa\")"
   ]
  },
  {
   "cell_type": "markdown",
   "id": "88589d37",
   "metadata": {},
   "source": [
    "**Kiểm tra với `not`**"
   ]
  },
  {
   "cell_type": "code",
   "execution_count": 7,
   "id": "f681cc16",
   "metadata": {},
   "outputs": [
    {
     "name": "stdout",
     "output_type": "stream",
     "text": [
      "Nam không phải là Quang\n"
     ]
    }
   ],
   "source": [
    "ten = \"Nam\"\n",
    "if ten is not \"Nam\":\n",
    "    print(ten, \"không phải là Quang\")"
   ]
  },
  {
   "cell_type": "code",
   "execution_count": 1,
   "id": "a83083ef",
   "metadata": {},
   "outputs": [
    {
     "name": "stdout",
     "output_type": "stream",
     "text": [
      "Biến không có giá trị\n"
     ]
    }
   ],
   "source": [
    "# Trường hợp biến có giá trị None\n",
    "bien_x = None\n",
    "if bien_x is None:\n",
    "    print(\"Biến không có giá trị\")\n",
    "# else:"
   ]
  },
  {
   "cell_type": "code",
   "execution_count": 2,
   "id": "67565da0",
   "metadata": {
    "scrolled": true
   },
   "outputs": [
    {
     "name": "stdout",
     "output_type": "stream",
     "text": [
      "Biến có giá trị\n"
     ]
    }
   ],
   "source": [
    "bien_y = 1\n",
    "if bien_y is not None:\n",
    "    print(\"Biến có giá trị\")\n",
    "# else:"
   ]
  },
  {
   "cell_type": "markdown",
   "id": "e57ed5b1",
   "metadata": {},
   "source": [
    "### 1.4. Câu điều kiện trong hàm có return"
   ]
  },
  {
   "cell_type": "code",
   "execution_count": 51,
   "id": "87fd8700",
   "metadata": {},
   "outputs": [],
   "source": [
    "# Giả sử có các mức khuyến mãi theo độ tuổi khách hàng như sau:\n",
    "# - Dưới 10 tuổi: 15%\n",
    "# - Từ 10 - dưới 15 tuổi: 10%\n",
    "# - Từ 15 - dưới 18 tuổi: 5%\n",
    "# - Từ 18 tuổi trở lên: 0%\n",
    "\n",
    "def Tinh_Muc_KM1(tuoi=10):\n",
    "    km = 0\n",
    "    \n",
    "    if tuoi < 10: km = 15\n",
    "    \n",
    "    elif tuoi < 15: \n",
    "        km = 10\n",
    "        print(\"Đã gán, dòng 13:\", km)\n",
    "    \n",
    "    elif tuoi < 18: \n",
    "        km = 5\n",
    "        print(\"Đã gán, dòng 17:\", km)\n",
    "    \n",
    "    return km"
   ]
  },
  {
   "cell_type": "code",
   "execution_count": 52,
   "id": "ed773f86",
   "metadata": {},
   "outputs": [
    {
     "data": {
      "text/plain": [
       "0"
      ]
     },
     "execution_count": 52,
     "metadata": {},
     "output_type": "execute_result"
    }
   ],
   "source": [
    "# Gọi hàm\n",
    "Tinh_Muc_KM1(23)"
   ]
  },
  {
   "cell_type": "markdown",
   "id": "7aaa7437",
   "metadata": {},
   "source": [
    "# 2. Vòng lặp: for/while"
   ]
  },
  {
   "cell_type": "markdown",
   "id": "ee11f10d",
   "metadata": {},
   "source": [
    "### 2.1. Vòng lặp `for` cơ bản"
   ]
  },
  {
   "cell_type": "code",
   "execution_count": 55,
   "id": "e6c8babb",
   "metadata": {
    "scrolled": true
   },
   "outputs": [
    {
     "name": "stdout",
     "output_type": "stream",
     "text": [
      "1 1 1 1 1\n",
      "3 9 27 81 243\n",
      "8 64 512 4096 32768\n",
      "2 4 8 16 32\n",
      "6 36 216 1296 7776\n",
      "9 81 729 6561 59049\n",
      "7 49 343 2401 16807\n"
     ]
    }
   ],
   "source": [
    "# Ví dụ: Tạo một danh sách các giá trị và thực hiện nhiều tính toán\n",
    "danh_sach = [1, 3, 8, 2, 6, 9, 7]\n",
    "for phan_tu in danh_sach:\n",
    "    \n",
    "    bp = phan_tu*phan_tu\n",
    "    lp = phan_tu**3\n",
    "    lt4 = phan_tu**4\n",
    "    lt5 = phan_tu**5\n",
    "    \n",
    "    print(phan_tu, bp, lp, lt4, lt5)"
   ]
  },
  {
   "cell_type": "code",
   "execution_count": 59,
   "id": "00d474b7",
   "metadata": {},
   "outputs": [
    {
     "data": {
      "text/plain": [
       "9"
      ]
     },
     "execution_count": 59,
     "metadata": {},
     "output_type": "execute_result"
    }
   ],
   "source": [
    "danh_sach[5]"
   ]
  },
  {
   "cell_type": "code",
   "execution_count": 60,
   "id": "dbce2544",
   "metadata": {},
   "outputs": [
    {
     "name": "stdout",
     "output_type": "stream",
     "text": [
      "1\n",
      "3\n",
      "8\n",
      "2\n",
      "6\n",
      "9\n",
      "7\n"
     ]
    }
   ],
   "source": [
    "# In ra chỉ số và giá trị đi kèm: dùng range\n",
    "danh_sach_hv = [\"Đức\", \"Phương\", \"Thành\", \"Kiên\", \n",
    "             \"Thịnh\", \"Đức\", \"Lâm\", \"Huy\"]\n",
    "for i in range(len(danh_sach_hv)):\n",
    "    print(i, danh_sach_hv[i])"
   ]
  },
  {
   "cell_type": "markdown",
   "id": "cd483908",
   "metadata": {},
   "source": [
    "**Hàm `range(start, stop, step)`**"
   ]
  },
  {
   "cell_type": "code",
   "execution_count": 62,
   "id": "6f303f7e",
   "metadata": {},
   "outputs": [
    {
     "data": {
      "text/plain": [
       "[0, 1, 2, 3, 4, 5, 6, 7, 8, 9]"
      ]
     },
     "execution_count": 62,
     "metadata": {},
     "output_type": "execute_result"
    }
   ],
   "source": [
    "# range(10)\n",
    "list(range(10))"
   ]
  },
  {
   "cell_type": "code",
   "execution_count": 64,
   "id": "62a01940",
   "metadata": {},
   "outputs": [
    {
     "data": {
      "text/plain": [
       "[0, 2, 4, 6, 8]"
      ]
     },
     "execution_count": 64,
     "metadata": {},
     "output_type": "execute_result"
    }
   ],
   "source": [
    "# range(start, stop, step)\n",
    "list(range(0,10,2))"
   ]
  },
  {
   "cell_type": "markdown",
   "id": "ef5a6bfc",
   "metadata": {},
   "source": [
    "### 2.2. Vòng lặp while cơ bản"
   ]
  },
  {
   "cell_type": "markdown",
   "id": "07dc66b7",
   "metadata": {},
   "source": [
    "**Ví dụ 1: Bắt đầu với một biến đếm điều kiện**"
   ]
  },
  {
   "cell_type": "code",
   "execution_count": 76,
   "id": "33595ad3",
   "metadata": {
    "scrolled": true
   },
   "outputs": [
    {
     "name": "stdout",
     "output_type": "stream",
     "text": [
      "1 2\n",
      "2 4\n",
      "3 6\n",
      "4 8\n",
      "5 10\n",
      "6 12\n",
      "7 14\n",
      "8 16\n",
      "9 18\n"
     ]
    }
   ],
   "source": [
    "i = 1\n",
    "\n",
    "while i < 10:\n",
    "    print(i, i*2)\n",
    "    \n",
    "    i = i + 1"
   ]
  },
  {
   "cell_type": "markdown",
   "id": "e2d1a297",
   "metadata": {},
   "source": [
    "**Ví dụ 2: Duyệt danh sách có sẵn**"
   ]
  },
  {
   "cell_type": "code",
   "execution_count": 82,
   "id": "cfb58289",
   "metadata": {},
   "outputs": [
    {
     "name": "stdout",
     "output_type": "stream",
     "text": [
      "Đức\n",
      "Không phải Nam\n",
      "Phương\n",
      "Không phải Nam\n",
      "Thành\n",
      "Không phải Nam\n",
      "Kiên\n",
      "Không phải Nam\n",
      "Thịnh\n",
      "Không phải Nam\n",
      "Đức\n",
      "Không phải Nam\n",
      "Lâm\n",
      "Không phải Nam\n",
      "Huy\n",
      "Không phải Nam\n"
     ]
    }
   ],
   "source": [
    "ok = True\n",
    "i = 0\n",
    "danh_sach = [\"Đức\", \"Phương\", \"Thành\", \"Kiên\", \n",
    "             \"Thịnh\", \"Đức\", \"Lâm\", \"Huy\"]\n",
    "while ok:\n",
    "    print(danh_sach[i])\n",
    "    if \"Nam\" != danh_sach[i]:\n",
    "        print(\"Không phải Nam\")\n",
    "    else: \n",
    "        ok = False\n",
    "    \n",
    "    i = i+1\n",
    "    if i == len(danh_sach): ok = False"
   ]
  },
  {
   "cell_type": "markdown",
   "id": "bc906578",
   "metadata": {},
   "source": [
    "### 2.3. Câu điều kiện trong vòng lặp"
   ]
  },
  {
   "cell_type": "code",
   "execution_count": 8,
   "id": "ee601364",
   "metadata": {},
   "outputs": [
    {
     "name": "stdout",
     "output_type": "stream",
     "text": [
      "Đây là số lẻ: 1\n",
      "Đây là số lẻ: 3\n",
      "Đây là số chẵn: 8\n",
      "Đây là số chẵn: 2\n",
      "Đây là số chẵn: 6\n",
      "Đây là số lẻ: 9\n",
      "Đây là số lẻ: 7\n"
     ]
    }
   ],
   "source": [
    "# Tìm số chẵn, số lẻ trong danh sách\n",
    "danh_sach = [1, 3, 8, 2, 6, 9, 7]\n",
    "for item in danh_sach:\n",
    "    if item%2 == 0:\n",
    "        print(\"Đây là số chẵn:\", item)\n",
    "    else:\n",
    "        print(\"Đây là số lẻ:\", item)"
   ]
  },
  {
   "cell_type": "code",
   "execution_count": 9,
   "id": "76ab6ccc",
   "metadata": {},
   "outputs": [
    {
     "name": "stdout",
     "output_type": "stream",
     "text": [
      "Vị trí giảm: 2 giảm\n",
      "Vị trí giảm: 5 giảm\n"
     ]
    }
   ],
   "source": [
    "# Tìm vị trí mà giá trị tiếp theo giảm\n",
    "danh_sach = [1, 3, 8, 2, 6, 9, 7]\n",
    "for i in range(len(danh_sach)-1):\n",
    "    hieu_so = danh_sach[i+1] - danh_sach[i]\n",
    "    if hieu_so < 0:\n",
    "        print(\"Vị trí giảm:\", i, 'giảm')"
   ]
  },
  {
   "cell_type": "markdown",
   "id": "2af7b12e",
   "metadata": {},
   "source": [
    "### 2.4. Vòng lặp lồng nhau"
   ]
  },
  {
   "cell_type": "code",
   "execution_count": null,
   "id": "536d9341",
   "metadata": {},
   "outputs": [],
   "source": [
    "# Ví dụ: Với mỗi phần tử k trong danh sách, tính tổng 1 + 2 + ... + k\n",
    "danh_sach = [1, 3, 8, 2, 6, 9, 7]\n",
    "\n",
    "for item in danh_sach:\n",
    "    tong = 0\n",
    "    for i in range(item + 1):\n",
    "        tong += i\n",
    "    print(item, tong)"
   ]
  },
  {
   "cell_type": "markdown",
   "id": "11373c83",
   "metadata": {},
   "source": [
    "### 2.5. Hàm trong vòng lặp\n",
    "(Gọi hàm trong vòng lặp)"
   ]
  },
  {
   "cell_type": "code",
   "execution_count": 10,
   "id": "6163505e",
   "metadata": {},
   "outputs": [],
   "source": [
    "def Tinh_Tong_k(k):\n",
    "    tong = 0\n",
    "    for i in range(k+1):\n",
    "         tong = tong + i\n",
    "    return tong"
   ]
  },
  {
   "cell_type": "code",
   "execution_count": 11,
   "id": "1357228d",
   "metadata": {},
   "outputs": [
    {
     "name": "stdout",
     "output_type": "stream",
     "text": [
      "1 1\n",
      "3 6\n",
      "8 36\n",
      "2 3\n",
      "6 21\n",
      "9 45\n",
      "7 28\n"
     ]
    }
   ],
   "source": [
    "# Gọi hàm trong vòng lặp\n",
    "for item in danh_sach:\n",
    "    s = Tinh_Tong_k(item)\n",
    "    print(item, s)"
   ]
  },
  {
   "cell_type": "markdown",
   "id": "389348f4",
   "metadata": {},
   "source": [
    "### 2.6. Vòng lặp với enumerate"
   ]
  },
  {
   "cell_type": "code",
   "execution_count": 12,
   "id": "03958168",
   "metadata": {},
   "outputs": [
    {
     "name": "stdout",
     "output_type": "stream",
     "text": [
      "2 Thành\n",
      "5 Đức\n"
     ]
    }
   ],
   "source": [
    "# Giả sử cần in ra cả vị trí (index)\n",
    "danh_sach = [\"Đức\", \"Phương\", \"Thành\", \"Kiên\", \n",
    "             \"Thịnh\", \"Đức\", \"Lâm\", \"Huy\"]\n",
    "for i in range(len(danh_sach)):\n",
    "    if i == 2 or i == 5:\n",
    "        print(i, danh_sach[i])"
   ]
  },
  {
   "cell_type": "code",
   "execution_count": 13,
   "id": "10aa4608",
   "metadata": {},
   "outputs": [
    {
     "name": "stdout",
     "output_type": "stream",
     "text": [
      "2 Thành\n",
      "5 Đức\n"
     ]
    }
   ],
   "source": [
    "# Thay vì phải lấy index từ hàm range()\n",
    "# ==> Dùng hàm enumerate()\n",
    "for i,item in enumerate(danh_sach):\n",
    "    if i == 2 or i == 5:\n",
    "        print(i, item)"
   ]
  },
  {
   "cell_type": "markdown",
   "id": "66849c26",
   "metadata": {},
   "source": [
    "**Hàm `enumerate()` thực hiện thế nào?**"
   ]
  },
  {
   "cell_type": "code",
   "execution_count": 14,
   "id": "453a323f",
   "metadata": {},
   "outputs": [
    {
     "data": {
      "text/plain": [
       "<enumerate at 0x214cfdb3dc0>"
      ]
     },
     "execution_count": 14,
     "metadata": {},
     "output_type": "execute_result"
    }
   ],
   "source": [
    "enumerate(danh_sach)"
   ]
  },
  {
   "cell_type": "code",
   "execution_count": 15,
   "id": "09f4bf7e",
   "metadata": {},
   "outputs": [
    {
     "data": {
      "text/plain": [
       "[(0, 'Đức'),\n",
       " (1, 'Phương'),\n",
       " (2, 'Thành'),\n",
       " (3, 'Kiên'),\n",
       " (4, 'Thịnh'),\n",
       " (5, 'Đức'),\n",
       " (6, 'Lâm'),\n",
       " (7, 'Huy')]"
      ]
     },
     "execution_count": 15,
     "metadata": {},
     "output_type": "execute_result"
    }
   ],
   "source": [
    "list(enumerate(danh_sach))"
   ]
  },
  {
   "cell_type": "code",
   "execution_count": 16,
   "id": "9a8d47eb",
   "metadata": {},
   "outputs": [
    {
     "data": {
      "text/plain": [
       "(0, 'Đức')"
      ]
     },
     "execution_count": 16,
     "metadata": {},
     "output_type": "execute_result"
    }
   ],
   "source": [
    "list(enumerate(danh_sach))[0]"
   ]
  },
  {
   "cell_type": "code",
   "execution_count": 17,
   "id": "cccb6839",
   "metadata": {},
   "outputs": [
    {
     "name": "stdout",
     "output_type": "stream",
     "text": [
      "0 Đức\n"
     ]
    }
   ],
   "source": [
    "i, item = list(enumerate(danh_sach))[0]\n",
    "print(i, item)"
   ]
  },
  {
   "cell_type": "markdown",
   "id": "4f437658",
   "metadata": {},
   "source": [
    "### 2.7. Break và Continue"
   ]
  },
  {
   "cell_type": "code",
   "execution_count": 54,
   "id": "45729464",
   "metadata": {},
   "outputs": [
    {
     "name": "stdout",
     "output_type": "stream",
     "text": [
      "Đây là số lẻ: 3 - Lũy thừa 3 và 5 là: 27 243\n",
      "Đây là số lẻ: 5 - Lũy thừa 3 và 5 là: 125 3125\n",
      "Đây là số lẻ: 9 - Lũy thừa 3 và 5 là: 729 59049\n",
      "Đây là số lẻ: 7 - Lũy thừa 3 và 5 là: 343 16807\n"
     ]
    }
   ],
   "source": [
    "# Tìm số lẻ trong danh sách và tính lũy thừa 3 và 5\n",
    "ds = [2, 3, 8, 2, 5, 6, 9, 7]\n",
    "for item in ds:\n",
    "    if item%2 == 0:\n",
    "            continue\n",
    "\n",
    "        lt3 = item**3\n",
    "        lt5 = item**5\n",
    "        print(\"Đây là số lẻ:\", item, \"- Lũy thừa 3 và 5 là:\", luy_thua_3, luy_thua_5)"
   ]
  },
  {
   "cell_type": "code",
   "execution_count": 111,
   "id": "4f332ce4",
   "metadata": {},
   "outputs": [
    {
     "name": "stdout",
     "output_type": "stream",
     "text": [
      "13\n",
      "3\n",
      "8\n",
      "2\n",
      "5\n"
     ]
    }
   ],
   "source": [
    "# Tim số 5, khi thấy thì dừng lại\n",
    "ds = [13, 3, 8, 2, 5, 6, 9, 7]\n",
    "for item in ds:\n",
    "    print(item)\n",
    "    if item == 5:\n",
    "        break"
   ]
  },
  {
   "cell_type": "markdown",
   "id": "2178dbf6",
   "metadata": {},
   "source": [
    "### Warning: vòng lặp vô tận"
   ]
  },
  {
   "cell_type": "code",
   "execution_count": null,
   "id": "7b57a2f9",
   "metadata": {},
   "outputs": [],
   "source": [
    "a = 1\n",
    "while True:\n",
    "    a += 1\n",
    "    print(a)"
   ]
  },
  {
   "cell_type": "markdown",
   "id": "92535a46",
   "metadata": {},
   "source": [
    "# 3. Tư duy lập trình"
   ]
  },
  {
   "cell_type": "markdown",
   "id": "dc9cddae",
   "metadata": {},
   "source": [
    "### 3.1. Một số cải tiến với phần tính KM ở trên"
   ]
  },
  {
   "cell_type": "code",
   "execution_count": 13,
   "id": "662ecd1e",
   "metadata": {},
   "outputs": [],
   "source": [
    "def Tinh_Muc_KM3(tuoi=10):\n",
    "    ty_le_KM = 0.0\n",
    "    if tuoi < 10:   ty_le_KM = 15.0\n",
    "    elif tuoi < 15: ty_le_KM = 10.0\n",
    "    elif tuoi < 18: ty_le_KM = 5.0\n",
    "    # else: ty_le_KM = 0.0 # Không cần gán ở đây\n",
    "    \n",
    "    return ty_le_KM"
   ]
  },
  {
   "cell_type": "code",
   "execution_count": 16,
   "id": "cdd7555a",
   "metadata": {},
   "outputs": [
    {
     "name": "stdout",
     "output_type": "stream",
     "text": [
      "15.0\n",
      "10.0\n",
      "5.0\n",
      "0.0\n"
     ]
    }
   ],
   "source": [
    "print(Tinh_Muc_KM3(4))\n",
    "print(Tinh_Muc_KM3(12))\n",
    "print(Tinh_Muc_KM3(16))\n",
    "print(Tinh_Muc_KM3(20))"
   ]
  },
  {
   "cell_type": "markdown",
   "id": "f2db8d04",
   "metadata": {},
   "source": [
    "**Viết thẳng các lệnh return**"
   ]
  },
  {
   "cell_type": "code",
   "execution_count": 5,
   "id": "64374408",
   "metadata": {},
   "outputs": [],
   "source": [
    "# Viết thẳng các lệnh return\n",
    "def Tinh_Muc_KM4(tuoi=10):\n",
    "    if tuoi < 10:   return 15.0\n",
    "    elif tuoi < 15: return 10.0\n",
    "    elif tuoi < 18: return 5.0\n",
    "    return 0.0"
   ]
  },
  {
   "cell_type": "code",
   "execution_count": 6,
   "id": "0db12dcc",
   "metadata": {},
   "outputs": [
    {
     "name": "stdout",
     "output_type": "stream",
     "text": [
      "15.0\n",
      "10.0\n",
      "5.0\n",
      "0.0\n"
     ]
    }
   ],
   "source": [
    "print(Tinh_Muc_KM4(4))\n",
    "print(Tinh_Muc_KM4(12))\n",
    "print(Tinh_Muc_KM4(16))\n",
    "print(Tinh_Muc_KM4(20))"
   ]
  },
  {
   "cell_type": "markdown",
   "id": "0bd70146",
   "metadata": {},
   "source": [
    "**Kết hợp kiểm tra input có hợp lệ không**"
   ]
  },
  {
   "cell_type": "code",
   "execution_count": 7,
   "id": "8ddaed81",
   "metadata": {},
   "outputs": [],
   "source": [
    "def Tinh_Muc_KM5(tuoi=10):\n",
    "    # Kiểm tra nếu \"tuoi\" không phải số nguyên\n",
    "    if type(tuoi) is not int:\n",
    "        print(\"Lỗi! Tuổi nhập vào không phải dạng số nguyên!\")\n",
    "        return None\n",
    "    \n",
    "    # Kiểm tra nếu \"tuoi\" không phải số dương\n",
    "    elif tuoi < 0:\n",
    "        print(\"Lỗi! Tuổi nhập vào không được nhỏ hơn 0\")\n",
    "        return None\n",
    "    \n",
    "    if tuoi < 10: return 15.0\n",
    "    if tuoi < 15: return 10.0\n",
    "    if tuoi < 18: return 5.0\n",
    "    \n",
    "    return 0.0"
   ]
  },
  {
   "cell_type": "markdown",
   "id": "b69223e0",
   "metadata": {},
   "source": [
    "### 3.2. Một số cải tiến với vòng lặp"
   ]
  },
  {
   "cell_type": "markdown",
   "id": "74b594e9",
   "metadata": {},
   "source": [
    "**Làm lại bài tính tổng theo phần tử chẵn - lẻ**"
   ]
  },
  {
   "cell_type": "code",
   "execution_count": 18,
   "id": "cb33aabd",
   "metadata": {},
   "outputs": [
    {
     "name": "stdout",
     "output_type": "stream",
     "text": [
      "12 66\n",
      "3 3\n",
      "8 28\n",
      "2 1\n",
      "6 15\n",
      "9 36\n",
      "7 21\n"
     ]
    }
   ],
   "source": [
    "# Sử dụng vòng lặp while trong for\n",
    "danh_sach = [12, 3, 8, 2, 6, 9, 7]\n",
    "for item in danh_sach:\n",
    "    tong = 0\n",
    "    \n",
    "    i = 0\n",
    "    while i < item:\n",
    "        tong += i\n",
    "        i += 1\n",
    "    \n",
    "    print(item, tong)"
   ]
  },
  {
   "cell_type": "markdown",
   "id": "5a66ebf4",
   "metadata": {},
   "source": [
    "**Thay việc viết nhiều dòng xử lý bằng hàm**"
   ]
  },
  {
   "cell_type": "code",
   "execution_count": 82,
   "id": "098ef9fc",
   "metadata": {},
   "outputs": [
    {
     "name": "stdout",
     "output_type": "stream",
     "text": [
      "18.3\n",
      "22.5\n",
      "13.2\n",
      "28.65\n",
      "24.0\n"
     ]
    }
   ],
   "source": [
    "# Giả sử có danh sách hệ số lương và phụ cấp của 5 nhân viên, tính lương tháng cho mỗi nhân viên\n",
    "ds_nv = [(5, 7), (6, 9), (4, 4), (8, 10.5), (10, 0)]\n",
    "LCB = 2.4\n",
    "for i, nv in enumerate(ds_nv):\n",
    "    #print(nv[0], nv[1])\n",
    "    he_so = nv[0]\n",
    "    phu_cap = nv[1]\n",
    "    luong1 = LCB*he_so\n",
    "    luong2 = phu_cap*0.9\n",
    "    luong = luong1 + luong2\n",
    "    print(luong)"
   ]
  },
  {
   "cell_type": "markdown",
   "id": "3f8bf578",
   "metadata": {},
   "source": [
    "**Không nên thực hiện nhiều tính toán ngay trong vòng lặp**<br>\n",
    "**==> Nên tạo thói quen lập ra các hàm tính toán cho từng việc cụ thể**"
   ]
  },
  {
   "cell_type": "code",
   "execution_count": 83,
   "id": "7e71c158",
   "metadata": {},
   "outputs": [],
   "source": [
    "# Viết hàm tính lương\n",
    "def Tinh_Luong(he_so, phu_cap):\n",
    "    luong1 = LCB*he_so\n",
    "    luong2 = phu_cap*0.9\n",
    "    luong = luong1 + luong2\n",
    "    return luong"
   ]
  },
  {
   "cell_type": "code",
   "execution_count": 84,
   "id": "b6b50f59",
   "metadata": {
    "scrolled": true
   },
   "outputs": [
    {
     "name": "stdout",
     "output_type": "stream",
     "text": [
      "Nhân viên 1 - Lương:  18.3\n",
      "Nhân viên 2 - Lương:  22.5\n",
      "Nhân viên 3 - Lương:  13.2\n",
      "Nhân viên 4 - Lương:  28.65\n",
      "Nhân viên 5 - Lương:  24.0\n"
     ]
    }
   ],
   "source": [
    "for i, nv in enumerate(ds_nv):\n",
    "    he_so, phu_cap = nv\n",
    "    luong = Tinh_Luong(he_so, phu_cap)\n",
    "    print(\"Nhân viên\", i+1, \"- Lương: \", luong)"
   ]
  },
  {
   "cell_type": "markdown",
   "id": "b5344530",
   "metadata": {},
   "source": [
    "### 3.3. Viết chương trình kiểm tra số nguyên tố"
   ]
  },
  {
   "cell_type": "markdown",
   "id": "fce8669a",
   "metadata": {},
   "source": [
    "**Bước (1): Vẽ lược đồ**"
   ]
  },
  {
   "attachments": {
    "image.png": {
     "image/png": "[encoded data removed]"
    }
   },
   "cell_type": "markdown",
   "id": "9d9354e6",
   "metadata": {},
   "source": [
    "<div>\n",
    "<img src=\"attachment:image.png\" width=\"500\" align=\"left\"/>\n",
    "</div>"
   ]
  },
  {
   "cell_type": "markdown",
   "id": "ed049be5",
   "metadata": {},
   "source": [
    "**Bước (2): Viết thử đoạn mã kiểm tra 1 số có phải nguyên tố**"
   ]
  },
  {
   "cell_type": "code",
   "execution_count": null,
   "id": "087a94bf",
   "metadata": {},
   "outputs": [],
   "source": [
    "for i in range(2, mot_nua+1):\n",
    "    print(i)\n",
    "    if a%i == 0:\n",
    "        print(\"Số\", a, \"KHÔNG LÀ số nguyên tố\")\n",
    "        break\n",
    "if i == mot_nua:\n",
    "    print(\"Số\", a, \"LÀ số nguyên tố\")"
   ]
  },
  {
   "cell_type": "markdown",
   "id": "f1a11be9",
   "metadata": {},
   "source": [
    "**Bước (3): Biến đoạn mã trên thành hàm**"
   ]
  },
  {
   "cell_type": "code",
   "execution_count": null,
   "id": "f308dcb2",
   "metadata": {},
   "outputs": [],
   "source": [
    "def Kiem_Tra_SNT(a):\n",
    "    mot_nua = a//2\n",
    "    for i in range(2, mot_nua+1):\n",
    "        if a%i == 0:\n",
    "            print(\"Số\", a, \"KHÔNG phải là số nguyên tố\")\n",
    "            break\n",
    "    else:\n",
    "        print(\"Số\", a, \"LÀ số nguyên tố\")\n",
    "\n",
    "Kiem_Tra_SNT(29)"
   ]
  }
 ],
 "metadata": {
  "kernelspec": {
   "display_name": "Python 3 (ipykernel)",
   "language": "python",
   "name": "python3"
  },
  "language_info": {
   "codemirror_mode": {
    "name": "ipython",
    "version": 3
   },
   "file_extension": ".py",
   "mimetype": "text/x-python",
   "name": "python",
   "nbconvert_exporter": "python",
   "pygments_lexer": "ipython3",
   "version": "3.10.9"
  }
 },
 "nbformat": 4,
 "nbformat_minor": 5
}
