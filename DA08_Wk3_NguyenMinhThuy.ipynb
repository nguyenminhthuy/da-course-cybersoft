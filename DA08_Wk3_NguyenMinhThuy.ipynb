{
 "cells": [
  {
   "cell_type": "markdown",
   "id": "64fc2a88",
   "metadata": {},
   "source": [
    "# Bài 1"
   ]
  },
  {
   "cell_type": "code",
   "execution_count": 11,
   "id": "9d3d5d35",
   "metadata": {},
   "outputs": [],
   "source": [
    "def nhap_Chuoi():\n",
    "    lst = []\n",
    "    num = int(input(\"Nhập số phần tử của chuỗi: \"))\n",
    "\n",
    "    for i in range(0, num):\n",
    "        ele = int(input())\n",
    "        lst.append(ele) \n",
    "    \n",
    "    return lst"
   ]
  },
  {
   "cell_type": "code",
   "execution_count": 12,
   "id": "44dce7a2",
   "metadata": {},
   "outputs": [],
   "source": [
    "def xuat_Chuoi(lst):\n",
    "    lst_Chan=[]\n",
    "    lst_Le=[]\n",
    "    for i in range(0,len(lst)):\n",
    "        if i%2==0: \n",
    "            lst_Chan.append(lst[i])\n",
    "        else: \n",
    "            lst_Le.append(lst[i])\n",
    "    \n",
    "    print(\"Danh sách các phần tử ở vị trí chẵn trong chuỗi \",lst_Chan)\n",
    "    print(\"Danh sách các phần tử ở vị trí lẽ trong chuỗi \",lst_Le)"
   ]
  },
  {
   "cell_type": "code",
   "execution_count": 13,
   "id": "742c62d4",
   "metadata": {},
   "outputs": [
    {
     "name": "stdout",
     "output_type": "stream",
     "text": [
      "Nhập số phần tử của chuỗi: 5\n",
      "6\n",
      "2\n",
      "4\n",
      "5\n",
      "8\n",
      "Danh sách các phần tử ở vị trí chẵn trong chuỗi  [6, 4, 8]\n",
      "Danh sách các phần tử ở vị trí lẽ trong chuỗi  [2, 5]\n"
     ]
    }
   ],
   "source": [
    "lst = nhap_Chuoi()\n",
    "xuat_Chuoi(lst)"
   ]
  },
  {
   "cell_type": "markdown",
   "id": "937dde1f",
   "metadata": {},
   "source": [
    "# Bài 2"
   ]
  },
  {
   "cell_type": "code",
   "execution_count": null,
   "id": "c2d361ac",
   "metadata": {},
   "outputs": [],
   "source": []
  }
 ],
 "metadata": {
  "kernelspec": {
   "display_name": "Python 3 (ipykernel)",
   "language": "python",
   "name": "python3"
  },
  "language_info": {
   "codemirror_mode": {
    "name": "ipython",
    "version": 3
   },
   "file_extension": ".py",
   "mimetype": "text/x-python",
   "name": "python",
   "nbconvert_exporter": "python",
   "pygments_lexer": "ipython3",
   "version": "3.10.9"
  }
 },
 "nbformat": 4,
 "nbformat_minor": 5
}
