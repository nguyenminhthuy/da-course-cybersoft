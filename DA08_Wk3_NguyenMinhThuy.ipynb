{
 "cells": [
  {
   "cell_type": "markdown",
   "id": "64fc2a88",
   "metadata": {},
   "source": [
    "# Bài 1"
   ]
  },
  {
   "cell_type": "code",
   "execution_count": null,
   "id": "9d3d5d35",
   "metadata": {},
   "outputs": [],
   "source": [
    "def nhap_Chuoi():\n",
    "    lst = []\n",
    "    num = int(input(\"Nhập số phần tử của chuỗi: \"))\n",
    "\n",
    "    for i in range(0, num):\n",
    "        ele = int(input())\n",
    "        lst.append(ele) \n",
    "    \n",
    "    return lst"
   ]
  },
  {
   "cell_type": "code",
   "execution_count": null,
   "id": "44dce7a2",
   "metadata": {},
   "outputs": [],
   "source": [
    "def xuat_Chuoi(lst):\n",
    "    lst_Chan=[]\n",
    "    lst_Le=[]\n",
    "    for i in range(0,len(lst)):\n",
    "        if i%2==0: \n",
    "            lst_Chan.append(lst[i])\n",
    "        else: \n",
    "            lst_Le.append(lst[i])\n",
    "    \n",
    "    print(\"\\nDanh sách các phần tử ở vị trí chẵn trong chuỗi:\",lst_Chan)\n",
    "    print(\"\\nDanh sách các phần tử ở vị trí lẻ trong chuỗi:\",lst_Le)"
   ]
  },
  {
   "cell_type": "code",
   "execution_count": null,
   "id": "fd6b854e",
   "metadata": {},
   "outputs": [],
   "source": [
    "def xuat_ChuoiGhiFile(lst,outfile):\n",
    "    lst_Chan=[]\n",
    "    lst_Le=[]\n",
    "    for i in range(0,len(lst)):\n",
    "        if i%2==0: \n",
    "            lst_Chan.append(lst[i])\n",
    "        else: \n",
    "            lst_Le.append(lst[i])\n",
    "    \n",
    "    outfile.write('\\nDanh sách các phần tử ở vị trí chẵn trong chuỗi: ' + str(lst_Chan))\n",
    "    outfile.write('\\nDanh sách các phần tử ở vị trí lẽ trong chuỗi: ' + str(lst_Le))"
   ]
  },
  {
   "cell_type": "code",
   "execution_count": null,
   "id": "742c62d4",
   "metadata": {},
   "outputs": [],
   "source": [
    "lst_chuoi = nhap_Chuoi()\n",
    "print(\"\\nChuỗi vừa nhập: \", lst_chuoi)\n",
    "xuat_Chuoi(lst)"
   ]
  },
  {
   "cell_type": "markdown",
   "id": "937dde1f",
   "metadata": {},
   "source": [
    "# Bài 2"
   ]
  },
  {
   "cell_type": "markdown",
   "id": "be77e30f",
   "metadata": {},
   "source": [
    "### Bài 1_Tuần 2"
   ]
  },
  {
   "cell_type": "code",
   "execution_count": null,
   "id": "86f06fc1",
   "metadata": {},
   "outputs": [],
   "source": [
    "def nhap_DSGiaCoPhieu_TheoNgay():\n",
    "    lst = []\n",
    "    num = int(input(\"Nhập số ngày của giá cổ phiếu: \"))\n",
    "\n",
    "    for i in range(0, num):\n",
    "        ele = float(input(f\"Ngày {i+1}: \"))\n",
    "        lst.append(ele) \n",
    "    \n",
    "    return lst"
   ]
  },
  {
   "cell_type": "code",
   "execution_count": null,
   "id": "88b4374a",
   "metadata": {},
   "outputs": [],
   "source": [
    "# Công thức tính phần trăm tăng trưởng là: \n",
    "# % tăng trưởng = (năm cần tính - năm trước)/năm trước*100\n",
    "\n",
    "def tinh_PhanTram_GiaCP(giaHomTruoc, giaHomNay):\n",
    "    return round((giaHomNay-giaHomTruoc)/giaHomTruoc*100,2)"
   ]
  },
  {
   "cell_type": "code",
   "execution_count": null,
   "id": "7fa02ed5",
   "metadata": {},
   "outputs": [],
   "source": [
    "def kt_GiaCoPhieu(lst, outfile):\n",
    "    for i in range(len(lst)-1):\n",
    "\n",
    "        phanTram = tinh_PhanTram_GiaCP(lst[i],lst[i+1])\n",
    "\n",
    "        if(lst[i+1] < lst[i] and abs(phanTram) >= 5):\n",
    "            outfile.write(f\"\\nGiá ngày {i+2}: {lst[i+1]}\")\n",
    "            outfile.write(f\"\\nGiá ngày {i+1}: {lst[i]}\")\n",
    "            outfile.write(f\"\\nGiá ngày {i+2} giảm {abs(phanTram)}% so với giá ngày {i+1} => Mua\\n\")\n",
    "        \n",
    "        elif(lst[i+1] > lst[i] and abs(phanTram) >= 7):\n",
    "            outfile.write(f\"\\nGiá ngày {i+2}: {lst[i+1]}\")\n",
    "            outfile.write(f\"\\nGiá ngày {i+1}: {lst[i]}\")\n",
    "            outfile.write(f\"\\nGiá ngày {i+2} tăng {abs(phanTram)}% so với giá ngày {i+1} => Bán\\n\")\n",
    "        \n",
    "        else:\n",
    "            outfile.write(f\"\\nGiá ngày {i+2}: {lst[i+1]}\")\n",
    "            outfile.write(f\"\\nGiá ngày {i+1}: {lst[i]}\")\n",
    "            outfile.write(f\"\\nGiá ngày {i+2} không tăng trên 7% hoặc giảm trên 5% so với giá ngày {i+1} => Giữ nguyên\\n\")"
   ]
  },
  {
   "cell_type": "markdown",
   "id": "a15f2f2e",
   "metadata": {},
   "source": [
    "### Bài 2_Tuần 2"
   ]
  },
  {
   "cell_type": "code",
   "execution_count": null,
   "id": "d593c160",
   "metadata": {},
   "outputs": [],
   "source": [
    "def nhap_DSSo():\n",
    "    lst = []\n",
    "    num = int(input(\"Nhập số phần tử: \"))\n",
    "\n",
    "    for i in range(0, num):\n",
    "        ele = int(input())\n",
    "        lst.append(ele) \n",
    "    \n",
    "    return lst"
   ]
  },
  {
   "cell_type": "code",
   "execution_count": null,
   "id": "db103372",
   "metadata": {},
   "outputs": [],
   "source": [
    "def kt_SoNguyenTo(n):\n",
    "    \n",
    "    flag = True\n",
    "\n",
    "    if n < 2:\n",
    "        flag = False\n",
    "    elif n == 2:\n",
    "        flag = True\n",
    "    elif (n % 2) == 0:\n",
    "        flag = False\n",
    "    else:\n",
    "        for i in range(3, n, 2):\n",
    "            if (n % i) == 0:\n",
    "                flag = False\n",
    "\n",
    "    return flag"
   ]
  },
  {
   "cell_type": "code",
   "execution_count": null,
   "id": "14a9f863",
   "metadata": {},
   "outputs": [],
   "source": [
    "def kq_SoNguyenTo(lst,outfile):\n",
    "    for i in range(len(lst)):\n",
    "        \n",
    "        kq_SoNguyenTo = kt_SoNguyenTo(lst[i])\n",
    "        \n",
    "        if kq_SoNguyenTo is True:\n",
    "            outfile.write(f\"\\n{lst[i]} là số nguyên tố!\")\n",
    "        else:\n",
    "            outfile.write(f\"\\n{lst[i]} không là số nguyên tố!\")"
   ]
  },
  {
   "cell_type": "markdown",
   "id": "94e12044",
   "metadata": {},
   "source": [
    "### Bài 3_Tuần 2"
   ]
  },
  {
   "cell_type": "code",
   "execution_count": null,
   "id": "4e0a7f83",
   "metadata": {},
   "outputs": [],
   "source": [
    "def nhap_TTNV():\n",
    "    \n",
    "    lst_luong = []\n",
    "    lst_phucap=[]\n",
    "\n",
    "    num = int(input(\"Nhập số lượng nhân viên: \"))\n",
    "\n",
    "    for i in range(0, num):\n",
    "        print(f\"\\nNhân viên {i+1}\")\n",
    "        \n",
    "        luong = float(input(f\"Lương: \"))\n",
    "        phucap = float(input(f\"Phụ cấp: \"))\n",
    "\n",
    "        lst_luong.append(luong) \n",
    "        lst_phucap.append(phucap) \n",
    "\n",
    "        lst_nv = list(zip(lst_luong, lst_phucap))\n",
    "        \n",
    "    return lst_nv"
   ]
  },
  {
   "cell_type": "code",
   "execution_count": null,
   "id": "404585d9",
   "metadata": {},
   "outputs": [],
   "source": [
    "#BHXH = 8% luong\n",
    "\n",
    "def tinh_BHXH(luong, phu_cap):\n",
    "    tongLuong = luong + phu_cap\n",
    "    return round(tongLuong * 0.08,2)"
   ]
  },
  {
   "cell_type": "code",
   "execution_count": null,
   "id": "0c092a5d",
   "metadata": {},
   "outputs": [],
   "source": [
    "# <= 5: 5%\n",
    "# <=10: 10%\n",
    "# <=18: 15%\n",
    "# >18: 20%\n",
    "\n",
    "def tinh_ThueTNCN(luong, phu_cap):    \n",
    "    tongLuong = luong + phu_cap\n",
    "    \n",
    "    if tongLuong <= 5:\n",
    "        thueTNCN = round(tongLuong * 0.05,2)\n",
    "    elif tongLuong <= 10:\n",
    "        thueTNCN = round(tongLuong * 0.1,2)\n",
    "    elif tongLuong <= 18:\n",
    "        thueTNCN = round(tongLuong * 0.15,2)\n",
    "    else:\n",
    "        thueTNCN = round(tongLuong * 0.2,2)\n",
    "        \n",
    "    return thueTNCN"
   ]
  },
  {
   "cell_type": "code",
   "execution_count": null,
   "id": "0dccfa00",
   "metadata": {},
   "outputs": [],
   "source": [
    "def xuat_TTNV(lst_nv,outfile):\n",
    "    for i, nv in enumerate(lst_nv):\n",
    "        luong, phu_cap = nv\n",
    "\n",
    "        bhxh = tinh_BHXH(luong, phu_cap)\n",
    "        thueTNCN = tinh_ThueTNCN(luong, phu_cap)\n",
    "\n",
    "        outfile.write(f\"\\nNhân viên {i+1} - BHXH: {bhxh} - Thuế TNCN: {thueTNCN}\")"
   ]
  },
  {
   "cell_type": "code",
   "execution_count": null,
   "id": "2157c41c",
   "metadata": {},
   "outputs": [],
   "source": [
    "# 1: Giá cố phiếu tăng/giảm\n",
    "lst_CP = nhap_DSGiaCoPhieu_TheoNgay()"
   ]
  },
  {
   "cell_type": "code",
   "execution_count": null,
   "id": "490355ab",
   "metadata": {},
   "outputs": [],
   "source": [
    "# 2: kiểm tra mỗi số trong list có là snt\n",
    "lst_snt = nhap_DSSo()"
   ]
  },
  {
   "cell_type": "code",
   "execution_count": null,
   "id": "e2504515",
   "metadata": {},
   "outputs": [],
   "source": [
    "# 3: tính tiền bhxh vs thuế tncn\n",
    "lst_nv = nhap_TTNV()"
   ]
  },
  {
   "cell_type": "code",
   "execution_count": null,
   "id": "b687c701",
   "metadata": {},
   "outputs": [],
   "source": [
    "with open(\"data/DA08_WK3_NMT.txt\", mode='w', encoding=\"utf-8\") as f:\n",
    "    f.write('Kết quả BTTH Tuần 3\\n')\n",
    "    f.write('\\nBài 1\\n')\n",
    "    f.write(f\"\\nChuỗi đã nhập: {str(lst_chuoi)}\")\n",
    "    xuat_ChuoiGhiFile(lst_chuoi,outfile=f)\n",
    "    \n",
    "    f.write('\\n')\n",
    "    f.write('\\nBài 2\\n')\n",
    "    f.write('\\nBài 1-Tuần 2\\n')\n",
    "    f.write(f\"\\nDữ liệu giá cổ phiếu theo ngày: {str(lst_CP)}\")\n",
    "    kt_GiaCoPhieu(lst_CP,f)\n",
    "    \n",
    "    f.write('\\n')\n",
    "    f.write('\\nBài 2-Tuần 2\\n')\n",
    "    f.write(f\"\\nChuỗi số đã nhập: {str(lst_snt)}\")\n",
    "    kq_SoNguyenTo(lst_snt,f)\n",
    "    \n",
    "    f.write('\\n')\n",
    "    f.write('\\nBài 3-Tuần 2\\n')\n",
    "    f.write(f\"\\nThông tin lương và phụ cấp của từng nhân viên: {str(lst_nv)}\")\n",
    "    xuat_TTNV(lst_nv,f)\n",
    "    \n",
    "    f.close()"
   ]
  },
  {
   "cell_type": "code",
   "execution_count": null,
   "id": "46c748cf",
   "metadata": {},
   "outputs": [],
   "source": []
  }
 ],
 "metadata": {
  "kernelspec": {
   "display_name": "Python 3 (ipykernel)",
   "language": "python",
   "name": "python3"
  },
  "language_info": {
   "codemirror_mode": {
    "name": "ipython",
    "version": 3
   },
   "file_extension": ".py",
   "mimetype": "text/x-python",
   "name": "python",
   "nbconvert_exporter": "python",
   "pygments_lexer": "ipython3",
   "version": "3.10.9"
  }
 },
 "nbformat": 4,
 "nbformat_minor": 5
}
