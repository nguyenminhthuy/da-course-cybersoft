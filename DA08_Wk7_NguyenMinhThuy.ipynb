{
 "cells": [
  {
   "cell_type": "markdown",
   "id": "6e85f29d",
   "metadata": {},
   "source": [
    "1. Bài 1:\n",
    "* Đếm số chuyến bay trễ của các sân bay (cột ‘origin’)\n",
    "* Tương tự, đếm số chuyến bay không trễ của các sân bay\n",
    "* Tạo bảng hiển thị số chuyến bay trễ vs. không trễ\n",
    "* Vẽ lên biểu đồ\n",
    "2. Bài 2:\n",
    "* Thực hiện tương tự với các hãng hàng không (cột ‘carrier’)\n",
    "3. Bài 3:\n",
    "* Tính thời gian trễ (gồm dep_delay và arr_delay) trung bình của các hãng\n",
    "* Tính thời gian trễ (gồm dep_delay và arr_delay) trung bình từ các sân bay\n",
    "* Vẽ các kết quả lên biểu đồ\n",
    "4. Bài 4:\n",
    "* Tính tổng, trung bình, mean, median của quãng đường bay của từng hãng (cột distance)"
   ]
  },
  {
   "cell_type": "code",
   "execution_count": 1,
   "id": "b9a6e685",
   "metadata": {},
   "outputs": [],
   "source": [
    "import pandas as pd\n",
    "import numpy as np\n",
    "from matplotlib import pyplot as plt"
   ]
  },
  {
   "cell_type": "code",
   "execution_count": 2,
   "id": "e6fb1e0c",
   "metadata": {},
   "outputs": [
    {
     "name": "stdout",
     "output_type": "stream",
     "text": [
      "<class 'pandas.core.frame.DataFrame'>\n",
      "Int64Index: 336776 entries, 1 to 336776\n",
      "Data columns (total 16 columns):\n",
      " #   Column     Non-Null Count   Dtype  \n",
      "---  ------     --------------   -----  \n",
      " 0   year       336776 non-null  int64  \n",
      " 1   month      336776 non-null  int64  \n",
      " 2   day        336776 non-null  int64  \n",
      " 3   dep_time   328521 non-null  float64\n",
      " 4   dep_delay  328521 non-null  float64\n",
      " 5   arr_time   328063 non-null  float64\n",
      " 6   arr_delay  327346 non-null  float64\n",
      " 7   carrier    336776 non-null  object \n",
      " 8   tailnum    334264 non-null  object \n",
      " 9   flight     336776 non-null  int64  \n",
      " 10  origin     336776 non-null  object \n",
      " 11  dest       336776 non-null  object \n",
      " 12  air_time   327346 non-null  float64\n",
      " 13  distance   336776 non-null  int64  \n",
      " 14  hour       328521 non-null  float64\n",
      " 15  minute     328521 non-null  float64\n",
      "dtypes: float64(7), int64(5), object(4)\n",
      "memory usage: 43.7+ MB\n"
     ]
    }
   ],
   "source": [
    "df = pd.read_csv('data/nycflights.csv', \n",
    "                low_memory=False,\n",
    "                index_col=0)\n",
    "df.info()"
   ]
  },
  {
   "cell_type": "code",
   "execution_count": 3,
   "id": "8588b6a9",
   "metadata": {},
   "outputs": [
    {
     "data": {
      "text/plain": [
       "year            0\n",
       "month           0\n",
       "day             0\n",
       "dep_time     8255\n",
       "dep_delay    8255\n",
       "arr_time     8713\n",
       "arr_delay    9430\n",
       "carrier         0\n",
       "tailnum      2512\n",
       "flight          0\n",
       "origin          0\n",
       "dest            0\n",
       "air_time     9430\n",
       "distance        0\n",
       "hour         8255\n",
       "minute       8255\n",
       "dtype: int64"
      ]
     },
     "execution_count": 3,
     "metadata": {},
     "output_type": "execute_result"
    }
   ],
   "source": [
    "df.isna().sum()"
   ]
  },
  {
   "cell_type": "code",
   "execution_count": 4,
   "id": "6dfd3e1e",
   "metadata": {},
   "outputs": [],
   "source": [
    "df['dep_time'].fillna(df['dep_time'].mean(), inplace=True)\n",
    "df['dep_delay'].fillna(df['dep_delay'].mean(), inplace=True)\n",
    "df['arr_time'].fillna(df['arr_time'].mean(), inplace=True)\n",
    "df['arr_delay'].fillna(df['arr_delay'].mean(), inplace=True)\n",
    "df['tailnum'].fillna('Unknown', inplace=True)\n",
    "df['air_time'].fillna(df['air_time'].mean(), inplace=True)\n",
    "df['hour'].fillna(df['hour'].mean(), inplace=True)\n",
    "df['minute'].fillna(df['minute'].mean(), inplace=True)"
   ]
  },
  {
   "cell_type": "markdown",
   "id": "ff6f6937",
   "metadata": {},
   "source": [
    "## Bài 1"
   ]
  },
  {
   "cell_type": "code",
   "execution_count": 54,
   "id": "9aaf583a",
   "metadata": {},
   "outputs": [],
   "source": [
    "# number of delayed flights per origin\n",
    "# delayed flights if arr_delay >= 15 minutes\n",
    "# no delayed flights if arr_delay < 15 minutes\n",
    "\n",
    "delayed_flights_origin = df[df['arr_delay']>=15].groupby(df['origin']).size().to_frame(name='Delayed flights')\n",
    "no_delayed_flights_origin = df[df['arr_delay']<15].groupby(df['origin']).size().to_frame(name='No delayed flights')"
   ]
  },
  {
   "cell_type": "code",
   "execution_count": 56,
   "id": "0365aa13",
   "metadata": {},
   "outputs": [
    {
     "data": {
      "text/html": [
       "<div>\n",
       "<style scoped>\n",
       "    .dataframe tbody tr th:only-of-type {\n",
       "        vertical-align: middle;\n",
       "    }\n",
       "\n",
       "    .dataframe tbody tr th {\n",
       "        vertical-align: top;\n",
       "    }\n",
       "\n",
       "    .dataframe thead th {\n",
       "        text-align: right;\n",
       "    }\n",
       "</style>\n",
       "<table border=\"1\" class=\"dataframe\">\n",
       "  <thead>\n",
       "    <tr style=\"text-align: right;\">\n",
       "      <th></th>\n",
       "      <th>Delayed flights</th>\n",
       "      <th>No delayed flights</th>\n",
       "    </tr>\n",
       "    <tr>\n",
       "      <th>origin</th>\n",
       "      <th></th>\n",
       "      <th></th>\n",
       "    </tr>\n",
       "  </thead>\n",
       "  <tbody>\n",
       "    <tr>\n",
       "      <th>EWR</th>\n",
       "      <td>30847</td>\n",
       "      <td>89988</td>\n",
       "    </tr>\n",
       "    <tr>\n",
       "      <th>JFK</th>\n",
       "      <td>25849</td>\n",
       "      <td>85430</td>\n",
       "    </tr>\n",
       "    <tr>\n",
       "      <th>LGA</th>\n",
       "      <td>23404</td>\n",
       "      <td>81258</td>\n",
       "    </tr>\n",
       "  </tbody>\n",
       "</table>\n",
       "</div>"
      ],
      "text/plain": [
       "        Delayed flights  No delayed flights\n",
       "origin                                     \n",
       "EWR               30847               89988\n",
       "JFK               25849               85430\n",
       "LGA               23404               81258"
      ]
     },
     "execution_count": 56,
     "metadata": {},
     "output_type": "execute_result"
    }
   ],
   "source": [
    "df_flights_origin = pd.concat((delayed_flights_origin, no_delayed_flights_origin), \n",
    "                               axis=1)\n",
    "df_flights_origin"
   ]
  },
  {
   "cell_type": "code",
   "execution_count": 57,
   "id": "aa7cbe23",
   "metadata": {},
   "outputs": [
    {
     "data": {
      "text/plain": [
       "<function matplotlib.pyplot.show(close=None, block=None)>"
      ]
     },
     "execution_count": 57,
     "metadata": {},
     "output_type": "execute_result"
    },
    {
     "data": {
      "image/png": "[encoded data removed]",
      "text/plain": [
       "<Figure size 640x480 with 1 Axes>"
      ]
     },
     "metadata": {},
     "output_type": "display_data"
    }
   ],
   "source": [
    "ax = df_flights_origin.plot(kind='bar', stacked=False)\n",
    "plt.xlabel('Origin')\n",
    "plt.ylabel('Count')\n",
    "plt.title('Status of flight per origin')\n",
    "plt.show"
   ]
  },
  {
   "cell_type": "markdown",
   "id": "14e93b03",
   "metadata": {},
   "source": [
    "## Bài 2"
   ]
  },
  {
   "cell_type": "code",
   "execution_count": 58,
   "id": "8b9bfae2",
   "metadata": {},
   "outputs": [],
   "source": [
    "delayed_flights_carrier = df[df['arr_delay']>=15].groupby(df['carrier']).size().to_frame(name='Delayed flights')\n",
    "no_delayed_flights_carrier = df[df['arr_delay']<15].groupby(df['carrier']).size().to_frame(name='No delayed flights')"
   ]
  },
  {
   "cell_type": "code",
   "execution_count": 59,
   "id": "c1e1b27a",
   "metadata": {},
   "outputs": [
    {
     "data": {
      "text/html": [
       "<div>\n",
       "<style scoped>\n",
       "    .dataframe tbody tr th:only-of-type {\n",
       "        vertical-align: middle;\n",
       "    }\n",
       "\n",
       "    .dataframe tbody tr th {\n",
       "        vertical-align: top;\n",
       "    }\n",
       "\n",
       "    .dataframe thead th {\n",
       "        text-align: right;\n",
       "    }\n",
       "</style>\n",
       "<table border=\"1\" class=\"dataframe\">\n",
       "  <thead>\n",
       "    <tr style=\"text-align: right;\">\n",
       "      <th></th>\n",
       "      <th>Delayed flights</th>\n",
       "      <th>No delayed flights</th>\n",
       "    </tr>\n",
       "    <tr>\n",
       "      <th>carrier</th>\n",
       "      <th></th>\n",
       "      <th></th>\n",
       "    </tr>\n",
       "  </thead>\n",
       "  <tbody>\n",
       "    <tr>\n",
       "      <th>9E</th>\n",
       "      <td>4422</td>\n",
       "      <td>14038</td>\n",
       "    </tr>\n",
       "    <tr>\n",
       "      <th>AA</th>\n",
       "      <td>6203</td>\n",
       "      <td>26526</td>\n",
       "    </tr>\n",
       "    <tr>\n",
       "      <th>AS</th>\n",
       "      <td>104</td>\n",
       "      <td>610</td>\n",
       "    </tr>\n",
       "    <tr>\n",
       "      <th>B6</th>\n",
       "      <td>14567</td>\n",
       "      <td>40068</td>\n",
       "    </tr>\n",
       "    <tr>\n",
       "      <th>DL</th>\n",
       "      <td>9038</td>\n",
       "      <td>39072</td>\n",
       "    </tr>\n",
       "    <tr>\n",
       "      <th>EV</th>\n",
       "      <td>16399</td>\n",
       "      <td>37774</td>\n",
       "    </tr>\n",
       "    <tr>\n",
       "      <th>F9</th>\n",
       "      <td>264</td>\n",
       "      <td>421</td>\n",
       "    </tr>\n",
       "    <tr>\n",
       "      <th>FL</th>\n",
       "      <td>1100</td>\n",
       "      <td>2160</td>\n",
       "    </tr>\n",
       "    <tr>\n",
       "      <th>HA</th>\n",
       "      <td>44</td>\n",
       "      <td>298</td>\n",
       "    </tr>\n",
       "    <tr>\n",
       "      <th>MQ</th>\n",
       "      <td>6986</td>\n",
       "      <td>19411</td>\n",
       "    </tr>\n",
       "    <tr>\n",
       "      <th>OO</th>\n",
       "      <td>7</td>\n",
       "      <td>25</td>\n",
       "    </tr>\n",
       "    <tr>\n",
       "      <th>UA</th>\n",
       "      <td>13004</td>\n",
       "      <td>45661</td>\n",
       "    </tr>\n",
       "    <tr>\n",
       "      <th>US</th>\n",
       "      <td>3733</td>\n",
       "      <td>16803</td>\n",
       "    </tr>\n",
       "    <tr>\n",
       "      <th>VX</th>\n",
       "      <td>956</td>\n",
       "      <td>4206</td>\n",
       "    </tr>\n",
       "    <tr>\n",
       "      <th>WN</th>\n",
       "      <td>3094</td>\n",
       "      <td>9181</td>\n",
       "    </tr>\n",
       "    <tr>\n",
       "      <th>YV</th>\n",
       "      <td>179</td>\n",
       "      <td>422</td>\n",
       "    </tr>\n",
       "  </tbody>\n",
       "</table>\n",
       "</div>"
      ],
      "text/plain": [
       "         Delayed flights  No delayed flights\n",
       "carrier                                     \n",
       "9E                  4422               14038\n",
       "AA                  6203               26526\n",
       "AS                   104                 610\n",
       "B6                 14567               40068\n",
       "DL                  9038               39072\n",
       "EV                 16399               37774\n",
       "F9                   264                 421\n",
       "FL                  1100                2160\n",
       "HA                    44                 298\n",
       "MQ                  6986               19411\n",
       "OO                     7                  25\n",
       "UA                 13004               45661\n",
       "US                  3733               16803\n",
       "VX                   956                4206\n",
       "WN                  3094                9181\n",
       "YV                   179                 422"
      ]
     },
     "execution_count": 59,
     "metadata": {},
     "output_type": "execute_result"
    }
   ],
   "source": [
    "df_flight_carrier = pd.concat((delayed_flights_carrier, no_delayed_flights_carrier), axis=1)\n",
    "df_flight_carrier"
   ]
  },
  {
   "cell_type": "code",
   "execution_count": 63,
   "id": "d10b2204",
   "metadata": {},
   "outputs": [
    {
     "data": {
      "text/plain": [
       "<function matplotlib.pyplot.show(close=None, block=None)>"
      ]
     },
     "execution_count": 63,
     "metadata": {},
     "output_type": "execute_result"
    },
    {
     "data": {
      "image/png": "[encoded data removed]",
      "text/plain": [
       "<Figure size 640x480 with 1 Axes>"
      ]
     },
     "metadata": {},
     "output_type": "display_data"
    }
   ],
   "source": [
    "ax = df_flight_carrier.plot(kind='bar', stacked=False)\n",
    "plt.xlabel('Carrier')\n",
    "plt.ylabel('Count')\n",
    "plt.title('Status of flight per carrier')\n",
    "plt.show"
   ]
  },
  {
   "cell_type": "markdown",
   "id": "a5b53f78",
   "metadata": {},
   "source": [
    "## Bài 3"
   ]
  },
  {
   "cell_type": "code",
   "execution_count": 62,
   "id": "6c706dc8",
   "metadata": {},
   "outputs": [],
   "source": [
    "mean_arr_delay_origin = df['arr_delay'].groupby(df['origin']).mean().round(2).to_frame(name='mean of arr_delay')\n",
    "mean_dep_delay_origin = df['dep_delay'].groupby(df['origin']).mean().round(2).to_frame(name='mean of dep_delay')"
   ]
  },
  {
   "cell_type": "code",
   "execution_count": 61,
   "id": "6cc74370",
   "metadata": {},
   "outputs": [
    {
     "data": {
      "text/html": [
       "<div>\n",
       "<style scoped>\n",
       "    .dataframe tbody tr th:only-of-type {\n",
       "        vertical-align: middle;\n",
       "    }\n",
       "\n",
       "    .dataframe tbody tr th {\n",
       "        vertical-align: top;\n",
       "    }\n",
       "\n",
       "    .dataframe thead th {\n",
       "        text-align: right;\n",
       "    }\n",
       "</style>\n",
       "<table border=\"1\" class=\"dataframe\">\n",
       "  <thead>\n",
       "    <tr style=\"text-align: right;\">\n",
       "      <th></th>\n",
       "      <th>mean of arr_delay</th>\n",
       "      <th>mean of dep_delay</th>\n",
       "    </tr>\n",
       "    <tr>\n",
       "      <th>origin</th>\n",
       "      <th></th>\n",
       "      <th></th>\n",
       "    </tr>\n",
       "  </thead>\n",
       "  <tbody>\n",
       "    <tr>\n",
       "      <th>EWR</th>\n",
       "      <td>9.04</td>\n",
       "      <td>15.04</td>\n",
       "    </tr>\n",
       "    <tr>\n",
       "      <th>JFK</th>\n",
       "      <td>5.58</td>\n",
       "      <td>12.12</td>\n",
       "    </tr>\n",
       "    <tr>\n",
       "      <th>LGA</th>\n",
       "      <td>5.82</td>\n",
       "      <td>10.42</td>\n",
       "    </tr>\n",
       "  </tbody>\n",
       "</table>\n",
       "</div>"
      ],
      "text/plain": [
       "        mean of arr_delay  mean of dep_delay\n",
       "origin                                      \n",
       "EWR                  9.04              15.04\n",
       "JFK                  5.58              12.12\n",
       "LGA                  5.82              10.42"
      ]
     },
     "execution_count": 61,
     "metadata": {},
     "output_type": "execute_result"
    }
   ],
   "source": [
    "df_mean_delay_origin = pd.concat((mean_arr_delay_origin, mean_dep_delay_origin), axis=1)\n",
    "df_mean_delay_origin"
   ]
  },
  {
   "cell_type": "code",
   "execution_count": 64,
   "id": "2325a655",
   "metadata": {},
   "outputs": [
    {
     "data": {
      "text/plain": [
       "<function matplotlib.pyplot.show(close=None, block=None)>"
      ]
     },
     "execution_count": 64,
     "metadata": {},
     "output_type": "execute_result"
    },
    {
     "data": {
      "image/png": "[encoded data removed]",
      "text/plain": [
       "<Figure size 640x480 with 1 Axes>"
      ]
     },
     "metadata": {},
     "output_type": "display_data"
    }
   ],
   "source": [
    "ax = df_mean_delay_origin.plot(kind='bar', stacked=False)\n",
    "plt.xlabel('Origin')\n",
    "plt.ylabel('Count')\n",
    "plt.title('Mean of delayed flights per origin')\n",
    "plt.show"
   ]
  },
  {
   "cell_type": "code",
   "execution_count": 65,
   "id": "8e61dfcf",
   "metadata": {},
   "outputs": [],
   "source": [
    "mean_arr_delay_carrier = df['arr_delay'].groupby(df['carrier']).mean().round(2).to_frame(name='mean of arr_delay')\n",
    "mean_dep_delay_carrier = df['dep_delay'].groupby(df['carrier']).mean().round(2).to_frame(name='mean of dep_delay')"
   ]
  },
  {
   "cell_type": "code",
   "execution_count": 66,
   "id": "943325ec",
   "metadata": {},
   "outputs": [
    {
     "data": {
      "text/html": [
       "<div>\n",
       "<style scoped>\n",
       "    .dataframe tbody tr th:only-of-type {\n",
       "        vertical-align: middle;\n",
       "    }\n",
       "\n",
       "    .dataframe tbody tr th {\n",
       "        vertical-align: top;\n",
       "    }\n",
       "\n",
       "    .dataframe thead th {\n",
       "        text-align: right;\n",
       "    }\n",
       "</style>\n",
       "<table border=\"1\" class=\"dataframe\">\n",
       "  <thead>\n",
       "    <tr style=\"text-align: right;\">\n",
       "      <th></th>\n",
       "      <th>mean of arr_delay</th>\n",
       "      <th>mean of dep_delay</th>\n",
       "    </tr>\n",
       "    <tr>\n",
       "      <th>carrier</th>\n",
       "      <th></th>\n",
       "      <th></th>\n",
       "    </tr>\n",
       "  </thead>\n",
       "  <tbody>\n",
       "    <tr>\n",
       "      <th>9E</th>\n",
       "      <td>7.35</td>\n",
       "      <td>16.49</td>\n",
       "    </tr>\n",
       "    <tr>\n",
       "      <th>AA</th>\n",
       "      <td>0.52</td>\n",
       "      <td>8.66</td>\n",
       "    </tr>\n",
       "    <tr>\n",
       "      <th>AS</th>\n",
       "      <td>-9.81</td>\n",
       "      <td>5.82</td>\n",
       "    </tr>\n",
       "    <tr>\n",
       "      <th>B6</th>\n",
       "      <td>9.43</td>\n",
       "      <td>13.02</td>\n",
       "    </tr>\n",
       "    <tr>\n",
       "      <th>DL</th>\n",
       "      <td>1.69</td>\n",
       "      <td>9.29</td>\n",
       "    </tr>\n",
       "    <tr>\n",
       "      <th>EV</th>\n",
       "      <td>15.29</td>\n",
       "      <td>19.57</td>\n",
       "    </tr>\n",
       "    <tr>\n",
       "      <th>F9</th>\n",
       "      <td>21.83</td>\n",
       "      <td>20.18</td>\n",
       "    </tr>\n",
       "    <tr>\n",
       "      <th>FL</th>\n",
       "      <td>19.77</td>\n",
       "      <td>18.59</td>\n",
       "    </tr>\n",
       "    <tr>\n",
       "      <th>HA</th>\n",
       "      <td>-6.92</td>\n",
       "      <td>4.90</td>\n",
       "    </tr>\n",
       "    <tr>\n",
       "      <th>MQ</th>\n",
       "      <td>10.57</td>\n",
       "      <td>10.65</td>\n",
       "    </tr>\n",
       "    <tr>\n",
       "      <th>OO</th>\n",
       "      <td>11.46</td>\n",
       "      <td>12.59</td>\n",
       "    </tr>\n",
       "    <tr>\n",
       "      <th>UA</th>\n",
       "      <td>3.61</td>\n",
       "      <td>12.11</td>\n",
       "    </tr>\n",
       "    <tr>\n",
       "      <th>US</th>\n",
       "      <td>2.29</td>\n",
       "      <td>4.07</td>\n",
       "    </tr>\n",
       "    <tr>\n",
       "      <th>VX</th>\n",
       "      <td>1.81</td>\n",
       "      <td>12.87</td>\n",
       "    </tr>\n",
       "    <tr>\n",
       "      <th>WN</th>\n",
       "      <td>9.60</td>\n",
       "      <td>17.63</td>\n",
       "    </tr>\n",
       "    <tr>\n",
       "      <th>YV</th>\n",
       "      <td>14.74</td>\n",
       "      <td>18.40</td>\n",
       "    </tr>\n",
       "  </tbody>\n",
       "</table>\n",
       "</div>"
      ],
      "text/plain": [
       "         mean of arr_delay  mean of dep_delay\n",
       "carrier                                      \n",
       "9E                    7.35              16.49\n",
       "AA                    0.52               8.66\n",
       "AS                   -9.81               5.82\n",
       "B6                    9.43              13.02\n",
       "DL                    1.69               9.29\n",
       "EV                   15.29              19.57\n",
       "F9                   21.83              20.18\n",
       "FL                   19.77              18.59\n",
       "HA                   -6.92               4.90\n",
       "MQ                   10.57              10.65\n",
       "OO                   11.46              12.59\n",
       "UA                    3.61              12.11\n",
       "US                    2.29               4.07\n",
       "VX                    1.81              12.87\n",
       "WN                    9.60              17.63\n",
       "YV                   14.74              18.40"
      ]
     },
     "execution_count": 66,
     "metadata": {},
     "output_type": "execute_result"
    }
   ],
   "source": [
    "df_mean_delay_carrier = pd.concat((mean_arr_delay_carrier, mean_dep_delay_carrier), axis=1)\n",
    "df_mean_delay_carrier"
   ]
  },
  {
   "cell_type": "code",
   "execution_count": 68,
   "id": "3446d70c",
   "metadata": {},
   "outputs": [
    {
     "data": {
      "text/plain": [
       "<function matplotlib.pyplot.show(close=None, block=None)>"
      ]
     },
     "execution_count": 68,
     "metadata": {},
     "output_type": "execute_result"
    },
    {
     "data": {
      "image/png": "[encoded data removed]",
      "text/plain": [
       "<Figure size 640x480 with 1 Axes>"
      ]
     },
     "metadata": {},
     "output_type": "display_data"
    }
   ],
   "source": [
    "ax = df_mean_delay_carrier.plot(kind='bar', stacked=False)\n",
    "plt.xlabel('Carrier')\n",
    "plt.ylabel('Count')\n",
    "plt.title('Mean of delayed flights per carrier')\n",
    "plt.show"
   ]
  },
  {
   "cell_type": "markdown",
   "id": "5860e20b",
   "metadata": {},
   "source": [
    "## Bài 4"
   ]
  },
  {
   "cell_type": "code",
   "execution_count": 69,
   "id": "3f07f184",
   "metadata": {},
   "outputs": [],
   "source": [
    "sum_distance_carrier = df['distance'].groupby(df['carrier']).sum().to_frame(name='Sum')\n",
    "mean_distance_carrier = df['distance'].groupby(df['carrier']).mean().round(2).to_frame(name='Mean')\n",
    "median_distance_carrier = df['distance'].groupby(df['carrier']).median().round(2).to_frame(name='Median')"
   ]
  },
  {
   "cell_type": "code",
   "execution_count": 70,
   "id": "6bbdef49",
   "metadata": {},
   "outputs": [
    {
     "data": {
      "text/html": [
       "<div>\n",
       "<style scoped>\n",
       "    .dataframe tbody tr th:only-of-type {\n",
       "        vertical-align: middle;\n",
       "    }\n",
       "\n",
       "    .dataframe tbody tr th {\n",
       "        vertical-align: top;\n",
       "    }\n",
       "\n",
       "    .dataframe thead th {\n",
       "        text-align: right;\n",
       "    }\n",
       "</style>\n",
       "<table border=\"1\" class=\"dataframe\">\n",
       "  <thead>\n",
       "    <tr style=\"text-align: right;\">\n",
       "      <th></th>\n",
       "      <th>Sum</th>\n",
       "      <th>Mean</th>\n",
       "      <th>Median</th>\n",
       "    </tr>\n",
       "    <tr>\n",
       "      <th>carrier</th>\n",
       "      <th></th>\n",
       "      <th></th>\n",
       "      <th></th>\n",
       "    </tr>\n",
       "  </thead>\n",
       "  <tbody>\n",
       "    <tr>\n",
       "      <th>9E</th>\n",
       "      <td>9788152</td>\n",
       "      <td>530.24</td>\n",
       "      <td>509.0</td>\n",
       "    </tr>\n",
       "    <tr>\n",
       "      <th>AA</th>\n",
       "      <td>43864584</td>\n",
       "      <td>1340.24</td>\n",
       "      <td>1096.0</td>\n",
       "    </tr>\n",
       "    <tr>\n",
       "      <th>AS</th>\n",
       "      <td>1715028</td>\n",
       "      <td>2402.00</td>\n",
       "      <td>2402.0</td>\n",
       "    </tr>\n",
       "    <tr>\n",
       "      <th>B6</th>\n",
       "      <td>58384137</td>\n",
       "      <td>1068.62</td>\n",
       "      <td>1023.0</td>\n",
       "    </tr>\n",
       "    <tr>\n",
       "      <th>DL</th>\n",
       "      <td>59507317</td>\n",
       "      <td>1236.90</td>\n",
       "      <td>1020.0</td>\n",
       "    </tr>\n",
       "    <tr>\n",
       "      <th>EV</th>\n",
       "      <td>30498951</td>\n",
       "      <td>562.99</td>\n",
       "      <td>533.0</td>\n",
       "    </tr>\n",
       "    <tr>\n",
       "      <th>F9</th>\n",
       "      <td>1109700</td>\n",
       "      <td>1620.00</td>\n",
       "      <td>1620.0</td>\n",
       "    </tr>\n",
       "    <tr>\n",
       "      <th>FL</th>\n",
       "      <td>2167344</td>\n",
       "      <td>664.83</td>\n",
       "      <td>762.0</td>\n",
       "    </tr>\n",
       "    <tr>\n",
       "      <th>HA</th>\n",
       "      <td>1704186</td>\n",
       "      <td>4983.00</td>\n",
       "      <td>4983.0</td>\n",
       "    </tr>\n",
       "    <tr>\n",
       "      <th>MQ</th>\n",
       "      <td>15033955</td>\n",
       "      <td>569.53</td>\n",
       "      <td>502.0</td>\n",
       "    </tr>\n",
       "    <tr>\n",
       "      <th>OO</th>\n",
       "      <td>16026</td>\n",
       "      <td>500.81</td>\n",
       "      <td>419.0</td>\n",
       "    </tr>\n",
       "    <tr>\n",
       "      <th>UA</th>\n",
       "      <td>89705524</td>\n",
       "      <td>1529.11</td>\n",
       "      <td>1400.0</td>\n",
       "    </tr>\n",
       "    <tr>\n",
       "      <th>US</th>\n",
       "      <td>11365778</td>\n",
       "      <td>553.46</td>\n",
       "      <td>529.0</td>\n",
       "    </tr>\n",
       "    <tr>\n",
       "      <th>VX</th>\n",
       "      <td>12902327</td>\n",
       "      <td>2499.48</td>\n",
       "      <td>2475.0</td>\n",
       "    </tr>\n",
       "    <tr>\n",
       "      <th>WN</th>\n",
       "      <td>12229203</td>\n",
       "      <td>996.27</td>\n",
       "      <td>748.0</td>\n",
       "    </tr>\n",
       "    <tr>\n",
       "      <th>YV</th>\n",
       "      <td>225395</td>\n",
       "      <td>375.03</td>\n",
       "      <td>229.0</td>\n",
       "    </tr>\n",
       "  </tbody>\n",
       "</table>\n",
       "</div>"
      ],
      "text/plain": [
       "              Sum     Mean  Median\n",
       "carrier                           \n",
       "9E        9788152   530.24   509.0\n",
       "AA       43864584  1340.24  1096.0\n",
       "AS        1715028  2402.00  2402.0\n",
       "B6       58384137  1068.62  1023.0\n",
       "DL       59507317  1236.90  1020.0\n",
       "EV       30498951   562.99   533.0\n",
       "F9        1109700  1620.00  1620.0\n",
       "FL        2167344   664.83   762.0\n",
       "HA        1704186  4983.00  4983.0\n",
       "MQ       15033955   569.53   502.0\n",
       "OO          16026   500.81   419.0\n",
       "UA       89705524  1529.11  1400.0\n",
       "US       11365778   553.46   529.0\n",
       "VX       12902327  2499.48  2475.0\n",
       "WN       12229203   996.27   748.0\n",
       "YV         225395   375.03   229.0"
      ]
     },
     "execution_count": 70,
     "metadata": {},
     "output_type": "execute_result"
    }
   ],
   "source": [
    "df_distance_carrier = pd.concat((sum_distance_carrier, mean_distance_carrier, median_distance_carrier), axis=1)\n",
    "df_distance_carrier"
   ]
  },
  {
   "cell_type": "code",
   "execution_count": null,
   "id": "0b5d3893",
   "metadata": {},
   "outputs": [],
   "source": []
  }
 ],
 "metadata": {
  "kernelspec": {
   "display_name": "Python 3 (ipykernel)",
   "language": "python",
   "name": "python3"
  },
  "language_info": {
   "codemirror_mode": {
    "name": "ipython",
    "version": 3
   },
   "file_extension": ".py",
   "mimetype": "text/x-python",
   "name": "python",
   "nbconvert_exporter": "python",
   "pygments_lexer": "ipython3",
   "version": "3.10.9"
  }
 },
 "nbformat": 4,
 "nbformat_minor": 5
}
