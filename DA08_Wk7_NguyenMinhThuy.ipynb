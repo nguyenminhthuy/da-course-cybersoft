{
 "cells": [
  {
   "cell_type": "markdown",
   "id": "6e85f29d",
   "metadata": {},
   "source": [
    "1. Bài 1:\n",
    "* Đếm số chuyến bay trễ của các sân bay (cột ‘origin’)\n",
    "* Tương tự, đếm số chuyến bay không trễ của các sân bay\n",
    "* Tạo bảng hiển thị số chuyến bay trễ vs. không trễ\n",
    "* Vẽ lên biểu đồ\n",
    "2. Bài 2:\n",
    "* Thực hiện tương tự với các hãng hàng không (cột ‘carrier’)\n",
    "3. Bài 3:\n",
    "* Tính thời gian trễ (gồm dep_delay và arr_delay) trung bình của các hãng\n",
    "* Tính thời gian trễ (gồm dep_delay và arr_delay) trung bình từ các sân bay\n",
    "* Vẽ các kết quả lên biểu đồ\n",
    "4. Bài 4:\n",
    "* Tính tổng, trung bình, mean, median của quãng đường bay của từng hãng (cột distance)\n",
    "\n",
    "https://www.kaggle.com/code/alouiamine/data-visualization-flights"
   ]
  },
  {
   "cell_type": "code",
   "execution_count": 1,
   "id": "b9a6e685",
   "metadata": {},
   "outputs": [],
   "source": [
    "import pandas as pd\n",
    "import numpy as np"
   ]
  },
  {
   "cell_type": "code",
   "execution_count": 4,
   "id": "e6fb1e0c",
   "metadata": {},
   "outputs": [
    {
     "name": "stdout",
     "output_type": "stream",
     "text": [
      "<class 'pandas.core.frame.DataFrame'>\n",
      "Int64Index: 336776 entries, 1 to 336776\n",
      "Data columns (total 16 columns):\n",
      " #   Column     Non-Null Count   Dtype  \n",
      "---  ------     --------------   -----  \n",
      " 0   year       336776 non-null  int64  \n",
      " 1   month      336776 non-null  int64  \n",
      " 2   day        336776 non-null  int64  \n",
      " 3   dep_time   328521 non-null  float64\n",
      " 4   dep_delay  328521 non-null  float64\n",
      " 5   arr_time   328063 non-null  float64\n",
      " 6   arr_delay  327346 non-null  float64\n",
      " 7   carrier    336776 non-null  object \n",
      " 8   tailnum    334264 non-null  object \n",
      " 9   flight     336776 non-null  int64  \n",
      " 10  origin     336776 non-null  object \n",
      " 11  dest       336776 non-null  object \n",
      " 12  air_time   327346 non-null  float64\n",
      " 13  distance   336776 non-null  int64  \n",
      " 14  hour       328521 non-null  float64\n",
      " 15  minute     328521 non-null  float64\n",
      "dtypes: float64(7), int64(5), object(4)\n",
      "memory usage: 43.7+ MB\n"
     ]
    }
   ],
   "source": [
    "df = pd.read_csv('data/nycflights.csv', \n",
    "                low_memory=False,\n",
    "                index_col=0)\n",
    "df.info()"
   ]
  },
  {
   "cell_type": "code",
   "execution_count": null,
   "id": "9aaf583a",
   "metadata": {},
   "outputs": [],
   "source": []
  }
 ],
 "metadata": {
  "kernelspec": {
   "display_name": "Python 3 (ipykernel)",
   "language": "python",
   "name": "python3"
  },
  "language_info": {
   "codemirror_mode": {
    "name": "ipython",
    "version": 3
   },
   "file_extension": ".py",
   "mimetype": "text/x-python",
   "name": "python",
   "nbconvert_exporter": "python",
   "pygments_lexer": "ipython3",
   "version": "3.10.9"
  }
 },
 "nbformat": 4,
 "nbformat_minor": 5
}
