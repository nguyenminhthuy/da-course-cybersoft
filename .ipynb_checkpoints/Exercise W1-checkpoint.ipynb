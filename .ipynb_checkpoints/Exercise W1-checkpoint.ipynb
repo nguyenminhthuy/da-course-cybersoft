{
 "cells": [
  {
   "cell_type": "code",
   "execution_count": 1,
   "id": "453c5710",
   "metadata": {},
   "outputs": [],
   "source": [
    "def sayHello():\n",
    "    last_name = input(\"Enter Last/Family Name: \")\n",
    "    middle_first_name = input(\"Enter Middle and First/Given name: \")\n",
    "    suffix = input(\"Enter Suffix (Mr/Ms): \")\n",
    "\n",
    "    print(f\"\\nHello {suffix} {last_name} {middle_first_name}\")\n",
    "    print(f\"The name printed on your ticket is {last_name} {middle_first_name}\")"
   ]
  },
  {
   "cell_type": "code",
   "execution_count": 2,
   "id": "51d83bf1",
   "metadata": {},
   "outputs": [],
   "source": [
    "seat_number = 99\n",
    "def seat_count():\n",
    "    global seat_number\n",
    "    seat_number += 1\n",
    "    return seat_number"
   ]
  },
  {
   "cell_type": "code",
   "execution_count": 3,
   "id": "6f8d506a",
   "metadata": {},
   "outputs": [],
   "source": [
    "def sayHelloWithSeatNumber():\n",
    "    last_name = input(\"Enter Last/Family Name: \")\n",
    "    middle_first_name = input(\"Enter Middle and First/Given name: \")\n",
    "    suffix = input(\"Enter Suffix (Mr/Ms): \")\n",
    "\n",
    "    print(f\"\\nHello {suffix} {last_name} {middle_first_name}\")\n",
    "    print(f\"The name printed on your ticket is {last_name} {middle_first_name}\")\n",
    "    print(f\"Your seat number is {seat_count()}\")"
   ]
  },
  {
   "cell_type": "code",
   "execution_count": 4,
   "id": "f5bd2d93",
   "metadata": {},
   "outputs": [],
   "source": [
    "from datetime import date\n",
    "\n",
    "def age(year_of_birth):\n",
    "    return date.today().year - year_of_birth\n",
    "\n",
    "def sayHelloWithYearOfBirth():\n",
    "    last_name = input(\"Enter Last/Family Name: \")\n",
    "    middle_first_name = input(\"Enter Middle and First/Given name: \")\n",
    "    suffix = input(\"Enter Suffix (Mr/Ms): \")\n",
    "    year_of_birth = input(\"Enter Year of Birth: \")\n",
    "    \n",
    "    print(f\"\\nHello {suffix} {last_name} {middle_first_name}\")\n",
    "    print(f\"The name printed on your ticket is {last_name} {middle_first_name}\")\n",
    "    print(f\"Your seat number is {seat_count()}\")\n",
    "    print(f\"You are {age(int(year_of_birth))} years old.\")"
   ]
  },
  {
   "cell_type": "code",
   "execution_count": 5,
   "id": "1bae3abb",
   "metadata": {},
   "outputs": [
    {
     "name": "stdout",
     "output_type": "stream",
     "text": [
      "Enter Last/Family Name: nguyen\n",
      "Enter Middle and First/Given name: thuy\n",
      "Enter Suffix (Mr/Ms): ms\n",
      "\n",
      "Hello ms nguyen thuy\n",
      "The name printed on your ticket is nguyen thuy\n"
     ]
    }
   ],
   "source": [
    "# Exercise 1\n",
    "\n",
    "sayHello()"
   ]
  },
  {
   "cell_type": "code",
   "execution_count": 6,
   "id": "6123ff2e",
   "metadata": {},
   "outputs": [
    {
     "name": "stdout",
     "output_type": "stream",
     "text": [
      "Enter Last/Family Name: ng\n",
      "Enter Middle and First/Given name: th\n",
      "Enter Suffix (Mr/Ms): ms\n",
      "\n",
      "Hello ms ng th\n",
      "The name printed on your ticket is ng th\n",
      "Your seat number is 100\n"
     ]
    }
   ],
   "source": [
    "# Exercise 2\n",
    "\n",
    "sayHelloWithSeatNumber()"
   ]
  },
  {
   "cell_type": "code",
   "execution_count": 7,
   "id": "b48eb8d6",
   "metadata": {},
   "outputs": [
    {
     "name": "stdout",
     "output_type": "stream",
     "text": [
      "Enter Last/Family Name: nguyen\n",
      "Enter Middle and First/Given name: thuy\n",
      "Enter Suffix (Mr/Ms): ms\n",
      "Enter Year of Birth: 1994\n",
      "\n",
      "Hello ms nguyen thuy\n",
      "The name printed on your ticket is nguyen thuy\n",
      "Your seat number is 101\n",
      "You are 29 years old.\n"
     ]
    }
   ],
   "source": [
    "# Exercise 3\n",
    "\n",
    "sayHelloWithYearOfBirth()"
   ]
  }
 ],
 "metadata": {
  "kernelspec": {
   "display_name": "Python 3 (ipykernel)",
   "language": "python",
   "name": "python3"
  },
  "language_info": {
   "codemirror_mode": {
    "name": "ipython",
    "version": 3
   },
   "file_extension": ".py",
   "mimetype": "text/x-python",
   "name": "python",
   "nbconvert_exporter": "python",
   "pygments_lexer": "ipython3",
   "version": "3.9.13"
  }
 },
 "nbformat": 4,
 "nbformat_minor": 5
}
