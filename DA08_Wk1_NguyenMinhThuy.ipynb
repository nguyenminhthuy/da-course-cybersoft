{
 "cells": [
  {
   "cell_type": "code",
   "execution_count": 1,
   "id": "453c5710",
   "metadata": {},
   "outputs": [],
   "source": [
    "def sayHello():\n",
    "    last_name = input(\"Enter Last/Family Name: \")\n",
    "    middle_first_name = input(\"Enter Middle and First/Given name: \")\n",
    "    suffix = input(\"Enter Suffix (Mr/Ms): \")\n",
    "\n",
    "    print(f\"\\nHello {suffix} {last_name} {middle_first_name}\")\n",
    "    print(f\"The name printed on your ticket is {last_name} {middle_first_name}\")"
   ]
  },
  {
   "cell_type": "code",
   "execution_count": 2,
   "id": "51d83bf1",
   "metadata": {},
   "outputs": [],
   "source": [
    "seat_number = 99\n",
    "def seat_count():\n",
    "    global seat_number\n",
    "    seat_number += 1\n",
    "    return seat_number"
   ]
  },
  {
   "cell_type": "code",
   "execution_count": 3,
   "id": "6f8d506a",
   "metadata": {},
   "outputs": [],
   "source": [
    "def sayHelloWithSeatNumber():\n",
    "    last_name = input(\"Enter Last/Family Name: \")\n",
    "    middle_first_name = input(\"Enter Middle and First/Given name: \")\n",
    "    suffix = input(\"Enter Suffix (Mr/Ms): \")\n",
    "\n",
    "    print(f\"\\nHello {suffix} {last_name} {middle_first_name}\")\n",
    "    print(f\"The name printed on your ticket is {last_name} {middle_first_name}\")\n",
    "    print(f\"Your seat number is {seat_count()}\")"
   ]
  },
  {
   "cell_type": "code",
   "execution_count": 4,
   "id": "f5bd2d93",
   "metadata": {},
   "outputs": [],
   "source": [
    "from datetime import date\n",
    "\n",
    "def age(year_of_birth):\n",
    "    return date.today().year - year_of_birth\n",
    "\n",
    "def sayHelloWithAge():\n",
    "    last_name = input(\"Enter Last/Family Name: \")\n",
    "    middle_first_name = input(\"Enter Middle and First/Given name: \")\n",
    "    suffix = input(\"Enter Suffix (Mr/Ms): \")\n",
    "    year_of_birth = input(\"Enter Year of Birth: \")\n",
    "    \n",
    "    print(f\"\\nHello {suffix} {last_name} {middle_first_name}\")\n",
    "    print(f\"The name printed on your ticket is {last_name} {middle_first_name}\")\n",
    "    print(f\"Your seat number is {seat_count()}\")\n",
    "    print(f\"You are {age(int(year_of_birth))} years old.\")"
   ]
  },
  {
   "cell_type": "code",
   "execution_count": null,
   "id": "1bae3abb",
   "metadata": {},
   "outputs": [],
   "source": [
    "# Exercise 1\n",
    "\n",
    "sayHello()"
   ]
  },
  {
   "cell_type": "code",
   "execution_count": null,
   "id": "6123ff2e",
   "metadata": {},
   "outputs": [],
   "source": [
    "# Exercise 2\n",
    "\n",
    "sayHelloWithSeatNumber()"
   ]
  },
  {
   "cell_type": "code",
   "execution_count": 5,
   "id": "b48eb8d6",
   "metadata": {},
   "outputs": [
    {
     "name": "stdout",
     "output_type": "stream",
     "text": [
      "Enter Last/Family Name: 1\n",
      "Enter Middle and First/Given name: 5\n",
      "Enter Suffix (Mr/Ms): 4\n",
      "Enter Year of Birth: 4\n",
      "\n",
      "Hello 4 1 5\n",
      "The name printed on your ticket is 1 5\n",
      "Your seat number is 100\n",
      "You are 2019 years old.\n"
     ]
    }
   ],
   "source": [
    "# Exercise 3\n",
    "\n",
    "sayHelloWithAge()"
   ]
  }
 ],
 "metadata": {
  "kernelspec": {
   "display_name": "Python 3 (ipykernel)",
   "language": "python",
   "name": "python3"
  },
  "language_info": {
   "codemirror_mode": {
    "name": "ipython",
    "version": 3
   },
   "file_extension": ".py",
   "mimetype": "text/x-python",
   "name": "python",
   "nbconvert_exporter": "python",
   "pygments_lexer": "ipython3",
   "version": "3.10.9"
  }
 },
 "nbformat": 4,
 "nbformat_minor": 5
}
