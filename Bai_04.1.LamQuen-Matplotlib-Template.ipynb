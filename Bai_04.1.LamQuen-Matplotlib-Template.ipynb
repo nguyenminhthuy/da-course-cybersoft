{
 "cells": [
  {
   "cell_type": "code",
   "execution_count": null,
   "id": "6909abaf",
   "metadata": {},
   "outputs": [],
   "source": [
    "%%html\n",
    "<style type='text/css'>\n",
    ".CodeMirror{\n",
    "    font-size: 18px;\n",
    "}\n",
    "\n",
    "div.output_area pre {\n",
    "    font-size: 16px;\n",
    "}\n",
    "</style>"
   ]
  },
  {
   "cell_type": "markdown",
   "id": "9c15210e",
   "metadata": {},
   "source": [
    "# Phần 1. Giới thiệu"
   ]
  },
  {
   "cell_type": "code",
   "execution_count": null,
   "id": "931ab1c9",
   "metadata": {},
   "outputs": [],
   "source": [
    "import matplotlib\n",
    "import matplotlib.pyplot as plt\n",
    "\n",
    "print(matplotlib.__version__)\n",
    "# print(matplotlib)\n",
    "# print(plt)"
   ]
  },
  {
   "cell_type": "markdown",
   "id": "bdcfbdb9",
   "metadata": {},
   "source": [
    "## 1.1) Ví dụ"
   ]
  },
  {
   "cell_type": "code",
   "execution_count": null,
   "id": "68a6c847",
   "metadata": {},
   "outputs": [],
   "source": [
    "# Cách sử dụng đơn giản\n",
    "\n",
    "x = [1,2,3]\n",
    "y = [6,4,5]\n",
    "plt.plot(x,y)\n",
    "plt.show()"
   ]
  },
  {
   "cell_type": "code",
   "execution_count": null,
   "id": "1264600e",
   "metadata": {
    "scrolled": false
   },
   "outputs": [],
   "source": [
    "# Thêm vào một số thông tin và trang trí\n",
    "\n",
    "plt.plot([1,2,3], [6,4,5], color=\"red\", marker=\"o\")\n",
    "plt.title(\"Demo Vẽ Hình với Matplot.Pyplot\", fontsize=16, fontweight=\"bold\", color=\"blue\")\n",
    "plt.xlabel(\"Giá trị của x\", fontsize=14, color=\"green\")\n",
    "plt.ylabel(\"Giá trị của y\", fontsize=14, color=\"red\")\n",
    "plt.xticks(x)\n",
    "plt.yticks(y)\n",
    "plt.show()"
   ]
  },
  {
   "cell_type": "code",
   "execution_count": null,
   "id": "9c572cbd",
   "metadata": {},
   "outputs": [],
   "source": [
    "# Sử dụng các biểu đồ con: Subplots\n",
    "plt.subplot(1,2,1)\n",
    "plt.plot([1,2,3], [6,4,5], color=\"red\", marker=\"o\")\n",
    "\n",
    "plt.subplot(1,2,2)\n",
    "plt.plot([1,2,3], [3,5,0], color=\"green\", marker=\"^\")\n",
    "plt.show()"
   ]
  },
  {
   "cell_type": "code",
   "execution_count": null,
   "id": "49705232",
   "metadata": {},
   "outputs": [],
   "source": [
    "# Ví dụ về vẽ đường thẳng\n",
    "A = [3,4]\n",
    "B = [1,6]\n",
    "\n",
    "plt.plot([A[0], B[0]], [A[1], B[1]], marker=\"o\")\n",
    "plt.xticks([0,1,2,3,4,5])\n",
    "plt.yticks([0,1,2,3,4,5,6,7])\n",
    "\n",
    "# In nhãn \"A\" và \"B\" lên biểu đồ\n",
    "plt.text(A[0], A[1]+0.1, \"A\", size=16)\n",
    "plt.text(B[0]-0.2, B[1]-0.2, \"B\", size=16)\n",
    "\n",
    "plt.xlim([0, 5])\n",
    "plt.ylim([0,7])\n",
    "plt.grid()\n",
    "\n",
    "plt.show()"
   ]
  },
  {
   "cell_type": "markdown",
   "id": "e8a91262",
   "metadata": {},
   "source": [
    "## 1.3) Cấu trúc của biểu đồ trong Matplotlib"
   ]
  },
  {
   "cell_type": "markdown",
   "id": "dfdfc415",
   "metadata": {},
   "source": [
    "**Khởi tạo các subplot**"
   ]
  },
  {
   "cell_type": "code",
   "execution_count": null,
   "id": "b8d6468f",
   "metadata": {},
   "outputs": [],
   "source": [
    "# Cách 1: sử dụng hàm plt.subplot()\n",
    "???\n"
   ]
  },
  {
   "cell_type": "code",
   "execution_count": null,
   "id": "76bdd2c8",
   "metadata": {},
   "outputs": [],
   "source": [
    "# Cách 2: sử dụng fig.add_subplot()\n",
    "???\n"
   ]
  },
  {
   "cell_type": "markdown",
   "id": "18530286",
   "metadata": {},
   "source": [
    "**Vẽ vào các subplot**"
   ]
  },
  {
   "cell_type": "code",
   "execution_count": null,
   "id": "f4b51907",
   "metadata": {
    "scrolled": true
   },
   "outputs": [],
   "source": [
    "fig = plt.figure()\n",
    "ax1 = fig.add_subplot(2, 2, 1)\n",
    "???\n",
    "\n",
    "ax2 = fig.add_subplot(2, 2, 2)\n",
    "???\n",
    "\n",
    "ax3 = fig.add_subplot(2, 2, 3)\n",
    "???\n",
    "\n",
    "# Giả sử muốn vẽ thêm và ax1\n",
    "\n",
    "\n",
    "plt.show()"
   ]
  },
  {
   "cell_type": "markdown",
   "id": "7098a621",
   "metadata": {},
   "source": [
    "**Đồng nhất scale của các trục**"
   ]
  },
  {
   "cell_type": "code",
   "execution_count": null,
   "id": "ecea69d0",
   "metadata": {},
   "outputs": [],
   "source": [
    "fig = plt.figure()\n",
    "ax1 = fig.add_subplot(2, 2, 1)\n",
    "plt.plot([1,2,3], [6,4,5], color=\"red\", marker=\"o\")\n",
    "\n",
    "ax2 = fig.add_subplot(2, 2, 2, ???)\n",
    "plt.plot([1,2,3], [6,24,15], color=\"green\", marker=\"o\")\n",
    "\n",
    "ax3 = fig.add_subplot(2, 2, 3, ???)\n",
    "plt.plot([10,15,30], [6,14,5], color=\"blue\", marker=\"o\")\n",
    "# ax4 = fig.add_subplot(2, 2, 4)\n",
    "plt.show()"
   ]
  },
  {
   "cell_type": "markdown",
   "id": "4510a2ea",
   "metadata": {},
   "source": [
    "**Sắp xếp các subplot có kích thước khác nhau**"
   ]
  },
  {
   "cell_type": "code",
   "execution_count": null,
   "id": "2628b9da",
   "metadata": {
    "scrolled": false
   },
   "outputs": [],
   "source": [
    "fig = plt.figure()\n",
    "ax1 = fig.add_subplot(4, 2, 1)\n",
    "ax2 = fig.add_subplot(1, 2, 2)\n",
    "ax3 = fig.add_subplot(2, 2, 3)\n",
    "ax4 = fig.add_subplot(4, 2, 8)\n",
    "\n",
    "plt.show()"
   ]
  },
  {
   "cell_type": "code",
   "execution_count": null,
   "id": "40220107",
   "metadata": {},
   "outputs": [],
   "source": [
    "# Tạo subplot nằm ngang\n",
    "fig = plt.figure()\n",
    "???\n",
    "\n",
    "plt.show()"
   ]
  },
  {
   "cell_type": "code",
   "execution_count": null,
   "id": "222f6316",
   "metadata": {},
   "outputs": [],
   "source": [
    "# Tạo subplot nằm dọc\n",
    "fig = plt.figure()\n",
    "???\n",
    "\n",
    "plt.show()"
   ]
  },
  {
   "cell_type": "markdown",
   "id": "861bd1e6",
   "metadata": {},
   "source": [
    "**Tạo ra nhiều Figures trong một hình biểu diễn**"
   ]
  },
  {
   "cell_type": "code",
   "execution_count": null,
   "id": "4e93b81f",
   "metadata": {},
   "outputs": [],
   "source": [
    "# Tạo ra figure thứ nhất\n",
    "fig1 = plt.figure()\n",
    "ax11 = fig1.add_subplot(2, 2, 1)\n",
    "ax12 = fig1.add_subplot(2, 2, 2)\n",
    "ax13 = fig1.add_subplot(2, 1, 2)\n",
    "fig1.suptitle(\"Biểu đồ 1\")\n",
    "\n",
    "# Tạo ra figure thứ hai\n",
    "fig2 = plt.figure()\n",
    "ax21 = fig2.add_subplot(1, 2, 1)\n",
    "ax22 = fig2.add_subplot(2, 2, 2)\n",
    "ax23 = fig2.add_subplot(2, 2, 4)\n",
    "fig2.suptitle(\"Biểu đồ 2\")\n",
    "\n",
    "plt.show()"
   ]
  },
  {
   "cell_type": "markdown",
   "id": "2b04c3bb",
   "metadata": {},
   "source": [
    "**Dùng phép lặp để truy cập các Axes**"
   ]
  },
  {
   "cell_type": "code",
   "execution_count": null,
   "id": "a28e782d",
   "metadata": {
    "scrolled": false
   },
   "outputs": [],
   "source": [
    "# Khi tạo subplot, các subplots được lưu vào một list\n",
    "fig,axes = plt.subplots(3, 2, constrained_layout=True)\n",
    "print(axes.shape)\n",
    "for i in range(3):\n",
    "    for j in range(2):\n",
    "        print(axes[i][j])"
   ]
  },
  {
   "cell_type": "code",
   "execution_count": null,
   "id": "af67e792",
   "metadata": {
    "scrolled": false
   },
   "outputs": [],
   "source": [
    "# Khi tạo subplot, các subplots được lưu vào một list\n",
    "fig,axes = plt.subplots(3, 2, constrained_layout=True)\n",
    "print(axes.shape)\n",
    "\n",
    "for i in range(3):\n",
    "    for j in range(2):\n",
    "        ax = axes[i][j]\n",
    "        ax.plot([1,2,3], [6,4,5])\n",
    "\n",
    "plt.show()"
   ]
  },
  {
   "cell_type": "markdown",
   "id": "4358a568",
   "metadata": {},
   "source": [
    "# Phần 2. Sử dụng hàm plot()"
   ]
  },
  {
   "cell_type": "markdown",
   "id": "097cdbbf",
   "metadata": {},
   "source": [
    "**Vẽ một thông số**"
   ]
  },
  {
   "cell_type": "code",
   "execution_count": null,
   "id": "823f8a66",
   "metadata": {},
   "outputs": [],
   "source": [
    "???\n"
   ]
  },
  {
   "cell_type": "code",
   "execution_count": null,
   "id": "d650d955",
   "metadata": {},
   "outputs": [],
   "source": [
    "# Thêm vào một số thông tin và trang trí\n",
    "plt.plot([1,2,3], [6,4,5],\n",
    "         ???\n",
    "        )\n",
    "plt.title(\"Demo Hàm plot()\")\n",
    "plt.xlabel(\"Giá trị của x\")\n",
    "plt.ylabel(\"Giá trị của y\")\n",
    "plt.xticks(x)\n",
    "plt.yticks(y)\n",
    "plt.show()"
   ]
  },
  {
   "cell_type": "code",
   "execution_count": null,
   "id": "1d99bbdc",
   "metadata": {},
   "outputs": [],
   "source": [
    "# Nếu không cần đường kẻ\n",
    "ax1 = plt.subplot(1,2,1)\n",
    "ax1.plot([1,2,3], [6,4,5], color=\"red\", marker=\"o\", linestyle=\"dashed\")\n",
    "\n",
    "ax2 = plt.subplot(1,2,2)\n",
    "ax2.plot([1,2,3], [3,5,0], color=\"green\", marker=\"^\", ???)\n",
    "plt.show()"
   ]
  },
  {
   "cell_type": "markdown",
   "id": "31e8d974",
   "metadata": {},
   "source": [
    "**Vẽ vài thông số**"
   ]
  },
  {
   "cell_type": "code",
   "execution_count": null,
   "id": "0c5f2d47",
   "metadata": {},
   "outputs": [],
   "source": [
    "plt.plot([1,2,3], [6,4,5], color='blueviolet', marker=\"v\", markersize=12, ls=\"-.\")\n",
    "plt.plot([1,2,3], [3,6,7], color='red', marker=\"D\", markersize=10, ls=\"--\", lw=3)\n",
    "plt.show()"
   ]
  },
  {
   "cell_type": "markdown",
   "id": "221f16b1",
   "metadata": {},
   "source": [
    "**Kết hợp chỉ định color/marker/linestyle**"
   ]
  },
  {
   "cell_type": "code",
   "execution_count": null,
   "id": "4d161738",
   "metadata": {
    "scrolled": false
   },
   "outputs": [],
   "source": [
    "# Kết hợp chỉ định color/marker/linestyle\n",
    "x1,y1 = [1, 2, 3], [1, 2, 3]\n",
    "x2,y2 = [4, 5, 6], [1, 2, 3]\n",
    "???\n",
    "???\n",
    "plt.show()"
   ]
  },
  {
   "cell_type": "code",
   "execution_count": null,
   "id": "828db1fa",
   "metadata": {
    "scrolled": false
   },
   "outputs": [],
   "source": [
    "plt.plot([1,2,3], [6,4,5], \"gv-.\", [1,2,3,4,5],[2,1,4,3,7], \"bp-\", markersize=12)\n",
    "plt.plot([1,2,3], [3,6,7], color='red', marker=\"D\", markersize=10, ls=\"--\", lw=3)\n",
    "plt.show()"
   ]
  },
  {
   "cell_type": "markdown",
   "id": "8076a05e",
   "metadata": {},
   "source": [
    "**Gán nhãn và sử dụng legend**"
   ]
  },
  {
   "cell_type": "code",
   "execution_count": null,
   "id": "b47a1c18",
   "metadata": {},
   "outputs": [],
   "source": [
    "plt.plot([1, 2, 3], [1, 2, 3], 'go-', label='Chi Nhánh 1')\n",
    "plt.plot([1,2,3], [3,6,7], 'r^-', label='Chi Nhánh 2')\n",
    "\n",
    "???\n",
    "\n",
    "plt.show()"
   ]
  },
  {
   "cell_type": "code",
   "execution_count": null,
   "id": "8e6b762a",
   "metadata": {},
   "outputs": [],
   "source": [
    "# Chỉnh sửa lại legend\n",
    "fig = plt.figure(figsize=[8,4])\n",
    "plt.plot([1, 2, 3], [1, 2, 3], 'go-', label='Chi Nhánh 1')\n",
    "plt.plot([1,2,3], [3,6,7], 'r^-', label='Chi Nhánh 2')\n",
    "\n",
    "???\n",
    "\n",
    "plt.show()"
   ]
  },
  {
   "cell_type": "markdown",
   "id": "8b1e88b2",
   "metadata": {},
   "source": [
    "# Phần 3. Các thao tác cơ bản khác"
   ]
  },
  {
   "cell_type": "markdown",
   "id": "2faf9acc",
   "metadata": {},
   "source": [
    "## 3.1) Figure size và tight_layout"
   ]
  },
  {
   "cell_type": "markdown",
   "id": "bed18f45",
   "metadata": {},
   "source": [
    "**Có thể sử dụng `constrained_layout=True` hoặc `plt.tight_layout`**"
   ]
  },
  {
   "cell_type": "code",
   "execution_count": null,
   "id": "03f6962d",
   "metadata": {},
   "outputs": [],
   "source": [
    "x = [1,2,3]\n",
    "y = [6,4,5]"
   ]
  },
  {
   "cell_type": "code",
   "execution_count": null,
   "id": "9bb3f099",
   "metadata": {},
   "outputs": [],
   "source": [
    "fig = plt.figure(figsize=(8,6))\n",
    "ax1 = fig.add_subplot(2, 2, 1)\n",
    "ax1.plot(x,y, color=\"b\")\n",
    "ax1.set_ylabel(\"Doanh thu\", size=12, weight=\"bold\", color=\"blue\")\n",
    "ax1.set_xlabel(\"Theo Tháng\")\n",
    "\n",
    "ax2 = fig.add_subplot(2, 2, 2)\n",
    "ax2.set_ylabel(\"Doanh số\", size=12, color=\"r\")\n",
    "plt.plot(y,x, color=\"r\")\n",
    "ax2.set_xlabel(\"Theo Tuần\")\n",
    "\n",
    "ax3 = fig.add_subplot(2, 1, 2)\n",
    "plt.plot(x,y)\n",
    "plt.xlabel(\"Theo Quý\")\n",
    "#plt.axis(\"off\")\n",
    "ax3.set_xticks([1.2,2.2,3.2])\n",
    "ax3.set_xticklabels([\"Quý 1\", \"Quý 2\", \"Quý 3\"])\n",
    "\n",
    "ax2.set_ylim([0,4])\n",
    "\n",
    "#plt.tight_layout()\n",
    "plt.show()"
   ]
  },
  {
   "cell_type": "code",
   "execution_count": null,
   "id": "403547e3",
   "metadata": {},
   "outputs": [],
   "source": [
    "fig = plt.figure(figsize=(8,6), ???)\n",
    "ax1 = fig.add_subplot(2, 2, 1)\n",
    "ax1.plot(x,y, color=\"b\")\n",
    "ax1.set_ylabel(\"Doanh thu\", size=12, weight=\"bold\", color=\"blue\")\n",
    "ax1.set_xlabel(\"Theo Tháng\")\n",
    "\n",
    "ax2 = fig.add_subplot(2, 2, 2)\n",
    "ax2.set_ylabel(\"Doanh số\", size=12, color=\"r\")\n",
    "plt.plot(y,x, color=\"r\")\n",
    "ax2.set_xlabel(\"Theo Tuần\")\n",
    "\n",
    "ax3 = fig.add_subplot(2, 1, 2)\n",
    "plt.plot(x,y)\n",
    "plt.xlabel(\"Theo Quý\")\n",
    "#plt.axis(\"off\")\n",
    "ax3.set_xticks([1.2,2.2,3.2])\n",
    "ax3.set_xticklabels([\"Quý 1\", \"Quý 2\", \"Quý 3\"])\n",
    "\n",
    "ax2.set_ylim([0,4])\n",
    "\n",
    "# plt.tight_layout()\n",
    "plt.show()"
   ]
  },
  {
   "cell_type": "markdown",
   "id": "d6f78ff0",
   "metadata": {},
   "source": [
    "## 3.2) Các thao tác trên axis"
   ]
  },
  {
   "cell_type": "markdown",
   "id": "75924346",
   "metadata": {},
   "source": [
    "**Bật/tắt axis**"
   ]
  },
  {
   "cell_type": "code",
   "execution_count": null,
   "id": "da90a771",
   "metadata": {},
   "outputs": [],
   "source": [
    "# Bật/tắt axis với plt \n",
    "plt.plot([1,2,3], [6,4,5], \n",
    "         color=\"red\", alpha=0.5,\n",
    "         marker=\"^\", markersize=14, \n",
    "         linestyle=\"dashed\", linewidth=2)\n",
    "plt.title(\"Demo Hàm plot()\")\n",
    "plt.xlabel(\"Giá trị của x\")\n",
    "plt.ylabel(\"Giá trị của y\")\n",
    "\n",
    "plt.axis(\"off\")\n",
    "#plt.xticks([])\n",
    "#plt.yticks([])\n",
    "\n",
    "plt.show()"
   ]
  },
  {
   "cell_type": "markdown",
   "id": "77af11f5",
   "metadata": {},
   "source": [
    "**Bật/tắt axis với ax**"
   ]
  },
  {
   "cell_type": "code",
   "execution_count": null,
   "id": "aa57ba30",
   "metadata": {},
   "outputs": [],
   "source": [
    "# Bật/tắt axis với ax\n",
    "fig = plt.figure()\n",
    "ax1 = fig.add_subplot(2, 2, 1)\n",
    "plt.plot([1,2,3], [6,4,5], color=\"red\", marker=\"o\")\n",
    "\n",
    "ax2 = fig.add_subplot(2, 2, 2, sharey=ax1)\n",
    "plt.plot([1,2,3], [16,4,15], color=\"green\", marker=\"o\")\n",
    "#ax2.set_axis_off()\n",
    "#ax2.set_yticks([])\n",
    "\n",
    "ax3 = fig.add_subplot(2, 2, 3, sharex=ax1)\n",
    "plt.plot([10,15,30], [6,4,5], color=\"blue\", marker=\"o\")\n",
    "\n",
    "plt.show()"
   ]
  },
  {
   "cell_type": "code",
   "execution_count": null,
   "id": "f9b37546",
   "metadata": {},
   "outputs": [],
   "source": [
    "fig = plt.figure()\n",
    "ax1 = fig.add_subplot(2, 2, 1)\n",
    "plt.plot([1,2,3], [6,4,5], color=\"red\", marker=\"o\")\n",
    "\n",
    "ax2 = fig.add_subplot(2, 2, 2, sharey=ax1)\n",
    "plt.plot([1,2,3], [16,4,15], color=\"green\", marker=\"o\")\n",
    "ax2.set_yticks([])\n",
    "\n",
    "# Để giữ lại axis của figure bên trái\n",
    "???\n",
    "\n",
    "ax3 = fig.add_subplot(2, 2, 3, sharex=ax1)\n",
    "plt.plot([10,15,30], [6,4,5], color=\"blue\", marker=\"o\")\n",
    "ax3.get_xaxis().set_visible(False)\n",
    "plt.show()"
   ]
  },
  {
   "cell_type": "markdown",
   "id": "df1bce3f",
   "metadata": {},
   "source": [
    "**Thiết lập limits**"
   ]
  },
  {
   "cell_type": "code",
   "execution_count": null,
   "id": "b7f12b9f",
   "metadata": {},
   "outputs": [],
   "source": [
    "# Thiết lập limits \n",
    "plt.plot([1,2,3], [6,4,5], \n",
    "         color=\"red\", alpha=0.5,\n",
    "         marker=\"^\", markersize=14, \n",
    "         linestyle=\"dashed\", linewidth=2)\n",
    "plt.title(\"Demo Hàm plot()\")\n",
    "plt.xlabel(\"Giá trị của x\")\n",
    "plt.ylabel(\"Giá trị của y\")\n",
    "\n",
    "??\n",
    "???\n",
    "\n",
    "plt.show()"
   ]
  },
  {
   "cell_type": "markdown",
   "id": "f41dff27",
   "metadata": {},
   "source": [
    "## 3.3) Hiển thị lưới"
   ]
  },
  {
   "cell_type": "code",
   "execution_count": null,
   "id": "fac94ed6",
   "metadata": {},
   "outputs": [],
   "source": [
    "plt.plot([1,2,3], [6,4,5], \n",
    "         color=\"red\", alpha=0.5,\n",
    "         marker=\"^\", markersize=14, \n",
    "         linestyle=\"dashed\", linewidth=2)\n",
    "plt.title(\"Demo Hàm plot()\")\n",
    "plt.xlabel(\"Giá trị của x\")\n",
    "plt.ylabel(\"Giá trị của y\")\n",
    "plt.xlim([0,10])\n",
    "plt.ylim([0,10])\n",
    "\n",
    "???\n",
    "\n",
    "plt.show()"
   ]
  },
  {
   "cell_type": "markdown",
   "id": "1e9e4ab3",
   "metadata": {},
   "source": [
    "**Hiển thị lưới trên một axes**"
   ]
  },
  {
   "cell_type": "code",
   "execution_count": null,
   "id": "708d5668",
   "metadata": {},
   "outputs": [],
   "source": [
    "fig = plt.figure()\n",
    "ax1 = fig.add_subplot(2, 2, 1)\n",
    "plt.plot([1,2,3], [6,4,5], color=\"red\", marker=\"o\")\n",
    "\n",
    "ax2 = fig.add_subplot(2, 2, 2, sharey=ax1)\n",
    "plt.plot([1,2,3], [16,4,15], color=\"green\", marker=\"o\")\n",
    "# ax2.grid(linestyle=\"--\", linewidth=0.5, c**Hiển thị lưới trên một axes**olor='.25')\n",
    "\n",
    "ax3 = fig.add_subplot(2, 2, 3, sharex=ax1)\n",
    "plt.plot([10,15,30], [6,4,5], color=\"blue\", marker=\"o\")\n",
    "\n",
    "plt.show()"
   ]
  },
  {
   "cell_type": "markdown",
   "id": "0f143c57",
   "metadata": {},
   "source": [
    "## 3.4) Lưu file ảnh"
   ]
  },
  {
   "cell_type": "markdown",
   "id": "f2b04b18",
   "metadata": {},
   "source": [
    "(Có thể lưu file `.png`, `.jpg`, `.svg`, `.pdf`, ...)"
   ]
  },
  {
   "cell_type": "code",
   "execution_count": null,
   "id": "6a081fbe",
   "metadata": {},
   "outputs": [],
   "source": [
    "fig,axes = plt.subplots(3, 2, constrained_layout=True)\n",
    "print(axes.shape)\n",
    "for i in range(3):\n",
    "    for j in range(2):\n",
    "        ax = axes[i][j]\n",
    "        ax.plot([1,2,3], [6,4,5])\n",
    "plt.savefig(\"example.png\", facecolor=\"w\")\n",
    "plt.show()"
   ]
  },
  {
   "cell_type": "markdown",
   "id": "8cd7ebeb",
   "metadata": {},
   "source": [
    "# 4. Thử áp dụng để vẽ CandleChart (Biểu Đồ Nến)"
   ]
  },
  {
   "cell_type": "code",
   "execution_count": null,
   "id": "36634cb6",
   "metadata": {},
   "outputs": [],
   "source": [
    "???"
   ]
  }
 ],
 "metadata": {
  "kernelspec": {
   "display_name": "Python 3 (ipykernel)",
   "language": "python",
   "name": "python3"
  },
  "language_info": {
   "codemirror_mode": {
    "name": "ipython",
    "version": 3
   },
   "file_extension": ".py",
   "mimetype": "text/x-python",
   "name": "python",
   "nbconvert_exporter": "python",
   "pygments_lexer": "ipython3",
   "version": "3.9.7"
  }
 },
 "nbformat": 4,
 "nbformat_minor": 5
}
