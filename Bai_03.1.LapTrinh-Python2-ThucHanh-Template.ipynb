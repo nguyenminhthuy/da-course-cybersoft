{
 "cells": [
  {
   "cell_type": "code",
   "execution_count": 1,
   "id": "04edddb5",
   "metadata": {},
   "outputs": [
    {
     "data": {
      "text/html": [
       "<style type='text/css'>\n",
       "    .CodeMirror{\n",
       "        font-size: 18px;\n",
       "</style>\n"
      ],
      "text/plain": [
       "<IPython.core.display.HTML object>"
      ]
     },
     "metadata": {},
     "output_type": "display_data"
    }
   ],
   "source": [
    "%%html\n",
    "<style type='text/css'>\n",
    "    .CodeMirror{\n",
    "        font-size: 18px;\n",
    "</style>"
   ]
  },
  {
   "cell_type": "markdown",
   "id": "1a6532a9",
   "metadata": {},
   "source": [
    "# 1) List/Array"
   ]
  },
  {
   "cell_type": "markdown",
   "id": "a634ddef",
   "metadata": {},
   "source": [
    "### 1.1) Các thao tác cơ bản"
   ]
  },
  {
   "cell_type": "markdown",
   "id": "7353396a",
   "metadata": {},
   "source": [
    "**Khởi tạo list, tính chiều dài và truy cập vào các phần tử**"
   ]
  },
  {
   "cell_type": "code",
   "execution_count": 2,
   "id": "d8805e69",
   "metadata": {},
   "outputs": [
    {
     "name": "stdout",
     "output_type": "stream",
     "text": [
      "[[1, 5, 8], ['Mai', 'Quang'], (4.5, 7.1), {8, 1, 4}]\n"
     ]
    }
   ],
   "source": [
    "a = [[1,5, 8], [\"Mai\", \"Quang\"], (4.5, 7.1), set([1,4,4,8])]\n",
    "print(a)"
   ]
  },
  {
   "cell_type": "code",
   "execution_count": 6,
   "id": "c65a8301",
   "metadata": {},
   "outputs": [
    {
     "data": {
      "text/plain": [
       "4"
      ]
     },
     "execution_count": 6,
     "metadata": {},
     "output_type": "execute_result"
    }
   ],
   "source": [
    "# Tìm chiều dài của chuỗi a\n"
   ]
  },
  {
   "cell_type": "code",
   "execution_count": 4,
   "id": "f413f9c8",
   "metadata": {},
   "outputs": [
    {
     "data": {
      "text/plain": [
       "'Mai'"
      ]
     },
     "execution_count": 4,
     "metadata": {},
     "output_type": "execute_result"
    }
   ],
   "source": [
    "# Truy cập vào vị trí bạn \"Mai\"\n",
    "a[1][0]\n",
    "a[-3][-2]"
   ]
  },
  {
   "cell_type": "code",
   "execution_count": 6,
   "id": "6fbb1058",
   "metadata": {},
   "outputs": [
    {
     "name": "stdout",
     "output_type": "stream",
     "text": [
      "[8, 1, 4]\n",
      "8\n"
     ]
    }
   ],
   "source": [
    "# truy cap vao set\n",
    "# phan tu cuoi cung trong a co chieu dai bao nhieu\n",
    "b = list(a[-1])\n",
    "print(b)\n",
    "print(b[0])"
   ]
  },
  {
   "cell_type": "code",
   "execution_count": 7,
   "id": "ab5457f8",
   "metadata": {},
   "outputs": [
    {
     "data": {
      "text/plain": [
       "3"
      ]
     },
     "execution_count": 7,
     "metadata": {},
     "output_type": "execute_result"
    }
   ],
   "source": [
    "len(a[-1])"
   ]
  },
  {
   "cell_type": "code",
   "execution_count": 8,
   "id": "4f230c5f",
   "metadata": {},
   "outputs": [
    {
     "data": {
      "text/plain": [
       "3"
      ]
     },
     "execution_count": 8,
     "metadata": {},
     "output_type": "execute_result"
    }
   ],
   "source": [
    "len(set([1,4,4,8])) # set: ko đếm dữ liệu trùng"
   ]
  },
  {
   "cell_type": "markdown",
   "id": "944146c0",
   "metadata": {},
   "source": [
    "**Slicing**"
   ]
  },
  {
   "cell_type": "code",
   "execution_count": 20,
   "id": "be256942",
   "metadata": {},
   "outputs": [],
   "source": [
    "ds_học_viên = ['Thanh','Nam', 'Lan', 'Long', 'Mai', 'Việt', 'Peter', 'Alex']"
   ]
  },
  {
   "cell_type": "code",
   "execution_count": 11,
   "id": "608d7637",
   "metadata": {},
   "outputs": [
    {
     "data": {
      "text/plain": [
       "['Mai', 'Việt', 'Peter', 'Alex']"
      ]
     },
     "execution_count": 11,
     "metadata": {},
     "output_type": "execute_result"
    }
   ],
   "source": [
    "# Lấy từ vị trí bạn \"Mai\" đến cuối\n",
    "ds_học_viên[3:]"
   ]
  },
  {
   "cell_type": "code",
   "execution_count": 13,
   "id": "77c58c10",
   "metadata": {},
   "outputs": [
    {
     "data": {
      "text/plain": [
       "['Nam', 'Lan', 'Long', 'Mai', 'Việt']"
      ]
     },
     "execution_count": 13,
     "metadata": {},
     "output_type": "execute_result"
    }
   ],
   "source": [
    "# Lấy từ vị trí đầu tiên đến bạn Việt\n",
    "ds_học_viên[:5]"
   ]
  },
  {
   "cell_type": "markdown",
   "id": "fa0b85fb",
   "metadata": {},
   "source": [
    "_Quy tắc slicing: start, stop, step_"
   ]
  },
  {
   "cell_type": "code",
   "execution_count": 14,
   "id": "6458c0bc",
   "metadata": {},
   "outputs": [
    {
     "data": {
      "text/plain": [
       "['Lan', 'Mai', 'Peter']"
      ]
     },
     "execution_count": 14,
     "metadata": {},
     "output_type": "execute_result"
    }
   ],
   "source": [
    "# Slicing với start:stop:step\n",
    "# Từ vị trí bạn \"Lan\" đến \"Alex\", lấy ra các vị trí cách nhau 2 bước\n",
    "ds_học_viên[1::2]"
   ]
  },
  {
   "cell_type": "code",
   "execution_count": 18,
   "id": "9b64f95d",
   "metadata": {},
   "outputs": [
    {
     "data": {
      "text/plain": [
       "['Alex', 'Peter', 'Việt', 'Mai', 'Long']"
      ]
     },
     "execution_count": 18,
     "metadata": {},
     "output_type": "execute_result"
    }
   ],
   "source": [
    "# Slicing ngược\n",
    "# Lấy ra các vị trí từ \"Alex\" ngược về \"Long\"\n",
    "ds_học_viên[-1:-6:-1]"
   ]
  },
  {
   "cell_type": "code",
   "execution_count": 21,
   "id": "0ce97f7d",
   "metadata": {},
   "outputs": [
    {
     "data": {
      "text/plain": [
       "['Thanh', 'Nam', 'Lan', 'Long']"
      ]
     },
     "execution_count": 21,
     "metadata": {},
     "output_type": "execute_result"
    }
   ],
   "source": [
    "ds_học_viên[-len(ds_học_viên):-4]"
   ]
  },
  {
   "cell_type": "markdown",
   "id": "89fba435",
   "metadata": {},
   "source": [
    "**Đảo ngược list**"
   ]
  },
  {
   "cell_type": "code",
   "execution_count": 29,
   "id": "ab54028a",
   "metadata": {},
   "outputs": [
    {
     "data": {
      "text/plain": [
       "['Alex', 'Peter', 'Việt', 'Mai', 'Long', 'Lan', 'Nam', 'Thanh']"
      ]
     },
     "execution_count": 29,
     "metadata": {},
     "output_type": "execute_result"
    }
   ],
   "source": [
    "# Reversing (cách 1): dùng hàm danh-sách.reverse()\n",
    "ds_học_viên = ['Thanh','Nam', 'Lan', 'Long', 'Mai', 'Việt', 'Peter', 'Alex']\n",
    "ds_học_viên.reverse()\n",
    "ds_học_viên"
   ]
  },
  {
   "cell_type": "code",
   "execution_count": 32,
   "id": "0cb0eab9",
   "metadata": {},
   "outputs": [
    {
     "name": "stdout",
     "output_type": "stream",
     "text": [
      "['Alex', 'Peter', 'Việt', 'Mai', 'Long', 'Lan', 'Nam']\n"
     ]
    }
   ],
   "source": [
    "# Reversing (cách 2): dùng hàm list(reversed(danh-sách))\n",
    "ds2 = ['Nam', 'Lan', 'Long', 'Mai', 'Việt', 'Peter', 'Alex']\n",
    "ds3 = list(reversed(ds2))\n",
    "print(ds3)"
   ]
  },
  {
   "cell_type": "code",
   "execution_count": 28,
   "id": "f54a43a9",
   "metadata": {},
   "outputs": [
    {
     "data": {
      "text/plain": [
       "['Alex', 'Peter', 'Việt', 'Mai', 'Long', 'Lan', 'Nam']"
      ]
     },
     "execution_count": 28,
     "metadata": {},
     "output_type": "execute_result"
    }
   ],
   "source": [
    "# Reversing (cách 3): dùng slicing ngược\n",
    "ds4 = ds2[::-1]\n",
    "ds4"
   ]
  },
  {
   "cell_type": "markdown",
   "id": "30995cd1",
   "metadata": {},
   "source": [
    "### 1.2) Thêm/Xóa/Sửa"
   ]
  },
  {
   "cell_type": "markdown",
   "id": "4cdbf8e6",
   "metadata": {},
   "source": [
    "**Thêm vào list**"
   ]
  },
  {
   "cell_type": "code",
   "execution_count": 33,
   "id": "ea399cca",
   "metadata": {},
   "outputs": [
    {
     "name": "stdout",
     "output_type": "stream",
     "text": [
      "['Nam', 'Lan', 'Mai', 'Việt']\n"
     ]
    }
   ],
   "source": [
    "ds_học_viên = [\"Nam\", \"Lan\", \"Mai\", \"Việt\"]\n",
    "print(ds_học_viên)"
   ]
  },
  {
   "cell_type": "code",
   "execution_count": 34,
   "id": "159849c9",
   "metadata": {},
   "outputs": [
    {
     "data": {
      "text/plain": [
       "['Nam', 'Lan', 'Mai', 'Việt', 'Oanh', 'Mai Lan', 'Quang']"
      ]
     },
     "execution_count": 34,
     "metadata": {},
     "output_type": "execute_result"
    }
   ],
   "source": [
    "# Thêm 1 hay nhiều phần tử với phép cộng 1 list khác\n",
    "# Ví dụ: Thêm các bạn [\"Oanh\", \"Mai Lan\", \"Quang\"]\n",
    "\n",
    "ds_học_viên += [\"Oanh\", \"Mai Lan\", \"Quang\"]\n",
    "ds_học_viên"
   ]
  },
  {
   "cell_type": "code",
   "execution_count": 35,
   "id": "ea478462",
   "metadata": {},
   "outputs": [
    {
     "data": {
      "text/plain": [
       "['Nam', 'Lan', 'Mai', 'Peter', 'Việt', 'Oanh', 'Mai Lan', 'Quang']"
      ]
     },
     "execution_count": 35,
     "metadata": {},
     "output_type": "execute_result"
    }
   ],
   "source": [
    "# Thêm 1 phần tử với hàm insert()\n",
    "# Ví dụ: Thêm \"Peter\" vào vị trí số 3\n",
    "\n",
    "ds_học_viên.insert(3,\"Peter\")\n",
    "ds_học_viên"
   ]
  },
  {
   "cell_type": "code",
   "execution_count": 36,
   "id": "2385d939",
   "metadata": {},
   "outputs": [
    {
     "data": {
      "text/plain": [
       "['Nam', 'Lan', 'Mai', 'Peter', 'Việt', 'Oanh', 'Mai Lan', 'Quang', 'Quynh']"
      ]
     },
     "execution_count": 36,
     "metadata": {},
     "output_type": "execute_result"
    }
   ],
   "source": [
    "# Thêm 1 phần tử với hàm append()\n",
    "# Ví dụ: Thêm bạn \"Quỳnh\" vào cuối danh sách\n",
    "\n",
    "ds_học_viên.append(\"Quynh\")\n",
    "ds_học_viên"
   ]
  },
  {
   "cell_type": "code",
   "execution_count": 38,
   "id": "a8a0686e",
   "metadata": {},
   "outputs": [
    {
     "data": {
      "text/plain": [
       "['Nam',\n",
       " 'Lan',\n",
       " 'Mai',\n",
       " 'Peter',\n",
       " 'Việt',\n",
       " 'Oanh',\n",
       " 'Mai Lan',\n",
       " 'Quang',\n",
       " 'Quynh',\n",
       " 'Phương',\n",
       " 'Quốc']"
      ]
     },
     "execution_count": 38,
     "metadata": {},
     "output_type": "execute_result"
    }
   ],
   "source": [
    "# Thêm 1 hay nhiều phần tử với hàm extend()\n",
    "# Ví dụ: Thêm 2 bạn [\"Phương\", \"Quốc\"] vào cuối danh sách\n",
    "\n",
    "ds_học_viên.extend([\"Phương\", \"Quốc\"])\n",
    "ds_học_viên"
   ]
  },
  {
   "cell_type": "markdown",
   "id": "060b4471",
   "metadata": {},
   "source": [
    "**Xóa khỏi list**"
   ]
  },
  {
   "cell_type": "code",
   "execution_count": 39,
   "id": "6da92705",
   "metadata": {},
   "outputs": [
    {
     "data": {
      "text/plain": [
       "['Nam',\n",
       " 'Lan',\n",
       " 'Mai',\n",
       " 'Việt',\n",
       " 'Oanh',\n",
       " 'Mai Lan',\n",
       " 'Quang',\n",
       " 'Quynh',\n",
       " 'Phương',\n",
       " 'Quốc']"
      ]
     },
     "execution_count": 39,
     "metadata": {},
     "output_type": "execute_result"
    }
   ],
   "source": [
    "# Xóa bằng hàm remove()\n",
    "# Ví dụ: xóa bạn \"Peter\"\n",
    "\n",
    "ds_học_viên.remove(\"Peter\")\n",
    "ds_học_viên"
   ]
  },
  {
   "cell_type": "code",
   "execution_count": 40,
   "id": "8d954618",
   "metadata": {},
   "outputs": [
    {
     "data": {
      "text/plain": [
       "'Mai'"
      ]
     },
     "execution_count": 40,
     "metadata": {},
     "output_type": "execute_result"
    }
   ],
   "source": [
    "# Lấy 1 phần tử ra khỏi list bằng hàm pop()\n",
    "# Ví dụ: lấy bạn số 2 ra khỏi danh sách\n",
    "ten_hv_da_nghi_hoc = ds_học_viên.pop(2)\n",
    "ten_hv_da_nghi_hoc"
   ]
  },
  {
   "cell_type": "code",
   "execution_count": 41,
   "id": "6295c9a4",
   "metadata": {},
   "outputs": [
    {
     "data": {
      "text/plain": [
       "['Nam', 'Lan', 'Việt', 'Oanh', 'Quang', 'Quynh', 'Phương', 'Quốc']"
      ]
     },
     "execution_count": 41,
     "metadata": {},
     "output_type": "execute_result"
    }
   ],
   "source": [
    "# xóa bằng hàm del()\n",
    "# Ví dụ: xóa hẳn bạn số 4\n",
    "\n",
    "del(ds_học_viên[4])\n",
    "ds_học_viên"
   ]
  },
  {
   "cell_type": "code",
   "execution_count": 44,
   "id": "864f5a69",
   "metadata": {},
   "outputs": [
    {
     "data": {
      "text/plain": [
       "['Việt', 'Quynh']"
      ]
     },
     "execution_count": 44,
     "metadata": {},
     "output_type": "execute_result"
    }
   ],
   "source": [
    "# del >=2 cùng lúc\n",
    "ds_học_viên[2:7:3]"
   ]
  },
  {
   "cell_type": "code",
   "execution_count": null,
   "id": "1d18986a",
   "metadata": {},
   "outputs": [],
   "source": [
    "# del(ds_học_viên[2:7:3]) # ko nên lạm dụng"
   ]
  },
  {
   "cell_type": "markdown",
   "id": "4c484d5d",
   "metadata": {},
   "source": [
    "**Sửa phần tử trong list**"
   ]
  },
  {
   "cell_type": "code",
   "execution_count": null,
   "id": "631d026a",
   "metadata": {},
   "outputs": [],
   "source": [
    "# Ví dụ: sửa tên bạn số 3\n",
    "\n",
    "ds_học_viên[3]=\"\"\n",
    "print(ds_học_viên)"
   ]
  },
  {
   "cell_type": "markdown",
   "id": "2b3f2e1b",
   "metadata": {},
   "source": [
    "### 1.3. Tìm kiếm"
   ]
  },
  {
   "cell_type": "markdown",
   "id": "1c2f09f2",
   "metadata": {},
   "source": [
    "**Tìm index của một giá trị nào đó**"
   ]
  },
  {
   "cell_type": "code",
   "execution_count": 46,
   "id": "e9e32cc8",
   "metadata": {},
   "outputs": [],
   "source": [
    "ds_học_viên = ['Nam', 'Lan', 'Long', 'Việt', 'Peter', \n",
    "               'Alex', 'Yeong-ho', 'Mai']"
   ]
  },
  {
   "cell_type": "code",
   "execution_count": 48,
   "id": "61f6338d",
   "metadata": {},
   "outputs": [
    {
     "name": "stdout",
     "output_type": "stream",
     "text": [
      "2\n"
     ]
    }
   ],
   "source": [
    "# Dùng hàm index: phải xác định có rồi mới tìm vị trí\n",
    "# Ví dụ: tìm vị trí bạn \"Long\"\n",
    "i = ds_học_viên.index(\"Long\")\n",
    "print(i)"
   ]
  },
  {
   "cell_type": "code",
   "execution_count": 49,
   "id": "c324ee91",
   "metadata": {},
   "outputs": [
    {
     "ename": "ValueError",
     "evalue": "9 is not in list",
     "output_type": "error",
     "traceback": [
      "\u001b[1;31m---------------------------------------------------------------------------\u001b[0m",
      "\u001b[1;31mValueError\u001b[0m                                Traceback (most recent call last)",
      "Cell \u001b[1;32mIn[49], line 3\u001b[0m\n\u001b[0;32m      1\u001b[0m \u001b[38;5;66;03m# Lưu ý: hàm index() sẽ báo lỗi nếu không có item trong list\u001b[39;00m\n\u001b[0;32m      2\u001b[0m ds_chi_tieu \u001b[38;5;241m=\u001b[39m [\u001b[38;5;241m5\u001b[39m, \u001b[38;5;241m6\u001b[39m, \u001b[38;5;241m3\u001b[39m, \u001b[38;5;241m7\u001b[39m, \u001b[38;5;241m3\u001b[39m, \u001b[38;5;241m8\u001b[39m]\n\u001b[1;32m----> 3\u001b[0m index \u001b[38;5;241m=\u001b[39m \u001b[43mds_chi_tieu\u001b[49m\u001b[38;5;241;43m.\u001b[39;49m\u001b[43mindex\u001b[49m\u001b[43m(\u001b[49m\u001b[38;5;241;43m9\u001b[39;49m\u001b[43m)\u001b[49m\n\u001b[0;32m      4\u001b[0m \u001b[38;5;28mprint\u001b[39m(index)\n",
      "\u001b[1;31mValueError\u001b[0m: 9 is not in list"
     ]
    }
   ],
   "source": [
    "# Lưu ý: hàm index() sẽ báo lỗi nếu không có item trong list\n",
    "ds_chi_tieu = [5, 6, 3, 7, 3, 8]\n",
    "index = ds_chi_tieu.index(9)\n",
    "print(index)"
   ]
  },
  {
   "cell_type": "markdown",
   "id": "4919bd0a",
   "metadata": {},
   "source": [
    "**Tìm xem một giá trị có trong list ko: lệnh \"in\"**"
   ]
  },
  {
   "cell_type": "code",
   "execution_count": 53,
   "id": "4ae328db",
   "metadata": {},
   "outputs": [
    {
     "name": "stdout",
     "output_type": "stream",
     "text": [
      "3\n"
     ]
    }
   ],
   "source": [
    "gt=7\n",
    "if gt in ds_chi_tieu:\n",
    "    print(ds_chi_tieu.index(gt))\n",
    "else:\n",
    "    print(\"Không có số trong ds_chi_tieu\")"
   ]
  },
  {
   "cell_type": "markdown",
   "id": "0c121ab5",
   "metadata": {},
   "source": [
    "### 1.4. Sắp xếp"
   ]
  },
  {
   "cell_type": "code",
   "execution_count": 15,
   "id": "63f02931",
   "metadata": {},
   "outputs": [],
   "source": [
    "ds_học_viên= ['Nam', 'Long', 'LAn', 'Việt', 'Peter', \n",
    "               'Alex', 'Yeong-ho', 'Mai']"
   ]
  },
  {
   "cell_type": "markdown",
   "id": "ec259e5e",
   "metadata": {},
   "source": [
    "**Sắp xếp tăng**"
   ]
  },
  {
   "cell_type": "code",
   "execution_count": 54,
   "id": "9b724b22",
   "metadata": {},
   "outputs": [
    {
     "name": "stdout",
     "output_type": "stream",
     "text": [
      "['Alex', 'Lan', 'Long', 'Mai', 'Nam', 'Peter', 'Việt', 'Yeong-ho']\n"
     ]
    }
   ],
   "source": [
    "# Dùng hàm sorted\n",
    "ds_học_viên2 = sorted(ds_học_viên)\n",
    "print(ds_học_viên2)"
   ]
  },
  {
   "cell_type": "code",
   "execution_count": 55,
   "id": "2afc5f1c",
   "metadata": {
    "scrolled": true
   },
   "outputs": [
    {
     "data": {
      "text/plain": [
       "['Alex', 'Lan', 'Long', 'Mai', 'Nam', 'Peter', 'Việt', 'Yeong-ho']"
      ]
     },
     "execution_count": 55,
     "metadata": {},
     "output_type": "execute_result"
    }
   ],
   "source": [
    "# Sắp xếp với phương thức sort() của list\n",
    "ds_học_viên.sort()\n",
    "ds_học_viên"
   ]
  },
  {
   "cell_type": "markdown",
   "id": "f91bc9d8",
   "metadata": {},
   "source": [
    "**Sắp xếp giảm**"
   ]
  },
  {
   "cell_type": "code",
   "execution_count": 56,
   "id": "0b6a7a44",
   "metadata": {
    "scrolled": true
   },
   "outputs": [
    {
     "name": "stdout",
     "output_type": "stream",
     "text": [
      "[8, 7, 6, 5, 3, 3]\n"
     ]
    }
   ],
   "source": [
    "# Dùng hàm sorted() hoặc phương thức sort()\n",
    "# Set tham số: reverse=True\n",
    "ds_chi_tieu = sorted([5, 6, 3, 7, 3, 8], reverse=True)\n",
    "print(ds_chi_tieu)"
   ]
  },
  {
   "cell_type": "code",
   "execution_count": 63,
   "id": "9080fe5b",
   "metadata": {},
   "outputs": [
    {
     "data": {
      "text/plain": [
       "[8, 7, 6, 5, 3, 3]"
      ]
     },
     "execution_count": 63,
     "metadata": {},
     "output_type": "execute_result"
    }
   ],
   "source": [
    "# Dùng slicing ngược\n",
    "sorted([5, 6, 3, 7, 3, 8])[::-1]"
   ]
  },
  {
   "cell_type": "markdown",
   "id": "9571b477",
   "metadata": {},
   "source": [
    "**Sắp ngẫu nhiên**"
   ]
  },
  {
   "cell_type": "code",
   "execution_count": 58,
   "id": "507d809c",
   "metadata": {},
   "outputs": [
    {
     "data": {
      "text/plain": [
       "['Alex', 'Lan', 'Long', 'Mai', 'Nam', 'Peter', 'Việt', 'Yeong-ho']"
      ]
     },
     "execution_count": 58,
     "metadata": {},
     "output_type": "execute_result"
    }
   ],
   "source": [
    "ds_học_viên"
   ]
  },
  {
   "cell_type": "code",
   "execution_count": 59,
   "id": "243d7bfa",
   "metadata": {},
   "outputs": [],
   "source": [
    "# Sắp ngẫu nhiên với hàm random.shuffle\n",
    "import random"
   ]
  },
  {
   "cell_type": "code",
   "execution_count": 67,
   "id": "3525da4c",
   "metadata": {},
   "outputs": [
    {
     "data": {
      "text/plain": [
       "['Alex', 'Lan', 'Long', 'Mai', 'Nam', 'Peter', 'Việt', 'Yeong-ho']"
      ]
     },
     "execution_count": 67,
     "metadata": {},
     "output_type": "execute_result"
    }
   ],
   "source": [
    "# Tạo một bản copy của danh sách (để ko xáo trộn danh sách gốc)\n",
    "ds_copy = ds_học_viên.copy()\n",
    "ds_copy"
   ]
  },
  {
   "cell_type": "code",
   "execution_count": 69,
   "id": "47dbce46",
   "metadata": {},
   "outputs": [
    {
     "data": {
      "text/plain": [
       "['Alex', 'Mai', 'Peter', 'Long', 'Yeong-ho', 'Lan', 'Nam', 'Việt']"
      ]
     },
     "execution_count": 69,
     "metadata": {},
     "output_type": "execute_result"
    }
   ],
   "source": [
    "# Dùng hàm random.shuffle()\n",
    "random.shuffle(ds_copy)\n",
    "ds_copy"
   ]
  },
  {
   "cell_type": "code",
   "execution_count": 70,
   "id": "4368882f",
   "metadata": {},
   "outputs": [
    {
     "name": "stdout",
     "output_type": "stream",
     "text": [
      "['Alex', 'Lan', 'Long', 'Mai', 'Nam', 'Peter', 'Việt', 'Yeong-ho']\n",
      "['Mai', 'Việt', 'Yeong-ho']\n"
     ]
    }
   ],
   "source": [
    "# Lấy ra một tập con với hàm random.sample()\n",
    "ds_nhom1 = random.sample(ds_học_viên, k=3)\n",
    "\n",
    "print(ds_học_viên)\n",
    "print(ds_nhom1)"
   ]
  },
  {
   "cell_type": "markdown",
   "id": "4db3e81c",
   "metadata": {},
   "source": [
    "### 1.5. Khái niệm List comprehension"
   ]
  },
  {
   "cell_type": "code",
   "execution_count": 71,
   "id": "02035a51",
   "metadata": {},
   "outputs": [
    {
     "data": {
      "text/plain": [
       "[4, 3, 4, 3, 3, 5, 4, 8]"
      ]
     },
     "execution_count": 71,
     "metadata": {},
     "output_type": "execute_result"
    }
   ],
   "source": [
    "[len(ten) for ten in ds_học_viên]"
   ]
  },
  {
   "cell_type": "code",
   "execution_count": 74,
   "id": "80ab7d00",
   "metadata": {},
   "outputs": [
    {
     "data": {
      "text/plain": [
       "[3, 0, 3, 0, 0, 4, 3, 3]"
      ]
     },
     "execution_count": 74,
     "metadata": {},
     "output_type": "execute_result"
    }
   ],
   "source": [
    "n = 99\n",
    "[n%len(ten) for ten in ds_học_viên]"
   ]
  },
  {
   "cell_type": "code",
   "execution_count": 75,
   "id": "a63e72fa",
   "metadata": {},
   "outputs": [],
   "source": [
    "def hamtinhtoan(ten):\n",
    "    n=99\n",
    "    kq=n%len(ten)\n",
    "    return kq"
   ]
  },
  {
   "cell_type": "code",
   "execution_count": 76,
   "id": "66cf242c",
   "metadata": {},
   "outputs": [
    {
     "data": {
      "text/plain": [
       "[3, 0, 3, 0, 0, 4, 3, 3]"
      ]
     },
     "execution_count": 76,
     "metadata": {},
     "output_type": "execute_result"
    }
   ],
   "source": [
    "[hamtinhtoan(ten) for ten in ds_học_viên]"
   ]
  },
  {
   "cell_type": "code",
   "execution_count": 78,
   "id": "1b969427",
   "metadata": {},
   "outputs": [
    {
     "data": {
      "text/plain": [
       "[3, 0, 0, 0]"
      ]
     },
     "execution_count": 78,
     "metadata": {},
     "output_type": "execute_result"
    }
   ],
   "source": [
    "# Kết hợp điều kiện: tên có chứa kí tự \"a\" hoặc \"A\"\n",
    "n = 99\n",
    "[n%len(ten) for ten in ds_học_viên if (\"a\" in ten) or (\"A\" in ten)]"
   ]
  },
  {
   "cell_type": "markdown",
   "id": "2110f3ab",
   "metadata": {},
   "source": [
    "# 2) Đọc ghi file cơ bản"
   ]
  },
  {
   "cell_type": "code",
   "execution_count": 192,
   "id": "28eb1ebf",
   "metadata": {},
   "outputs": [
    {
     "data": {
      "text/plain": [
       "'D:\\\\WORKING\\\\CYBERLAB\\\\Courses\\\\DS01\\\\Bai_01.2_Lap-trinh-Python-Co-ban-Demo'"
      ]
     },
     "execution_count": 192,
     "metadata": {},
     "output_type": "execute_result"
    }
   ],
   "source": [
    "# Kiểm tra thư mục đang làm việc\n",
    "%pwd"
   ]
  },
  {
   "cell_type": "markdown",
   "id": "ccc696ba",
   "metadata": {},
   "source": [
    "**Đọc file `sales_data_vn.csv`**"
   ]
  },
  {
   "cell_type": "code",
   "execution_count": 95,
   "id": "6694d874",
   "metadata": {},
   "outputs": [
    {
     "name": "stdout",
     "output_type": "stream",
     "text": [
      "['', 'Invoice ID', 'City', 'Customer type', 'Gender', 'Product line', 'Unit price', 'Quantity', 'Tax 5%', 'cogs', 'Total', 'Date', 'Time', 'Payment', 'Rating']\n",
      "\n",
      "\n",
      "['0', '750-67-8428', 'Hà N?i', 'Member', 'N?', 'Health and beauty', '74.69', '7', '26.1415', '522.83', '548.97', '1/5/2019', '13:08', 'Ewallet', '6']\n",
      "\n",
      "\n",
      "['1', '226-31-3081', 'TP HCM', 'Normal', 'N?', 'Electronic accessories', '15.28', '5', '3.82', '76.4', '80.22', '3/8/2019', '10:29', 'Cash', '7']\n"
     ]
    }
   ],
   "source": [
    "import csv\n",
    "with open(\"data/sale_data_vn.csv\", mode='r', encoding=\"latin-1\") as f:\n",
    "    reader=csv.reader(f)\n",
    "    header = next(reader)\n",
    "    print(header)\n",
    "    \n",
    "    row0 = next(reader)\n",
    "    row1 = next(reader)\n",
    "    \n",
    "    print(\"\\n\")\n",
    "    print(row0)\n",
    "    \n",
    "    print(\"\\n\")\n",
    "    print(row1)"
   ]
  },
  {
   "cell_type": "code",
   "execution_count": 96,
   "id": "082d8fab",
   "metadata": {},
   "outputs": [
    {
     "name": "stdout",
     "output_type": "stream",
     "text": [
      "Hà N?i\n"
     ]
    }
   ],
   "source": [
    "print(row0[2])"
   ]
  },
  {
   "cell_type": "code",
   "execution_count": 103,
   "id": "a51e9168",
   "metadata": {},
   "outputs": [
    {
     "name": "stdout",
     "output_type": "stream",
     "text": [
      "['', 'Invoice ID', 'City', 'Customer type', 'Gender', 'Product line', 'Unit price', 'Quantity', 'Tax 5%', 'cogs', 'Total', 'Date', 'Time', 'Payment', 'Rating']\n"
     ]
    }
   ],
   "source": [
    "ds_tp=[]\n",
    "with open(\"data/sale_data_vn.csv\", mode='r',) as f:\n",
    "    reader=csv.reader(f)\n",
    "    header = next(reader)\n",
    "    print(header)\n",
    "    \n",
    "    for row in reader:\n",
    "        ds_tp.append(row[2])"
   ]
  },
  {
   "cell_type": "code",
   "execution_count": 101,
   "id": "1e482218",
   "metadata": {},
   "outputs": [
    {
     "data": {
      "text/plain": [
       "1000"
      ]
     },
     "execution_count": 101,
     "metadata": {},
     "output_type": "execute_result"
    }
   ],
   "source": [
    "len(ds_tp)"
   ]
  },
  {
   "cell_type": "code",
   "execution_count": 229,
   "id": "6fa4380f",
   "metadata": {},
   "outputs": [],
   "source": [
    "# encoding=\"utf-8\"\n",
    "with open(\"sales_data_vn.csv\", mode='r', \n",
    "          encoding=\"utf-8\", newline='') as f:\n",
    "    for i, row in enumerate(f_csv):\n",
    "        if i == 10: break"
   ]
  },
  {
   "cell_type": "code",
   "execution_count": 231,
   "id": "0b96e204",
   "metadata": {},
   "outputs": [
    {
     "name": "stdout",
     "output_type": "stream",
     "text": [
      "['Hà Nội', 'TP HCM', 'Hà Nội', 'Hà Nội', 'Hà Nội', 'TP HCM', 'Hà Nội', 'TP HCM', 'Hà Nội', 'Đà Nẵng']\n"
     ]
    }
   ],
   "source": [
    "print(ds_city[0:10])"
   ]
  },
  {
   "cell_type": "code",
   "execution_count": 233,
   "id": "e3323fa7",
   "metadata": {},
   "outputs": [
    {
     "name": "stdout",
     "output_type": "stream",
     "text": [
      "[548.9715, 80.22, 340.5255, 489.048, 634.3785, 627.6165, 433.692, 772.38, 76.146, 172.746]\n"
     ]
    }
   ],
   "source": [
    "print(ds_total[0:10])"
   ]
  },
  {
   "cell_type": "code",
   "execution_count": 106,
   "id": "efb2d43f",
   "metadata": {},
   "outputs": [],
   "source": [
    "ds_ten_tp = list(set(ds_tp))"
   ]
  },
  {
   "cell_type": "code",
   "execution_count": 111,
   "id": "45ea32ab",
   "metadata": {},
   "outputs": [
    {
     "name": "stdout",
     "output_type": "stream",
     "text": [
      "?à N?ng\n",
      "210\n",
      "TP HCM\n",
      "517\n",
      "Hà N?i\n",
      "273\n"
     ]
    }
   ],
   "source": [
    "for tp in ds_ten_tp:\n",
    "    print(tp)\n",
    "    count=0\n",
    "    \n",
    "    for tp_dh in ds_tp:\n",
    "        if tp==tp_dh:\n",
    "            count+=1\n",
    "    print(count)\n",
    "    "
   ]
  },
  {
   "cell_type": "markdown",
   "id": "a1e36a33",
   "metadata": {},
   "source": [
    "# 3) Một số thống kê cơ bản"
   ]
  },
  {
   "cell_type": "markdown",
   "id": "f39292d8",
   "metadata": {},
   "source": [
    "### 3.1. Độ đo tần số"
   ]
  },
  {
   "cell_type": "code",
   "execution_count": 19,
   "id": "509a863f",
   "metadata": {},
   "outputs": [
    {
     "name": "stdout",
     "output_type": "stream",
     "text": [
      "['HN', 'SG', 'ĐN', 'QN', 'HN', 'ĐL', 'ĐL', 'ĐN', 'QN', 'ĐL', 'QN', 'ĐN', 'ĐN', 'ĐL', 'QN', 'ĐL']\n"
     ]
    }
   ],
   "source": [
    "# Hà Nội, Sài Gòn, Đà Nẵng, Đà Lạt, Quy Nhơn\n",
    "ds_du_lich = ['HN', 'SG', 'ĐN', 'QN', 'HN', \n",
    "              'ĐL', 'ĐL', 'ĐN', 'QN', 'ĐL', \n",
    "              'QN', 'ĐN', 'ĐN', 'ĐL', 'QN', 'ĐL']\n",
    "print(ds_du_lich)"
   ]
  },
  {
   "cell_type": "code",
   "execution_count": 23,
   "id": "935d2bce",
   "metadata": {},
   "outputs": [],
   "source": [
    "n = len(ds_du_lich)"
   ]
  },
  {
   "cell_type": "code",
   "execution_count": 21,
   "id": "c46926d6",
   "metadata": {},
   "outputs": [],
   "source": [
    "count_HN = 0\n",
    "\n",
    "\n",
    "for tp in ds_du_lich:\n",
    "    if tp == 'HN': count_HN += 1\n",
    "    "
   ]
  },
  {
   "cell_type": "code",
   "execution_count": 24,
   "id": "a35d8e4d",
   "metadata": {},
   "outputs": [
    {
     "name": "stdout",
     "output_type": "stream",
     "text": [
      "Số người chọn Hà Nội: 2 - Ty le: 12.5\n",
      "Số người chọn Sài Gòn: 1 - Ty le: 6.25\n",
      "Số người chọn Đà Nẵng: 4 - Ty le: 25.0\n",
      "Số người chọn Đà Lạt: 5 - Ty le: 31.25\n",
      "Số người chọn Quy Nhơn: 4 - Ty le: 25.0\n"
     ]
    }
   ],
   "source": [
    "# Tính phần trăm\n",
    "print(\"Số người chọn Hà Nội:\", count_HN, \"- Ty le:\", ??)\n",
    "print(\"Số người chọn Sài Gòn:\", count_SG, \"- Ty le:\", ??)\n",
    "print(\"Số người chọn Đà Nẵng:\", count_ĐN, \"- Ty le:\", ??)\n",
    "print(\"Số người chọn Đà Lạt:\", count_ĐL, \"- Ty le:\", ??)\n",
    "print(\"Số người chọn Quy Nhơn:\", count_QN, \"- Ty le:\", ??)"
   ]
  },
  {
   "cell_type": "markdown",
   "id": "bc0896d0",
   "metadata": {},
   "source": [
    "### 3.2. Độ đo về khuynh hướng tập trung"
   ]
  },
  {
   "cell_type": "code",
   "execution_count": 26,
   "id": "7315e966",
   "metadata": {},
   "outputs": [
    {
     "name": "stdout",
     "output_type": "stream",
     "text": [
      "24\n"
     ]
    }
   ],
   "source": [
    "ds_tuoi_hv = [17,20,22,23,25,27,34, 23, 21, 19, 24, 25, 27, \n",
    "              29, 28, 26, 29, 25, 34,20,22,23,25,27]\n",
    "print(len(ds_tuoi_hv))"
   ]
  },
  {
   "cell_type": "code",
   "execution_count": 28,
   "id": "f6d96a01",
   "metadata": {},
   "outputs": [
    {
     "name": "stdout",
     "output_type": "stream",
     "text": [
      "24.79\n"
     ]
    }
   ],
   "source": [
    "# Giá trị trung bình (mean)\n",
    "mean = ??\n",
    "print(\"%.2f\"%(mean))"
   ]
  },
  {
   "cell_type": "code",
   "execution_count": 29,
   "id": "27d46d47",
   "metadata": {},
   "outputs": [
    {
     "name": "stdout",
     "output_type": "stream",
     "text": [
      "25\n"
     ]
    }
   ],
   "source": [
    "# Giá trị trung vị (median)\n",
    "sorted_ds_tuoi_hv = sorted(ds_tuoi_hv)\n",
    "median = ??\n",
    "print(median)"
   ]
  },
  {
   "cell_type": "markdown",
   "id": "5f0200bf",
   "metadata": {},
   "source": [
    "**Tìm giá trị mode**"
   ]
  },
  {
   "cell_type": "code",
   "execution_count": 31,
   "id": "cacd6105",
   "metadata": {
    "scrolled": true
   },
   "outputs": [
    {
     "name": "stdout",
     "output_type": "stream",
     "text": [
      "13\n"
     ]
    },
    {
     "data": {
      "text/plain": [
       "[34, 17, 19, 20, 21, 22, 23, 24, 25, 26, 27, 28, 29]"
      ]
     },
     "execution_count": 31,
     "metadata": {},
     "output_type": "execute_result"
    }
   ],
   "source": [
    "# Tìm các giá trị tuổi duy nhất\n",
    "ds_tuoi = ??\n",
    "print(len(ds_tuoi))\n",
    "ds_tuoi"
   ]
  },
  {
   "cell_type": "code",
   "execution_count": 32,
   "id": "70760fca",
   "metadata": {},
   "outputs": [
    {
     "name": "stdout",
     "output_type": "stream",
     "text": [
      "34 2\n",
      "17 1\n",
      "19 1\n",
      "20 2\n",
      "21 1\n",
      "22 2\n",
      "23 3\n",
      "24 1\n",
      "25 4\n",
      "26 1\n",
      "27 3\n",
      "28 1\n",
      "29 2\n"
     ]
    }
   ],
   "source": [
    "# Đếm xem mỗi giá trị tuổi xuất hiện bao nhiêu lần\n",
    "list_count = []\n",
    "for tuoi in ds_tuoi:\n",
    "    "
   ]
  },
  {
   "cell_type": "code",
   "execution_count": 33,
   "id": "be9a8d3e",
   "metadata": {},
   "outputs": [
    {
     "data": {
      "text/plain": [
       "4"
      ]
     },
     "execution_count": 33,
     "metadata": {},
     "output_type": "execute_result"
    }
   ],
   "source": [
    "# Tìm số lần mà một giá trị tuổi xuất hiện nhiều nhất\n",
    "max(list_count)"
   ]
  },
  {
   "cell_type": "code",
   "execution_count": 34,
   "id": "d741a346",
   "metadata": {},
   "outputs": [
    {
     "data": {
      "text/plain": [
       "8"
      ]
     },
     "execution_count": 34,
     "metadata": {},
     "output_type": "execute_result"
    }
   ],
   "source": [
    "# Tìm vị trí tương ứng với giá trị đó\n",
    "list_count.index(max(list_count))"
   ]
  },
  {
   "cell_type": "code",
   "execution_count": 35,
   "id": "9750b5e7",
   "metadata": {},
   "outputs": [
    {
     "name": "stdout",
     "output_type": "stream",
     "text": [
      "25\n"
     ]
    }
   ],
   "source": [
    "# Lấy ra giá trị tương ứng của tuổi\n",
    "mode = ??\n",
    "print(mode)"
   ]
  }
 ],
 "metadata": {
  "kernelspec": {
   "display_name": "Python 3 (ipykernel)",
   "language": "python",
   "name": "python3"
  },
  "language_info": {
   "codemirror_mode": {
    "name": "ipython",
    "version": 3
   },
   "file_extension": ".py",
   "mimetype": "text/x-python",
   "name": "python",
   "nbconvert_exporter": "python",
   "pygments_lexer": "ipython3",
   "version": "3.10.9"
  }
 },
 "nbformat": 4,
 "nbformat_minor": 5
}
